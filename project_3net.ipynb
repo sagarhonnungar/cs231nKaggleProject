{
 "cells": [
  {
   "cell_type": "code",
   "execution_count": 1,
   "metadata": {
    "collapsed": false,
    "scrolled": true
   },
   "outputs": [
    {
     "name": "stderr",
     "output_type": "stream",
     "text": [
      "Using TensorFlow backend.\n"
     ]
    }
   ],
   "source": [
    "import numpy as np # linear algebra\n",
    "import pandas as pd # data processing, CSV file I/O (e.g. pd.read_csv)\n",
    "import os\n",
    "import gc\n",
    "\n",
    "import keras as k\n",
    "import tensorflow as tf\n",
    "from keras.models import Sequential, Model\n",
    "from keras.layers import Dense, Dropout, Flatten\n",
    "from keras.layers import Conv2D, MaxPooling2D, GlobalAveragePooling2D, Activation, BatchNormalization\n",
    "from keras.callbacks import EarlyStopping\n",
    "from keras.applications.inception_v3 import InceptionV3\n",
    "from keras.layers import Input\n",
    "from keras import backend as K\n",
    "from keras.optimizers import Adam\n",
    "from keras.preprocessing.image import ImageDataGenerator\n",
    "import cv2\n",
    "from tqdm import tqdm\n",
    "\n",
    "from sklearn.model_selection import train_test_split\n",
    "from sklearn.metrics import fbeta_score, precision_score \n",
    "import time\n",
    "\n",
    "import os\n",
    "import fnmatch"
   ]
  },
  {
   "cell_type": "code",
   "execution_count": 131,
   "metadata": {
    "collapsed": true,
    "scrolled": true
   },
   "outputs": [],
   "source": [
    "datagen = ImageDataGenerator(\n",
    "    rotation_range=90,\n",
    "    fill_mode='reflect',\n",
    "    horizontal_flip=True,\n",
    "    vertical_flip=True)\n",
    "\n",
    "def multilabelmetrics(y_true,y_pred):\n",
    "    '''y_true and y_pred should be boolean np arrays\n",
    "    of shape num_example x num_classes '''\n",
    "    total = np.sum(y_true,axis = 0)\n",
    "    tp = np.sum(y_true*y_pred,axis=0)\n",
    "    tn = np.sum((1-y_true)*(1-y_pred),axis=0)\n",
    "    fp = np.sum((1-y_true)*y_pred,axis=0)\n",
    "    fn = np.sum(y_true*(1-y_pred),axis=0)\n",
    "    return total,tp,tn,fp,fn\n",
    "\n",
    "def combine_predictions(x,y,y1,y2,thresh,thresh1,thresh2,thresh3):\n",
    "    y_pred = np.zeros((x.shape[0],17),np.uint8)\n",
    "    y_bool = np.array((y > thresh),np.uint8)\n",
    "    y1_bool = np.array((y1 > thresh1),np.uint8)\n",
    "    y2_bool = np.array((y2 > thresh2)*np.tile(y1[:,0]>thresh3,(7,1)).T,np.uint8)\n",
    "    y_pred[:,:7] = y2_bool\n",
    "    y_pred[:,7:13] = y1_bool[:,1:]\n",
    "    y_pred[:,13:] = y_bool\n",
    "    return y_pred\n",
    "\n",
    "callbacks = [EarlyStopping(monitor='val_loss', patience=2, verbose=0)]"
   ]
  },
  {
   "cell_type": "code",
   "execution_count": 3,
   "metadata": {
    "collapsed": false,
    "scrolled": true
   },
   "outputs": [
    {
     "name": "stderr",
     "output_type": "stream",
     "text": [
      "100%|██████████| 40479/40479 [00:54<00:00, 748.67it/s]"
     ]
    },
    {
     "name": "stdout",
     "output_type": "stream",
     "text": [
      "(40479, 32, 32, 3)\n",
      "(40479, 17)\n"
     ]
    },
    {
     "name": "stderr",
     "output_type": "stream",
     "text": [
      "\n"
     ]
    }
   ],
   "source": [
    "x_train = np.zeros((40479,32,32,3), np.float32)\n",
    "y_train = []\n",
    "\n",
    "df_train = pd.read_csv('train_v2.csv')\n",
    "\n",
    "labels = ['blow_down',\n",
    " 'bare_ground',\n",
    " 'conventional_mine',\n",
    " 'blooming',\n",
    " 'artisinal_mine',\n",
    " 'selective_logging',         \n",
    " 'slash_burn', \n",
    " 'cultivation',\n",
    " 'habitation',\n",
    " 'road',\n",
    " 'agriculture',\n",
    " 'water',\n",
    " 'primary',\n",
    " 'partly_cloudy', \n",
    " 'cloudy',\n",
    " 'clear',\n",
    " 'haze',]\n",
    "\n",
    "label_map = {l: i for i, l in enumerate(labels)}\n",
    "inv_label_map = {i: l for l, i in label_map.items()}\n",
    "\n",
    "i=0\n",
    "\n",
    "for f, tags in tqdm(df_train.values[:40479], miniters=1000):    \n",
    "    img = cv2.imread('train-jpg/{}.jpg'.format(f))\n",
    "    targets = np.zeros(17)\n",
    "    for t in tags.split(' '):\n",
    "        targets[label_map[t]] = 1 \n",
    "    x_train[i,:,:,:] = np.array(cv2.resize(img, (32, 32)),np.float32)/255.#139 minimum size for inception\n",
    "    i+=1\n",
    "    y_train.append(targets)\n",
    "  \n",
    "y_train = np.array(y_train, np.uint8)\n",
    "\n",
    "print(x_train.shape)\n",
    "print(y_train.shape)"
   ]
  },
  {
   "cell_type": "code",
   "execution_count": 4,
   "metadata": {
    "collapsed": false
   },
   "outputs": [],
   "source": [
    "#subtracting mean\n",
    "train_mean = np.mean(x_train,axis = 0)\n",
    "x_train -= train_mean"
   ]
  },
  {
   "cell_type": "code",
   "execution_count": 5,
   "metadata": {
    "collapsed": false,
    "scrolled": true
   },
   "outputs": [
    {
     "name": "stdout",
     "output_type": "stream",
     "text": [
      "(36431, 32, 32, 3)\n",
      "(36431, 4)\n",
      "(4048, 32, 32, 3)\n",
      "(4048, 4)\n"
     ]
    }
   ],
   "source": [
    "#weather classifier (last four labels - mutually exclusive)\n",
    "x_train, x_val, y_train_w, y_val_w = train_test_split(x_train,y_train[:,-4:],test_size=0.1)\n",
    "print(x_train.shape)\n",
    "print(y_train_w.shape)\n",
    "print(x_val.shape)\n",
    "print(y_val_w.shape)"
   ]
  },
  {
   "cell_type": "code",
   "execution_count": 8,
   "metadata": {
    "collapsed": false,
    "scrolled": true
   },
   "outputs": [],
   "source": [
    "model = Sequential()\n",
    "model.add(Conv2D(32, (3, 3), input_shape=(32, 32, 3)))\n",
    "model.add(BatchNormalization())\n",
    "model.add(Activation('relu'))\n",
    "model.add(Conv2D(48, (3, 3)))\n",
    "model.add(BatchNormalization())\n",
    "model.add(Activation('relu'))\n",
    "model.add(Conv2D(48, (3, 3)))\n",
    "model.add(BatchNormalization())\n",
    "model.add(Activation('relu'))\n",
    "model.add(MaxPooling2D(pool_size=(2, 2)))\n",
    "model.add(Conv2D(64, (3, 3)))\n",
    "model.add(BatchNormalization())\n",
    "model.add(Activation('relu'))\n",
    "model.add(Conv2D(64, (3, 3)))\n",
    "model.add(BatchNormalization())\n",
    "model.add(Activation('relu'))\n",
    "model.add(MaxPooling2D(pool_size=(2, 2)))\n",
    "model.add(Flatten())\n",
    "model.add(Dense(2048))\n",
    "model.add(BatchNormalization())\n",
    "model.add(Activation('relu'))\n",
    "model.add(Dense(4, activation='softmax'))"
   ]
  },
  {
   "cell_type": "code",
   "execution_count": 9,
   "metadata": {
    "collapsed": false,
    "scrolled": true
   },
   "outputs": [
    {
     "name": "stdout",
     "output_type": "stream",
     "text": [
      "Epoch 1/10\n",
      "20s - loss: 0.5161 - acc: 0.8233 - val_loss: 0.7777 - val_acc: 0.7485\n",
      "Epoch 2/10\n",
      "18s - loss: 0.3835 - acc: 0.8670 - val_loss: 0.4103 - val_acc: 0.8488\n",
      "Epoch 3/10\n",
      "19s - loss: 0.3351 - acc: 0.8835 - val_loss: 0.3417 - val_acc: 0.8841\n",
      "Epoch 4/10\n",
      "19s - loss: 0.3190 - acc: 0.8878 - val_loss: 0.2958 - val_acc: 0.8977\n",
      "Epoch 5/10\n",
      "19s - loss: 0.3096 - acc: 0.8910 - val_loss: 0.3509 - val_acc: 0.8718\n",
      "Epoch 6/10\n",
      "18s - loss: 0.2947 - acc: 0.8944 - val_loss: 0.3337 - val_acc: 0.8832\n",
      "Epoch 7/10\n",
      "19s - loss: 0.2989 - acc: 0.8960 - val_loss: 0.2769 - val_acc: 0.9049\n",
      "Epoch 8/10\n",
      "18s - loss: 0.2855 - acc: 0.8992 - val_loss: 0.3117 - val_acc: 0.8962\n",
      "Epoch 9/10\n",
      "19s - loss: 0.2837 - acc: 0.8988 - val_loss: 0.2519 - val_acc: 0.9091\n",
      "Epoch 10/10\n",
      "19s - loss: 0.2814 - acc: 0.8990 - val_loss: 0.2595 - val_acc: 0.9059\n"
     ]
    },
    {
     "data": {
      "text/plain": [
       "<keras.callbacks.History at 0x7fb5b5af9c88>"
      ]
     },
     "execution_count": 9,
     "metadata": {},
     "output_type": "execute_result"
    }
   ],
   "source": [
    "model.compile(loss='categorical_crossentropy', \n",
    "              optimizer='adam',\n",
    "              metrics=['accuracy'])    \n",
    "model.fit_generator(datagen.flow(x_train,y_train_w, batch_size = 128), validation_data=(x_val, y_val_w),\n",
    "                  verbose=2, epochs=10, steps_per_epoch=x_train.shape[0]/ 128, callbacks=callbacks,\n",
    "                  )"
   ]
  },
  {
   "cell_type": "code",
   "execution_count": 10,
   "metadata": {
    "collapsed": false,
    "scrolled": true
   },
   "outputs": [
    {
     "name": "stdout",
     "output_type": "stream",
     "text": [
      "thresh: 0.05 \tF2 score: 0.928756705251\n",
      "thresh: 0.1 \tF2 score: 0.932237260023\n",
      "thresh: 0.15 \tF2 score: 0.932825439959\n",
      "thresh: 0.2 \tF2 score: 0.930919736966\n",
      "thresh: 0.25 \tF2 score: 0.929294889893\n",
      "thresh: 0.3 \tF2 score: 0.924736495389\n",
      "thresh: 0.35 \tF2 score: 0.919631093544\n"
     ]
    },
    {
     "name": "stderr",
     "output_type": "stream",
     "text": [
      "/home/cs231n/myVE35/lib/python3.5/site-packages/sklearn/metrics/classification.py:1113: UndefinedMetricWarning: F-score is ill-defined and being set to 0.0 in samples with no predicted labels.\n",
      "  'precision', 'predicted', average, warn_for)\n"
     ]
    }
   ],
   "source": [
    "y_pred = model.predict(x_val,batch_size=128)\n",
    "for thresh in [0.05,0.1,0.15,0.2,0.25,0.3,0.35]:\n",
    "    print(\"thresh:\",thresh,\"\\tF2 score:\",fbeta_score(y_val_w, np.array(y_pred)>thresh, beta=2, average='samples'))"
   ]
  },
  {
   "cell_type": "code",
   "execution_count": 11,
   "metadata": {
    "collapsed": false,
    "scrolled": true
   },
   "outputs": [
    {
     "name": "stdout",
     "output_type": "stream",
     "text": [
      "Epoch 1/10\n",
      "19s - loss: 0.2683 - acc: 0.9037 - val_loss: 0.2387 - val_acc: 0.9160\n",
      "Epoch 2/10\n",
      "19s - loss: 0.2567 - acc: 0.9077 - val_loss: 0.2232 - val_acc: 0.9237\n",
      "Epoch 3/10\n",
      "19s - loss: 0.2521 - acc: 0.9103 - val_loss: 0.2323 - val_acc: 0.9209\n",
      "Epoch 4/10\n",
      "19s - loss: 0.2535 - acc: 0.9094 - val_loss: 0.2954 - val_acc: 0.8980\n",
      "Epoch 5/10\n",
      "19s - loss: 0.2490 - acc: 0.9103 - val_loss: 0.2275 - val_acc: 0.9172\n"
     ]
    },
    {
     "data": {
      "text/plain": [
       "<keras.callbacks.History at 0x7fb5906f9358>"
      ]
     },
     "execution_count": 11,
     "metadata": {},
     "output_type": "execute_result"
    }
   ],
   "source": [
    "#continue with reduced learning rate\n",
    "model.compile(loss='categorical_crossentropy', \n",
    "              optimizer=Adam(lr=0.0005),\n",
    "              metrics=['accuracy']) \n",
    "model.fit_generator(datagen.flow(x_train,y_train_w, batch_size = 128), validation_data=(x_val, y_val_w),\n",
    "                  verbose=2, epochs=10, steps_per_epoch=x_train.shape[0]/ 128, callbacks=callbacks,\n",
    "                  )"
   ]
  },
  {
   "cell_type": "code",
   "execution_count": 12,
   "metadata": {
    "collapsed": false,
    "scrolled": true
   },
   "outputs": [
    {
     "name": "stdout",
     "output_type": "stream",
     "text": [
      "thresh: 0.05 \tF2 score: 0.928659655562\n",
      "thresh: 0.1 \tF2 score: 0.937886728308\n",
      "thresh: 0.15 \tF2 score: 0.940120341615\n",
      "thresh: 0.2 \tF2 score: 0.9384175607\n",
      "thresh: 0.25 \tF2 score: 0.938699887069\n",
      "thresh: 0.3 \tF2 score: 0.935123753059\n",
      "thresh: 0.35 \tF2 score: 0.930212450593\n"
     ]
    }
   ],
   "source": [
    "y_pred = model.predict(x_val,batch_size=128)\n",
    "for thresh in [0.05,0.1,0.15,0.2,0.25,0.3,0.35]:\n",
    "    print(\"thresh:\",thresh,\"\\tF2 score:\",fbeta_score(y_val_w, np.array(y_pred)>thresh, beta=2, average='samples'))"
   ]
  },
  {
   "cell_type": "code",
   "execution_count": 13,
   "metadata": {
    "collapsed": false,
    "scrolled": true
   },
   "outputs": [
    {
     "name": "stdout",
     "output_type": "stream",
     "text": [
      "Epoch 1/10\n",
      "19s - loss: 0.2317 - acc: 0.9170 - val_loss: 0.2031 - val_acc: 0.9227\n",
      "Epoch 2/10\n",
      "19s - loss: 0.2295 - acc: 0.9173 - val_loss: 0.2121 - val_acc: 0.9256\n",
      "Epoch 3/10\n",
      "19s - loss: 0.2273 - acc: 0.9189 - val_loss: 0.1957 - val_acc: 0.9276\n",
      "Epoch 4/10\n",
      "19s - loss: 0.2274 - acc: 0.9190 - val_loss: 0.2070 - val_acc: 0.9212\n",
      "Epoch 5/10\n",
      "19s - loss: 0.2245 - acc: 0.9193 - val_loss: 0.2017 - val_acc: 0.9266\n",
      "Epoch 6/10\n",
      "18s - loss: 0.2226 - acc: 0.9198 - val_loss: 0.1965 - val_acc: 0.9286\n"
     ]
    },
    {
     "data": {
      "text/plain": [
       "<keras.callbacks.History at 0x7fb56d934588>"
      ]
     },
     "execution_count": 13,
     "metadata": {},
     "output_type": "execute_result"
    }
   ],
   "source": [
    "#continue with reduced learning rate\n",
    "model.compile(loss='categorical_crossentropy', \n",
    "              optimizer=Adam(lr=0.0002),\n",
    "              metrics=['accuracy']) \n",
    "model.fit_generator(datagen.flow(x_train,y_train_w, batch_size = 128), validation_data=(x_val, y_val_w),\n",
    "                  verbose=2, epochs=10, steps_per_epoch=x_train.shape[0]/ 128, callbacks=callbacks,\n",
    "                  )"
   ]
  },
  {
   "cell_type": "code",
   "execution_count": 14,
   "metadata": {
    "collapsed": false
   },
   "outputs": [
    {
     "name": "stdout",
     "output_type": "stream",
     "text": [
      "thresh: 0.05 \tF2 score: 0.936632434594\n",
      "thresh: 0.1 \tF2 score: 0.946532973367\n",
      "thresh: 0.15 \tF2 score: 0.947222614342\n",
      "thresh: 0.2 \tF2 score: 0.947787267081\n",
      "thresh: 0.25 \tF2 score: 0.946904997177\n",
      "thresh: 0.3 \tF2 score: 0.944664031621\n",
      "thresh: 0.35 \tF2 score: 0.940011528327\n"
     ]
    }
   ],
   "source": [
    "y_pred = model.predict(x_val,batch_size=128)\n",
    "for thresh in [0.05,0.1,0.15,0.2,0.25,0.3,0.35]:\n",
    "    print(\"thresh:\",thresh,\"\\tF2 score:\",fbeta_score(y_val_w, np.array(y_pred)>thresh, beta=2, average='samples'))"
   ]
  },
  {
   "cell_type": "code",
   "execution_count": 15,
   "metadata": {
    "collapsed": false,
    "scrolled": true
   },
   "outputs": [
    {
     "name": "stdout",
     "output_type": "stream",
     "text": [
      "Epoch 1/10\n",
      "19s - loss: 0.2179 - acc: 0.9208 - val_loss: 0.1895 - val_acc: 0.9264\n",
      "Epoch 2/10\n",
      "18s - loss: 0.2140 - acc: 0.9216 - val_loss: 0.1958 - val_acc: 0.9291\n",
      "Epoch 3/10\n",
      "18s - loss: 0.2187 - acc: 0.9208 - val_loss: 0.2020 - val_acc: 0.9249\n",
      "Epoch 4/10\n",
      "19s - loss: 0.2174 - acc: 0.9217 - val_loss: 0.1877 - val_acc: 0.9298\n",
      "Epoch 5/10\n",
      "19s - loss: 0.2155 - acc: 0.9222 - val_loss: 0.1885 - val_acc: 0.9289\n",
      "Epoch 6/10\n",
      "18s - loss: 0.2159 - acc: 0.9219 - val_loss: 0.1935 - val_acc: 0.9286\n",
      "Epoch 7/10\n",
      "18s - loss: 0.2145 - acc: 0.9213 - val_loss: 0.1977 - val_acc: 0.9276\n"
     ]
    },
    {
     "data": {
      "text/plain": [
       "<keras.callbacks.History at 0x7fb56cd92668>"
      ]
     },
     "execution_count": 15,
     "metadata": {},
     "output_type": "execute_result"
    }
   ],
   "source": [
    "#continue with reduced learning rate\n",
    "model.compile(optimizer=Adam(lr=0.0001), loss='categorical_crossentropy', metrics=['accuracy'])\n",
    "model.fit_generator(datagen.flow(x_train,y_train_w, batch_size = 128), validation_data=(x_val, y_val_w),\n",
    "                  verbose=2, epochs=10, steps_per_epoch=x_train.shape[0]/ 128, callbacks=callbacks,\n",
    "                  )"
   ]
  },
  {
   "cell_type": "code",
   "execution_count": 16,
   "metadata": {
    "collapsed": false,
    "scrolled": true
   },
   "outputs": [
    {
     "name": "stdout",
     "output_type": "stream",
     "text": [
      "thresh: 0.05 \tF2 score: 0.93593691182\n",
      "thresh: 0.1 \tF2 score: 0.946180065406\n",
      "thresh: 0.15 \tF2 score: 0.94889304536\n",
      "thresh: 0.2 \tF2 score: 0.948134293243\n",
      "thresh: 0.25 \tF2 score: 0.945922736684\n",
      "thresh: 0.3 \tF2 score: 0.943058300395\n",
      "thresh: 0.35 \tF2 score: 0.940876152833\n"
     ]
    }
   ],
   "source": [
    "y_pred = model.predict(x_val,batch_size=128)\n",
    "for thresh in [0.05,0.1,0.15,0.2,0.25,0.3,0.35]:\n",
    "    print(\"thresh:\",thresh,\"\\tF2 score:\",fbeta_score(y_val_w, np.array(y_pred)>thresh, beta=2, average='samples'))"
   ]
  },
  {
   "cell_type": "code",
   "execution_count": 17,
   "metadata": {
    "collapsed": true,
    "scrolled": true
   },
   "outputs": [],
   "source": [
    "model.save(\"simple_weather\")"
   ]
  },
  {
   "cell_type": "code",
   "execution_count": 18,
   "metadata": {
    "collapsed": false,
    "scrolled": true
   },
   "outputs": [
    {
     "name": "stderr",
     "output_type": "stream",
     "text": [
      "100%|██████████| 40479/40479 [00:53<00:00, 751.10it/s]"
     ]
    },
    {
     "name": "stdout",
     "output_type": "stream",
     "text": [
      "(40479, 32, 32, 3)\n",
      "(40479, 17)\n"
     ]
    },
    {
     "name": "stderr",
     "output_type": "stream",
     "text": [
      "\n"
     ]
    }
   ],
   "source": [
    "x_val = []\n",
    "x_train = []\n",
    "x_train = np.zeros((40479,32,32,3), np.float32)\n",
    "y_train = []\n",
    "\n",
    "df_train = pd.read_csv('train_v2.csv')\n",
    "\n",
    "labels = ['blow_down',\n",
    " 'bare_ground',\n",
    " 'conventional_mine',\n",
    " 'blooming',\n",
    " 'artisinal_mine',\n",
    " 'selective_logging',         \n",
    " 'slash_burn', \n",
    " 'cultivation',\n",
    " 'habitation',\n",
    " 'road',\n",
    " 'agriculture',\n",
    " 'water',\n",
    " 'primary',\n",
    " 'partly_cloudy', \n",
    " 'cloudy',\n",
    " 'clear',\n",
    " 'haze',]\n",
    "\n",
    "label_map = {l: i for i, l in enumerate(labels)}\n",
    "inv_label_map = {i: l for l, i in label_map.items()}\n",
    "\n",
    "i=0\n",
    "\n",
    "for f, tags in tqdm(df_train.values[:40479], miniters=1000):    \n",
    "    img = cv2.imread('train-jpg/{}.jpg'.format(f))\n",
    "    targets = np.zeros(17)\n",
    "    for t in tags.split(' '):\n",
    "        targets[label_map[t]] = 1 \n",
    "    x_train[i,:,:,:] = np.array(cv2.resize(img, (32, 32)),np.float32)/255.#139 minimum size for inception\n",
    "    i+=1\n",
    "    y_train.append(targets)\n",
    "  \n",
    "y_train = np.array(y_train, np.uint8)\n",
    "\n",
    "print(x_train.shape)\n",
    "print(y_train.shape)"
   ]
  },
  {
   "cell_type": "code",
   "execution_count": 19,
   "metadata": {
    "collapsed": true,
    "scrolled": true
   },
   "outputs": [],
   "source": [
    "y_train_2 = np.zeros((y_train.shape[0],7))\n",
    "y_train_2[:,1:] = y_train[:,7:13]\n",
    "y_train_2[:,0] = (np.sum(y_train[:,:7],axis=1)>0)\n",
    "y_train_2 = np.array(y_train_2,np.uint8)"
   ]
  },
  {
   "cell_type": "code",
   "execution_count": 20,
   "metadata": {
    "collapsed": false,
    "scrolled": true
   },
   "outputs": [
    {
     "name": "stdout",
     "output_type": "stream",
     "text": [
      "[0 1 0 0 0 0 0 0 0 0 0 1 0 0 0 1 0]\n",
      "[1 0 0 0 0 1 0]\n"
     ]
    }
   ],
   "source": [
    "print(y_train[100,:])\n",
    "print(y_train_2[100,:])"
   ]
  },
  {
   "cell_type": "code",
   "execution_count": 21,
   "metadata": {
    "collapsed": false,
    "scrolled": true
   },
   "outputs": [
    {
     "name": "stdout",
     "output_type": "stream",
     "text": [
      "(36431, 32, 32, 3)\n",
      "(36431, 7)\n",
      "(4048, 32, 32, 3)\n",
      "(4048, 7)\n"
     ]
    }
   ],
   "source": [
    "x_train -= train_mean\n",
    "x_train, x_val, y_train_2, y_val_2 = train_test_split(x_train,y_train_2,test_size=0.1)\n",
    "print(x_train.shape)\n",
    "print(y_train_2.shape)\n",
    "print(x_val.shape)\n",
    "print(y_val_2.shape)"
   ]
  },
  {
   "cell_type": "code",
   "execution_count": 41,
   "metadata": {
    "collapsed": false,
    "scrolled": true
   },
   "outputs": [],
   "source": [
    "#model for the more common classes + 1 class for others\n",
    "model1 = Sequential()\n",
    "model1.add(Conv2D(32, (3, 3), padding = 'same', input_shape=(32, 32, 3)))\n",
    "model1.add(BatchNormalization())\n",
    "model1.add(Activation('relu'))\n",
    "model1.add(Conv2D(48, (3, 3), padding = 'same'))\n",
    "model1.add(BatchNormalization())\n",
    "model1.add(Activation('relu'))\n",
    "model1.add(Conv2D(48, (3, 3), padding = 'same'))\n",
    "model1.add(BatchNormalization())\n",
    "model1.add(Activation('relu'))\n",
    "model1.add(Conv2D(48, (3, 3), padding = 'same'))\n",
    "model1.add(BatchNormalization())\n",
    "model1.add(Activation('relu'))\n",
    "model1.add(MaxPooling2D(pool_size=(2, 2)))\n",
    "model1.add(Conv2D(64, (3, 3), padding = 'same'))\n",
    "model1.add(BatchNormalization())\n",
    "model1.add(Activation('relu'))\n",
    "model1.add(Conv2D(64, (3, 3), padding = 'same'))\n",
    "model1.add(BatchNormalization())\n",
    "model1.add(Activation('relu'))\n",
    "model1.add(Conv2D(64, (3, 3), padding = 'same'))\n",
    "model1.add(BatchNormalization())\n",
    "model1.add(Activation('relu'))\n",
    "model1.add(MaxPooling2D(pool_size=(2, 2)))\n",
    "model1.add(Conv2D(128, (3, 3), padding = 'same'))\n",
    "model1.add(BatchNormalization())\n",
    "model1.add(Activation('relu'))\n",
    "model1.add(Conv2D(128, (3, 3), padding = 'same'))\n",
    "model1.add(BatchNormalization())\n",
    "model1.add(Activation('relu'))\n",
    "model1.add(Conv2D(128, (3, 3), padding = 'same'))\n",
    "model1.add(BatchNormalization())\n",
    "model1.add(Activation('relu'))\n",
    "model1.add(MaxPooling2D(pool_size=(2, 2)))\n",
    "model1.add(Flatten())\n",
    "model1.add(Dense(2048))\n",
    "model1.add(BatchNormalization())\n",
    "model1.add(Activation('relu'))\n",
    "model1.add(Dense(1024))\n",
    "model1.add(BatchNormalization())\n",
    "model1.add(Activation('relu'))\n",
    "model1.add(Dense(7, activation='sigmoid'))"
   ]
  },
  {
   "cell_type": "code",
   "execution_count": 42,
   "metadata": {
    "collapsed": false,
    "scrolled": true
   },
   "outputs": [
    {
     "name": "stdout",
     "output_type": "stream",
     "text": [
      "Epoch 1/10\n",
      "53s - loss: 0.2913 - acc: 0.8805 - val_loss: 0.6006 - val_acc: 0.7722\n",
      "Epoch 2/10\n",
      "49s - loss: 0.2506 - acc: 0.8973 - val_loss: 0.2989 - val_acc: 0.8820\n",
      "Epoch 3/10\n",
      "49s - loss: 0.2372 - acc: 0.9043 - val_loss: 0.2562 - val_acc: 0.8950\n",
      "Epoch 4/10\n",
      "49s - loss: 0.2293 - acc: 0.9074 - val_loss: 0.2509 - val_acc: 0.8949\n",
      "Epoch 5/10\n",
      "49s - loss: 0.2238 - acc: 0.9102 - val_loss: 0.2646 - val_acc: 0.8841\n",
      "Epoch 6/10\n",
      "49s - loss: 0.2196 - acc: 0.9115 - val_loss: 0.2200 - val_acc: 0.9107\n",
      "Epoch 7/10\n",
      "49s - loss: 0.2158 - acc: 0.9129 - val_loss: 0.2580 - val_acc: 0.9026\n",
      "Epoch 8/10\n",
      "49s - loss: 0.2141 - acc: 0.9136 - val_loss: 0.2244 - val_acc: 0.9078\n",
      "Epoch 9/10\n",
      "49s - loss: 0.2122 - acc: 0.9151 - val_loss: 0.2196 - val_acc: 0.9100\n",
      "Epoch 10/10\n",
      "49s - loss: 0.2101 - acc: 0.9158 - val_loss: 0.2114 - val_acc: 0.9155\n"
     ]
    },
    {
     "data": {
      "text/plain": [
       "<keras.callbacks.History at 0x7fb58198ce10>"
      ]
     },
     "execution_count": 42,
     "metadata": {},
     "output_type": "execute_result"
    }
   ],
   "source": [
    "model1.compile(loss='binary_crossentropy', \n",
    "              optimizer='adam',\n",
    "              metrics=['accuracy'])\n",
    "\n",
    "model1.fit_generator(datagen.flow(x_train,y_train_2, batch_size = 128), validation_data=(x_val, y_val_2),\n",
    "                  verbose=2, epochs=10, steps_per_epoch=x_train.shape[0]/ 128, callbacks=callbacks,\n",
    "                  )"
   ]
  },
  {
   "cell_type": "code",
   "execution_count": 43,
   "metadata": {
    "collapsed": false,
    "scrolled": true
   },
   "outputs": [
    {
     "name": "stdout",
     "output_type": "stream",
     "text": [
      "thresh: 0.05 \tF2 score: 0.832920726117\n",
      "thresh: 0.1 \tF2 score: 0.85047125381\n",
      "thresh: 0.15 \tF2 score: 0.853083601714\n",
      "thresh: 0.2 \tF2 score: 0.85218122332\n",
      "thresh: 0.25 \tF2 score: 0.850658866404\n",
      "thresh: 0.3 \tF2 score: 0.847377603952\n",
      "thresh: 0.35 \tF2 score: 0.841522262036\n"
     ]
    },
    {
     "name": "stderr",
     "output_type": "stream",
     "text": [
      "/home/cs231n/myVE35/lib/python3.5/site-packages/sklearn/metrics/classification.py:1113: UndefinedMetricWarning: F-score is ill-defined and being set to 0.0 in samples with no predicted labels.\n",
      "  'precision', 'predicted', average, warn_for)\n",
      "/home/cs231n/myVE35/lib/python3.5/site-packages/sklearn/metrics/classification.py:1115: UndefinedMetricWarning: F-score is ill-defined and being set to 0.0 in samples with no true labels.\n",
      "  'recall', 'true', average, warn_for)\n"
     ]
    }
   ],
   "source": [
    "y_pred = model1.predict(x_val,batch_size=128)\n",
    "for thresh in [0.05,0.1,0.15,0.2,0.25,0.3,0.35]:\n",
    "    print(\"thresh:\",thresh,\"\\tF2 score:\",fbeta_score(y_val_2, np.array(y_pred)>thresh, beta=2, average='samples'))"
   ]
  },
  {
   "cell_type": "code",
   "execution_count": 47,
   "metadata": {
    "collapsed": false,
    "scrolled": true
   },
   "outputs": [
    {
     "name": "stdout",
     "output_type": "stream",
     "text": [
      "Epoch 1/10\n",
      "53s - loss: 0.1891 - acc: 0.9245 - val_loss: 0.2002 - val_acc: 0.9154\n",
      "Epoch 2/10\n",
      "49s - loss: 0.1880 - acc: 0.9246 - val_loss: 0.1918 - val_acc: 0.9219\n",
      "Epoch 3/10\n",
      "49s - loss: 0.1873 - acc: 0.9251 - val_loss: 0.1936 - val_acc: 0.9185\n",
      "Epoch 4/10\n",
      "49s - loss: 0.1867 - acc: 0.9254 - val_loss: 0.1867 - val_acc: 0.9240\n",
      "Epoch 5/10\n",
      "49s - loss: 0.1865 - acc: 0.9256 - val_loss: 0.1944 - val_acc: 0.9206\n",
      "Epoch 6/10\n",
      "49s - loss: 0.1859 - acc: 0.9254 - val_loss: 0.1907 - val_acc: 0.9213\n",
      "Epoch 7/10\n",
      "49s - loss: 0.1851 - acc: 0.9261 - val_loss: 0.1963 - val_acc: 0.9192\n"
     ]
    },
    {
     "data": {
      "text/plain": [
       "<keras.callbacks.History at 0x7fb57a6bdf60>"
      ]
     },
     "execution_count": 47,
     "metadata": {},
     "output_type": "execute_result"
    }
   ],
   "source": [
    "#continue with reduced learning rate\n",
    "model1.compile(loss='binary_crossentropy', \n",
    "              optimizer=Adam(lr=0.0005),\n",
    "              metrics=['accuracy']) \n",
    "model1.fit_generator(datagen.flow(x_train,y_train_2, batch_size = 128), validation_data=(x_val, y_val_2),\n",
    "                  verbose=2, epochs=10, steps_per_epoch=x_train.shape[0]/ 128, callbacks=callbacks,\n",
    "                  )"
   ]
  },
  {
   "cell_type": "code",
   "execution_count": 48,
   "metadata": {
    "collapsed": false,
    "scrolled": true
   },
   "outputs": [
    {
     "name": "stdout",
     "output_type": "stream",
     "text": [
      "thresh: 0.05 \tF2 score: 0.839125476441\n",
      "thresh: 0.1 \tF2 score: 0.860659832221\n",
      "thresh: 0.15 \tF2 score: 0.863039656215\n",
      "thresh: 0.2 \tF2 score: 0.861837464378\n",
      "thresh: 0.25 \tF2 score: 0.856139575274\n",
      "thresh: 0.3 \tF2 score: 0.851963944031\n",
      "thresh: 0.35 \tF2 score: 0.845136486486\n"
     ]
    },
    {
     "name": "stderr",
     "output_type": "stream",
     "text": [
      "/home/cs231n/myVE35/lib/python3.5/site-packages/sklearn/metrics/classification.py:1113: UndefinedMetricWarning: F-score is ill-defined and being set to 0.0 in samples with no predicted labels.\n",
      "  'precision', 'predicted', average, warn_for)\n",
      "/home/cs231n/myVE35/lib/python3.5/site-packages/sklearn/metrics/classification.py:1115: UndefinedMetricWarning: F-score is ill-defined and being set to 0.0 in samples with no true labels.\n",
      "  'recall', 'true', average, warn_for)\n"
     ]
    }
   ],
   "source": [
    "y_pred = model1.predict(x_val,batch_size=128)\n",
    "for thresh in [0.05,0.1,0.15,0.2,0.25,0.3,0.35]:\n",
    "    print(\"thresh:\",thresh,\"\\tF2 score:\",fbeta_score(y_val_2, np.array(y_pred)>thresh, beta=2, average='samples'))"
   ]
  },
  {
   "cell_type": "code",
   "execution_count": 50,
   "metadata": {
    "collapsed": false,
    "scrolled": true
   },
   "outputs": [
    {
     "name": "stdout",
     "output_type": "stream",
     "text": [
      "Epoch 1/10\n",
      "53s - loss: 0.1765 - acc: 0.9292 - val_loss: 0.1782 - val_acc: 0.9275\n",
      "Epoch 2/10\n",
      "49s - loss: 0.1753 - acc: 0.9301 - val_loss: 0.1778 - val_acc: 0.9285\n",
      "Epoch 3/10\n",
      "49s - loss: 0.1748 - acc: 0.9296 - val_loss: 0.1782 - val_acc: 0.9275\n",
      "Epoch 4/10\n",
      "49s - loss: 0.1740 - acc: 0.9300 - val_loss: 0.1790 - val_acc: 0.9276\n",
      "Epoch 5/10\n",
      "49s - loss: 0.1739 - acc: 0.9299 - val_loss: 0.1767 - val_acc: 0.9285\n",
      "Epoch 6/10\n",
      "49s - loss: 0.1737 - acc: 0.9304 - val_loss: 0.1772 - val_acc: 0.9272\n",
      "Epoch 7/10\n",
      "49s - loss: 0.1740 - acc: 0.9297 - val_loss: 0.1786 - val_acc: 0.9262\n",
      "Epoch 8/10\n",
      "49s - loss: 0.1727 - acc: 0.9308 - val_loss: 0.1777 - val_acc: 0.9281\n"
     ]
    },
    {
     "data": {
      "text/plain": [
       "<keras.callbacks.History at 0x7fb576ecabe0>"
      ]
     },
     "execution_count": 50,
     "metadata": {},
     "output_type": "execute_result"
    }
   ],
   "source": [
    "#continue with reduced learning rate\n",
    "model1.compile(loss='binary_crossentropy', \n",
    "              optimizer=Adam(lr=0.0002),\n",
    "              metrics=['accuracy']) \n",
    "model1.fit_generator(datagen.flow(x_train,y_train_2, batch_size = 128), validation_data=(x_val, y_val_2),\n",
    "                  verbose=2, epochs=10, steps_per_epoch=x_train.shape[0]/ 128, callbacks=callbacks,\n",
    "                  )"
   ]
  },
  {
   "cell_type": "code",
   "execution_count": 51,
   "metadata": {
    "collapsed": false,
    "scrolled": true
   },
   "outputs": [
    {
     "name": "stdout",
     "output_type": "stream",
     "text": [
      "thresh: 0.05 \tF2 score: 0.850234659435\n",
      "thresh: 0.1 \tF2 score: 0.865652488317\n",
      "thresh: 0.15 \tF2 score: 0.869269455869\n",
      "thresh: 0.2 \tF2 score: 0.870728967268\n",
      "thresh: 0.25 \tF2 score: 0.869436172073\n",
      "thresh: 0.3 \tF2 score: 0.866010172428\n",
      "thresh: 0.35 \tF2 score: 0.861534247248\n"
     ]
    },
    {
     "name": "stderr",
     "output_type": "stream",
     "text": [
      "/home/cs231n/myVE35/lib/python3.5/site-packages/sklearn/metrics/classification.py:1113: UndefinedMetricWarning: F-score is ill-defined and being set to 0.0 in samples with no predicted labels.\n",
      "  'precision', 'predicted', average, warn_for)\n",
      "/home/cs231n/myVE35/lib/python3.5/site-packages/sklearn/metrics/classification.py:1115: UndefinedMetricWarning: F-score is ill-defined and being set to 0.0 in samples with no true labels.\n",
      "  'recall', 'true', average, warn_for)\n"
     ]
    }
   ],
   "source": [
    "y_pred = model1.predict(x_val,batch_size=128)\n",
    "for thresh in [0.05,0.1,0.15,0.2,0.25,0.3,0.35]:\n",
    "    print(\"thresh:\",thresh,\"\\tF2 score:\",fbeta_score(y_val_2, np.array(y_pred)>thresh, beta=2, average='samples'))"
   ]
  },
  {
   "cell_type": "code",
   "execution_count": 52,
   "metadata": {
    "collapsed": false,
    "scrolled": true
   },
   "outputs": [
    {
     "name": "stdout",
     "output_type": "stream",
     "text": [
      "Epoch 1/10\n",
      "53s - loss: 0.1708 - acc: 0.9313 - val_loss: 0.1750 - val_acc: 0.9286\n",
      "Epoch 2/10\n",
      "49s - loss: 0.1702 - acc: 0.9317 - val_loss: 0.1768 - val_acc: 0.9284\n",
      "Epoch 3/10\n",
      "50s - loss: 0.1702 - acc: 0.9318 - val_loss: 0.1768 - val_acc: 0.9265\n",
      "Epoch 4/10\n",
      "49s - loss: 0.1704 - acc: 0.9319 - val_loss: 0.1750 - val_acc: 0.9280\n",
      "Epoch 5/10\n",
      "49s - loss: 0.1694 - acc: 0.9318 - val_loss: 0.1769 - val_acc: 0.9274\n",
      "Epoch 6/10\n",
      "49s - loss: 0.1695 - acc: 0.9319 - val_loss: 0.1760 - val_acc: 0.9273\n",
      "Epoch 7/10\n",
      "49s - loss: 0.1690 - acc: 0.9321 - val_loss: 0.1756 - val_acc: 0.9269\n"
     ]
    },
    {
     "data": {
      "text/plain": [
       "<keras.callbacks.History at 0x7fb575322470>"
      ]
     },
     "execution_count": 52,
     "metadata": {},
     "output_type": "execute_result"
    }
   ],
   "source": [
    "#continue with reduced learning rate\n",
    "model1.compile(loss='binary_crossentropy', \n",
    "              optimizer=Adam(lr=0.0001),\n",
    "              metrics=['accuracy']) \n",
    "model1.fit_generator(datagen.flow(x_train,y_train_2, batch_size = 128), validation_data=(x_val, y_val_2),\n",
    "                  verbose=2, epochs=10, steps_per_epoch=x_train.shape[0]/ 128, callbacks=callbacks,\n",
    "                  )"
   ]
  },
  {
   "cell_type": "code",
   "execution_count": 53,
   "metadata": {
    "collapsed": false,
    "scrolled": true
   },
   "outputs": [
    {
     "name": "stdout",
     "output_type": "stream",
     "text": [
      "thresh: 0.05 \tF2 score: 0.849078641887\n",
      "thresh: 0.1 \tF2 score: 0.866140733274\n",
      "thresh: 0.15 \tF2 score: 0.871982758094\n",
      "thresh: 0.2 \tF2 score: 0.871557388887\n",
      "thresh: 0.25 \tF2 score: 0.870158703687\n",
      "thresh: 0.3 \tF2 score: 0.865118892491\n",
      "thresh: 0.35 \tF2 score: 0.86009692893\n"
     ]
    },
    {
     "name": "stderr",
     "output_type": "stream",
     "text": [
      "/home/cs231n/myVE35/lib/python3.5/site-packages/sklearn/metrics/classification.py:1113: UndefinedMetricWarning: F-score is ill-defined and being set to 0.0 in samples with no predicted labels.\n",
      "  'precision', 'predicted', average, warn_for)\n",
      "/home/cs231n/myVE35/lib/python3.5/site-packages/sklearn/metrics/classification.py:1115: UndefinedMetricWarning: F-score is ill-defined and being set to 0.0 in samples with no true labels.\n",
      "  'recall', 'true', average, warn_for)\n"
     ]
    }
   ],
   "source": [
    "y_pred = model1.predict(x_val,batch_size=128)\n",
    "for thresh in [0.05,0.1,0.15,0.2,0.25,0.3,0.35]:\n",
    "    print(\"thresh:\",thresh,\"\\tF2 score:\",fbeta_score(y_val_2, np.array(y_pred)>thresh, beta=2, average='samples'))"
   ]
  },
  {
   "cell_type": "code",
   "execution_count": 54,
   "metadata": {
    "collapsed": false,
    "scrolled": true
   },
   "outputs": [
    {
     "name": "stdout",
     "output_type": "stream",
     "text": [
      "thresh: 0.05 \tF2 score: 0.849078641887\n",
      "thresh: 0.1 \tF2 score: 0.866140733274\n",
      "thresh: 0.15 \tF2 score: 0.871982758094\n",
      "thresh: 0.2 \tF2 score: 0.871557388887\n",
      "thresh: 0.25 \tF2 score: 0.870158703687\n",
      "thresh: 0.3 \tF2 score: 0.865118892491\n",
      "thresh: 0.35 \tF2 score: 0.86009692893\n"
     ]
    },
    {
     "name": "stderr",
     "output_type": "stream",
     "text": [
      "/home/cs231n/myVE35/lib/python3.5/site-packages/sklearn/metrics/classification.py:1113: UndefinedMetricWarning: F-score is ill-defined and being set to 0.0 in samples with no predicted labels.\n",
      "  'precision', 'predicted', average, warn_for)\n",
      "/home/cs231n/myVE35/lib/python3.5/site-packages/sklearn/metrics/classification.py:1115: UndefinedMetricWarning: F-score is ill-defined and being set to 0.0 in samples with no true labels.\n",
      "  'recall', 'true', average, warn_for)\n"
     ]
    }
   ],
   "source": [
    "y_pred = model1.predict(x_val,batch_size=128)\n",
    "bestthresh = 0\n",
    "bestF2score = 0\n",
    "for thresh in [0.05,0.1,0.15,0.2,0.25,0.3,0.35]:\n",
    "    F2score = fbeta_score(y_val_2, np.array(y_pred)>thresh, beta=2, average='samples')\n",
    "    print(\"thresh:\",thresh,\"\\tF2 score:\",F2score)\n",
    "    if F2score > bestF2score:\n",
    "        bestthresh = thresh\n",
    "        bestF2score = F2score        "
   ]
  },
  {
   "cell_type": "code",
   "execution_count": 55,
   "metadata": {
    "collapsed": false,
    "scrolled": true
   },
   "outputs": [
    {
     "data": {
      "text/html": [
       "<div>\n",
       "<table border=\"1\" class=\"dataframe\">\n",
       "  <thead>\n",
       "    <tr style=\"text-align: right;\">\n",
       "      <th></th>\n",
       "      <th>FN</th>\n",
       "      <th>FP</th>\n",
       "      <th>TN</th>\n",
       "      <th>TP</th>\n",
       "      <th>Total</th>\n",
       "    </tr>\n",
       "  </thead>\n",
       "  <tbody>\n",
       "    <tr>\n",
       "      <th>others</th>\n",
       "      <td>85</td>\n",
       "      <td>256</td>\n",
       "      <td>3584</td>\n",
       "      <td>123</td>\n",
       "      <td>208</td>\n",
       "    </tr>\n",
       "    <tr>\n",
       "      <th>cultivation</th>\n",
       "      <td>91</td>\n",
       "      <td>471</td>\n",
       "      <td>3124</td>\n",
       "      <td>362</td>\n",
       "      <td>453</td>\n",
       "    </tr>\n",
       "    <tr>\n",
       "      <th>habitation</th>\n",
       "      <td>68</td>\n",
       "      <td>310</td>\n",
       "      <td>3363</td>\n",
       "      <td>307</td>\n",
       "      <td>375</td>\n",
       "    </tr>\n",
       "    <tr>\n",
       "      <th>road</th>\n",
       "      <td>56</td>\n",
       "      <td>479</td>\n",
       "      <td>2748</td>\n",
       "      <td>765</td>\n",
       "      <td>821</td>\n",
       "    </tr>\n",
       "    <tr>\n",
       "      <th>agriculture</th>\n",
       "      <td>58</td>\n",
       "      <td>485</td>\n",
       "      <td>2337</td>\n",
       "      <td>1168</td>\n",
       "      <td>1226</td>\n",
       "    </tr>\n",
       "    <tr>\n",
       "      <th>water</th>\n",
       "      <td>110</td>\n",
       "      <td>491</td>\n",
       "      <td>2782</td>\n",
       "      <td>665</td>\n",
       "      <td>775</td>\n",
       "    </tr>\n",
       "    <tr>\n",
       "      <th>primary</th>\n",
       "      <td>14</td>\n",
       "      <td>130</td>\n",
       "      <td>149</td>\n",
       "      <td>3755</td>\n",
       "      <td>3769</td>\n",
       "    </tr>\n",
       "  </tbody>\n",
       "</table>\n",
       "</div>"
      ],
      "text/plain": [
       "              FN   FP    TN    TP  Total\n",
       "others        85  256  3584   123    208\n",
       "cultivation   91  471  3124   362    453\n",
       "habitation    68  310  3363   307    375\n",
       "road          56  479  2748   765    821\n",
       "agriculture   58  485  2337  1168   1226\n",
       "water        110  491  2782   665    775\n",
       "primary       14  130   149  3755   3769"
      ]
     },
     "execution_count": 55,
     "metadata": {},
     "output_type": "execute_result"
    }
   ],
   "source": [
    "total,tp,tn,fp,fn = multilabelmetrics(y_val_2,np.array(y_pred)>bestthresh)\n",
    "d = {'Total':total,'TP':tp,'TN':tn,'FP':fp,'FN':fn}\n",
    "pd.DataFrame(d, index=['others']+labels[7:13])"
   ]
  },
  {
   "cell_type": "code",
   "execution_count": 56,
   "metadata": {
    "collapsed": false,
    "scrolled": true
   },
   "outputs": [
    {
     "name": "stdout",
     "output_type": "stream",
     "text": [
      "2180\n"
     ]
    }
   ],
   "source": [
    "num_rare = np.sum(np.sum(y_train[:,:7],axis=1)>0)\n",
    "print(num_rare)"
   ]
  },
  {
   "cell_type": "code",
   "execution_count": 105,
   "metadata": {
    "collapsed": false,
    "scrolled": true
   },
   "outputs": [],
   "source": [
    "model1.save(\"simple_major\")"
   ]
  },
  {
   "cell_type": "code",
   "execution_count": 58,
   "metadata": {
    "collapsed": false,
    "scrolled": true
   },
   "outputs": [
    {
     "name": "stderr",
     "output_type": "stream",
     "text": [
      "100%|██████████| 40479/40479 [00:53<00:00, 759.63it/s]"
     ]
    },
    {
     "name": "stdout",
     "output_type": "stream",
     "text": [
      "(2180, 32, 32, 3)\n",
      "(2180, 17)\n"
     ]
    },
    {
     "name": "stderr",
     "output_type": "stream",
     "text": [
      "\n"
     ]
    }
   ],
   "source": [
    "x_val = []\n",
    "x_train = []\n",
    "x_train = np.zeros((num_rare,32,32,3), np.float32)\n",
    "y_train = []\n",
    "\n",
    "df_train = pd.read_csv('train_v2.csv')\n",
    "\n",
    "labels = ['blow_down',\n",
    " 'bare_ground',\n",
    " 'conventional_mine',\n",
    " 'blooming',\n",
    " 'artisinal_mine',\n",
    " 'selective_logging',         \n",
    " 'slash_burn', \n",
    " 'cultivation',\n",
    " 'habitation',\n",
    " 'road',\n",
    " 'agriculture',\n",
    " 'water',\n",
    " 'primary',\n",
    " 'partly_cloudy', \n",
    " 'cloudy',\n",
    " 'clear',\n",
    " 'haze',]\n",
    "\n",
    "label_map = {l: i for i, l in enumerate(labels)}\n",
    "inv_label_map = {i: l for l, i in label_map.items()}\n",
    "\n",
    "i=0\n",
    "\n",
    "for f, tags in tqdm(df_train.values[:40479], miniters=1000):    \n",
    "    img = cv2.imread('train-jpg/{}.jpg'.format(f))\n",
    "    targets = np.zeros(17)\n",
    "    for t in tags.split(' '):\n",
    "        targets[label_map[t]] = 1 \n",
    "    if(np.sum(targets[:7])>0):\n",
    "        x_train[i,:,:,:] = np.array(cv2.resize(img, (32, 32)),np.float32)/255.#139 minimum size for inception\n",
    "        i+=1\n",
    "        y_train.append(targets)\n",
    "    \n",
    "y_train = np.array(y_train, np.uint8)\n",
    "\n",
    "print(x_train.shape)\n",
    "print(y_train.shape)"
   ]
  },
  {
   "cell_type": "code",
   "execution_count": 59,
   "metadata": {
    "collapsed": false,
    "scrolled": true
   },
   "outputs": [
    {
     "name": "stdout",
     "output_type": "stream",
     "text": [
      "(1962, 32, 32, 3)\n",
      "(1962, 7)\n",
      "(218, 32, 32, 3)\n",
      "(218, 7)\n"
     ]
    }
   ],
   "source": [
    "x_train -= train_mean\n",
    "x_train, x_val, y_train_3, y_val_3 = train_test_split(x_train,y_train[:,:7],test_size=0.1)\n",
    "print(x_train.shape)\n",
    "print(y_train_3.shape)\n",
    "print(x_val.shape)\n",
    "print(y_val_3.shape)"
   ]
  },
  {
   "cell_type": "code",
   "execution_count": 106,
   "metadata": {
    "collapsed": false,
    "scrolled": true
   },
   "outputs": [],
   "source": [
    "#model for the rarer classes\n",
    "from keras.models import load_model\n",
    "model2 = load_model(\"simple_major\")\n",
    "for layer in model2.layers[:-1]:\n",
    "    layer.trainable = False\n",
    "model2.layers[-1].trainable = True"
   ]
  },
  {
   "cell_type": "code",
   "execution_count": 107,
   "metadata": {
    "collapsed": false,
    "scrolled": true
   },
   "outputs": [
    {
     "name": "stdout",
     "output_type": "stream",
     "text": [
      "Epoch 1/10\n",
      "18s - loss: 0.6104 - acc: 0.8219 - val_loss: 0.2997 - val_acc: 0.8919\n",
      "Epoch 2/10\n",
      "9s - loss: 0.2733 - acc: 0.8929 - val_loss: 0.2459 - val_acc: 0.9024\n",
      "Epoch 3/10\n",
      "9s - loss: 0.2482 - acc: 0.9014 - val_loss: 0.2360 - val_acc: 0.9096\n",
      "Epoch 4/10\n",
      "9s - loss: 0.2396 - acc: 0.9028 - val_loss: 0.2318 - val_acc: 0.9050\n",
      "Epoch 5/10\n",
      "9s - loss: 0.2326 - acc: 0.9043 - val_loss: 0.2347 - val_acc: 0.9056\n",
      "Epoch 6/10\n",
      "9s - loss: 0.2273 - acc: 0.9067 - val_loss: 0.2280 - val_acc: 0.9083\n",
      "Epoch 7/10\n",
      "8s - loss: 0.2239 - acc: 0.9068 - val_loss: 0.2282 - val_acc: 0.9083\n",
      "Epoch 8/10\n",
      "9s - loss: 0.2196 - acc: 0.9092 - val_loss: 0.2260 - val_acc: 0.9056\n",
      "Epoch 9/10\n",
      "9s - loss: 0.2188 - acc: 0.9094 - val_loss: 0.2323 - val_acc: 0.9004\n",
      "Epoch 10/10\n",
      "9s - loss: 0.2164 - acc: 0.9097 - val_loss: 0.2255 - val_acc: 0.9043\n"
     ]
    },
    {
     "data": {
      "text/plain": [
       "<keras.callbacks.History at 0x7fb4d1995a90>"
      ]
     },
     "execution_count": 107,
     "metadata": {},
     "output_type": "execute_result"
    }
   ],
   "source": [
    "model2.compile(loss='binary_crossentropy', \n",
    "              optimizer='adam',\n",
    "              metrics=['accuracy'])\n",
    "\n",
    "model2.fit_generator(datagen.flow(x_train,y_train_3, batch_size = 128), validation_data=(x_val, y_val_3),\n",
    "                  verbose=2, epochs=10, steps_per_epoch=10*x_train.shape[0]/ 128, callbacks=callbacks,\n",
    "                  )#more steps per epoch to compensate for fewer images"
   ]
  },
  {
   "cell_type": "code",
   "execution_count": 108,
   "metadata": {
    "collapsed": false,
    "scrolled": true
   },
   "outputs": [
    {
     "name": "stdout",
     "output_type": "stream",
     "text": [
      "thresh: 0.05 \tF2 score: 0.71551565789\n",
      "thresh: 0.1 \tF2 score: 0.727870944041\n",
      "thresh: 0.15 \tF2 score: 0.738574307955\n",
      "thresh: 0.2 \tF2 score: 0.754034701282\n",
      "thresh: 0.25 \tF2 score: 0.746849480794\n",
      "thresh: 0.3 \tF2 score: 0.715722351043\n",
      "thresh: 0.35 \tF2 score: 0.684194755296\n"
     ]
    },
    {
     "name": "stderr",
     "output_type": "stream",
     "text": [
      "/home/cs231n/myVE35/lib/python3.5/site-packages/sklearn/metrics/classification.py:1113: UndefinedMetricWarning: F-score is ill-defined and being set to 0.0 in samples with no predicted labels.\n",
      "  'precision', 'predicted', average, warn_for)\n"
     ]
    }
   ],
   "source": [
    "y_pred = model2.predict(x_val,batch_size=128)\n",
    "for thresh in [0.05,0.1,0.15,0.2,0.25,0.3,0.35]:\n",
    "    print(\"thresh:\",thresh,\"\\tF2 score:\",fbeta_score(y_val_3, np.array(y_pred)>thresh, beta=2, average='samples'))"
   ]
  },
  {
   "cell_type": "code",
   "execution_count": 109,
   "metadata": {
    "collapsed": false,
    "scrolled": true
   },
   "outputs": [
    {
     "name": "stdout",
     "output_type": "stream",
     "text": [
      "Epoch 1/10\n",
      "18s - loss: 0.2144 - acc: 0.9105 - val_loss: 0.2261 - val_acc: 0.9050\n",
      "Epoch 2/10\n",
      "9s - loss: 0.2126 - acc: 0.9108 - val_loss: 0.2252 - val_acc: 0.9050\n",
      "Epoch 3/10\n",
      "9s - loss: 0.2119 - acc: 0.9113 - val_loss: 0.2230 - val_acc: 0.9063\n",
      "Epoch 4/10\n",
      "9s - loss: 0.2120 - acc: 0.9105 - val_loss: 0.2273 - val_acc: 0.9017\n",
      "Epoch 5/10\n",
      "9s - loss: 0.2091 - acc: 0.9123 - val_loss: 0.2237 - val_acc: 0.9069\n",
      "Epoch 6/10\n",
      "9s - loss: 0.2086 - acc: 0.9119 - val_loss: 0.2238 - val_acc: 0.9063\n"
     ]
    },
    {
     "data": {
      "text/plain": [
       "<keras.callbacks.History at 0x7fb4d17e4198>"
      ]
     },
     "execution_count": 109,
     "metadata": {},
     "output_type": "execute_result"
    }
   ],
   "source": [
    "model2.compile(loss='binary_crossentropy', \n",
    "              optimizer=Adam(lr=0.0005),\n",
    "              metrics=['accuracy']) \n",
    "model2.fit_generator(datagen.flow(x_train,y_train_3, batch_size = 128), validation_data=(x_val, y_val_3),\n",
    "                  verbose=2, epochs=10, steps_per_epoch=10*x_train.shape[0]/ 128, callbacks=callbacks,\n",
    "                  )"
   ]
  },
  {
   "cell_type": "code",
   "execution_count": 110,
   "metadata": {
    "collapsed": false,
    "scrolled": true
   },
   "outputs": [
    {
     "name": "stdout",
     "output_type": "stream",
     "text": [
      "thresh: 0.05 \tF2 score: 0.723449365365\n",
      "thresh: 0.1 \tF2 score: 0.734549376465\n",
      "thresh: 0.15 \tF2 score: 0.74807321883\n",
      "thresh: 0.2 \tF2 score: 0.749192703321\n",
      "thresh: 0.25 \tF2 score: 0.736384410696\n",
      "thresh: 0.3 \tF2 score: 0.701706041156\n",
      "thresh: 0.35 \tF2 score: 0.665846131442\n"
     ]
    },
    {
     "name": "stderr",
     "output_type": "stream",
     "text": [
      "/home/cs231n/myVE35/lib/python3.5/site-packages/sklearn/metrics/classification.py:1113: UndefinedMetricWarning: F-score is ill-defined and being set to 0.0 in samples with no predicted labels.\n",
      "  'precision', 'predicted', average, warn_for)\n"
     ]
    }
   ],
   "source": [
    "y_pred = model2.predict(x_val,batch_size=128)\n",
    "for thresh in [0.05,0.1,0.15,0.2,0.25,0.3,0.35]:\n",
    "    print(\"thresh:\",thresh,\"\\tF2 score:\",fbeta_score(y_val_3, np.array(y_pred)>thresh, beta=2, average='samples'))"
   ]
  },
  {
   "cell_type": "code",
   "execution_count": 111,
   "metadata": {
    "collapsed": false,
    "scrolled": true
   },
   "outputs": [
    {
     "name": "stdout",
     "output_type": "stream",
     "text": [
      "Epoch 1/10\n",
      "17s - loss: 0.2087 - acc: 0.9123 - val_loss: 0.2252 - val_acc: 0.9030\n",
      "Epoch 2/10\n",
      "9s - loss: 0.2079 - acc: 0.9120 - val_loss: 0.2248 - val_acc: 0.9043\n",
      "Epoch 3/10\n",
      "9s - loss: 0.2086 - acc: 0.9117 - val_loss: 0.2238 - val_acc: 0.9050\n",
      "Epoch 4/10\n",
      "9s - loss: 0.2078 - acc: 0.9124 - val_loss: 0.2242 - val_acc: 0.9050\n",
      "Epoch 5/10\n",
      "9s - loss: 0.2073 - acc: 0.9120 - val_loss: 0.2244 - val_acc: 0.9043\n",
      "Epoch 6/10\n",
      "9s - loss: 0.2068 - acc: 0.9127 - val_loss: 0.2243 - val_acc: 0.9043\n"
     ]
    },
    {
     "data": {
      "text/plain": [
       "<keras.callbacks.History at 0x7fb4d16256d8>"
      ]
     },
     "execution_count": 111,
     "metadata": {},
     "output_type": "execute_result"
    }
   ],
   "source": [
    "model2.compile(loss='binary_crossentropy', \n",
    "              optimizer=Adam(lr=0.0002),\n",
    "              metrics=['accuracy']) \n",
    "model2.fit_generator(datagen.flow(x_train,y_train_3, batch_size = 128), validation_data=(x_val, y_val_3),\n",
    "                  verbose=2, epochs=10, steps_per_epoch=10*x_train.shape[0]/ 128, callbacks=callbacks,\n",
    "                  )"
   ]
  },
  {
   "cell_type": "code",
   "execution_count": 112,
   "metadata": {
    "collapsed": false,
    "scrolled": true
   },
   "outputs": [
    {
     "name": "stdout",
     "output_type": "stream",
     "text": [
      "thresh: 0.05 \tF2 score: 0.725217856812\n",
      "thresh: 0.1 \tF2 score: 0.734775259145\n",
      "thresh: 0.15 \tF2 score: 0.741195539934\n",
      "thresh: 0.2 \tF2 score: 0.744248106633\n",
      "thresh: 0.25 \tF2 score: 0.754478192552\n",
      "thresh: 0.3 \tF2 score: 0.709132865096\n",
      "thresh: 0.35 \tF2 score: 0.683721477299\n"
     ]
    },
    {
     "name": "stderr",
     "output_type": "stream",
     "text": [
      "/home/cs231n/myVE35/lib/python3.5/site-packages/sklearn/metrics/classification.py:1113: UndefinedMetricWarning: F-score is ill-defined and being set to 0.0 in samples with no predicted labels.\n",
      "  'precision', 'predicted', average, warn_for)\n"
     ]
    }
   ],
   "source": [
    "y_pred = model2.predict(x_val,batch_size=128)\n",
    "for thresh in [0.05,0.1,0.15,0.2,0.25,0.3,0.35]:\n",
    "    print(\"thresh:\",thresh,\"\\tF2 score:\",fbeta_score(y_val_3, np.array(y_pred)>thresh, beta=2, average='samples'))"
   ]
  },
  {
   "cell_type": "code",
   "execution_count": 117,
   "metadata": {
    "collapsed": false
   },
   "outputs": [
    {
     "data": {
      "text/plain": [
       "[<keras.layers.core.Dense at 0x7fb4d077de48>,\n",
       " <keras.layers.normalization.BatchNormalization at 0x7fb4d06c25f8>,\n",
       " <keras.layers.core.Activation at 0x7fb4d06d4b38>,\n",
       " <keras.layers.core.Dense at 0x7fb4d06d4a20>,\n",
       " <keras.layers.normalization.BatchNormalization at 0x7fb4d069be80>,\n",
       " <keras.layers.core.Activation at 0x7fb4d0651f98>,\n",
       " <keras.layers.core.Dense at 0x7fb4d0651e80>]"
      ]
     },
     "execution_count": 117,
     "metadata": {},
     "output_type": "execute_result"
    }
   ],
   "source": [
    "for layer in model2.layers[-7:]:\n",
    "    layer.trainable = True\n",
    "model2.layers[-7:]"
   ]
  },
  {
   "cell_type": "code",
   "execution_count": 118,
   "metadata": {
    "collapsed": false,
    "scrolled": true
   },
   "outputs": [
    {
     "name": "stdout",
     "output_type": "stream",
     "text": [
      "Epoch 1/10\n",
      "19s - loss: 0.2017 - acc: 0.9149 - val_loss: 0.2204 - val_acc: 0.9050\n",
      "Epoch 2/10\n",
      "10s - loss: 0.1935 - acc: 0.9174 - val_loss: 0.2186 - val_acc: 0.9063\n",
      "Epoch 3/10\n",
      "10s - loss: 0.1868 - acc: 0.9202 - val_loss: 0.2164 - val_acc: 0.9050\n",
      "Epoch 4/10\n",
      "10s - loss: 0.1822 - acc: 0.9222 - val_loss: 0.2163 - val_acc: 0.9069\n",
      "Epoch 5/10\n",
      "10s - loss: 0.1767 - acc: 0.9248 - val_loss: 0.2147 - val_acc: 0.9102\n",
      "Epoch 6/10\n",
      "10s - loss: 0.1735 - acc: 0.9256 - val_loss: 0.2155 - val_acc: 0.9089\n",
      "Epoch 7/10\n",
      "10s - loss: 0.1673 - acc: 0.9287 - val_loss: 0.2157 - val_acc: 0.9122\n",
      "Epoch 8/10\n",
      "10s - loss: 0.1637 - acc: 0.9309 - val_loss: 0.2178 - val_acc: 0.9083\n"
     ]
    },
    {
     "data": {
      "text/plain": [
       "<keras.callbacks.History at 0x7fb4d10def28>"
      ]
     },
     "execution_count": 118,
     "metadata": {},
     "output_type": "execute_result"
    }
   ],
   "source": [
    "model2.compile(loss='binary_crossentropy', \n",
    "              optimizer=Adam(lr=0.0001),\n",
    "              metrics=['accuracy']) \n",
    "model2.fit_generator(datagen.flow(x_train,y_train_3, batch_size = 128), validation_data=(x_val, y_val_3),\n",
    "                  verbose=2, epochs=10, steps_per_epoch=10*x_train.shape[0]/ 128, callbacks=callbacks,\n",
    "                  )"
   ]
  },
  {
   "cell_type": "code",
   "execution_count": 119,
   "metadata": {
    "collapsed": false,
    "scrolled": true
   },
   "outputs": [
    {
     "name": "stdout",
     "output_type": "stream",
     "text": [
      "thresh: 0.05 \tF2 score: 0.754225164489\n",
      "thresh: 0.1 \tF2 score: 0.759764254604\n",
      "thresh: 0.15 \tF2 score: 0.766460476323\n",
      "thresh: 0.2 \tF2 score: 0.765727646462\n",
      "thresh: 0.25 \tF2 score: 0.74368215882\n",
      "thresh: 0.3 \tF2 score: 0.719763417011\n",
      "thresh: 0.35 \tF2 score: 0.682592891308\n"
     ]
    },
    {
     "name": "stderr",
     "output_type": "stream",
     "text": [
      "/home/cs231n/myVE35/lib/python3.5/site-packages/sklearn/metrics/classification.py:1113: UndefinedMetricWarning: F-score is ill-defined and being set to 0.0 in samples with no predicted labels.\n",
      "  'precision', 'predicted', average, warn_for)\n"
     ]
    }
   ],
   "source": [
    "y_pred = model2.predict(x_val,batch_size=128)\n",
    "bestthresh = 0\n",
    "bestF2score = 0\n",
    "for thresh in [0.05,0.1,0.15,0.2,0.25,0.3,0.35]:\n",
    "    F2score = fbeta_score(y_val_3, np.array(y_pred)>thresh, beta=2, average='samples')\n",
    "    print(\"thresh:\",thresh,\"\\tF2 score:\",F2score)\n",
    "    if F2score > bestF2score:\n",
    "        bestthresh = thresh\n",
    "        bestF2score = F2score    "
   ]
  },
  {
   "cell_type": "code",
   "execution_count": 121,
   "metadata": {
    "collapsed": false,
    "scrolled": true
   },
   "outputs": [
    {
     "data": {
      "text/html": [
       "<div>\n",
       "<table border=\"1\" class=\"dataframe\">\n",
       "  <thead>\n",
       "    <tr style=\"text-align: right;\">\n",
       "      <th></th>\n",
       "      <th>FN</th>\n",
       "      <th>FP</th>\n",
       "      <th>TN</th>\n",
       "      <th>TP</th>\n",
       "      <th>Total</th>\n",
       "    </tr>\n",
       "  </thead>\n",
       "  <tbody>\n",
       "    <tr>\n",
       "      <th>blow_down</th>\n",
       "      <td>5</td>\n",
       "      <td>14</td>\n",
       "      <td>195</td>\n",
       "      <td>4</td>\n",
       "      <td>9</td>\n",
       "    </tr>\n",
       "    <tr>\n",
       "      <th>bare_ground</th>\n",
       "      <td>8</td>\n",
       "      <td>57</td>\n",
       "      <td>64</td>\n",
       "      <td>89</td>\n",
       "      <td>97</td>\n",
       "    </tr>\n",
       "    <tr>\n",
       "      <th>conventional_mine</th>\n",
       "      <td>0</td>\n",
       "      <td>13</td>\n",
       "      <td>196</td>\n",
       "      <td>9</td>\n",
       "      <td>9</td>\n",
       "    </tr>\n",
       "    <tr>\n",
       "      <th>blooming</th>\n",
       "      <td>1</td>\n",
       "      <td>24</td>\n",
       "      <td>166</td>\n",
       "      <td>27</td>\n",
       "      <td>28</td>\n",
       "    </tr>\n",
       "    <tr>\n",
       "      <th>artisinal_mine</th>\n",
       "      <td>5</td>\n",
       "      <td>18</td>\n",
       "      <td>161</td>\n",
       "      <td>34</td>\n",
       "      <td>39</td>\n",
       "    </tr>\n",
       "    <tr>\n",
       "      <th>selective_logging</th>\n",
       "      <td>3</td>\n",
       "      <td>39</td>\n",
       "      <td>154</td>\n",
       "      <td>22</td>\n",
       "      <td>25</td>\n",
       "    </tr>\n",
       "    <tr>\n",
       "      <th>slash_burn</th>\n",
       "      <td>9</td>\n",
       "      <td>25</td>\n",
       "      <td>172</td>\n",
       "      <td>12</td>\n",
       "      <td>21</td>\n",
       "    </tr>\n",
       "  </tbody>\n",
       "</table>\n",
       "</div>"
      ],
      "text/plain": [
       "                   FN  FP   TN  TP  Total\n",
       "blow_down           5  14  195   4      9\n",
       "bare_ground         8  57   64  89     97\n",
       "conventional_mine   0  13  196   9      9\n",
       "blooming            1  24  166  27     28\n",
       "artisinal_mine      5  18  161  34     39\n",
       "selective_logging   3  39  154  22     25\n",
       "slash_burn          9  25  172  12     21"
      ]
     },
     "execution_count": 121,
     "metadata": {},
     "output_type": "execute_result"
    }
   ],
   "source": [
    "total,tp,tn,fp,fn = multilabelmetrics(y_val_3,np.array(y_pred)>bestthresh)\n",
    "d = {'Total':total,'TP':tp,'TN':tn,'FP':fp,'FN':fn}\n",
    "pd.DataFrame(d, index=labels[:7])"
   ]
  },
  {
   "cell_type": "code",
   "execution_count": 122,
   "metadata": {
    "collapsed": false,
    "scrolled": true
   },
   "outputs": [],
   "source": [
    "model2.save(\"simple_rare\")"
   ]
  },
  {
   "cell_type": "code",
   "execution_count": 126,
   "metadata": {
    "collapsed": false,
    "scrolled": true
   },
   "outputs": [
    {
     "name": "stderr",
     "output_type": "stream",
     "text": [
      "100%|██████████| 40479/40479 [00:54<00:00, 737.27it/s]"
     ]
    },
    {
     "name": "stdout",
     "output_type": "stream",
     "text": [
      "(40479, 32, 32, 3)\n",
      "(40479, 17)\n"
     ]
    },
    {
     "name": "stderr",
     "output_type": "stream",
     "text": [
      "\n"
     ]
    }
   ],
   "source": [
    "#F2 score on training set\n",
    "x_val = []\n",
    "x_train = []\n",
    "x_train = np.zeros((40479,32,32,3), np.float32)\n",
    "y_train = []\n",
    "\n",
    "df_train = pd.read_csv('train_v2.csv')\n",
    "\n",
    "labels = ['blow_down',\n",
    " 'bare_ground',\n",
    " 'conventional_mine',\n",
    " 'blooming',\n",
    " 'artisinal_mine',\n",
    " 'selective_logging',         \n",
    " 'slash_burn', \n",
    " 'cultivation',\n",
    " 'habitation',\n",
    " 'road',\n",
    " 'agriculture',\n",
    " 'water',\n",
    " 'primary',\n",
    " 'partly_cloudy', \n",
    " 'cloudy',\n",
    " 'clear',\n",
    " 'haze',]\n",
    "\n",
    "label_map = {l: i for i, l in enumerate(labels)}\n",
    "inv_label_map = {i: l for l, i in label_map.items()}\n",
    "\n",
    "i=0\n",
    "\n",
    "for f, tags in tqdm(df_train.values[:40479], miniters=1000):    \n",
    "    img = cv2.imread('train-jpg/{}.jpg'.format(f))\n",
    "    targets = np.zeros(17)\n",
    "    for t in tags.split(' '):\n",
    "        targets[label_map[t]] = 1 \n",
    "    x_train[i,:,:,:] = np.array(cv2.resize(img, (32, 32)),np.float32)/255.#139 minimum size for inception\n",
    "    i+=1\n",
    "    y_train.append(targets)\n",
    "\n",
    "y_train = np.array(y_train, np.uint8)\n",
    "\n",
    "print(x_train.shape)\n",
    "print(y_train.shape)"
   ]
  },
  {
   "cell_type": "code",
   "execution_count": 127,
   "metadata": {
    "collapsed": false,
    "scrolled": true
   },
   "outputs": [],
   "source": [
    "x_train -= train_mean"
   ]
  },
  {
   "cell_type": "code",
   "execution_count": 128,
   "metadata": {
    "collapsed": false,
    "scrolled": true
   },
   "outputs": [],
   "source": [
    "y = model.predict(x_train,batch_size=128)\n",
    "y1 = model1.predict(x_train,batch_size=128)\n",
    "y2 = model2.predict(x_train,batch_size=128)"
   ]
  },
  {
   "cell_type": "code",
   "execution_count": 129,
   "metadata": {
    "collapsed": false
   },
   "outputs": [
    {
     "name": "stdout",
     "output_type": "stream",
     "text": [
      "(40479, 4)\n",
      "(40479, 7)\n",
      "(40479, 7)\n"
     ]
    }
   ],
   "source": [
    "print(y.shape)\n",
    "print(y1.shape)\n",
    "print(y2.shape)"
   ]
  },
  {
   "cell_type": "code",
   "execution_count": 145,
   "metadata": {
    "collapsed": false
   },
   "outputs": [],
   "source": [
    "f2scorelist = []\n",
    "for thresh in [0.05,0.1,0.15,0.2,0.25]:\n",
    "    for thresh1 in [0.05,0.1,0.15,0.2,0.25]:\n",
    "        for thresh2 in [0.05,0.1,0.15,0.2,0.25]:\n",
    "            for thresh3 in [0.05,0.1,0.15,0.2,0.25]:\n",
    "                y_pred = combine_predictions(x_train,y,y1,y2,thresh,thresh1,thresh2,thresh3)\n",
    "                f2scorelist.append([thresh,thresh1,thresh2,thresh3,fbeta_score(y_train,y_pred , beta=2, average='samples')])"
   ]
  },
  {
   "cell_type": "code",
   "execution_count": 146,
   "metadata": {
    "collapsed": false
   },
   "outputs": [
    {
     "data": {
      "text/plain": [
       "[[0.05, 0.05, 0.05, 0.05, 0.88487940590272474],\n",
       " [0.05, 0.05, 0.05, 0.1, 0.89264315244330938],\n",
       " [0.05, 0.05, 0.05, 0.15, 0.89551484978156226],\n",
       " [0.05, 0.05, 0.05, 0.2, 0.8967728986636857],\n",
       " [0.05, 0.05, 0.05, 0.25, 0.89727301553856686],\n",
       " [0.05, 0.05, 0.1, 0.05, 0.88817938941534058],\n",
       " [0.05, 0.05, 0.1, 0.1, 0.89433195462957693],\n",
       " [0.05, 0.05, 0.1, 0.15, 0.89655755911311741],\n",
       " [0.05, 0.05, 0.1, 0.2, 0.89752277075214559],\n",
       " [0.05, 0.05, 0.1, 0.25, 0.89782702753133936],\n",
       " [0.05, 0.05, 0.15, 0.05, 0.89043734766218718],\n",
       " [0.05, 0.05, 0.15, 0.1, 0.89545733981985198],\n",
       " [0.05, 0.05, 0.15, 0.15, 0.89724853599324561],\n",
       " [0.05, 0.05, 0.15, 0.2, 0.89801332452067406],\n",
       " [0.05, 0.05, 0.15, 0.25, 0.89816409480216275],\n",
       " [0.05, 0.05, 0.2, 0.05, 0.89197129822226406],\n",
       " [0.05, 0.05, 0.2, 0.1, 0.89627251278860909],\n",
       " [0.05, 0.05, 0.2, 0.15, 0.89772610563198907],\n",
       " [0.05, 0.05, 0.2, 0.2, 0.89831469983139589],\n",
       " [0.05, 0.05, 0.2, 0.25, 0.89838100151963562],\n",
       " [0.05, 0.05, 0.25, 0.05, 0.89304248756717253],\n",
       " [0.05, 0.05, 0.25, 0.1, 0.89676665592568883],\n",
       " [0.05, 0.05, 0.25, 0.15, 0.89796748548045902],\n",
       " [0.05, 0.05, 0.25, 0.2, 0.89846183583524086],\n",
       " [0.05, 0.05, 0.25, 0.25, 0.89846242109178476],\n",
       " [0.05, 0.1, 0.05, 0.05, 0.8962403658915914],\n",
       " [0.05, 0.1, 0.05, 0.1, 0.90433958570662942],\n",
       " [0.05, 0.1, 0.05, 0.15, 0.90736199162665487],\n",
       " [0.05, 0.1, 0.05, 0.2, 0.9086899823989919],\n",
       " [0.05, 0.1, 0.05, 0.25, 0.90923327015040867],\n",
       " [0.05, 0.1, 0.1, 0.05, 0.89967448955380025],\n",
       " [0.05, 0.1, 0.1, 0.1, 0.9061055944453339],\n",
       " [0.05, 0.1, 0.1, 0.15, 0.908456369386341],\n",
       " [0.05, 0.1, 0.1, 0.2, 0.90947764745536841],\n",
       " [0.05, 0.1, 0.1, 0.25, 0.90981570798481703],\n",
       " [0.05, 0.1, 0.15, 0.05, 0.90202426871903207],\n",
       " [0.05, 0.1, 0.15, 0.1, 0.90728005363702924],\n",
       " [0.05, 0.1, 0.15, 0.15, 0.90918045518584012],\n",
       " [0.05, 0.1, 0.15, 0.2, 0.90999332044492554],\n",
       " [0.05, 0.1, 0.15, 0.25, 0.910172727608202],\n",
       " [0.05, 0.1, 0.2, 0.05, 0.90363259539853746],\n",
       " [0.05, 0.1, 0.2, 0.1, 0.90813873182231197],\n",
       " [0.05, 0.1, 0.2, 0.15, 0.90968544370754456],\n",
       " [0.05, 0.1, 0.2, 0.2, 0.91031492417187254],\n",
       " [0.05, 0.1, 0.2, 0.25, 0.91040348108195179],\n",
       " [0.05, 0.1, 0.25, 0.05, 0.90475428769696087],\n",
       " [0.05, 0.1, 0.25, 0.1, 0.90865778556135357],\n",
       " [0.05, 0.1, 0.25, 0.15, 0.90994174404269013],\n",
       " [0.05, 0.1, 0.25, 0.2, 0.91047299582185726],\n",
       " [0.05, 0.1, 0.25, 0.25, 0.91049311202550454],\n",
       " [0.05, 0.15, 0.05, 0.05, 0.90075396076607783],\n",
       " [0.05, 0.15, 0.05, 0.1, 0.90903248015480564],\n",
       " [0.05, 0.15, 0.05, 0.15, 0.91212655077119098],\n",
       " [0.05, 0.15, 0.05, 0.2, 0.91349679677081586],\n",
       " [0.05, 0.15, 0.05, 0.25, 0.91406427401403467],\n",
       " [0.05, 0.15, 0.1, 0.05, 0.90426690938096643],\n",
       " [0.05, 0.15, 0.1, 0.1, 0.91084698894320226],\n",
       " [0.05, 0.15, 0.1, 0.15, 0.91325678228670926],\n",
       " [0.05, 0.15, 0.1, 0.2, 0.91431231065220364],\n",
       " [0.05, 0.15, 0.1, 0.25, 0.91466793043458727],\n",
       " [0.05, 0.15, 0.15, 0.05, 0.90666438059044152],\n",
       " [0.05, 0.15, 0.15, 0.1, 0.91204869781794573],\n",
       " [0.05, 0.15, 0.15, 0.15, 0.91400011859886465],\n",
       " [0.05, 0.15, 0.15, 0.2, 0.91484233809999405],\n",
       " [0.05, 0.15, 0.15, 0.25, 0.91503569260373852],\n",
       " [0.05, 0.15, 0.2, 0.05, 0.90830534459450385],\n",
       " [0.05, 0.15, 0.2, 0.1, 0.91292712252302444],\n",
       " [0.05, 0.15, 0.2, 0.15, 0.91451804944568282],\n",
       " [0.05, 0.15, 0.2, 0.2, 0.91517265566600325],\n",
       " [0.05, 0.15, 0.2, 0.25, 0.91527234238231592],\n",
       " [0.05, 0.15, 0.25, 0.05, 0.90945983923621365],\n",
       " [0.05, 0.15, 0.25, 0.1, 0.91346245253450631],\n",
       " [0.05, 0.15, 0.25, 0.15, 0.91478503059543192],\n",
       " [0.05, 0.15, 0.25, 0.2, 0.91533663301253831],\n",
       " [0.05, 0.15, 0.25, 0.25, 0.91536647223745149],\n",
       " [0.05, 0.2, 0.05, 0.05, 0.90159836275636884],\n",
       " [0.05, 0.2, 0.05, 0.1, 0.9099770881351561],\n",
       " [0.05, 0.2, 0.05, 0.15, 0.91310821653035723],\n",
       " [0.05, 0.2, 0.05, 0.2, 0.91450858654671752],\n",
       " [0.05, 0.2, 0.05, 0.25, 0.91509012051255811],\n",
       " [0.05, 0.2, 0.1, 0.05, 0.90516004026704688],\n",
       " [0.05, 0.2, 0.1, 0.1, 0.91182275324189832],\n",
       " [0.05, 0.2, 0.1, 0.15, 0.91426150817105556],\n",
       " [0.05, 0.2, 0.1, 0.2, 0.915341592363908],\n",
       " [0.05, 0.2, 0.1, 0.25, 0.91570779494590904],\n",
       " [0.05, 0.2, 0.15, 0.05, 0.90758066189834186],\n",
       " [0.05, 0.2, 0.15, 0.1, 0.91303635284840579],\n",
       " [0.05, 0.2, 0.15, 0.15, 0.91501362856355317],\n",
       " [0.05, 0.2, 0.15, 0.2, 0.91587712066429727],\n",
       " [0.05, 0.2, 0.15, 0.25, 0.91607824658421866],\n",
       " [0.05, 0.2, 0.2, 0.05, 0.9092411798106248],\n",
       " [0.05, 0.2, 0.2, 0.1, 0.91392552153686923],\n",
       " [0.05, 0.2, 0.2, 0.15, 0.91553909078402196],\n",
       " [0.05, 0.2, 0.2, 0.2, 0.91621270126981524],\n",
       " [0.05, 0.2, 0.2, 0.25, 0.91631900732491089],\n",
       " [0.05, 0.2, 0.25, 0.05, 0.91040718503641938],\n",
       " [0.05, 0.2, 0.25, 0.1, 0.91446689736681452],\n",
       " [0.05, 0.2, 0.25, 0.15, 0.91580822091787661],\n",
       " [0.05, 0.2, 0.25, 0.2, 0.91637744665254972],\n",
       " [0.05, 0.2, 0.25, 0.25, 0.91641283246013128],\n",
       " [0.05, 0.25, 0.05, 0.05, 0.90080031129364102],\n",
       " [0.05, 0.25, 0.05, 0.1, 0.909236033779664],\n",
       " [0.05, 0.25, 0.05, 0.15, 0.91239072647544739],\n",
       " [0.05, 0.25, 0.05, 0.2, 0.91379889139072212],\n",
       " [0.05, 0.25, 0.05, 0.25, 0.91438405820618551],\n",
       " [0.05, 0.25, 0.1, 0.05, 0.90438549434832149],\n",
       " [0.05, 0.25, 0.1, 0.1, 0.91109539613919766],\n",
       " [0.05, 0.25, 0.1, 0.15, 0.91355423333609431],\n",
       " [0.05, 0.25, 0.1, 0.2, 0.91464051089892584],\n",
       " [0.05, 0.25, 0.1, 0.25, 0.91500828885924068],\n",
       " [0.05, 0.25, 0.15, 0.05, 0.9068242428326605],\n",
       " [0.05, 0.25, 0.15, 0.1, 0.91231884788421036],\n",
       " [0.05, 0.25, 0.15, 0.15, 0.91431336304514577],\n",
       " [0.05, 0.25, 0.15, 0.2, 0.91518148462587356],\n",
       " [0.05, 0.25, 0.15, 0.25, 0.91538168219410543],\n",
       " [0.05, 0.25, 0.2, 0.05, 0.90848979744029967],\n",
       " [0.05, 0.25, 0.2, 0.1, 0.91321085182494366],\n",
       " [0.05, 0.25, 0.2, 0.15, 0.91483935825397689],\n",
       " [0.05, 0.25, 0.2, 0.2, 0.91551675981709435],\n",
       " [0.05, 0.25, 0.2, 0.25, 0.91562164686856073],\n",
       " [0.05, 0.25, 0.25, 0.05, 0.90966371580096095],\n",
       " [0.05, 0.25, 0.25, 0.1, 0.91375576935828684],\n",
       " [0.05, 0.25, 0.25, 0.15, 0.91510929151519493],\n",
       " [0.05, 0.25, 0.25, 0.2, 0.91568278470627951],\n",
       " [0.05, 0.25, 0.25, 0.25, 0.91571684580983315],\n",
       " [0.1, 0.05, 0.05, 0.05, 0.88886868816991949],\n",
       " [0.1, 0.05, 0.05, 0.1, 0.89669076426293015],\n",
       " [0.1, 0.05, 0.05, 0.15, 0.89957632484033911],\n",
       " [0.1, 0.05, 0.05, 0.2, 0.90084242717470686],\n",
       " [0.1, 0.05, 0.05, 0.25, 0.90134775643286391],\n",
       " [0.1, 0.05, 0.1, 0.05, 0.89218648671572498],\n",
       " [0.1, 0.05, 0.1, 0.1, 0.89838732882892491],\n",
       " [0.1, 0.05, 0.1, 0.15, 0.9006240943216014],\n",
       " [0.1, 0.05, 0.1, 0.2, 0.90159565888504722],\n",
       " [0.1, 0.05, 0.1, 0.25, 0.90190368870438398],\n",
       " [0.1, 0.05, 0.15, 0.05, 0.8944555207457886],\n",
       " [0.1, 0.05, 0.15, 0.1, 0.89951694790052628],\n",
       " [0.1, 0.05, 0.15, 0.15, 0.90131830689744885],\n",
       " [0.1, 0.05, 0.15, 0.2, 0.90208898875128052],\n",
       " [0.1, 0.05, 0.15, 0.25, 0.90224251166288161],\n",
       " [0.1, 0.05, 0.2, 0.05, 0.89599753856110598],\n",
       " [0.1, 0.05, 0.2, 0.1, 0.90033560232126797],\n",
       " [0.1, 0.05, 0.2, 0.15, 0.90179872025590435],\n",
       " [0.1, 0.05, 0.2, 0.2, 0.90239265903756793],\n",
       " [0.1, 0.05, 0.2, 0.25, 0.90246111042853361],\n",
       " [0.1, 0.05, 0.25, 0.05, 0.89707621471192367],\n",
       " [0.1, 0.05, 0.25, 0.1, 0.90083207575780588],\n",
       " [0.1, 0.05, 0.25, 0.15, 0.90204119692488105],\n",
       " [0.1, 0.05, 0.25, 0.2, 0.90254021680904151],\n",
       " [0.1, 0.05, 0.25, 0.25, 0.90254245262509669],\n",
       " [0.1, 0.1, 0.05, 0.05, 0.90044449187546949],\n",
       " [0.1, 0.1, 0.05, 0.1, 0.90860798677026633],\n",
       " [0.1, 0.1, 0.05, 0.15, 0.91164540846653574],\n",
       " [0.1, 0.1, 0.05, 0.2, 0.91298234407937073],\n",
       " [0.1, 0.1, 0.05, 0.25, 0.91353120705656576],\n",
       " [0.1, 0.1, 0.1, 0.05, 0.90389790070688691],\n",
       " [0.1, 0.1, 0.1, 0.1, 0.91038242915596113],\n",
       " [0.1, 0.1, 0.1, 0.15, 0.91274527534058691],\n",
       " [0.1, 0.1, 0.1, 0.2, 0.91377361349068564],\n",
       " [0.1, 0.1, 0.1, 0.25, 0.91411576404098405],\n",
       " [0.1, 0.1, 0.15, 0.05, 0.90625985302327816],\n",
       " [0.1, 0.1, 0.15, 0.1, 0.91156170843645856],\n",
       " [0.1, 0.1, 0.15, 0.15, 0.91347307679025658],\n",
       " [0.1, 0.1, 0.15, 0.2, 0.91429246034921963],\n",
       " [0.1, 0.1, 0.15, 0.25, 0.91447481891345817],\n",
       " [0.1, 0.1, 0.2, 0.05, 0.90787710790078857],\n",
       " [0.1, 0.1, 0.2, 0.1, 0.91242417827322586],\n",
       " [0.1, 0.1, 0.2, 0.15, 0.91398116387871042],\n",
       " [0.1, 0.1, 0.2, 0.2, 0.91461654731084807],\n",
       " [0.1, 0.1, 0.2, 0.25, 0.91470741917074361],\n",
       " [0.1, 0.1, 0.25, 0.05, 0.90900710036920607],\n",
       " [0.1, 0.1, 0.25, 0.1, 0.91294578916040248],\n",
       " [0.1, 0.1, 0.25, 0.15, 0.91423870849583133],\n",
       " [0.1, 0.1, 0.25, 0.2, 0.91477511295964176],\n",
       " [0.1, 0.1, 0.25, 0.25, 0.91479703846906779],\n",
       " [0.1, 0.15, 0.05, 0.05, 0.90509473676358532],\n",
       " [0.1, 0.15, 0.05, 0.1, 0.91344098881482183],\n",
       " [0.1, 0.15, 0.05, 0.15, 0.91655075129129004],\n",
       " [0.1, 0.15, 0.05, 0.2, 0.91793045241272686],\n",
       " [0.1, 0.15, 0.05, 0.25, 0.91850383127634794],\n",
       " [0.1, 0.15, 0.1, 0.05, 0.90862806950683805],\n",
       " [0.1, 0.15, 0.1, 0.1, 0.91526448391439419],\n",
       " [0.1, 0.15, 0.1, 0.15, 0.9176868542903367],\n",
       " [0.1, 0.15, 0.1, 0.2, 0.91874987426570875],\n",
       " [0.1, 0.15, 0.1, 0.25, 0.91910981786893176],\n",
       " [0.1, 0.15, 0.15, 0.05, 0.91103836097100366],\n",
       " [0.1, 0.15, 0.15, 0.1, 0.91647124308079309],\n",
       " [0.1, 0.15, 0.15, 0.15, 0.91843413366426752],\n",
       " [0.1, 0.15, 0.15, 0.2, 0.91928327948832123],\n",
       " [0.1, 0.15, 0.15, 0.25, 0.91947974965230039],\n",
       " [0.1, 0.15, 0.2, 0.05, 0.9126886821674316],\n",
       " [0.1, 0.15, 0.2, 0.1, 0.91735359545054218],\n",
       " [0.1, 0.15, 0.2, 0.15, 0.91895517827129336],\n",
       " [0.1, 0.15, 0.2, 0.2, 0.9196161055406844],\n",
       " [0.1, 0.15, 0.2, 0.25, 0.91971826792748301],\n",
       " [0.1, 0.15, 0.25, 0.05, 0.91385180087224838],\n",
       " [0.1, 0.15, 0.25, 0.1, 0.91789158429410378],\n",
       " [0.1, 0.15, 0.25, 0.15, 0.91922348164589729],\n",
       " [0.1, 0.15, 0.25, 0.2, 0.91978059482009322],\n",
       " [0.1, 0.15, 0.25, 0.25, 0.91981239916438196],\n",
       " [0.1, 0.2, 0.05, 0.05, 0.90599187529273295],\n",
       " [0.1, 0.2, 0.05, 0.1, 0.91444157592878428],\n",
       " [0.1, 0.2, 0.05, 0.15, 0.91758937338260438],\n",
       " [0.1, 0.2, 0.05, 0.2, 0.91899947808485716],\n",
       " [0.1, 0.2, 0.05, 0.25, 0.9195876374063735],\n",
       " [0.1, 0.2, 0.1, 0.05, 0.90957495132235189],\n",
       " [0.1, 0.2, 0.1, 0.1, 0.91629673161453162],\n",
       " [0.1, 0.2, 0.1, 0.15, 0.91874888711313352],\n",
       " [0.1, 0.2, 0.1, 0.2, 0.91983665986987795],\n",
       " [0.1, 0.2, 0.1, 0.25, 0.9202077321822878],\n",
       " [0.1, 0.2, 0.15, 0.05, 0.91200882445130282],\n",
       " [0.1, 0.2, 0.15, 0.1, 0.91751557810192952],\n",
       " [0.1, 0.2, 0.15, 0.15, 0.91950510680891462],\n",
       " [0.1, 0.2, 0.15, 0.2, 0.92037571728599654],\n",
       " [0.1, 0.2, 0.15, 0.25, 0.9205803998074209],\n",
       " [0.1, 0.2, 0.2, 0.05, 0.91367916885879708],\n",
       " [0.1, 0.2, 0.2, 0.1, 0.91840893799625301],\n",
       " [0.1, 0.2, 0.2, 0.15, 0.92003384472435334],\n",
       " [0.1, 0.2, 0.2, 0.2, 0.92071395982399773],\n",
       " [0.1, 0.2, 0.2, 0.25, 0.9208231582019768],\n",
       " [0.1, 0.2, 0.25, 0.05, 0.91485415055029262],\n",
       " [0.1, 0.2, 0.25, 0.1, 0.91895303309558218],\n",
       " [0.1, 0.2, 0.25, 0.15, 0.92030433758735752],\n",
       " [0.1, 0.2, 0.25, 0.2, 0.92087927714806028],\n",
       " [0.1, 0.2, 0.25, 0.25, 0.92091702727403801],\n",
       " [0.1, 0.25, 0.05, 0.05, 0.90523329696091726],\n",
       " [0.1, 0.25, 0.05, 0.1, 0.9137418027795744],\n",
       " [0.1, 0.25, 0.05, 0.15, 0.91691319915494895],\n",
       " [0.1, 0.25, 0.05, 0.2, 0.91833168988334191],\n",
       " [0.1, 0.25, 0.05, 0.25, 0.91892371945615126],\n",
       " [0.1, 0.25, 0.1, 0.05, 0.9088401276184227],\n",
       " [0.1, 0.25, 0.1, 0.1, 0.91561066181922601],\n",
       " [0.1, 0.25, 0.1, 0.15, 0.91808298180544567],\n",
       " [0.1, 0.25, 0.1, 0.2, 0.91917744238214849],\n",
       " [0.1, 0.25, 0.1, 0.25, 0.91955028339125366],\n",
       " [0.1, 0.25, 0.15, 0.05, 0.91129226819529707],\n",
       " [0.1, 0.25, 0.15, 0.1, 0.91683941675415948],\n",
       " [0.1, 0.25, 0.15, 0.15, 0.91884625872339132],\n",
       " [0.1, 0.25, 0.15, 0.2, 0.91972192876383541],\n",
       " [0.1, 0.25, 0.15, 0.25, 0.91992587637431378],\n",
       " [0.1, 0.25, 0.2, 0.05, 0.9129677620193819],\n",
       " [0.1, 0.25, 0.2, 0.1, 0.91773564079239323],\n",
       " [0.1, 0.25, 0.2, 0.15, 0.91937555615537747],\n",
       " [0.1, 0.25, 0.2, 0.2, 0.92005989241572417],\n",
       " [0.1, 0.25, 0.2, 0.25, 0.92016784975201604],\n",
       " [0.1, 0.25, 0.25, 0.05, 0.91415088527050048],\n",
       " [0.1, 0.25, 0.25, 0.1, 0.91828343696569115],\n",
       " [0.1, 0.25, 0.25, 0.15, 0.91964695736569901],\n",
       " [0.1, 0.25, 0.25, 0.2, 0.92022652713342468],\n",
       " [0.1, 0.25, 0.25, 0.25, 0.92026311139644401],\n",
       " [0.15, 0.05, 0.05, 0.05, 0.89014212920925206],\n",
       " [0.15, 0.05, 0.05, 0.1, 0.89797950133115023],\n",
       " [0.15, 0.05, 0.05, 0.15, 0.90087253545287882],\n",
       " [0.15, 0.05, 0.05, 0.2, 0.90214018031389376],\n",
       " [0.15, 0.05, 0.05, 0.25, 0.90264630111962929],\n",
       " [0.15, 0.05, 0.1, 0.05, 0.89346564469338652],\n",
       " [0.15, 0.05, 0.1, 0.1, 0.89967827031837677],\n",
       " [0.15, 0.05, 0.1, 0.15, 0.9019212692291666],\n",
       " [0.15, 0.05, 0.1, 0.2, 0.9028940045401096],\n",
       " [0.15, 0.05, 0.1, 0.25, 0.9032022303095415],\n",
       " [0.15, 0.05, 0.15, 0.05, 0.8957390819359603],\n",
       " [0.15, 0.05, 0.15, 0.1, 0.90081015439325851],\n",
       " [0.15, 0.05, 0.15, 0.15, 0.90261645315732097],\n",
       " [0.15, 0.05, 0.15, 0.2, 0.90338807915136454],\n",
       " [0.15, 0.05, 0.15, 0.25, 0.90354156683163911],\n",
       " [0.15, 0.05, 0.2, 0.05, 0.89728311129905802],\n",
       " [0.15, 0.05, 0.2, 0.1, 0.90162965311482812],\n",
       " [0.15, 0.05, 0.2, 0.15, 0.90309723915114615],\n",
       " [0.15, 0.05, 0.2, 0.2, 0.9036918236446434],\n",
       " [0.15, 0.05, 0.2, 0.25, 0.90376014260155646],\n",
       " [0.15, 0.05, 0.25, 0.05, 0.89836467942803566],\n",
       " [0.15, 0.05, 0.25, 0.1, 0.9021275304626003],\n",
       " [0.15, 0.05, 0.25, 0.15, 0.90334037467204031],\n",
       " [0.15, 0.05, 0.25, 0.2, 0.90383976487272166],\n",
       " [0.15, 0.05, 0.25, 0.25, 0.90384169517357771],\n",
       " [0.15, 0.1, 0.05, 0.05, 0.90182342871096643],\n",
       " [0.15, 0.1, 0.05, 0.1, 0.91000284244968277],\n",
       " [0.15, 0.1, 0.05, 0.15, 0.91304850656686343],\n",
       " [0.15, 0.1, 0.05, 0.2, 0.91438717517557089],\n",
       " [0.15, 0.1, 0.05, 0.25, 0.9149366511488255],\n",
       " [0.15, 0.1, 0.1, 0.05, 0.90528307100242988],\n",
       " [0.15, 0.1, 0.1, 0.1, 0.91177981751912585],\n",
       " [0.15, 0.1, 0.1, 0.15, 0.91414953705548341],\n",
       " [0.15, 0.1, 0.1, 0.2, 0.9151792049793227],\n",
       " [0.15, 0.1, 0.1, 0.25, 0.9155213467690998],\n",
       " [0.15, 0.1, 0.15, 0.05, 0.90764966850934681],\n",
       " [0.15, 0.1, 0.15, 0.1, 0.91296142332642605],\n",
       " [0.15, 0.1, 0.15, 0.15, 0.91487836284428414],\n",
       " [0.15, 0.1, 0.15, 0.2, 0.91569884960437309],\n",
       " [0.15, 0.1, 0.15, 0.25, 0.9158809336269943],\n",
       " [0.15, 0.1, 0.2, 0.05, 0.90926885446913353],\n",
       " [0.15, 0.1, 0.2, 0.1, 0.91382459237904157],\n",
       " [0.15, 0.1, 0.2, 0.15, 0.91538662524251391],\n",
       " [0.15, 0.1, 0.2, 0.2, 0.91602281344739978],\n",
       " [0.15, 0.1, 0.2, 0.25, 0.91611331356295178],\n",
       " [0.15, 0.1, 0.25, 0.05, 0.91040196155742348],\n",
       " [0.15, 0.1, 0.25, 0.1, 0.91434773387131085],\n",
       " [0.15, 0.1, 0.25, 0.15, 0.91564488315002157],\n",
       " [0.15, 0.1, 0.25, 0.2, 0.91618180652931036],\n",
       " [0.15, 0.1, 0.25, 0.25, 0.91620318721324612],\n",
       " [0.15, 0.15, 0.05, 0.05, 0.90652737627516067],\n",
       " [0.15, 0.15, 0.05, 0.1, 0.91489039732816801],\n",
       " [0.15, 0.15, 0.05, 0.15, 0.91800864202402499],\n",
       " [0.15, 0.15, 0.05, 0.2, 0.91939012673921938],\n",
       " [0.15, 0.15, 0.05, 0.25, 0.91996439074114944],\n",
       " [0.15, 0.15, 0.1, 0.05, 0.91006740423333909],\n",
       " [0.15, 0.15, 0.1, 0.1, 0.91671671958031453],\n",
       " [0.15, 0.15, 0.1, 0.15, 0.91914612294584752],\n",
       " [0.15, 0.15, 0.1, 0.2, 0.92021048604708611],\n",
       " [0.15, 0.15, 0.1, 0.25, 0.92057060098463128],\n",
       " [0.15, 0.15, 0.15, 0.05, 0.91248245770962222],\n",
       " [0.15, 0.15, 0.15, 0.1, 0.9179257957865371],\n",
       " [0.15, 0.15, 0.15, 0.15, 0.91989438648069932],\n",
       " [0.15, 0.15, 0.15, 0.2, 0.92074464733658457],\n",
       " [0.15, 0.15, 0.15, 0.25, 0.92094101601556566],\n",
       " [0.15, 0.15, 0.2, 0.05, 0.91413471128408097],\n",
       " [0.15, 0.15, 0.2, 0.1, 0.91880886727222999],\n",
       " [0.15, 0.15, 0.2, 0.15, 0.92041561803533356],\n",
       " [0.15, 0.15, 0.2, 0.2, 0.92107734916092965],\n",
       " [0.15, 0.15, 0.2, 0.25, 0.92117930309551066],\n",
       " [0.15, 0.15, 0.25, 0.05, 0.91530107204465649],\n",
       " [0.15, 0.15, 0.25, 0.1, 0.91934847699591182],\n",
       " [0.15, 0.15, 0.25, 0.15, 0.92068468014873406],\n",
       " [0.15, 0.15, 0.25, 0.2, 0.92124227749785237],\n",
       " [0.15, 0.15, 0.25, 0.25, 0.92127370030877653],\n",
       " [0.15, 0.2, 0.05, 0.05, 0.9074192976422194],\n",
       " [0.15, 0.2, 0.05, 0.1, 0.9158862913121455],\n",
       " [0.15, 0.2, 0.05, 0.15, 0.91904309022992425],\n",
       " [0.15, 0.2, 0.05, 0.2, 0.92045515678576872],\n",
       " [0.15, 0.2, 0.05, 0.25, 0.92104417138341033],\n",
       " [0.15, 0.2, 0.1, 0.05, 0.91100933560456077],\n",
       " [0.15, 0.2, 0.1, 0.1, 0.91774445975586616],\n",
       " [0.15, 0.2, 0.1, 0.15, 0.92020413273780077],\n",
       " [0.15, 0.2, 0.1, 0.2, 0.92129342287610683],\n",
       " [0.15, 0.2, 0.1, 0.25, 0.9216646166614928],\n",
       " [0.15, 0.2, 0.15, 0.05, 0.91344805692808673],\n",
       " [0.15, 0.2, 0.15, 0.1, 0.91896570451519344],\n",
       " [0.15, 0.2, 0.15, 0.15, 0.92096136770370818],\n",
       " [0.15, 0.2, 0.15, 0.2, 0.92183326746831662],\n",
       " [0.15, 0.2, 0.15, 0.25, 0.92203780864407214],\n",
       " [0.15, 0.2, 0.2, 0.05, 0.91512012089844919],\n",
       " [0.15, 0.2, 0.2, 0.1, 0.91985953135916954],\n",
       " [0.15, 0.2, 0.2, 0.15, 0.92149003549339104],\n",
       " [0.15, 0.2, 0.2, 0.2, 0.92217112820220504],\n",
       " [0.15, 0.2, 0.2, 0.25, 0.92228009161769775],\n",
       " [0.15, 0.2, 0.25, 0.05, 0.91629844406266903],\n",
       " [0.15, 0.2, 0.25, 0.1, 0.92040531246509438],\n",
       " [0.15, 0.2, 0.25, 0.15, 0.92176135875716136],\n",
       " [0.15, 0.2, 0.25, 0.2, 0.92233692639991893],\n",
       " [0.15, 0.2, 0.25, 0.25, 0.92237426848226334],\n",
       " [0.15, 0.25, 0.05, 0.05, 0.90667255862888108],\n",
       " [0.15, 0.25, 0.05, 0.1, 0.91519863062562135],\n",
       " [0.15, 0.25, 0.05, 0.15, 0.91837915244235535],\n",
       " [0.15, 0.25, 0.05, 0.2, 0.9197995868164851],\n",
       " [0.15, 0.25, 0.05, 0.25, 0.92039251953834122],\n",
       " [0.15, 0.25, 0.1, 0.05, 0.91028638999630351],\n",
       " [0.15, 0.25, 0.1, 0.1, 0.91707042071244416],\n",
       " [0.15, 0.25, 0.1, 0.15, 0.91955038150068136],\n",
       " [0.15, 0.25, 0.1, 0.2, 0.92064637989369269],\n",
       " [0.15, 0.25, 0.1, 0.25, 0.92101938408776496],\n",
       " [0.15, 0.25, 0.15, 0.05, 0.91274344411398578],\n",
       " [0.15, 0.25, 0.15, 0.1, 0.91830156553089437],\n",
       " [0.15, 0.25, 0.15, 0.15, 0.92031465664112688],\n",
       " [0.15, 0.25, 0.15, 0.2, 0.92119163640384405],\n",
       " [0.15, 0.25, 0.15, 0.25, 0.92139548742598321],\n",
       " [0.15, 0.25, 0.2, 0.05, 0.91442067968557994],\n",
       " [0.15, 0.25, 0.2, 0.1, 0.91919824899347125],\n",
       " [0.15, 0.25, 0.2, 0.15, 0.92084386995589596],\n",
       " [0.15, 0.25, 0.2, 0.2, 0.92152920426015927],\n",
       " [0.15, 0.25, 0.2, 0.25, 0.92163697375835862],\n",
       " [0.15, 0.25, 0.25, 0.05, 0.91560710369637743],\n",
       " [0.15, 0.25, 0.25, 0.1, 0.91974773079229077],\n",
       " [0.15, 0.25, 0.25, 0.15, 0.92111611176411023],\n",
       " [0.15, 0.25, 0.25, 0.2, 0.92169631456983558],\n",
       " [0.15, 0.25, 0.25, 0.25, 0.92173250977033971],\n",
       " [0.2, 0.05, 0.05, 0.05, 0.89004454948420897],\n",
       " [0.2, 0.05, 0.05, 0.1, 0.8978843266934966],\n",
       " [0.2, 0.05, 0.05, 0.15, 0.90078068902357522],\n",
       " [0.2, 0.05, 0.05, 0.2, 0.9020506852145318],\n",
       " [0.2, 0.05, 0.05, 0.25, 0.9025564338176526],\n",
       " [0.2, 0.05, 0.1, 0.05, 0.89337030922974248],\n",
       " [0.2, 0.05, 0.1, 0.1, 0.89958358946985006],\n",
       " [0.2, 0.05, 0.1, 0.15, 0.90182974744117317],\n",
       " [0.2, 0.05, 0.1, 0.2, 0.90280457859005714],\n",
       " [0.2, 0.05, 0.1, 0.25, 0.90311260211660882],\n",
       " [0.2, 0.05, 0.15, 0.05, 0.89564432118724147],\n",
       " [0.2, 0.05, 0.15, 0.1, 0.90071675431678422],\n",
       " [0.2, 0.05, 0.15, 0.15, 0.90252518370715973],\n",
       " [0.2, 0.05, 0.15, 0.2, 0.90329865363517647],\n",
       " [0.2, 0.05, 0.15, 0.25, 0.90345175277938017],\n",
       " [0.2, 0.05, 0.2, 0.05, 0.89718837537294549],\n",
       " [0.2, 0.05, 0.2, 0.1, 0.90153648315727042],\n",
       " [0.2, 0.05, 0.2, 0.15, 0.90300643557809557],\n",
       " [0.2, 0.05, 0.2, 0.2, 0.90360240920244506],\n",
       " [0.2, 0.05, 0.2, 0.25, 0.90367011672784925],\n",
       " [0.2, 0.05, 0.25, 0.05, 0.89827114851320344],\n",
       " [0.2, 0.05, 0.25, 0.1, 0.90203563067287218],\n",
       " [0.2, 0.05, 0.25, 0.15, 0.90324999936570471],\n",
       " [0.2, 0.05, 0.25, 0.2, 0.90375045000033072],\n",
       " [0.2, 0.05, 0.25, 0.25, 0.90375155661420381],\n",
       " [0.2, 0.1, 0.05, 0.05, 0.90178254732185625],\n",
       " [0.2, 0.1, 0.05, 0.1, 0.90996470472497815],\n",
       " [0.2, 0.1, 0.05, 0.15, 0.91301453335372029],\n",
       " [0.2, 0.1, 0.05, 0.2, 0.9143557808944105],\n",
       " [0.2, 0.1, 0.05, 0.25, 0.91490488384748658],\n",
       " [0.2, 0.1, 0.1, 0.05, 0.9052447261096781],\n",
       " [0.2, 0.1, 0.1, 0.1, 0.91174234999239401],\n",
       " [0.2, 0.1, 0.1, 0.15, 0.91411591625109723],\n",
       " [0.2, 0.1, 0.1, 0.2, 0.91514788167416017],\n",
       " [0.2, 0.1, 0.1, 0.25, 0.91548984433453728],\n",
       " [0.2, 0.1, 0.15, 0.05, 0.90761213452803802],\n",
       " [0.2, 0.1, 0.15, 0.1, 0.91292544486567262],\n",
       " [0.2, 0.1, 0.15, 0.15, 0.91484502265285261],\n",
       " [0.2, 0.1, 0.15, 0.2, 0.91566750883816495],\n",
       " [0.2, 0.1, 0.15, 0.25, 0.91584925497907343],\n",
       " [0.2, 0.1, 0.2, 0.05, 0.90923149545647497],\n",
       " [0.2, 0.1, 0.2, 0.1, 0.91378906279496686],\n",
       " [0.2, 0.1, 0.2, 0.15, 0.91535382945698485],\n",
       " [0.2, 0.1, 0.2, 0.2, 0.91599153431901104],\n",
       " [0.2, 0.1, 0.2, 0.25, 0.91608144060171204],\n",
       " [0.2, 0.1, 0.25, 0.05, 0.91036586812544273],\n",
       " [0.2, 0.1, 0.25, 0.1, 0.91431364491587941],\n",
       " [0.2, 0.1, 0.25, 0.15, 0.91561258261700751],\n",
       " [0.2, 0.1, 0.25, 0.2, 0.91615063545576358],\n",
       " [0.2, 0.1, 0.25, 0.25, 0.91617120337035352],\n",
       " [0.2, 0.15, 0.05, 0.05, 0.90652227397576335],\n",
       " [0.2, 0.15, 0.05, 0.1, 0.91488778632453194],\n",
       " [0.2, 0.15, 0.05, 0.15, 0.91801040266647649],\n",
       " [0.2, 0.15, 0.05, 0.2, 0.91939455742623932],\n",
       " [0.2, 0.15, 0.05, 0.25, 0.91996848136231191],\n",
       " [0.2, 0.15, 0.1, 0.05, 0.91006494566969154],\n",
       " [0.2, 0.15, 0.1, 0.1, 0.9167148143265399],\n",
       " [0.2, 0.15, 0.1, 0.15, 0.91914828664502823],\n",
       " [0.2, 0.15, 0.1, 0.2, 0.9202150192372035],\n",
       " [0.2, 0.15, 0.1, 0.25, 0.92057500498507039],\n",
       " [0.2, 0.15, 0.15, 0.05, 0.91248085583779726],\n",
       " [0.2, 0.15, 0.15, 0.1, 0.91792550031171816],\n",
       " [0.2, 0.15, 0.15, 0.15, 0.91989689285773368],\n",
       " [0.2, 0.15, 0.15, 0.2, 0.92074922513055513],\n",
       " [0.2, 0.15, 0.15, 0.25, 0.92094527772426904],\n",
       " [0.2, 0.15, 0.2, 0.05, 0.91413316905245967],\n",
       " [0.2, 0.15, 0.2, 0.1, 0.91880894731341811],\n",
       " [0.2, 0.15, 0.2, 0.15, 0.92041870103725698],\n",
       " [0.2, 0.15, 0.2, 0.2, 0.92108200278494989],\n",
       " [0.2, 0.15, 0.2, 0.25, 0.92118337049089538],\n",
       " [0.2, 0.15, 0.25, 0.05, 0.91530085171377507],\n",
       " [0.2, 0.15, 0.25, 0.1, 0.91935013248468211],\n",
       " [0.2, 0.15, 0.25, 0.15, 0.92068826787205493],\n",
       " [0.2, 0.15, 0.25, 0.2, 0.9212470486455967],\n",
       " [0.2, 0.15, 0.25, 0.25, 0.9212776568225084],\n",
       " [0.2, 0.2, 0.05, 0.05, 0.90743570325711598],\n",
       " [0.2, 0.2, 0.05, 0.1, 0.91590568129695338],\n",
       " [0.2, 0.2, 0.05, 0.15, 0.91906740801857811],\n",
       " [0.2, 0.2, 0.05, 0.2, 0.92048210327868452],\n",
       " [0.2, 0.2, 0.05, 0.25, 0.92107084343839163],\n",
       " [0.2, 0.2, 0.1, 0.05, 0.91102845065599691],\n",
       " [0.2, 0.2, 0.1, 0.1, 0.91776457711562787],\n",
       " [0.2, 0.2, 0.1, 0.15, 0.92022889486336712],\n",
       " [0.2, 0.2, 0.1, 0.2, 0.92132051315230368],\n",
       " [0.2, 0.2, 0.1, 0.25, 0.92169163366974582],\n",
       " [0.2, 0.2, 0.15, 0.05, 0.91346819824067993],\n",
       " [0.2, 0.2, 0.15, 0.1, 0.91898750876142099],\n",
       " [0.2, 0.2, 0.15, 0.15, 0.92098648146832296],\n",
       " [0.2, 0.2, 0.15, 0.2, 0.92186041130956131],\n",
       " [0.2, 0.2, 0.15, 0.25, 0.92206466825713063],\n",
       " [0.2, 0.2, 0.2, 0.05, 0.91514031139596586],\n",
       " [0.2, 0.2, 0.2, 0.1, 0.91988171930181672],\n",
       " [0.2, 0.2, 0.2, 0.15, 0.92151570012901141],\n",
       " [0.2, 0.2, 0.2, 0.2, 0.92219834432221326],\n",
       " [0.2, 0.2, 0.2, 0.25, 0.92230675691743746],\n",
       " [0.2, 0.2, 0.25, 0.05, 0.91632006706137481],\n",
       " [0.2, 0.2, 0.25, 0.1, 0.92042922668311922],\n",
       " [0.2, 0.2, 0.25, 0.15, 0.92178754604829649],\n",
       " [0.2, 0.2, 0.25, 0.2, 0.92236427797776854],\n",
       " [0.2, 0.2, 0.25, 0.25, 0.92240080097623756],\n",
       " [0.2, 0.25, 0.05, 0.05, 0.9066910512324613],\n",
       " [0.2, 0.25, 0.05, 0.1, 0.91522003943775609],\n",
       " [0.2, 0.25, 0.05, 0.15, 0.91840556505218296],\n",
       " [0.2, 0.25, 0.05, 0.2, 0.91982883252921355],\n",
       " [0.2, 0.25, 0.05, 0.25, 0.92042145233026429],\n",
       " [0.2, 0.25, 0.1, 0.05, 0.91030760249577147],\n",
       " [0.2, 0.25, 0.1, 0.1, 0.91709253566311966],\n",
       " [0.2, 0.25, 0.1, 0.15, 0.9195772460446866],\n",
       " [0.2, 0.25, 0.1, 0.2, 0.9206757615081651],\n",
       " [0.2, 0.25, 0.1, 0.25, 0.92104865395142343],\n",
       " [0.2, 0.25, 0.15, 0.05, 0.91276576927870234],\n",
       " [0.2, 0.25, 0.15, 0.1, 0.9183254006665047],\n",
       " [0.2, 0.25, 0.15, 0.15, 0.92034190612264977],\n",
       " [0.2, 0.25, 0.15, 0.2, 0.92122105501569174],\n",
       " [0.2, 0.25, 0.15, 0.25, 0.92142458332677402],\n",
       " [0.2, 0.25, 0.2, 0.05, 0.91444300714834159],\n",
       " [0.2, 0.25, 0.2, 0.1, 0.91922242580480307],\n",
       " [0.2, 0.25, 0.2, 0.15, 0.92087164036209967],\n",
       " [0.2, 0.25, 0.2, 0.2, 0.92155864130335452],\n",
       " [0.2, 0.25, 0.2, 0.25, 0.92166584590964762],\n",
       " [0.2, 0.25, 0.25, 0.05, 0.91563081021983006],\n",
       " [0.2, 0.25, 0.25, 0.1, 0.91977363030971382],\n",
       " [0.2, 0.25, 0.25, 0.15, 0.92114437735545096],\n",
       " [0.2, 0.25, 0.25, 0.2, 0.92172585960049458],\n",
       " [0.2, 0.25, 0.25, 0.25, 0.92176122164548557],\n",
       " [0.25, 0.05, 0.05, 0.05, 0.88947048120692451],\n",
       " [0.25, 0.05, 0.05, 0.1, 0.89731063118560517],\n",
       " [0.25, 0.05, 0.05, 0.15, 0.90020231552540719],\n",
       " [0.25, 0.05, 0.05, 0.2, 0.90147364256560969],\n",
       " [0.25, 0.05, 0.05, 0.25, 0.90197827124153596],\n",
       " [0.25, 0.05, 0.1, 0.05, 0.89279530265763218],\n",
       " [0.25, 0.05, 0.1, 0.1, 0.89900898672047191],\n",
       " [0.25, 0.05, 0.1, 0.15, 0.90125184107396394],\n",
       " [0.25, 0.05, 0.1, 0.2, 0.90222760526050216],\n",
       " [0.25, 0.05, 0.1, 0.25, 0.90253457663261449],\n",
       " [0.25, 0.05, 0.15, 0.05, 0.89506673097549672],\n",
       " [0.25, 0.05, 0.15, 0.1, 0.90013989069230893],\n",
       " [0.25, 0.05, 0.15, 0.15, 0.9019458367300428],\n",
       " [0.25, 0.05, 0.15, 0.2, 0.90272023969571369],\n",
       " [0.25, 0.05, 0.15, 0.25, 0.90287259961224675],\n",
       " [0.25, 0.05, 0.2, 0.05, 0.89660981699637543],\n",
       " [0.25, 0.05, 0.2, 0.1, 0.90095854333252678],\n",
       " [0.25, 0.05, 0.2, 0.15, 0.90242651059274726],\n",
       " [0.25, 0.05, 0.2, 0.2, 0.90302341725475077],\n",
       " [0.25, 0.05, 0.2, 0.25, 0.90309052807652801],\n",
       " [0.25, 0.05, 0.25, 0.05, 0.89769292317870286],\n",
       " [0.25, 0.05, 0.25, 0.1, 0.90145784660801376],\n",
       " [0.25, 0.05, 0.25, 0.15, 0.90267014382357125],\n",
       " [0.25, 0.05, 0.25, 0.2, 0.90317122832773467],\n",
       " [0.25, 0.05, 0.25, 0.25, 0.90317181741800534],\n",
       " [0.25, 0.1, 0.05, 0.05, 0.90124308178193802],\n",
       " [0.25, 0.1, 0.05, 0.1, 0.90942603375844389],\n",
       " [0.25, 0.1, 0.05, 0.15, 0.9124708264249104],\n",
       " [0.25, 0.1, 0.05, 0.2, 0.91381359374356508],\n",
       " [0.25, 0.1, 0.05, 0.25, 0.91436153657938568],\n",
       " [0.25, 0.1, 0.1, 0.05, 0.90470421925117372],\n",
       " [0.25, 0.1, 0.1, 0.1, 0.91120268802114313],\n",
       " [0.25, 0.1, 0.1, 0.15, 0.91357273358552005],\n",
       " [0.25, 0.1, 0.1, 0.2, 0.91460577112792152],\n",
       " [0.25, 0.1, 0.1, 0.25, 0.91494665454443314],\n",
       " [0.25, 0.1, 0.15, 0.05, 0.90706900178005134],\n",
       " [0.25, 0.1, 0.15, 0.1, 0.91238350055505801],\n",
       " [0.25, 0.1, 0.15, 0.15, 0.9143003734938201],\n",
       " [0.25, 0.1, 0.15, 0.2, 0.91512393179847074],\n",
       " [0.25, 0.1, 0.15, 0.25, 0.9153049003204724],\n",
       " [0.25, 0.1, 0.2, 0.05, 0.90868732994251322],\n",
       " [0.25, 0.1, 0.2, 0.1, 0.91324589570280756],\n",
       " [0.25, 0.1, 0.2, 0.15, 0.91480860102165773],\n",
       " [0.25, 0.1, 0.2, 0.2, 0.91544737800302223],\n",
       " [0.25, 0.1, 0.2, 0.25, 0.91553664919086009],\n",
       " [0.25, 0.1, 0.25, 0.05, 0.90982212750813451],\n",
       " [0.25, 0.1, 0.25, 0.1, 0.91377066380650074],\n",
       " [0.25, 0.1, 0.25, 0.15, 0.91506744027460785],\n",
       " [0.25, 0.1, 0.25, 0.2, 0.9156062578023223],\n",
       " [0.25, 0.1, 0.25, 0.25, 0.91562627944138042],\n",
       " [0.25, 0.15, 0.05, 0.05, 0.90600204316830291],\n",
       " [0.25, 0.15, 0.05, 0.1, 0.91436823628391661],\n",
       " [0.25, 0.15, 0.05, 0.15, 0.91748594580657206],\n",
       " [0.25, 0.15, 0.05, 0.2, 0.91887164115268594],\n",
       " [0.25, 0.15, 0.05, 0.25, 0.91944432095419493],\n",
       " [0.25, 0.15, 0.1, 0.05, 0.90954366769105743],\n",
       " [0.25, 0.15, 0.1, 0.1, 0.91619424459762666],\n",
       " [0.25, 0.15, 0.1, 0.15, 0.91862435796906017],\n",
       " [0.25, 0.15, 0.1, 0.2, 0.91969218580489775],\n",
       " [0.25, 0.15, 0.1, 0.25, 0.92005101214007856],\n",
       " [0.25, 0.15, 0.15, 0.05, 0.91195693480829865],\n",
       " [0.25, 0.15, 0.15, 0.1, 0.91740266223232536],\n",
       " [0.25, 0.15, 0.15, 0.15, 0.91937149800948115],\n",
       " [0.25, 0.15, 0.15, 0.2, 0.92022492552596491],\n",
       " [0.25, 0.15, 0.15, 0.25, 0.92042017250661423],\n",
       " [0.25, 0.15, 0.2, 0.05, 0.91360824591283252],\n",
       " [0.25, 0.15, 0.2, 0.1, 0.91828492340004708],\n",
       " [0.25, 0.15, 0.2, 0.15, 0.91989276949432297],\n",
       " [0.25, 0.15, 0.2, 0.2, 0.9205571664856782],\n",
       " [0.25, 0.15, 0.2, 0.25, 0.92065787110260289],\n",
       " [0.25, 0.15, 0.25, 0.05, 0.91477634102009198],\n",
       " [0.25, 0.15, 0.25, 0.1, 0.91882622238572786],\n",
       " [0.25, 0.15, 0.25, 0.15, 0.92016236083188541],\n",
       " [0.25, 0.15, 0.25, 0.2, 0.92072192941870934],\n",
       " [0.25, 0.15, 0.25, 0.25, 0.92075198598456331],\n",
       " [0.25, 0.2, 0.05, 0.05, 0.9069474042847161],\n",
       " [0.25, 0.2, 0.05, 0.1, 0.91541777705607164],\n",
       " [0.25, 0.2, 0.05, 0.15, 0.91857452323846944],\n",
       " [0.25, 0.2, 0.05, 0.2, 0.91999069052582538],\n",
       " [0.25, 0.2, 0.05, 0.25, 0.92057822957293256],\n",
       " [0.25, 0.2, 0.1, 0.05, 0.91053910277418648],\n",
       " [0.25, 0.2, 0.1, 0.1, 0.91727568731254405],\n",
       " [0.25, 0.2, 0.1, 0.15, 0.91973658249368273],\n",
       " [0.25, 0.2, 0.1, 0.2, 0.92082922746718021],\n",
       " [0.25, 0.2, 0.1, 0.25, 0.92119923159389983],\n",
       " [0.25, 0.2, 0.15, 0.05, 0.91297635670631994],\n",
       " [0.25, 0.2, 0.15, 0.1, 0.91849648881480395],\n",
       " [0.25, 0.2, 0.15, 0.15, 0.92049286478839409],\n",
       " [0.25, 0.2, 0.15, 0.2, 0.92136782131419326],\n",
       " [0.25, 0.2, 0.15, 0.25, 0.92157129654978887],\n",
       " [0.25, 0.2, 0.2, 0.05, 0.91464751813031153],\n",
       " [0.25, 0.2, 0.2, 0.1, 0.91938959309996249],\n",
       " [0.25, 0.2, 0.2, 0.15, 0.92102161427535767],\n",
       " [0.25, 0.2, 0.2, 0.2, 0.92170528515312034],\n",
       " [0.25, 0.2, 0.2, 0.25, 0.92181305856041462],\n",
       " [0.25, 0.2, 0.25, 0.05, 0.91582766889738043],\n",
       " [0.25, 0.2, 0.25, 0.1, 0.91993719092572646],\n",
       " [0.25, 0.2, 0.25, 0.15, 0.92129346132745149],\n",
       " [0.25, 0.2, 0.25, 0.2, 0.92187091251110431],\n",
       " [0.25, 0.2, 0.25, 0.25, 0.92190690779960649],\n",
       " [0.25, 0.25, 0.05, 0.05, 0.90620999603553254],\n",
       " [0.25, 0.25, 0.05, 0.1, 0.91473891560116549],\n",
       " [0.25, 0.25, 0.05, 0.15, 0.91791944336015086],\n",
       " [0.25, 0.25, 0.05, 0.2, 0.91934397812773427],\n",
       " [0.25, 0.25, 0.05, 0.25, 0.91993522530308147],\n",
       " [0.25, 0.25, 0.1, 0.05, 0.90982526324140722],\n",
       " [0.25, 0.25, 0.1, 0.1, 0.91661028606916783],\n",
       " [0.25, 0.25, 0.1, 0.15, 0.91909155166084677],\n",
       " [0.25, 0.25, 0.1, 0.2, 0.92019097358778379],\n",
       " [0.25, 0.25, 0.1, 0.25, 0.92056262761608421],\n",
       " [0.25, 0.25, 0.15, 0.05, 0.91228095957425748],\n",
       " [0.25, 0.25, 0.15, 0.1, 0.91784100725724738],\n",
       " [0.25, 0.25, 0.15, 0.15, 0.91985489375679319],\n",
       " [0.25, 0.25, 0.15, 0.2, 0.9207349491132939],\n",
       " [0.25, 0.25, 0.15, 0.25, 0.92093757451127345],\n",
       " [0.25, 0.25, 0.2, 0.05, 0.91395710692682364],\n",
       " [0.25, 0.25, 0.2, 0.1, 0.91873691406593594],\n",
       " [0.25, 0.25, 0.2, 0.15, 0.92038414674814495],\n",
       " [0.25, 0.25, 0.2, 0.2, 0.92107205415285875],\n",
       " [0.25, 0.25, 0.2, 0.25, 0.9211784983700928],\n",
       " [0.25, 0.25, 0.25, 0.05, 0.91514523968063866],\n",
       " [0.25, 0.25, 0.25, 0.1, 0.91928817356209092],\n",
       " [0.25, 0.25, 0.25, 0.15, 0.92065684378704171],\n",
       " [0.25, 0.25, 0.25, 0.2, 0.9212389516219317],\n",
       " [0.25, 0.25, 0.25, 0.25, 0.92127367928632253]]"
      ]
     },
     "execution_count": 146,
     "metadata": {},
     "output_type": "execute_result"
    }
   ],
   "source": [
    "f2scorelist"
   ]
  },
  {
   "cell_type": "code",
   "execution_count": 147,
   "metadata": {
    "collapsed": false
   },
   "outputs": [
    {
     "data": {
      "text/plain": [
       "0.92240080097623756"
      ]
     },
     "execution_count": 147,
     "metadata": {},
     "output_type": "execute_result"
    }
   ],
   "source": [
    "max([l[4] for l in f2scorelist])"
   ]
  },
  {
   "cell_type": "code",
   "execution_count": 151,
   "metadata": {
    "collapsed": false,
    "scrolled": true
   },
   "outputs": [
    {
     "name": "stderr",
     "output_type": "stream",
     "text": [
      "100%|██████████| 61191/61191 [04:38<00:00, 219.90it/s]"
     ]
    },
    {
     "name": "stdout",
     "output_type": "stream",
     "text": [
      "(61191, 32, 32, 3)\n"
     ]
    },
    {
     "name": "stderr",
     "output_type": "stream",
     "text": [
      "\n"
     ]
    }
   ],
   "source": [
    "#Test set\n",
    "x_train = []\n",
    "x_val = []\n",
    "x_test = np.zeros((61191,32,32,3), np.float32)\n",
    "y_train = []\n",
    "\n",
    "df_test = pd.read_csv('sample_submission_v2.csv')\n",
    "\n",
    "i = 0 \n",
    "for f, tags in tqdm(df_test.values, miniters=1000):\n",
    "    img = cv2.imread('test-jpg/{}.jpg'.format(f))\n",
    "    x_test[i,:,:,:] = np.array(cv2.resize(img, (32, 32)),np.float32)/255.#139 minimum size for inception\n",
    "    i+=1\n",
    "print(x_test.shape)"
   ]
  },
  {
   "cell_type": "code",
   "execution_count": 152,
   "metadata": {
    "collapsed": true
   },
   "outputs": [],
   "source": [
    "x_test -= train_mean\n",
    "\n",
    "y = model.predict(x_test,batch_size=128)\n",
    "y1 = model1.predict(x_test,batch_size=128)\n",
    "y2 = model2.predict(x_test,batch_size=128)"
   ]
  },
  {
   "cell_type": "code",
   "execution_count": 156,
   "metadata": {
    "collapsed": false,
    "scrolled": true
   },
   "outputs": [
    {
     "name": "stdout",
     "output_type": "stream",
     "text": [
      "(61191, 17)\n"
     ]
    }
   ],
   "source": [
    "thresh,thresh1,thresh2,thresh3 = 0.2, 0.2, 0.25, 0.25\n",
    "y_pred = combine_predictions(x_test,y,y1,y2,thresh,thresh1,thresh2,thresh3)\n",
    "print(y_pred.shape)"
   ]
  },
  {
   "cell_type": "code",
   "execution_count": 166,
   "metadata": {
    "collapsed": false,
    "scrolled": true
   },
   "outputs": [],
   "source": [
    "labels_np = np.array(labels)\n",
    "preds = [' '.join(labels_np[np.array(y_pred[i,:],bool)]) for i in range(y_pred.shape[0])]\n",
    "subm = pd.DataFrame()\n",
    "subm['image_name'] = df_test.values[:,0]\n",
    "subm['tags'] = preds\n",
    "subm.to_csv('submission_3net_1.csv', index=False)\n",
    "#test set score:0.91479"
   ]
  },
  {
   "cell_type": "code",
   "execution_count": 167,
   "metadata": {
    "collapsed": false,
    "scrolled": true
   },
   "outputs": [
    {
     "data": {
      "text/html": [
       "<div>\n",
       "<table border=\"1\" class=\"dataframe\">\n",
       "  <thead>\n",
       "    <tr style=\"text-align: right;\">\n",
       "      <th></th>\n",
       "      <th>image_name</th>\n",
       "      <th>tags</th>\n",
       "    </tr>\n",
       "  </thead>\n",
       "  <tbody>\n",
       "    <tr>\n",
       "      <th>0</th>\n",
       "      <td>test_0</td>\n",
       "      <td>primary clear</td>\n",
       "    </tr>\n",
       "    <tr>\n",
       "      <th>1</th>\n",
       "      <td>test_1</td>\n",
       "      <td>primary clear</td>\n",
       "    </tr>\n",
       "    <tr>\n",
       "      <th>2</th>\n",
       "      <td>test_2</td>\n",
       "      <td>primary partly_cloudy</td>\n",
       "    </tr>\n",
       "    <tr>\n",
       "      <th>3</th>\n",
       "      <td>test_3</td>\n",
       "      <td>cultivation agriculture primary partly_cloudy ...</td>\n",
       "    </tr>\n",
       "    <tr>\n",
       "      <th>4</th>\n",
       "      <td>test_4</td>\n",
       "      <td>primary partly_cloudy cloudy</td>\n",
       "    </tr>\n",
       "    <tr>\n",
       "      <th>5</th>\n",
       "      <td>test_5</td>\n",
       "      <td>primary clear</td>\n",
       "    </tr>\n",
       "    <tr>\n",
       "      <th>6</th>\n",
       "      <td>test_6</td>\n",
       "      <td>cultivation road agriculture primary partly_cl...</td>\n",
       "    </tr>\n",
       "    <tr>\n",
       "      <th>7</th>\n",
       "      <td>test_7</td>\n",
       "      <td>habitation road agriculture primary clear</td>\n",
       "    </tr>\n",
       "    <tr>\n",
       "      <th>8</th>\n",
       "      <td>test_8</td>\n",
       "      <td>primary clear</td>\n",
       "    </tr>\n",
       "    <tr>\n",
       "      <th>9</th>\n",
       "      <td>test_9</td>\n",
       "      <td>cultivation agriculture primary clear haze</td>\n",
       "    </tr>\n",
       "    <tr>\n",
       "      <th>10</th>\n",
       "      <td>test_10</td>\n",
       "      <td>primary partly_cloudy</td>\n",
       "    </tr>\n",
       "    <tr>\n",
       "      <th>11</th>\n",
       "      <td>test_11</td>\n",
       "      <td>cultivation agriculture primary clear</td>\n",
       "    </tr>\n",
       "    <tr>\n",
       "      <th>12</th>\n",
       "      <td>test_12</td>\n",
       "      <td>cloudy</td>\n",
       "    </tr>\n",
       "    <tr>\n",
       "      <th>13</th>\n",
       "      <td>test_13</td>\n",
       "      <td>road agriculture primary clear</td>\n",
       "    </tr>\n",
       "    <tr>\n",
       "      <th>14</th>\n",
       "      <td>test_14</td>\n",
       "      <td>cultivation agriculture primary clear</td>\n",
       "    </tr>\n",
       "    <tr>\n",
       "      <th>15</th>\n",
       "      <td>test_15</td>\n",
       "      <td>primary clear</td>\n",
       "    </tr>\n",
       "    <tr>\n",
       "      <th>16</th>\n",
       "      <td>test_16</td>\n",
       "      <td>cultivation habitation road agriculture primar...</td>\n",
       "    </tr>\n",
       "    <tr>\n",
       "      <th>17</th>\n",
       "      <td>test_17</td>\n",
       "      <td>primary partly_cloudy</td>\n",
       "    </tr>\n",
       "    <tr>\n",
       "      <th>18</th>\n",
       "      <td>test_18</td>\n",
       "      <td>primary clear haze</td>\n",
       "    </tr>\n",
       "    <tr>\n",
       "      <th>19</th>\n",
       "      <td>test_19</td>\n",
       "      <td>selective_logging road water primary clear</td>\n",
       "    </tr>\n",
       "    <tr>\n",
       "      <th>20</th>\n",
       "      <td>test_20</td>\n",
       "      <td>agriculture water primary clear</td>\n",
       "    </tr>\n",
       "    <tr>\n",
       "      <th>21</th>\n",
       "      <td>test_21</td>\n",
       "      <td>water primary clear</td>\n",
       "    </tr>\n",
       "    <tr>\n",
       "      <th>22</th>\n",
       "      <td>test_22</td>\n",
       "      <td>habitation road agriculture water primary clear</td>\n",
       "    </tr>\n",
       "    <tr>\n",
       "      <th>23</th>\n",
       "      <td>test_23</td>\n",
       "      <td>cloudy</td>\n",
       "    </tr>\n",
       "    <tr>\n",
       "      <th>24</th>\n",
       "      <td>test_24</td>\n",
       "      <td>agriculture water primary partly_cloudy</td>\n",
       "    </tr>\n",
       "    <tr>\n",
       "      <th>25</th>\n",
       "      <td>test_25</td>\n",
       "      <td>primary clear</td>\n",
       "    </tr>\n",
       "    <tr>\n",
       "      <th>26</th>\n",
       "      <td>test_26</td>\n",
       "      <td>road agriculture primary partly_cloudy</td>\n",
       "    </tr>\n",
       "    <tr>\n",
       "      <th>27</th>\n",
       "      <td>test_27</td>\n",
       "      <td>bare_ground agriculture primary clear</td>\n",
       "    </tr>\n",
       "    <tr>\n",
       "      <th>28</th>\n",
       "      <td>test_28</td>\n",
       "      <td>road agriculture water primary partly_cloudy</td>\n",
       "    </tr>\n",
       "    <tr>\n",
       "      <th>29</th>\n",
       "      <td>test_29</td>\n",
       "      <td>primary clear</td>\n",
       "    </tr>\n",
       "    <tr>\n",
       "      <th>...</th>\n",
       "      <td>...</td>\n",
       "      <td>...</td>\n",
       "    </tr>\n",
       "    <tr>\n",
       "      <th>61161</th>\n",
       "      <td>file_9972</td>\n",
       "      <td>cultivation agriculture primary clear</td>\n",
       "    </tr>\n",
       "    <tr>\n",
       "      <th>61162</th>\n",
       "      <td>file_9973</td>\n",
       "      <td>cultivation habitation road agriculture primar...</td>\n",
       "    </tr>\n",
       "    <tr>\n",
       "      <th>61163</th>\n",
       "      <td>file_9974</td>\n",
       "      <td>primary clear</td>\n",
       "    </tr>\n",
       "    <tr>\n",
       "      <th>61164</th>\n",
       "      <td>file_9975</td>\n",
       "      <td>primary partly_cloudy clear</td>\n",
       "    </tr>\n",
       "    <tr>\n",
       "      <th>61165</th>\n",
       "      <td>file_9976</td>\n",
       "      <td>cultivation agriculture primary clear</td>\n",
       "    </tr>\n",
       "    <tr>\n",
       "      <th>61166</th>\n",
       "      <td>file_9977</td>\n",
       "      <td>primary clear</td>\n",
       "    </tr>\n",
       "    <tr>\n",
       "      <th>61167</th>\n",
       "      <td>file_9978</td>\n",
       "      <td>primary partly_cloudy</td>\n",
       "    </tr>\n",
       "    <tr>\n",
       "      <th>61168</th>\n",
       "      <td>file_9979</td>\n",
       "      <td>primary clear</td>\n",
       "    </tr>\n",
       "    <tr>\n",
       "      <th>61169</th>\n",
       "      <td>file_998</td>\n",
       "      <td>primary clear</td>\n",
       "    </tr>\n",
       "    <tr>\n",
       "      <th>61170</th>\n",
       "      <td>file_9980</td>\n",
       "      <td>primary clear</td>\n",
       "    </tr>\n",
       "    <tr>\n",
       "      <th>61171</th>\n",
       "      <td>file_9981</td>\n",
       "      <td>cultivation road agriculture primary clear</td>\n",
       "    </tr>\n",
       "    <tr>\n",
       "      <th>61172</th>\n",
       "      <td>file_9982</td>\n",
       "      <td>cultivation habitation road agriculture water ...</td>\n",
       "    </tr>\n",
       "    <tr>\n",
       "      <th>61173</th>\n",
       "      <td>file_9983</td>\n",
       "      <td>primary clear</td>\n",
       "    </tr>\n",
       "    <tr>\n",
       "      <th>61174</th>\n",
       "      <td>file_9984</td>\n",
       "      <td>primary clear</td>\n",
       "    </tr>\n",
       "    <tr>\n",
       "      <th>61175</th>\n",
       "      <td>file_9985</td>\n",
       "      <td>primary clear</td>\n",
       "    </tr>\n",
       "    <tr>\n",
       "      <th>61176</th>\n",
       "      <td>file_9986</td>\n",
       "      <td>primary clear</td>\n",
       "    </tr>\n",
       "    <tr>\n",
       "      <th>61177</th>\n",
       "      <td>file_9987</td>\n",
       "      <td>road agriculture primary clear</td>\n",
       "    </tr>\n",
       "    <tr>\n",
       "      <th>61178</th>\n",
       "      <td>file_9988</td>\n",
       "      <td>primary clear</td>\n",
       "    </tr>\n",
       "    <tr>\n",
       "      <th>61179</th>\n",
       "      <td>file_9989</td>\n",
       "      <td>habitation road agriculture primary clear</td>\n",
       "    </tr>\n",
       "    <tr>\n",
       "      <th>61180</th>\n",
       "      <td>file_999</td>\n",
       "      <td>habitation road agriculture primary clear</td>\n",
       "    </tr>\n",
       "    <tr>\n",
       "      <th>61181</th>\n",
       "      <td>file_9990</td>\n",
       "      <td>primary clear</td>\n",
       "    </tr>\n",
       "    <tr>\n",
       "      <th>61182</th>\n",
       "      <td>file_9991</td>\n",
       "      <td>cultivation road agriculture water primary clear</td>\n",
       "    </tr>\n",
       "    <tr>\n",
       "      <th>61183</th>\n",
       "      <td>file_9992</td>\n",
       "      <td>primary clear</td>\n",
       "    </tr>\n",
       "    <tr>\n",
       "      <th>61184</th>\n",
       "      <td>file_9993</td>\n",
       "      <td>water primary clear</td>\n",
       "    </tr>\n",
       "    <tr>\n",
       "      <th>61185</th>\n",
       "      <td>file_9994</td>\n",
       "      <td>water primary partly_cloudy</td>\n",
       "    </tr>\n",
       "    <tr>\n",
       "      <th>61186</th>\n",
       "      <td>file_9995</td>\n",
       "      <td>primary partly_cloudy cloudy</td>\n",
       "    </tr>\n",
       "    <tr>\n",
       "      <th>61187</th>\n",
       "      <td>file_9996</td>\n",
       "      <td>water primary clear</td>\n",
       "    </tr>\n",
       "    <tr>\n",
       "      <th>61188</th>\n",
       "      <td>file_9997</td>\n",
       "      <td>primary clear</td>\n",
       "    </tr>\n",
       "    <tr>\n",
       "      <th>61189</th>\n",
       "      <td>file_9998</td>\n",
       "      <td>cloudy</td>\n",
       "    </tr>\n",
       "    <tr>\n",
       "      <th>61190</th>\n",
       "      <td>file_9999</td>\n",
       "      <td>habitation road primary clear</td>\n",
       "    </tr>\n",
       "  </tbody>\n",
       "</table>\n",
       "<p>61191 rows × 2 columns</p>\n",
       "</div>"
      ],
      "text/plain": [
       "      image_name                                               tags\n",
       "0         test_0                                      primary clear\n",
       "1         test_1                                      primary clear\n",
       "2         test_2                              primary partly_cloudy\n",
       "3         test_3  cultivation agriculture primary partly_cloudy ...\n",
       "4         test_4                       primary partly_cloudy cloudy\n",
       "5         test_5                                      primary clear\n",
       "6         test_6  cultivation road agriculture primary partly_cl...\n",
       "7         test_7          habitation road agriculture primary clear\n",
       "8         test_8                                      primary clear\n",
       "9         test_9         cultivation agriculture primary clear haze\n",
       "10       test_10                              primary partly_cloudy\n",
       "11       test_11              cultivation agriculture primary clear\n",
       "12       test_12                                             cloudy\n",
       "13       test_13                     road agriculture primary clear\n",
       "14       test_14              cultivation agriculture primary clear\n",
       "15       test_15                                      primary clear\n",
       "16       test_16  cultivation habitation road agriculture primar...\n",
       "17       test_17                              primary partly_cloudy\n",
       "18       test_18                                 primary clear haze\n",
       "19       test_19         selective_logging road water primary clear\n",
       "20       test_20                    agriculture water primary clear\n",
       "21       test_21                                water primary clear\n",
       "22       test_22    habitation road agriculture water primary clear\n",
       "23       test_23                                             cloudy\n",
       "24       test_24            agriculture water primary partly_cloudy\n",
       "25       test_25                                      primary clear\n",
       "26       test_26             road agriculture primary partly_cloudy\n",
       "27       test_27              bare_ground agriculture primary clear\n",
       "28       test_28       road agriculture water primary partly_cloudy\n",
       "29       test_29                                      primary clear\n",
       "...          ...                                                ...\n",
       "61161  file_9972              cultivation agriculture primary clear\n",
       "61162  file_9973  cultivation habitation road agriculture primar...\n",
       "61163  file_9974                                      primary clear\n",
       "61164  file_9975                        primary partly_cloudy clear\n",
       "61165  file_9976              cultivation agriculture primary clear\n",
       "61166  file_9977                                      primary clear\n",
       "61167  file_9978                              primary partly_cloudy\n",
       "61168  file_9979                                      primary clear\n",
       "61169   file_998                                      primary clear\n",
       "61170  file_9980                                      primary clear\n",
       "61171  file_9981         cultivation road agriculture primary clear\n",
       "61172  file_9982  cultivation habitation road agriculture water ...\n",
       "61173  file_9983                                      primary clear\n",
       "61174  file_9984                                      primary clear\n",
       "61175  file_9985                                      primary clear\n",
       "61176  file_9986                                      primary clear\n",
       "61177  file_9987                     road agriculture primary clear\n",
       "61178  file_9988                                      primary clear\n",
       "61179  file_9989          habitation road agriculture primary clear\n",
       "61180   file_999          habitation road agriculture primary clear\n",
       "61181  file_9990                                      primary clear\n",
       "61182  file_9991   cultivation road agriculture water primary clear\n",
       "61183  file_9992                                      primary clear\n",
       "61184  file_9993                                water primary clear\n",
       "61185  file_9994                        water primary partly_cloudy\n",
       "61186  file_9995                       primary partly_cloudy cloudy\n",
       "61187  file_9996                                water primary clear\n",
       "61188  file_9997                                      primary clear\n",
       "61189  file_9998                                             cloudy\n",
       "61190  file_9999                      habitation road primary clear\n",
       "\n",
       "[61191 rows x 2 columns]"
      ]
     },
     "execution_count": 167,
     "metadata": {},
     "output_type": "execute_result"
    }
   ],
   "source": [
    "subm"
   ]
  },
  {
   "cell_type": "code",
   "execution_count": 168,
   "metadata": {
    "collapsed": false
   },
   "outputs": [
    {
     "name": "stdout",
     "output_type": "stream",
     "text": [
      "(61191, 17)\n"
     ]
    }
   ],
   "source": [
    "thresh,thresh1,thresh2,thresh3 = 0.2, 0.2, 0.25, 0.2\n",
    "y_pred = combine_predictions(x_test,y,y1,y2,thresh,thresh1,thresh2,thresh3)\n",
    "print(y_pred.shape)"
   ]
  },
  {
   "cell_type": "code",
   "execution_count": 169,
   "metadata": {
    "collapsed": true
   },
   "outputs": [],
   "source": [
    "labels_np = np.array(labels)\n",
    "preds = [' '.join(labels_np[np.array(y_pred[i,:],bool)]) for i in range(y_pred.shape[0])]\n",
    "subm = pd.DataFrame()\n",
    "subm['image_name'] = df_test.values[:,0]\n",
    "subm['tags'] = preds\n",
    "subm.to_csv('submission_3net_2.csv', index=False)\n",
    "#test set score:0.91448"
   ]
  },
  {
   "cell_type": "code",
   "execution_count": 170,
   "metadata": {
    "collapsed": false
   },
   "outputs": [
    {
     "name": "stdout",
     "output_type": "stream",
     "text": [
      "(61191, 17)\n"
     ]
    }
   ],
   "source": [
    "thresh,thresh1,thresh2,thresh3 = 0.2, 0.2, 0.2, 0.2\n",
    "y_pred = combine_predictions(x_test,y,y1,y2,thresh,thresh1,thresh2,thresh3)\n",
    "print(y_pred.shape)"
   ]
  },
  {
   "cell_type": "code",
   "execution_count": 171,
   "metadata": {
    "collapsed": true
   },
   "outputs": [],
   "source": [
    "labels_np = np.array(labels)\n",
    "preds = [' '.join(labels_np[np.array(y_pred[i,:],bool)]) for i in range(y_pred.shape[0])]\n",
    "subm = pd.DataFrame()\n",
    "subm['image_name'] = df_test.values[:,0]\n",
    "subm['tags'] = preds\n",
    "subm.to_csv('submission_3net_3.csv', index=False)\n",
    "#test set score:0.91429"
   ]
  },
  {
   "cell_type": "code",
   "execution_count": 172,
   "metadata": {
    "collapsed": false
   },
   "outputs": [
    {
     "name": "stdout",
     "output_type": "stream",
     "text": [
      "(61191, 17)\n"
     ]
    }
   ],
   "source": [
    "thresh,thresh1,thresh2,thresh3 = 0.25, 0.25, 0.25, 0.25\n",
    "y_pred = combine_predictions(x_test,y,y1,y2,thresh,thresh1,thresh2,thresh3)\n",
    "print(y_pred.shape)"
   ]
  },
  {
   "cell_type": "code",
   "execution_count": 173,
   "metadata": {
    "collapsed": true
   },
   "outputs": [],
   "source": [
    "labels_np = np.array(labels)\n",
    "preds = [' '.join(labels_np[np.array(y_pred[i,:],bool)]) for i in range(y_pred.shape[0])]\n",
    "subm = pd.DataFrame()\n",
    "subm['image_name'] = df_test.values[:,0]\n",
    "subm['tags'] = preds\n",
    "subm.to_csv('submission_3net_4.csv', index=False)\n",
    "#test set score:0.91308"
   ]
  },
  {
   "cell_type": "code",
   "execution_count": null,
   "metadata": {
    "collapsed": true
   },
   "outputs": [],
   "source": []
  }
 ],
 "metadata": {
  "kernelspec": {
   "display_name": "Python 3",
   "language": "python",
   "name": "python3"
  },
  "language_info": {
   "codemirror_mode": {
    "name": "ipython",
    "version": 3
   },
   "file_extension": ".py",
   "mimetype": "text/x-python",
   "name": "python",
   "nbconvert_exporter": "python",
   "pygments_lexer": "ipython3",
   "version": "3.5.2"
  }
 },
 "nbformat": 4,
 "nbformat_minor": 0
}
