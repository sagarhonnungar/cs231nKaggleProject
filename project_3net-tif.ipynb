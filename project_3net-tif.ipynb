{
 "cells": [
  {
   "cell_type": "code",
   "execution_count": 2,
   "metadata": {
    "collapsed": false,
    "scrolled": true
   },
   "outputs": [],
   "source": [
    "import numpy as np # linear algebra\n",
    "import pandas as pd # data processing, CSV file I/O (e.g. pd.read_csv)\n",
    "import os\n",
    "import gc\n",
    "\n",
    "import keras as k\n",
    "import tensorflow as tf\n",
    "from keras.models import Sequential, Model\n",
    "from keras.layers import Dense, Dropout, Flatten\n",
    "from keras.layers import Conv2D, MaxPooling2D, GlobalAveragePooling2D, Activation, BatchNormalization\n",
    "from keras.callbacks import EarlyStopping\n",
    "from keras.applications.inception_v3 import InceptionV3\n",
    "from keras.layers import Input\n",
    "from keras import backend as K\n",
    "from keras.optimizers import Adam\n",
    "from keras.preprocessing.image import ImageDataGenerator\n",
    "import cv2\n",
    "from tqdm import tqdm\n",
    "\n",
    "from sklearn.model_selection import train_test_split\n",
    "from sklearn.metrics import fbeta_score, precision_score \n",
    "from skimage import io,transform\n",
    "\n",
    "import time\n",
    "\n",
    "import os\n",
    "import fnmatch"
   ]
  },
  {
   "cell_type": "code",
   "execution_count": 3,
   "metadata": {
    "collapsed": true,
    "scrolled": true
   },
   "outputs": [],
   "source": [
    "datagen = ImageDataGenerator(\n",
    "    rotation_range=90,\n",
    "    fill_mode='reflect',\n",
    "    horizontal_flip=True,\n",
    "    vertical_flip=True)\n",
    "\n",
    "def multilabelmetrics(y_true,y_pred):\n",
    "    '''y_true and y_pred should be boolean np arrays\n",
    "    of shape num_example x num_classes '''\n",
    "    total = np.sum(y_true,axis = 0)\n",
    "    tp = np.sum(y_true*y_pred,axis=0)\n",
    "    tn = np.sum((1-y_true)*(1-y_pred),axis=0)\n",
    "    fp = np.sum((1-y_true)*y_pred,axis=0)\n",
    "    fn = np.sum(y_true*(1-y_pred),axis=0)\n",
    "    return total,tp,tn,fp,fn\n",
    "\n",
    "def combine_predictions(x,y,y1,y2,thresh,thresh1,thresh2,thresh3):\n",
    "    y_pred = np.zeros((x.shape[0],17),np.uint8)\n",
    "    y_bool = np.array((y > thresh),np.uint8)\n",
    "    y1_bool = np.array((y1 > thresh1),np.uint8)\n",
    "    y2_bool = np.array((y2 > thresh2)*np.tile(y1[:,0]>thresh3,(7,1)).T,np.uint8)\n",
    "    y_pred[:,:7] = y2_bool\n",
    "    y_pred[:,7:13] = y1_bool[:,1:]\n",
    "    y_pred[:,13:] = y_bool\n",
    "    return y_pred\n",
    "\n",
    "callbacks = [EarlyStopping(monitor='val_loss', patience=2, verbose=0)]"
   ]
  },
  {
   "cell_type": "code",
   "execution_count": 5,
   "metadata": {
    "collapsed": false,
    "scrolled": true
   },
   "outputs": [
    {
     "name": "stderr",
     "output_type": "stream",
     "text": [
      "\n",
      "  0%|          | 0/40479 [00:00<?, ?it/s]\u001b[A\n",
      "100%|██████████| 40479/40479 [30:06<00:00, 22.41it/s]"
     ]
    },
    {
     "name": "stdout",
     "output_type": "stream",
     "text": [
      "(40479, 32, 32, 4)\n",
      "(40479, 17)\n"
     ]
    },
    {
     "name": "stderr",
     "output_type": "stream",
     "text": [
      "\n"
     ]
    }
   ],
   "source": [
    "x_train = np.zeros((40479,32,32,4), np.float32)\n",
    "y_train = []\n",
    "\n",
    "df_train = pd.read_csv('train_v2.csv')\n",
    "\n",
    "labels = ['blow_down',\n",
    " 'bare_ground',\n",
    " 'conventional_mine',\n",
    " 'blooming',\n",
    " 'artisinal_mine',\n",
    " 'selective_logging',         \n",
    " 'slash_burn', \n",
    " 'cultivation',\n",
    " 'habitation',\n",
    " 'road',\n",
    " 'agriculture',\n",
    " 'water',\n",
    " 'primary',\n",
    " 'partly_cloudy', \n",
    " 'cloudy',\n",
    " 'clear',\n",
    " 'haze',]\n",
    "\n",
    "label_map = {l: i for i, l in enumerate(labels)}\n",
    "inv_label_map = {i: l for l, i in label_map.items()}\n",
    "\n",
    "i=0\n",
    "\n",
    "for f, tags in tqdm(df_train.values[:40479], miniters=1000):    \n",
    "    img = io.imread('train-tif-v2/{}.tif'.format(f))\n",
    "    targets = np.zeros(17)\n",
    "    for t in tags.split(' '):\n",
    "        targets[label_map[t]] = 1 \n",
    "    x_train[i,:,:,:] = np.array(transform.resize(img,(32,32),mode = 'constant'),np.float32)#automatically scales to [0,1] float\n",
    "    i+=1\n",
    "    y_train.append(targets)\n",
    "  \n",
    "y_train = np.array(y_train, np.uint8)\n",
    "\n",
    "print(x_train.shape)\n",
    "print(y_train.shape)"
   ]
  },
  {
   "cell_type": "code",
   "execution_count": 6,
   "metadata": {
    "collapsed": false
   },
   "outputs": [],
   "source": [
    "#subtracting mean\n",
    "train_mean = np.mean(x_train,axis = 0)\n",
    "x_train -= train_mean"
   ]
  },
  {
   "cell_type": "code",
   "execution_count": null,
   "metadata": {
    "collapsed": false
   },
   "outputs": [],
   "source": []
  },
  {
   "cell_type": "code",
   "execution_count": null,
   "metadata": {
    "collapsed": false
   },
   "outputs": [],
   "source": []
  },
  {
   "cell_type": "code",
   "execution_count": null,
   "metadata": {
    "collapsed": true
   },
   "outputs": [],
   "source": []
  },
  {
   "cell_type": "code",
   "execution_count": 13,
   "metadata": {
    "collapsed": false
   },
   "outputs": [],
   "source": []
  },
  {
   "cell_type": "code",
   "execution_count": 6,
   "metadata": {
    "collapsed": false,
    "scrolled": true
   },
   "outputs": [
    {
     "name": "stdout",
     "output_type": "stream",
     "text": [
      "(36431, 32, 32, 4)\n",
      "(36431, 4)\n",
      "(4048, 32, 32, 4)\n",
      "(4048, 4)\n"
     ]
    }
   ],
   "source": [
    "#weather classifier (last four labels - mutually exclusive)\n",
    "x_train, x_val, y_train_w, y_val_w = train_test_split(x_train,y_train[:,-4:],test_size=0.1)\n",
    "print(x_train.shape)\n",
    "print(y_train_w.shape)\n",
    "print(x_val.shape)\n",
    "print(y_val_w.shape)"
   ]
  },
  {
   "cell_type": "code",
   "execution_count": 7,
   "metadata": {
    "collapsed": false,
    "scrolled": true
   },
   "outputs": [],
   "source": [
    "model = Sequential()#using same architecture for all three models\n",
    "model.add(Conv2D(32, (3, 3), padding = 'same', input_shape=(32, 32, 4)))\n",
    "model.add(BatchNormalization())\n",
    "model.add(Activation('relu'))\n",
    "model.add(Conv2D(48, (3, 3), padding = 'same'))\n",
    "model.add(BatchNormalization())\n",
    "model.add(Activation('relu'))\n",
    "model.add(Conv2D(48, (3, 3), padding = 'same'))\n",
    "model.add(BatchNormalization())\n",
    "model.add(Activation('relu'))\n",
    "model.add(Conv2D(48, (3, 3), padding = 'same'))\n",
    "model.add(BatchNormalization())\n",
    "model.add(Activation('relu'))\n",
    "model.add(MaxPooling2D(pool_size=(2, 2)))\n",
    "model.add(Conv2D(64, (3, 3), padding = 'same'))\n",
    "model.add(BatchNormalization())\n",
    "model.add(Activation('relu'))\n",
    "model.add(Conv2D(64, (3, 3), padding = 'same'))\n",
    "model.add(BatchNormalization())\n",
    "model.add(Activation('relu'))\n",
    "model.add(Conv2D(64, (3, 3), padding = 'same'))\n",
    "model.add(BatchNormalization())\n",
    "model.add(Activation('relu'))\n",
    "model.add(MaxPooling2D(pool_size=(2, 2)))\n",
    "model.add(Conv2D(128, (3, 3), padding = 'same'))\n",
    "model.add(BatchNormalization())\n",
    "model.add(Activation('relu'))\n",
    "model.add(Conv2D(128, (3, 3), padding = 'same'))\n",
    "model.add(BatchNormalization())\n",
    "model.add(Activation('relu'))\n",
    "model.add(Conv2D(128, (3, 3), padding = 'same'))\n",
    "model.add(BatchNormalization())\n",
    "model.add(Activation('relu'))\n",
    "model.add(MaxPooling2D(pool_size=(2, 2)))\n",
    "model.add(Flatten())\n",
    "model.add(Dense(2048))\n",
    "model.add(BatchNormalization())\n",
    "model.add(Activation('relu'))\n",
    "model.add(Dense(1024))\n",
    "model.add(BatchNormalization())\n",
    "model.add(Activation('relu'))\n",
    "model.add(Dense(4, activation='softmax'))"
   ]
  },
  {
   "cell_type": "code",
   "execution_count": 10,
   "metadata": {
    "collapsed": false,
    "scrolled": true
   },
   "outputs": [
    {
     "name": "stdout",
     "output_type": "stream",
     "text": [
      "Epoch 1/10\n",
      "51s - loss: 0.2798 - acc: 0.9020 - val_loss: 0.3372 - val_acc: 0.8958\n",
      "Epoch 2/10\n",
      "50s - loss: 0.2739 - acc: 0.9037 - val_loss: 0.3277 - val_acc: 0.8849\n",
      "Epoch 3/10\n",
      "50s - loss: 0.2693 - acc: 0.9066 - val_loss: 0.5435 - val_acc: 0.8172\n",
      "Epoch 4/10\n",
      "50s - loss: 0.2695 - acc: 0.9054 - val_loss: 0.3443 - val_acc: 0.8755\n",
      "Epoch 5/10\n",
      "50s - loss: 0.2675 - acc: 0.9077 - val_loss: 0.3291 - val_acc: 0.8799\n"
     ]
    },
    {
     "data": {
      "text/plain": [
       "<keras.callbacks.History at 0x7fe7cc05ff98>"
      ]
     },
     "execution_count": 10,
     "metadata": {},
     "output_type": "execute_result"
    }
   ],
   "source": [
    "model.compile(loss='categorical_crossentropy', \n",
    "              optimizer='adam',\n",
    "              metrics=['accuracy'])    \n",
    "model.fit_generator(datagen.flow(x_train,y_train_w, batch_size = 128), validation_data=(x_val, y_val_w),\n",
    "                  verbose=2, epochs=10, steps_per_epoch=x_train.shape[0]/ 128, callbacks=callbacks,\n",
    "                  )"
   ]
  },
  {
   "cell_type": "code",
   "execution_count": 11,
   "metadata": {
    "collapsed": false,
    "scrolled": true
   },
   "outputs": [
    {
     "name": "stdout",
     "output_type": "stream",
     "text": [
      "thresh: 0.05 \tF2 score: 0.895511304818\n",
      "thresh: 0.1 \tF2 score: 0.911627435065\n",
      "thresh: 0.15 \tF2 score: 0.917131328816\n",
      "thresh: 0.2 \tF2 score: 0.912972896669\n",
      "thresh: 0.25 \tF2 score: 0.909155608884\n",
      "thresh: 0.3 \tF2 score: 0.906779361942\n",
      "thresh: 0.35 \tF2 score: 0.901515151515\n"
     ]
    },
    {
     "name": "stderr",
     "output_type": "stream",
     "text": [
      "/home/cs231n/myVE35/lib/python3.5/site-packages/sklearn/metrics/classification.py:1113: UndefinedMetricWarning: F-score is ill-defined and being set to 0.0 in samples with no predicted labels.\n",
      "  'precision', 'predicted', average, warn_for)\n"
     ]
    }
   ],
   "source": [
    "y_pred = model.predict(x_val,batch_size=128)\n",
    "for thresh in [0.05,0.1,0.15,0.2,0.25,0.3,0.35]:\n",
    "    print(\"thresh:\",thresh,\"\\tF2 score:\",fbeta_score(y_val_w, np.array(y_pred)>thresh, beta=2, average='samples'))"
   ]
  },
  {
   "cell_type": "code",
   "execution_count": 17,
   "metadata": {
    "collapsed": false,
    "scrolled": true
   },
   "outputs": [
    {
     "name": "stdout",
     "output_type": "stream",
     "text": [
      "Epoch 1/10\n",
      "53s - loss: 0.2324 - acc: 0.9170 - val_loss: 0.5679 - val_acc: 0.7735\n",
      "Epoch 2/10\n",
      "50s - loss: 0.2301 - acc: 0.9178 - val_loss: 0.2679 - val_acc: 0.9103\n",
      "Epoch 3/10\n",
      "50s - loss: 0.2311 - acc: 0.9182 - val_loss: 1.5175 - val_acc: 0.4333\n",
      "Epoch 4/10\n",
      "50s - loss: 0.2258 - acc: 0.9198 - val_loss: 0.2574 - val_acc: 0.9118\n",
      "Epoch 5/10\n",
      "50s - loss: 0.2295 - acc: 0.9182 - val_loss: 0.3053 - val_acc: 0.8970\n",
      "Epoch 6/10\n",
      "50s - loss: 0.2283 - acc: 0.9197 - val_loss: 0.8871 - val_acc: 0.5949\n",
      "Epoch 7/10\n",
      "50s - loss: 0.2259 - acc: 0.9197 - val_loss: 0.3420 - val_acc: 0.8654\n"
     ]
    },
    {
     "data": {
      "text/plain": [
       "<keras.callbacks.History at 0x7fe792d8ff28>"
      ]
     },
     "execution_count": 17,
     "metadata": {},
     "output_type": "execute_result"
    }
   ],
   "source": [
    "#continue with reduced learning rate\n",
    "model.compile(loss='categorical_crossentropy', \n",
    "              optimizer=Adam(lr=0.0005),\n",
    "              metrics=['accuracy']) \n",
    "model.fit_generator(datagen.flow(x_train,y_train_w, batch_size = 128), validation_data=(x_val, y_val_w),\n",
    "                  verbose=2, epochs=10, steps_per_epoch=x_train.shape[0]/ 128, callbacks=callbacks,\n",
    "                  )"
   ]
  },
  {
   "cell_type": "code",
   "execution_count": 18,
   "metadata": {
    "collapsed": false,
    "scrolled": true
   },
   "outputs": [
    {
     "name": "stdout",
     "output_type": "stream",
     "text": [
      "thresh: 0.05 \tF2 score: 0.885275503482\n",
      "thresh: 0.1 \tF2 score: 0.904314888011\n",
      "thresh: 0.15 \tF2 score: 0.910733401562\n",
      "thresh: 0.2 \tF2 score: 0.911067193676\n",
      "thresh: 0.25 \tF2 score: 0.904403115001\n",
      "thresh: 0.3 \tF2 score: 0.896115659703\n",
      "thresh: 0.35 \tF2 score: 0.885787220026\n"
     ]
    },
    {
     "name": "stderr",
     "output_type": "stream",
     "text": [
      "/home/cs231n/myVE35/lib/python3.5/site-packages/sklearn/metrics/classification.py:1113: UndefinedMetricWarning: F-score is ill-defined and being set to 0.0 in samples with no predicted labels.\n",
      "  'precision', 'predicted', average, warn_for)\n"
     ]
    }
   ],
   "source": [
    "y_pred = model.predict(x_val,batch_size=128)\n",
    "for thresh in [0.05,0.1,0.15,0.2,0.25,0.3,0.35]:\n",
    "    print(\"thresh:\",thresh,\"\\tF2 score:\",fbeta_score(y_val_w, np.array(y_pred)>thresh, beta=2, average='samples'))"
   ]
  },
  {
   "cell_type": "code",
   "execution_count": 20,
   "metadata": {
    "collapsed": false,
    "scrolled": true
   },
   "outputs": [
    {
     "name": "stdout",
     "output_type": "stream",
     "text": [
      "Epoch 1/10\n",
      "53s - loss: 0.2128 - acc: 0.9230 - val_loss: 0.2325 - val_acc: 0.9163\n",
      "Epoch 2/10\n",
      "50s - loss: 0.2148 - acc: 0.9224 - val_loss: 0.2392 - val_acc: 0.9150\n",
      "Epoch 3/10\n",
      "50s - loss: 0.2130 - acc: 0.9227 - val_loss: 0.2427 - val_acc: 0.9155\n",
      "Epoch 4/10\n",
      "50s - loss: 0.2119 - acc: 0.9235 - val_loss: 0.2319 - val_acc: 0.9202\n",
      "Epoch 5/10\n",
      "50s - loss: 0.2115 - acc: 0.9232 - val_loss: 0.2357 - val_acc: 0.9190\n",
      "Epoch 6/10\n",
      "50s - loss: 0.2121 - acc: 0.9240 - val_loss: 0.2370 - val_acc: 0.9155\n",
      "Epoch 7/10\n",
      "50s - loss: 0.2121 - acc: 0.9231 - val_loss: 0.2348 - val_acc: 0.9163\n"
     ]
    },
    {
     "data": {
      "text/plain": [
       "<keras.callbacks.History at 0x7fe7900d3240>"
      ]
     },
     "execution_count": 20,
     "metadata": {},
     "output_type": "execute_result"
    }
   ],
   "source": [
    "#continue with reduced learning rate\n",
    "model.compile(loss='categorical_crossentropy', \n",
    "              optimizer=Adam(lr=0.0002),\n",
    "              metrics=['accuracy']) \n",
    "model.fit_generator(datagen.flow(x_train,y_train_w, batch_size = 128), validation_data=(x_val, y_val_w),\n",
    "                  verbose=2, epochs=10, steps_per_epoch=x_train.shape[0]/ 128, callbacks=callbacks,\n",
    "                  )"
   ]
  },
  {
   "cell_type": "code",
   "execution_count": 21,
   "metadata": {
    "collapsed": false
   },
   "outputs": [
    {
     "name": "stdout",
     "output_type": "stream",
     "text": [
      "thresh: 0.05 \tF2 score: 0.929538984566\n",
      "thresh: 0.1 \tF2 score: 0.939752729155\n",
      "thresh: 0.15 \tF2 score: 0.94052912667\n",
      "thresh: 0.2 \tF2 score: 0.939029267834\n",
      "thresh: 0.25 \tF2 score: 0.93878811406\n",
      "thresh: 0.3 \tF2 score: 0.936964756258\n",
      "thresh: 0.35 \tF2 score: 0.931282938076\n"
     ]
    }
   ],
   "source": [
    "y_pred = model.predict(x_val,batch_size=128)\n",
    "for thresh in [0.05,0.1,0.15,0.2,0.25,0.3,0.35]:\n",
    "    print(\"thresh:\",thresh,\"\\tF2 score:\",fbeta_score(y_val_w, np.array(y_pred)>thresh, beta=2, average='samples'))"
   ]
  },
  {
   "cell_type": "code",
   "execution_count": 22,
   "metadata": {
    "collapsed": false,
    "scrolled": true
   },
   "outputs": [
    {
     "name": "stdout",
     "output_type": "stream",
     "text": [
      "Epoch 1/10\n",
      "53s - loss: 0.2076 - acc: 0.9243 - val_loss: 0.2295 - val_acc: 0.9200\n",
      "Epoch 2/10\n",
      "50s - loss: 0.2067 - acc: 0.9255 - val_loss: 0.2311 - val_acc: 0.9187\n",
      "Epoch 3/10\n",
      "50s - loss: 0.2064 - acc: 0.9247 - val_loss: 0.2290 - val_acc: 0.9190\n",
      "Epoch 4/10\n",
      "50s - loss: 0.2074 - acc: 0.9247 - val_loss: 0.2339 - val_acc: 0.9175\n",
      "Epoch 5/10\n",
      "50s - loss: 0.2055 - acc: 0.9257 - val_loss: 0.2328 - val_acc: 0.9185\n",
      "Epoch 6/10\n",
      "50s - loss: 0.2045 - acc: 0.9265 - val_loss: 0.2300 - val_acc: 0.9185\n"
     ]
    },
    {
     "data": {
      "text/plain": [
       "<keras.callbacks.History at 0x7fe78e572668>"
      ]
     },
     "execution_count": 22,
     "metadata": {},
     "output_type": "execute_result"
    }
   ],
   "source": [
    "#continue with reduced learning rate\n",
    "model.compile(optimizer=Adam(lr=0.0001), loss='categorical_crossentropy', metrics=['accuracy'])\n",
    "model.fit_generator(datagen.flow(x_train,y_train_w, batch_size = 128), validation_data=(x_val, y_val_w),\n",
    "                  verbose=2, epochs=10, steps_per_epoch=x_train.shape[0]/ 128, callbacks=callbacks,\n",
    "                  )"
   ]
  },
  {
   "cell_type": "code",
   "execution_count": 23,
   "metadata": {
    "collapsed": false,
    "scrolled": true
   },
   "outputs": [
    {
     "name": "stdout",
     "output_type": "stream",
     "text": [
      "thresh: 0.05 \tF2 score: 0.931025609354\n",
      "thresh: 0.1 \tF2 score: 0.942417184265\n",
      "thresh: 0.15 \tF2 score: 0.942870082816\n",
      "thresh: 0.2 \tF2 score: 0.940570299266\n",
      "thresh: 0.25 \tF2 score: 0.939952710333\n",
      "thresh: 0.3 \tF2 score: 0.937552936194\n",
      "thresh: 0.35 \tF2 score: 0.933300395257\n"
     ]
    },
    {
     "name": "stderr",
     "output_type": "stream",
     "text": [
      "/home/cs231n/myVE35/lib/python3.5/site-packages/sklearn/metrics/classification.py:1113: UndefinedMetricWarning: F-score is ill-defined and being set to 0.0 in samples with no predicted labels.\n",
      "  'precision', 'predicted', average, warn_for)\n"
     ]
    }
   ],
   "source": [
    "y_pred = model.predict(x_val,batch_size=128)\n",
    "for thresh in [0.05,0.1,0.15,0.2,0.25,0.3,0.35]:\n",
    "    print(\"thresh:\",thresh,\"\\tF2 score:\",fbeta_score(y_val_w, np.array(y_pred)>thresh, beta=2, average='samples'))"
   ]
  },
  {
   "cell_type": "code",
   "execution_count": 25,
   "metadata": {
    "collapsed": false,
    "scrolled": true
   },
   "outputs": [
    {
     "name": "stdout",
     "output_type": "stream",
     "text": [
      "Epoch 1/20\n",
      "54s - loss: 0.2023 - acc: 0.9262 - val_loss: 0.2309 - val_acc: 0.9172\n",
      "Epoch 2/20\n",
      "50s - loss: 0.2024 - acc: 0.9275 - val_loss: 0.2283 - val_acc: 0.9205\n",
      "Epoch 3/20\n",
      "50s - loss: 0.2031 - acc: 0.9263 - val_loss: 0.2317 - val_acc: 0.9195\n",
      "Epoch 4/20\n",
      "50s - loss: 0.2023 - acc: 0.9259 - val_loss: 0.2301 - val_acc: 0.9192\n",
      "Epoch 5/20\n",
      "50s - loss: 0.2019 - acc: 0.9266 - val_loss: 0.2308 - val_acc: 0.9150\n",
      "Epoch 6/20\n",
      "50s - loss: 0.2004 - acc: 0.9269 - val_loss: 0.2294 - val_acc: 0.9195\n",
      "Epoch 7/20\n",
      "50s - loss: 0.2016 - acc: 0.9265 - val_loss: 0.2282 - val_acc: 0.9190\n",
      "Epoch 8/20\n",
      "50s - loss: 0.2006 - acc: 0.9273 - val_loss: 0.2308 - val_acc: 0.9170\n",
      "Epoch 9/20\n",
      "50s - loss: 0.2005 - acc: 0.9259 - val_loss: 0.2298 - val_acc: 0.9200\n",
      "Epoch 10/20\n",
      "50s - loss: 0.2004 - acc: 0.9267 - val_loss: 0.2321 - val_acc: 0.9170\n",
      "Epoch 11/20\n",
      "50s - loss: 0.2016 - acc: 0.9264 - val_loss: 0.2303 - val_acc: 0.9185\n",
      "Epoch 12/20\n",
      "50s - loss: 0.2010 - acc: 0.9272 - val_loss: 0.2277 - val_acc: 0.9195\n",
      "Epoch 13/20\n",
      "50s - loss: 0.1986 - acc: 0.9279 - val_loss: 0.2317 - val_acc: 0.9185\n",
      "Epoch 14/20\n",
      "50s - loss: 0.1989 - acc: 0.9284 - val_loss: 0.2300 - val_acc: 0.9165\n",
      "Epoch 15/20\n",
      "50s - loss: 0.2001 - acc: 0.9269 - val_loss: 0.2320 - val_acc: 0.9180\n",
      "Epoch 16/20\n",
      "50s - loss: 0.1996 - acc: 0.9267 - val_loss: 0.2299 - val_acc: 0.9195\n",
      "Epoch 17/20\n",
      "50s - loss: 0.1997 - acc: 0.9268 - val_loss: 0.2319 - val_acc: 0.9177\n",
      "Epoch 18/20\n",
      "50s - loss: 0.2004 - acc: 0.9272 - val_loss: 0.2301 - val_acc: 0.9170\n",
      "Epoch 19/20\n",
      "50s - loss: 0.1996 - acc: 0.9267 - val_loss: 0.2320 - val_acc: 0.9177\n",
      "Epoch 20/20\n",
      "50s - loss: 0.1985 - acc: 0.9274 - val_loss: 0.2295 - val_acc: 0.9177\n"
     ]
    },
    {
     "data": {
      "text/plain": [
       "<keras.callbacks.History at 0x7fe78ad51940>"
      ]
     },
     "execution_count": 25,
     "metadata": {},
     "output_type": "execute_result"
    }
   ],
   "source": [
    "#continue with reduced learning rate\n",
    "model.compile(optimizer=Adam(lr=0.00005), loss='categorical_crossentropy', metrics=['accuracy'])\n",
    "model.fit_generator(datagen.flow(x_train,y_train_w, batch_size = 128), validation_data=(x_val, y_val_w),\n",
    "                  verbose=2, epochs=20, steps_per_epoch=x_train.shape[0]/ 128, #callbacks=callbacks,\n",
    "                  )"
   ]
  },
  {
   "cell_type": "code",
   "execution_count": null,
   "metadata": {
    "collapsed": false,
    "scrolled": true
   },
   "outputs": [],
   "source": [
    "y_pred = model.predict(x_val,batch_size=128)\n",
    "for thresh in [0.05,0.1,0.15,0.2,0.25,0.3,0.35]:\n",
    "    print(\"thresh:\",thresh,\"\\tF2 score:\",fbeta_score(y_val_w, np.array(y_pred)>thresh, beta=2, average='samples'))"
   ]
  },
  {
   "cell_type": "code",
   "execution_count": 26,
   "metadata": {
    "collapsed": false,
    "scrolled": true
   },
   "outputs": [],
   "source": [
    "model.save(\"simple_tif_weather\")"
   ]
  },
  {
   "cell_type": "code",
   "execution_count": 27,
   "metadata": {
    "collapsed": false,
    "scrolled": true
   },
   "outputs": [
    {
     "name": "stderr",
     "output_type": "stream",
     "text": [
      "100%|██████████| 40479/40479 [02:03<00:00, 326.65it/s]"
     ]
    },
    {
     "name": "stdout",
     "output_type": "stream",
     "text": [
      "(40479, 32, 32, 4)\n",
      "(40479, 17)\n"
     ]
    },
    {
     "name": "stderr",
     "output_type": "stream",
     "text": [
      "\n"
     ]
    }
   ],
   "source": [
    "x_val = []\n",
    "x_train = []\n",
    "x_train = np.zeros((40479,32,32,4), np.float32)\n",
    "y_train = []\n",
    "\n",
    "df_train = pd.read_csv('train_v2.csv')\n",
    "\n",
    "labels = ['blow_down',\n",
    " 'bare_ground',\n",
    " 'conventional_mine',\n",
    " 'blooming',\n",
    " 'artisinal_mine',\n",
    " 'selective_logging',         \n",
    " 'slash_burn', \n",
    " 'cultivation',\n",
    " 'habitation',\n",
    " 'road',\n",
    " 'agriculture',\n",
    " 'water',\n",
    " 'primary',\n",
    " 'partly_cloudy', \n",
    " 'cloudy',\n",
    " 'clear',\n",
    " 'haze',]\n",
    "\n",
    "label_map = {l: i for i, l in enumerate(labels)}\n",
    "inv_label_map = {i: l for l, i in label_map.items()}\n",
    "\n",
    "i=0\n",
    "\n",
    "for f, tags in tqdm(df_train.values[:40479], miniters=1000):    \n",
    "    img = io.imread('train-tif-v2/{}.tif'.format(f))\n",
    "    targets = np.zeros(17)\n",
    "    for t in tags.split(' '):\n",
    "        targets[label_map[t]] = 1 \n",
    "    x_train[i,:,:,:] = np.array(transform.resize(img,(32,32),mode = 'constant'),np.float32)#automatically scales to [0,1] float\n",
    "    i+=1\n",
    "    y_train.append(targets)\n",
    "  \n",
    "y_train = np.array(y_train, np.uint8)\n",
    "\n",
    "print(x_train.shape)\n",
    "print(y_train.shape)"
   ]
  },
  {
   "cell_type": "code",
   "execution_count": 9,
   "metadata": {
    "collapsed": true,
    "scrolled": true
   },
   "outputs": [],
   "source": [
    "y_train_2 = np.zeros((y_train.shape[0],7))\n",
    "y_train_2[:,1:] = y_train[:,7:13]\n",
    "y_train_2[:,0] = (np.sum(y_train[:,:7],axis=1)>0)\n",
    "y_train_2 = np.array(y_train_2,np.uint8)"
   ]
  },
  {
   "cell_type": "code",
   "execution_count": 10,
   "metadata": {
    "collapsed": false,
    "scrolled": true
   },
   "outputs": [
    {
     "name": "stdout",
     "output_type": "stream",
     "text": [
      "[0 1 0 0 0 0 0 0 0 0 0 1 0 0 0 1 0]\n",
      "[1 0 0 0 0 1 0]\n"
     ]
    }
   ],
   "source": [
    "print(y_train[100,:])\n",
    "print(y_train_2[100,:])"
   ]
  },
  {
   "cell_type": "code",
   "execution_count": 11,
   "metadata": {
    "collapsed": false,
    "scrolled": true
   },
   "outputs": [
    {
     "name": "stdout",
     "output_type": "stream",
     "text": [
      "(36431, 32, 32, 4)\n",
      "(36431, 7)\n",
      "(4048, 32, 32, 4)\n",
      "(4048, 7)\n"
     ]
    }
   ],
   "source": [
    "x_train -= train_mean\n",
    "x_train, x_val, y_train_2, y_val_2 = train_test_split(x_train,y_train_2,test_size=0.1)\n",
    "print(x_train.shape)\n",
    "print(y_train_2.shape)\n",
    "print(x_val.shape)\n",
    "print(y_val_2.shape)"
   ]
  },
  {
   "cell_type": "code",
   "execution_count": 31,
   "metadata": {
    "collapsed": false,
    "scrolled": true
   },
   "outputs": [],
   "source": [
    "#model for the more common classes + 1 class for others\n",
    "model1 = Sequential()\n",
    "model1.add(Conv2D(32, (3, 3), padding = 'same', input_shape=(32, 32, 4)))\n",
    "model1.add(BatchNormalization())\n",
    "model1.add(Activation('relu'))\n",
    "model1.add(Conv2D(48, (3, 3), padding = 'same'))\n",
    "model1.add(BatchNormalization())\n",
    "model1.add(Activation('relu'))\n",
    "model1.add(Conv2D(48, (3, 3), padding = 'same'))\n",
    "model1.add(BatchNormalization())\n",
    "model1.add(Activation('relu'))\n",
    "model1.add(Conv2D(48, (3, 3), padding = 'same'))\n",
    "model1.add(BatchNormalization())\n",
    "model1.add(Activation('relu'))\n",
    "model1.add(MaxPooling2D(pool_size=(2, 2)))\n",
    "model1.add(Conv2D(64, (3, 3), padding = 'same'))\n",
    "model1.add(BatchNormalization())\n",
    "model1.add(Activation('relu'))\n",
    "model1.add(Conv2D(64, (3, 3), padding = 'same'))\n",
    "model1.add(BatchNormalization())\n",
    "model1.add(Activation('relu'))\n",
    "model1.add(Conv2D(64, (3, 3), padding = 'same'))\n",
    "model1.add(BatchNormalization())\n",
    "model1.add(Activation('relu'))\n",
    "model1.add(MaxPooling2D(pool_size=(2, 2)))\n",
    "model1.add(Conv2D(128, (3, 3), padding = 'same'))\n",
    "model1.add(BatchNormalization())\n",
    "model1.add(Activation('relu'))\n",
    "model1.add(Conv2D(128, (3, 3), padding = 'same'))\n",
    "model1.add(BatchNormalization())\n",
    "model1.add(Activation('relu'))\n",
    "model1.add(Conv2D(128, (3, 3), padding = 'same'))\n",
    "model1.add(BatchNormalization())\n",
    "model1.add(Activation('relu'))\n",
    "model1.add(MaxPooling2D(pool_size=(2, 2)))\n",
    "model1.add(Flatten())\n",
    "model1.add(Dense(2048))\n",
    "model1.add(BatchNormalization())\n",
    "model1.add(Activation('relu'))\n",
    "model1.add(Dense(1024))\n",
    "model1.add(BatchNormalization())\n",
    "model1.add(Activation('relu'))\n",
    "model1.add(Dense(7, activation='sigmoid'))"
   ]
  },
  {
   "cell_type": "code",
   "execution_count": 16,
   "metadata": {
    "collapsed": false,
    "scrolled": true
   },
   "outputs": [
    {
     "name": "stdout",
     "output_type": "stream",
     "text": [
      "Epoch 1/10\n",
      "52s - loss: 0.1931 - acc: 0.9239 - val_loss: 0.2500 - val_acc: 0.9066\n",
      "Epoch 2/10\n",
      "51s - loss: 0.1905 - acc: 0.9254 - val_loss: 0.2186 - val_acc: 0.9136\n",
      "Epoch 3/10\n",
      "51s - loss: 0.1905 - acc: 0.9252 - val_loss: 0.2065 - val_acc: 0.9205\n",
      "Epoch 4/10\n",
      "50s - loss: 0.1899 - acc: 0.9257 - val_loss: 0.2079 - val_acc: 0.9193\n",
      "Epoch 5/10\n",
      "51s - loss: 0.1896 - acc: 0.9253 - val_loss: 0.2203 - val_acc: 0.9195\n",
      "Epoch 6/10\n",
      "51s - loss: 0.1901 - acc: 0.9254 - val_loss: 0.2191 - val_acc: 0.9118\n"
     ]
    },
    {
     "data": {
      "text/plain": [
       "<keras.callbacks.History at 0x7f627a96a0f0>"
      ]
     },
     "execution_count": 16,
     "metadata": {},
     "output_type": "execute_result"
    }
   ],
   "source": [
    "model1.compile(loss='binary_crossentropy', \n",
    "              optimizer='adam',\n",
    "              metrics=['accuracy'])\n",
    "\n",
    "model1.fit_generator(datagen.flow(x_train,y_train_2, batch_size = 128), validation_data=(x_val, y_val_2),\n",
    "                  verbose=2, epochs=10, steps_per_epoch=x_train.shape[0]/ 128, callbacks=callbacks,\n",
    "                  )"
   ]
  },
  {
   "cell_type": "code",
   "execution_count": 17,
   "metadata": {
    "collapsed": false,
    "scrolled": true
   },
   "outputs": [
    {
     "name": "stdout",
     "output_type": "stream",
     "text": [
      "thresh: 0.05 \tF2 score: 0.838365032791\n",
      "thresh: 0.1 \tF2 score: 0.847489631401\n",
      "thresh: 0.15 \tF2 score: 0.846188746368\n",
      "thresh: 0.2 \tF2 score: 0.840427564313\n",
      "thresh: 0.25 \tF2 score: 0.835974225949\n",
      "thresh: 0.3 \tF2 score: 0.82996729379\n",
      "thresh: 0.35 \tF2 score: 0.823564123933\n"
     ]
    },
    {
     "name": "stderr",
     "output_type": "stream",
     "text": [
      "/home/cs231n/myVE35/lib/python3.5/site-packages/sklearn/metrics/classification.py:1113: UndefinedMetricWarning: F-score is ill-defined and being set to 0.0 in samples with no predicted labels.\n",
      "  'precision', 'predicted', average, warn_for)\n",
      "/home/cs231n/myVE35/lib/python3.5/site-packages/sklearn/metrics/classification.py:1115: UndefinedMetricWarning: F-score is ill-defined and being set to 0.0 in samples with no true labels.\n",
      "  'recall', 'true', average, warn_for)\n"
     ]
    }
   ],
   "source": [
    "y_pred = model1.predict(x_val,batch_size=128)\n",
    "for thresh in [0.05,0.1,0.15,0.2,0.25,0.3,0.35]:\n",
    "    print(\"thresh:\",thresh,\"\\tF2 score:\",fbeta_score(y_val_2, np.array(y_pred)>thresh, beta=2, average='samples'))"
   ]
  },
  {
   "cell_type": "code",
   "execution_count": 19,
   "metadata": {
    "collapsed": false,
    "scrolled": true
   },
   "outputs": [
    {
     "name": "stdout",
     "output_type": "stream",
     "text": [
      "Epoch 1/10\n",
      "53s - loss: 0.1789 - acc: 0.9296 - val_loss: 0.1823 - val_acc: 0.9291\n",
      "Epoch 2/10\n",
      "50s - loss: 0.1790 - acc: 0.9293 - val_loss: 0.1898 - val_acc: 0.9243\n",
      "Epoch 3/10\n",
      "50s - loss: 0.1781 - acc: 0.9299 - val_loss: 0.1912 - val_acc: 0.9259\n",
      "Epoch 4/10\n",
      "51s - loss: 0.1777 - acc: 0.9294 - val_loss: 0.1844 - val_acc: 0.9281\n"
     ]
    },
    {
     "data": {
      "text/plain": [
       "<keras.callbacks.History at 0x7f62731aae10>"
      ]
     },
     "execution_count": 19,
     "metadata": {},
     "output_type": "execute_result"
    }
   ],
   "source": [
    "#continue with reduced learning rate\n",
    "model1.compile(loss='binary_crossentropy', \n",
    "              optimizer=Adam(lr=0.0005),\n",
    "              metrics=['accuracy']) \n",
    "model1.fit_generator(datagen.flow(x_train,y_train_2, batch_size = 128), validation_data=(x_val, y_val_2),\n",
    "                  verbose=2, epochs=10, steps_per_epoch=x_train.shape[0]/ 128, callbacks=callbacks,\n",
    "                  )"
   ]
  },
  {
   "cell_type": "code",
   "execution_count": 36,
   "metadata": {
    "collapsed": true
   },
   "outputs": [],
   "source": []
  },
  {
   "cell_type": "code",
   "execution_count": 20,
   "metadata": {
    "collapsed": false,
    "scrolled": true
   },
   "outputs": [
    {
     "name": "stdout",
     "output_type": "stream",
     "text": [
      "thresh: 0.05 \tF2 score: 0.830908523274\n",
      "thresh: 0.1 \tF2 score: 0.852707221514\n",
      "thresh: 0.15 \tF2 score: 0.862059537022\n",
      "thresh: 0.2 \tF2 score: 0.862268589165\n",
      "thresh: 0.25 \tF2 score: 0.859701759946\n",
      "thresh: 0.3 \tF2 score: 0.856623214579\n",
      "thresh: 0.35 \tF2 score: 0.852857421463\n"
     ]
    },
    {
     "name": "stderr",
     "output_type": "stream",
     "text": [
      "/home/cs231n/myVE35/lib/python3.5/site-packages/sklearn/metrics/classification.py:1113: UndefinedMetricWarning: F-score is ill-defined and being set to 0.0 in samples with no predicted labels.\n",
      "  'precision', 'predicted', average, warn_for)\n",
      "/home/cs231n/myVE35/lib/python3.5/site-packages/sklearn/metrics/classification.py:1115: UndefinedMetricWarning: F-score is ill-defined and being set to 0.0 in samples with no true labels.\n",
      "  'recall', 'true', average, warn_for)\n"
     ]
    }
   ],
   "source": [
    "y_pred = model1.predict(x_val,batch_size=128)\n",
    "for thresh in [0.05,0.1,0.15,0.2,0.25,0.3,0.35]:\n",
    "    print(\"thresh:\",thresh,\"\\tF2 score:\",fbeta_score(y_val_2, np.array(y_pred)>thresh, beta=2, average='samples'))"
   ]
  },
  {
   "cell_type": "code",
   "execution_count": 22,
   "metadata": {
    "collapsed": false,
    "scrolled": true
   },
   "outputs": [
    {
     "name": "stdout",
     "output_type": "stream",
     "text": [
      "Epoch 1/10\n",
      "53s - loss: 0.1720 - acc: 0.9320 - val_loss: 0.1810 - val_acc: 0.9295\n",
      "Epoch 2/10\n",
      "51s - loss: 0.1712 - acc: 0.9320 - val_loss: 0.1786 - val_acc: 0.9306\n",
      "Epoch 3/10\n",
      "51s - loss: 0.1712 - acc: 0.9320 - val_loss: 0.1772 - val_acc: 0.9312\n",
      "Epoch 4/10\n",
      "51s - loss: 0.1708 - acc: 0.9321 - val_loss: 0.1781 - val_acc: 0.9307\n",
      "Epoch 5/10\n",
      "51s - loss: 0.1709 - acc: 0.9324 - val_loss: 0.1832 - val_acc: 0.9297\n",
      "Epoch 6/10\n",
      "51s - loss: 0.1698 - acc: 0.9326 - val_loss: 0.1790 - val_acc: 0.9303\n"
     ]
    },
    {
     "data": {
      "text/plain": [
       "<keras.callbacks.History at 0x7f626fa3f470>"
      ]
     },
     "execution_count": 22,
     "metadata": {},
     "output_type": "execute_result"
    }
   ],
   "source": [
    "#continue with reduced learning rate\n",
    "model1.compile(loss='binary_crossentropy', \n",
    "              optimizer=Adam(lr=0.0002),\n",
    "              metrics=['accuracy']) \n",
    "model1.fit_generator(datagen.flow(x_train,y_train_2, batch_size = 128), validation_data=(x_val, y_val_2),\n",
    "                  verbose=2, epochs=10, steps_per_epoch=x_train.shape[0]/ 128, callbacks=callbacks,\n",
    "                  )"
   ]
  },
  {
   "cell_type": "code",
   "execution_count": 23,
   "metadata": {
    "collapsed": false,
    "scrolled": true
   },
   "outputs": [
    {
     "name": "stdout",
     "output_type": "stream",
     "text": [
      "thresh: 0.05 \tF2 score: 0.829298568509\n",
      "thresh: 0.1 \tF2 score: 0.85345522709\n",
      "thresh: 0.15 \tF2 score: 0.861311190811\n",
      "thresh: 0.2 \tF2 score: 0.862977485\n",
      "thresh: 0.25 \tF2 score: 0.862122573625\n",
      "thresh: 0.3 \tF2 score: 0.85891857489\n",
      "thresh: 0.35 \tF2 score: 0.854532251186\n"
     ]
    },
    {
     "name": "stderr",
     "output_type": "stream",
     "text": [
      "/home/cs231n/myVE35/lib/python3.5/site-packages/sklearn/metrics/classification.py:1113: UndefinedMetricWarning: F-score is ill-defined and being set to 0.0 in samples with no predicted labels.\n",
      "  'precision', 'predicted', average, warn_for)\n",
      "/home/cs231n/myVE35/lib/python3.5/site-packages/sklearn/metrics/classification.py:1115: UndefinedMetricWarning: F-score is ill-defined and being set to 0.0 in samples with no true labels.\n",
      "  'recall', 'true', average, warn_for)\n"
     ]
    }
   ],
   "source": [
    "y_pred = model1.predict(x_val,batch_size=128)\n",
    "for thresh in [0.05,0.1,0.15,0.2,0.25,0.3,0.35]:\n",
    "    print(\"thresh:\",thresh,\"\\tF2 score:\",fbeta_score(y_val_2, np.array(y_pred)>thresh, beta=2, average='samples'))"
   ]
  },
  {
   "cell_type": "code",
   "execution_count": 24,
   "metadata": {
    "collapsed": false,
    "scrolled": true
   },
   "outputs": [
    {
     "name": "stdout",
     "output_type": "stream",
     "text": [
      "Epoch 1/10\n",
      "54s - loss: 0.1683 - acc: 0.9330 - val_loss: 0.1757 - val_acc: 0.9312\n",
      "Epoch 2/10\n",
      "51s - loss: 0.1679 - acc: 0.9336 - val_loss: 0.1778 - val_acc: 0.9302\n",
      "Epoch 3/10\n",
      "51s - loss: 0.1681 - acc: 0.9333 - val_loss: 0.1764 - val_acc: 0.9307\n",
      "Epoch 4/10\n",
      "51s - loss: 0.1672 - acc: 0.9336 - val_loss: 0.1759 - val_acc: 0.9307\n"
     ]
    },
    {
     "data": {
      "text/plain": [
       "<keras.callbacks.History at 0x7f626de75d68>"
      ]
     },
     "execution_count": 24,
     "metadata": {},
     "output_type": "execute_result"
    }
   ],
   "source": [
    "#continue with reduced learning rate\n",
    "model1.compile(loss='binary_crossentropy', \n",
    "              optimizer=Adam(lr=0.0001),\n",
    "              metrics=['accuracy']) \n",
    "model1.fit_generator(datagen.flow(x_train,y_train_2, batch_size = 128), validation_data=(x_val, y_val_2),\n",
    "                  verbose=2, epochs=10, steps_per_epoch=x_train.shape[0]/ 128, callbacks=callbacks,\n",
    "                  )"
   ]
  },
  {
   "cell_type": "code",
   "execution_count": 25,
   "metadata": {
    "collapsed": false,
    "scrolled": true
   },
   "outputs": [
    {
     "name": "stdout",
     "output_type": "stream",
     "text": [
      "thresh: 0.05 \tF2 score: 0.832387936603\n",
      "thresh: 0.1 \tF2 score: 0.856254497222\n",
      "thresh: 0.15 \tF2 score: 0.863327351744\n",
      "thresh: 0.2 \tF2 score: 0.863871335725\n",
      "thresh: 0.25 \tF2 score: 0.863582872569\n",
      "thresh: 0.3 \tF2 score: 0.859694592965\n",
      "thresh: 0.35 \tF2 score: 0.85628394751\n"
     ]
    },
    {
     "name": "stderr",
     "output_type": "stream",
     "text": [
      "/home/cs231n/myVE35/lib/python3.5/site-packages/sklearn/metrics/classification.py:1113: UndefinedMetricWarning: F-score is ill-defined and being set to 0.0 in samples with no predicted labels.\n",
      "  'precision', 'predicted', average, warn_for)\n",
      "/home/cs231n/myVE35/lib/python3.5/site-packages/sklearn/metrics/classification.py:1115: UndefinedMetricWarning: F-score is ill-defined and being set to 0.0 in samples with no true labels.\n",
      "  'recall', 'true', average, warn_for)\n"
     ]
    }
   ],
   "source": [
    "y_pred = model1.predict(x_val,batch_size=128)\n",
    "for thresh in [0.05,0.1,0.15,0.2,0.25,0.3,0.35]:\n",
    "    print(\"thresh:\",thresh,\"\\tF2 score:\",fbeta_score(y_val_2, np.array(y_pred)>thresh, beta=2, average='samples'))"
   ]
  },
  {
   "cell_type": "code",
   "execution_count": 26,
   "metadata": {
    "collapsed": false,
    "scrolled": true
   },
   "outputs": [
    {
     "name": "stdout",
     "output_type": "stream",
     "text": [
      "Epoch 1/10\n",
      "53s - loss: 0.1668 - acc: 0.9337 - val_loss: 0.1756 - val_acc: 0.9312\n",
      "Epoch 2/10\n",
      "51s - loss: 0.1664 - acc: 0.9341 - val_loss: 0.1760 - val_acc: 0.9308\n",
      "Epoch 3/10\n",
      "51s - loss: 0.1662 - acc: 0.9339 - val_loss: 0.1765 - val_acc: 0.9310\n",
      "Epoch 4/10\n",
      "51s - loss: 0.1663 - acc: 0.9339 - val_loss: 0.1761 - val_acc: 0.9311\n"
     ]
    },
    {
     "data": {
      "text/plain": [
       "<keras.callbacks.History at 0x7f626c245908>"
      ]
     },
     "execution_count": 26,
     "metadata": {},
     "output_type": "execute_result"
    }
   ],
   "source": [
    "#continue with reduced learning rate\n",
    "model1.compile(loss='binary_crossentropy', \n",
    "              optimizer=Adam(lr=0.00005),\n",
    "              metrics=['accuracy']) \n",
    "model1.fit_generator(datagen.flow(x_train,y_train_2, batch_size = 128), validation_data=(x_val, y_val_2),\n",
    "                  verbose=2, epochs=10, steps_per_epoch=x_train.shape[0]/ 128, callbacks=callbacks,\n",
    "                  )"
   ]
  },
  {
   "cell_type": "code",
   "execution_count": 27,
   "metadata": {
    "collapsed": false,
    "scrolled": true
   },
   "outputs": [
    {
     "name": "stdout",
     "output_type": "stream",
     "text": [
      "thresh: 0.05 \tF2 score: 0.83124676292\n",
      "thresh: 0.1 \tF2 score: 0.855295891568\n",
      "thresh: 0.15 \tF2 score: 0.862961359881\n",
      "thresh: 0.2 \tF2 score: 0.864819977261\n",
      "thresh: 0.25 \tF2 score: 0.863869289087\n",
      "thresh: 0.3 \tF2 score: 0.861268434262\n",
      "thresh: 0.35 \tF2 score: 0.857054414313\n"
     ]
    },
    {
     "name": "stderr",
     "output_type": "stream",
     "text": [
      "/home/cs231n/myVE35/lib/python3.5/site-packages/sklearn/metrics/classification.py:1113: UndefinedMetricWarning: F-score is ill-defined and being set to 0.0 in samples with no predicted labels.\n",
      "  'precision', 'predicted', average, warn_for)\n",
      "/home/cs231n/myVE35/lib/python3.5/site-packages/sklearn/metrics/classification.py:1115: UndefinedMetricWarning: F-score is ill-defined and being set to 0.0 in samples with no true labels.\n",
      "  'recall', 'true', average, warn_for)\n"
     ]
    }
   ],
   "source": [
    "y_pred = model1.predict(x_val,batch_size=128)\n",
    "for thresh in [0.05,0.1,0.15,0.2,0.25,0.3,0.35]:\n",
    "    print(\"thresh:\",thresh,\"\\tF2 score:\",fbeta_score(y_val_2, np.array(y_pred)>thresh, beta=2, average='samples'))"
   ]
  },
  {
   "cell_type": "code",
   "execution_count": 28,
   "metadata": {
    "collapsed": false,
    "scrolled": true
   },
   "outputs": [
    {
     "name": "stdout",
     "output_type": "stream",
     "text": [
      "thresh: 0.05 \tF2 score: 0.83124676292\n",
      "thresh: 0.1 \tF2 score: 0.855295891568\n",
      "thresh: 0.15 \tF2 score: 0.862961359881\n",
      "thresh: 0.2 \tF2 score: 0.864819977261\n",
      "thresh: 0.25 \tF2 score: 0.863869289087\n",
      "thresh: 0.3 \tF2 score: 0.861268434262\n",
      "thresh: 0.35 \tF2 score: 0.857054414313\n"
     ]
    },
    {
     "name": "stderr",
     "output_type": "stream",
     "text": [
      "/home/cs231n/myVE35/lib/python3.5/site-packages/sklearn/metrics/classification.py:1113: UndefinedMetricWarning: F-score is ill-defined and being set to 0.0 in samples with no predicted labels.\n",
      "  'precision', 'predicted', average, warn_for)\n",
      "/home/cs231n/myVE35/lib/python3.5/site-packages/sklearn/metrics/classification.py:1115: UndefinedMetricWarning: F-score is ill-defined and being set to 0.0 in samples with no true labels.\n",
      "  'recall', 'true', average, warn_for)\n"
     ]
    }
   ],
   "source": [
    "y_pred = model1.predict(x_val,batch_size=128)\n",
    "bestthresh = 0\n",
    "bestF2score = 0\n",
    "for thresh in [0.05,0.1,0.15,0.2,0.25,0.3,0.35]:\n",
    "    F2score = fbeta_score(y_val_2, np.array(y_pred)>thresh, beta=2, average='samples')\n",
    "    print(\"thresh:\",thresh,\"\\tF2 score:\",F2score)\n",
    "    if F2score > bestF2score:\n",
    "        bestthresh = thresh\n",
    "        bestF2score = F2score        "
   ]
  },
  {
   "cell_type": "code",
   "execution_count": 29,
   "metadata": {
    "collapsed": false,
    "scrolled": true
   },
   "outputs": [
    {
     "data": {
      "text/html": [
       "<div>\n",
       "<table border=\"1\" class=\"dataframe\">\n",
       "  <thead>\n",
       "    <tr style=\"text-align: right;\">\n",
       "      <th></th>\n",
       "      <th>FN</th>\n",
       "      <th>FP</th>\n",
       "      <th>TN</th>\n",
       "      <th>TP</th>\n",
       "      <th>Total</th>\n",
       "    </tr>\n",
       "  </thead>\n",
       "  <tbody>\n",
       "    <tr>\n",
       "      <th>others</th>\n",
       "      <td>108</td>\n",
       "      <td>131</td>\n",
       "      <td>3687</td>\n",
       "      <td>122</td>\n",
       "      <td>230</td>\n",
       "    </tr>\n",
       "    <tr>\n",
       "      <th>cultivation</th>\n",
       "      <td>140</td>\n",
       "      <td>352</td>\n",
       "      <td>3233</td>\n",
       "      <td>323</td>\n",
       "      <td>463</td>\n",
       "    </tr>\n",
       "    <tr>\n",
       "      <th>habitation</th>\n",
       "      <td>79</td>\n",
       "      <td>297</td>\n",
       "      <td>3411</td>\n",
       "      <td>261</td>\n",
       "      <td>340</td>\n",
       "    </tr>\n",
       "    <tr>\n",
       "      <th>road</th>\n",
       "      <td>81</td>\n",
       "      <td>408</td>\n",
       "      <td>2842</td>\n",
       "      <td>717</td>\n",
       "      <td>798</td>\n",
       "    </tr>\n",
       "    <tr>\n",
       "      <th>agriculture</th>\n",
       "      <td>87</td>\n",
       "      <td>414</td>\n",
       "      <td>2418</td>\n",
       "      <td>1129</td>\n",
       "      <td>1216</td>\n",
       "    </tr>\n",
       "    <tr>\n",
       "      <th>water</th>\n",
       "      <td>107</td>\n",
       "      <td>325</td>\n",
       "      <td>2950</td>\n",
       "      <td>666</td>\n",
       "      <td>773</td>\n",
       "    </tr>\n",
       "    <tr>\n",
       "      <th>primary</th>\n",
       "      <td>4</td>\n",
       "      <td>159</td>\n",
       "      <td>159</td>\n",
       "      <td>3726</td>\n",
       "      <td>3730</td>\n",
       "    </tr>\n",
       "  </tbody>\n",
       "</table>\n",
       "</div>"
      ],
      "text/plain": [
       "              FN   FP    TN    TP  Total\n",
       "others       108  131  3687   122    230\n",
       "cultivation  140  352  3233   323    463\n",
       "habitation    79  297  3411   261    340\n",
       "road          81  408  2842   717    798\n",
       "agriculture   87  414  2418  1129   1216\n",
       "water        107  325  2950   666    773\n",
       "primary        4  159   159  3726   3730"
      ]
     },
     "execution_count": 29,
     "metadata": {},
     "output_type": "execute_result"
    }
   ],
   "source": [
    "total,tp,tn,fp,fn = multilabelmetrics(y_val_2,np.array(y_pred)>bestthresh)\n",
    "d = {'Total':total,'TP':tp,'TN':tn,'FP':fp,'FN':fn}\n",
    "pd.DataFrame(d, index=['others']+labels[7:13])"
   ]
  },
  {
   "cell_type": "code",
   "execution_count": 30,
   "metadata": {
    "collapsed": false,
    "scrolled": true
   },
   "outputs": [
    {
     "name": "stdout",
     "output_type": "stream",
     "text": [
      "2180\n"
     ]
    }
   ],
   "source": [
    "num_rare = np.sum(np.sum(y_train[:,:7],axis=1)>0)\n",
    "print(num_rare)"
   ]
  },
  {
   "cell_type": "code",
   "execution_count": 31,
   "metadata": {
    "collapsed": false,
    "scrolled": true
   },
   "outputs": [],
   "source": [
    "model1.save(\"simple_tif_major\")"
   ]
  },
  {
   "cell_type": "code",
   "execution_count": 32,
   "metadata": {
    "collapsed": false,
    "scrolled": true
   },
   "outputs": [
    {
     "name": "stderr",
     "output_type": "stream",
     "text": [
      "100%|██████████| 40479/40479 [00:06<00:00, 6083.39it/s]"
     ]
    },
    {
     "name": "stdout",
     "output_type": "stream",
     "text": [
      "(2180, 32, 32, 4)\n",
      "(2180, 17)\n"
     ]
    },
    {
     "name": "stderr",
     "output_type": "stream",
     "text": [
      "\n"
     ]
    }
   ],
   "source": [
    "x_train = []\n",
    "x_train = np.zeros((num_rare,32,32,4), np.float32)\n",
    "y_train = []\n",
    "\n",
    "df_train = pd.read_csv('train_v2.csv')\n",
    "\n",
    "labels = ['blow_down',\n",
    " 'bare_ground',\n",
    " 'conventional_mine',\n",
    " 'blooming',\n",
    " 'artisinal_mine',\n",
    " 'selective_logging',         \n",
    " 'slash_burn', \n",
    " 'cultivation',\n",
    " 'habitation',\n",
    " 'road',\n",
    " 'agriculture',\n",
    " 'water',\n",
    " 'primary',\n",
    " 'partly_cloudy', \n",
    " 'cloudy',\n",
    " 'clear',\n",
    " 'haze',]\n",
    "\n",
    "label_map = {l: i for i, l in enumerate(labels)}\n",
    "inv_label_map = {i: l for l, i in label_map.items()}\n",
    "\n",
    "i=0\n",
    "\n",
    "for f, tags in tqdm(df_train.values[:40479], miniters=1000):    \n",
    "    targets = np.zeros(17)\n",
    "    for t in tags.split(' '):\n",
    "        targets[label_map[t]] = 1 \n",
    "    if(np.sum(targets[:7])>0):\n",
    "        img = io.imread('train-tif-v2/{}.tif'.format(f))\n",
    "        x_train[i,:,:,:] = np.array(transform.resize(img,(32,32),mode = 'constant'),np.float32)#automatically scales to [0,1] float\n",
    "        i+=1\n",
    "        y_train.append(targets)\n",
    "    \n",
    "y_train = np.array(y_train, np.uint8)\n",
    "\n",
    "print(x_train.shape)\n",
    "print(y_train.shape)"
   ]
  },
  {
   "cell_type": "code",
   "execution_count": 33,
   "metadata": {
    "collapsed": false,
    "scrolled": true
   },
   "outputs": [
    {
     "name": "stdout",
     "output_type": "stream",
     "text": [
      "(1962, 32, 32, 4)\n",
      "(1962, 7)\n",
      "(218, 32, 32, 4)\n",
      "(218, 7)\n"
     ]
    }
   ],
   "source": [
    "x_train -= train_mean\n",
    "x_train, x_val, y_train_3, y_val_3 = train_test_split(x_train,y_train[:,:7],test_size=0.1)\n",
    "print(x_train.shape)\n",
    "print(y_train_3.shape)\n",
    "print(x_val.shape)\n",
    "print(y_val_3.shape)"
   ]
  },
  {
   "cell_type": "code",
   "execution_count": 35,
   "metadata": {
    "collapsed": false,
    "scrolled": true
   },
   "outputs": [],
   "source": [
    "#model for the rarer classes\n",
    "from keras.models import load_model\n",
    "model2 = load_model(\"simple_tif_major\")\n",
    "for layer in model2.layers[:-1]:\n",
    "    layer.trainable = False\n",
    "model2.layers[-1].trainable = True"
   ]
  },
  {
   "cell_type": "code",
   "execution_count": 36,
   "metadata": {
    "collapsed": false,
    "scrolled": true
   },
   "outputs": [
    {
     "name": "stdout",
     "output_type": "stream",
     "text": [
      "Epoch 1/10\n",
      "11s - loss: 0.7326 - acc: 0.7932 - val_loss: 0.3158 - val_acc: 0.8761\n",
      "Epoch 2/10\n",
      "8s - loss: 0.2782 - acc: 0.8951 - val_loss: 0.2675 - val_acc: 0.9050\n",
      "Epoch 3/10\n",
      "8s - loss: 0.2551 - acc: 0.9039 - val_loss: 0.2530 - val_acc: 0.9069\n",
      "Epoch 4/10\n",
      "8s - loss: 0.2421 - acc: 0.9061 - val_loss: 0.2433 - val_acc: 0.9102\n",
      "Epoch 5/10\n",
      "8s - loss: 0.2317 - acc: 0.9085 - val_loss: 0.2330 - val_acc: 0.9128\n",
      "Epoch 6/10\n",
      "8s - loss: 0.2238 - acc: 0.9097 - val_loss: 0.2252 - val_acc: 0.9089\n",
      "Epoch 7/10\n",
      "8s - loss: 0.2196 - acc: 0.9109 - val_loss: 0.2206 - val_acc: 0.9076\n",
      "Epoch 8/10\n",
      "8s - loss: 0.2158 - acc: 0.9124 - val_loss: 0.2186 - val_acc: 0.9102\n",
      "Epoch 9/10\n",
      "8s - loss: 0.2117 - acc: 0.9124 - val_loss: 0.2184 - val_acc: 0.9076\n",
      "Epoch 10/10\n",
      "8s - loss: 0.2084 - acc: 0.9134 - val_loss: 0.2165 - val_acc: 0.9102\n"
     ]
    },
    {
     "data": {
      "text/plain": [
       "<keras.callbacks.History at 0x7f6262d84b70>"
      ]
     },
     "execution_count": 36,
     "metadata": {},
     "output_type": "execute_result"
    }
   ],
   "source": [
    "model2.compile(loss='binary_crossentropy', \n",
    "              optimizer='adam',\n",
    "              metrics=['accuracy'])\n",
    "\n",
    "model2.fit_generator(datagen.flow(x_train,y_train_3, batch_size = 128), validation_data=(x_val, y_val_3),\n",
    "                  verbose=2, epochs=10, steps_per_epoch=10*x_train.shape[0]/ 128, callbacks=callbacks,\n",
    "                  )#more steps per epoch to compensate for fewer images"
   ]
  },
  {
   "cell_type": "code",
   "execution_count": 37,
   "metadata": {
    "collapsed": false,
    "scrolled": true
   },
   "outputs": [
    {
     "name": "stdout",
     "output_type": "stream",
     "text": [
      "thresh: 0.05 \tF2 score: 0.732410619452\n",
      "thresh: 0.1 \tF2 score: 0.753445331427\n",
      "thresh: 0.15 \tF2 score: 0.759942974966\n",
      "thresh: 0.2 \tF2 score: 0.747626990746\n",
      "thresh: 0.25 \tF2 score: 0.729351178892\n",
      "thresh: 0.3 \tF2 score: 0.707487721249\n",
      "thresh: 0.35 \tF2 score: 0.690112130479\n"
     ]
    },
    {
     "name": "stderr",
     "output_type": "stream",
     "text": [
      "/home/cs231n/myVE35/lib/python3.5/site-packages/sklearn/metrics/classification.py:1113: UndefinedMetricWarning: F-score is ill-defined and being set to 0.0 in samples with no predicted labels.\n",
      "  'precision', 'predicted', average, warn_for)\n"
     ]
    }
   ],
   "source": [
    "y_pred = model2.predict(x_val,batch_size=128)\n",
    "for thresh in [0.05,0.1,0.15,0.2,0.25,0.3,0.35]:\n",
    "    print(\"thresh:\",thresh,\"\\tF2 score:\",fbeta_score(y_val_3, np.array(y_pred)>thresh, beta=2, average='samples'))"
   ]
  },
  {
   "cell_type": "code",
   "execution_count": 38,
   "metadata": {
    "collapsed": false,
    "scrolled": true
   },
   "outputs": [
    {
     "name": "stdout",
     "output_type": "stream",
     "text": [
      "Epoch 1/10\n",
      "11s - loss: 0.2041 - acc: 0.9148 - val_loss: 0.2133 - val_acc: 0.9109\n",
      "Epoch 2/10\n",
      "8s - loss: 0.2044 - acc: 0.9146 - val_loss: 0.2133 - val_acc: 0.9135\n",
      "Epoch 3/10\n",
      "8s - loss: 0.2027 - acc: 0.9156 - val_loss: 0.2121 - val_acc: 0.9115\n",
      "Epoch 4/10\n",
      "8s - loss: 0.2028 - acc: 0.9148 - val_loss: 0.2110 - val_acc: 0.9122\n",
      "Epoch 5/10\n",
      "8s - loss: 0.1985 - acc: 0.9167 - val_loss: 0.2120 - val_acc: 0.9122\n",
      "Epoch 6/10\n",
      "8s - loss: 0.1988 - acc: 0.9161 - val_loss: 0.2116 - val_acc: 0.9135\n",
      "Epoch 7/10\n",
      "8s - loss: 0.1986 - acc: 0.9164 - val_loss: 0.2132 - val_acc: 0.9115\n"
     ]
    },
    {
     "data": {
      "text/plain": [
       "<keras.callbacks.History at 0x7f6262bd24e0>"
      ]
     },
     "execution_count": 38,
     "metadata": {},
     "output_type": "execute_result"
    }
   ],
   "source": [
    "model2.compile(loss='binary_crossentropy', \n",
    "              optimizer=Adam(lr=0.0005),\n",
    "              metrics=['accuracy']) \n",
    "model2.fit_generator(datagen.flow(x_train,y_train_3, batch_size = 128), validation_data=(x_val, y_val_3),\n",
    "                  verbose=2, epochs=10, steps_per_epoch=10*x_train.shape[0]/ 128, callbacks=callbacks,\n",
    "                  )"
   ]
  },
  {
   "cell_type": "code",
   "execution_count": 39,
   "metadata": {
    "collapsed": false,
    "scrolled": true
   },
   "outputs": [
    {
     "name": "stdout",
     "output_type": "stream",
     "text": [
      "thresh: 0.05 \tF2 score: 0.732055660955\n",
      "thresh: 0.1 \tF2 score: 0.751115347446\n",
      "thresh: 0.15 \tF2 score: 0.76605670069\n",
      "thresh: 0.2 \tF2 score: 0.751221255808\n",
      "thresh: 0.25 \tF2 score: 0.743665356051\n",
      "thresh: 0.3 \tF2 score: 0.735401194117\n",
      "thresh: 0.35 \tF2 score: 0.690112130479\n"
     ]
    },
    {
     "name": "stderr",
     "output_type": "stream",
     "text": [
      "/home/cs231n/myVE35/lib/python3.5/site-packages/sklearn/metrics/classification.py:1113: UndefinedMetricWarning: F-score is ill-defined and being set to 0.0 in samples with no predicted labels.\n",
      "  'precision', 'predicted', average, warn_for)\n"
     ]
    }
   ],
   "source": [
    "y_pred = model2.predict(x_val,batch_size=128)\n",
    "for thresh in [0.05,0.1,0.15,0.2,0.25,0.3,0.35]:\n",
    "    print(\"thresh:\",thresh,\"\\tF2 score:\",fbeta_score(y_val_3, np.array(y_pred)>thresh, beta=2, average='samples'))"
   ]
  },
  {
   "cell_type": "code",
   "execution_count": 41,
   "metadata": {
    "collapsed": false,
    "scrolled": true
   },
   "outputs": [
    {
     "name": "stdout",
     "output_type": "stream",
     "text": [
      "Epoch 1/10\n",
      "11s - loss: 0.1957 - acc: 0.9172 - val_loss: 0.2112 - val_acc: 0.9122\n",
      "Epoch 2/10\n",
      "8s - loss: 0.1959 - acc: 0.9170 - val_loss: 0.2114 - val_acc: 0.9135\n",
      "Epoch 3/10\n",
      "8s - loss: 0.1962 - acc: 0.9172 - val_loss: 0.2114 - val_acc: 0.9122\n",
      "Epoch 4/10\n",
      "8s - loss: 0.1967 - acc: 0.9168 - val_loss: 0.2111 - val_acc: 0.9128\n",
      "Epoch 5/10\n",
      "8s - loss: 0.1949 - acc: 0.9178 - val_loss: 0.2112 - val_acc: 0.9122\n",
      "Epoch 6/10\n",
      "8s - loss: 0.1960 - acc: 0.9170 - val_loss: 0.2113 - val_acc: 0.9128\n",
      "Epoch 7/10\n",
      "8s - loss: 0.1946 - acc: 0.9179 - val_loss: 0.2113 - val_acc: 0.9135\n"
     ]
    },
    {
     "data": {
      "text/plain": [
       "<keras.callbacks.History at 0x7f626285d588>"
      ]
     },
     "execution_count": 41,
     "metadata": {},
     "output_type": "execute_result"
    }
   ],
   "source": [
    "model2.compile(loss='binary_crossentropy', \n",
    "              optimizer=Adam(lr=0.0002),\n",
    "              metrics=['accuracy']) \n",
    "model2.fit_generator(datagen.flow(x_train,y_train_3, batch_size = 128), validation_data=(x_val, y_val_3),\n",
    "                  verbose=2, epochs=10, steps_per_epoch=10*x_train.shape[0]/ 128, callbacks=callbacks,\n",
    "                  )"
   ]
  },
  {
   "cell_type": "code",
   "execution_count": 42,
   "metadata": {
    "collapsed": false,
    "scrolled": true
   },
   "outputs": [
    {
     "name": "stdout",
     "output_type": "stream",
     "text": [
      "thresh: 0.05 \tF2 score: 0.734141559256\n",
      "thresh: 0.1 \tF2 score: 0.75802338589\n",
      "thresh: 0.15 \tF2 score: 0.767722275176\n",
      "thresh: 0.2 \tF2 score: 0.761378529727\n",
      "thresh: 0.25 \tF2 score: 0.749308286006\n",
      "thresh: 0.3 \tF2 score: 0.72873889617\n",
      "thresh: 0.35 \tF2 score: 0.690112130479\n"
     ]
    },
    {
     "name": "stderr",
     "output_type": "stream",
     "text": [
      "/home/cs231n/myVE35/lib/python3.5/site-packages/sklearn/metrics/classification.py:1113: UndefinedMetricWarning: F-score is ill-defined and being set to 0.0 in samples with no predicted labels.\n",
      "  'precision', 'predicted', average, warn_for)\n"
     ]
    }
   ],
   "source": [
    "y_pred = model2.predict(x_val,batch_size=128)\n",
    "for thresh in [0.05,0.1,0.15,0.2,0.25,0.3,0.35]:\n",
    "    print(\"thresh:\",thresh,\"\\tF2 score:\",fbeta_score(y_val_3, np.array(y_pred)>thresh, beta=2, average='samples'))"
   ]
  },
  {
   "cell_type": "code",
   "execution_count": 43,
   "metadata": {
    "collapsed": false
   },
   "outputs": [
    {
     "data": {
      "text/plain": [
       "[<keras.layers.core.Dense at 0x7f6266056e80>,\n",
       " <keras.layers.normalization.BatchNormalization at 0x7f626601a198>,\n",
       " <keras.layers.core.Activation at 0x7f626602db70>,\n",
       " <keras.layers.core.Dense at 0x7f626602da58>,\n",
       " <keras.layers.normalization.BatchNormalization at 0x7f6265ff5eb8>,\n",
       " <keras.layers.core.Activation at 0x7f6265fabfd0>,\n",
       " <keras.layers.core.Dense at 0x7f6265fabeb8>]"
      ]
     },
     "execution_count": 43,
     "metadata": {},
     "output_type": "execute_result"
    }
   ],
   "source": [
    "for layer in model2.layers[-7:]:\n",
    "    layer.trainable = True\n",
    "model2.layers[-7:]"
   ]
  },
  {
   "cell_type": "code",
   "execution_count": 44,
   "metadata": {
    "collapsed": false,
    "scrolled": true
   },
   "outputs": [
    {
     "name": "stdout",
     "output_type": "stream",
     "text": [
      "Epoch 1/10\n",
      "12s - loss: 0.1913 - acc: 0.9191 - val_loss: 0.2107 - val_acc: 0.9128\n",
      "Epoch 2/10\n",
      "10s - loss: 0.1877 - acc: 0.9201 - val_loss: 0.2098 - val_acc: 0.9135\n",
      "Epoch 3/10\n",
      "10s - loss: 0.1833 - acc: 0.9220 - val_loss: 0.2100 - val_acc: 0.9135\n",
      "Epoch 4/10\n",
      "10s - loss: 0.1803 - acc: 0.9231 - val_loss: 0.2107 - val_acc: 0.9135\n",
      "Epoch 5/10\n",
      "10s - loss: 0.1754 - acc: 0.9258 - val_loss: 0.2102 - val_acc: 0.9128\n"
     ]
    },
    {
     "data": {
      "text/plain": [
       "<keras.callbacks.History at 0x7f6262300c18>"
      ]
     },
     "execution_count": 44,
     "metadata": {},
     "output_type": "execute_result"
    }
   ],
   "source": [
    "model2.compile(loss='binary_crossentropy', \n",
    "              optimizer=Adam(lr=0.0001),\n",
    "              metrics=['accuracy']) \n",
    "model2.fit_generator(datagen.flow(x_train,y_train_3, batch_size = 128), validation_data=(x_val, y_val_3),\n",
    "                  verbose=2, epochs=10, steps_per_epoch=10*x_train.shape[0]/ 128, callbacks=callbacks,\n",
    "                  )"
   ]
  },
  {
   "cell_type": "code",
   "execution_count": 45,
   "metadata": {
    "collapsed": false,
    "scrolled": true
   },
   "outputs": [
    {
     "name": "stdout",
     "output_type": "stream",
     "text": [
      "thresh: 0.05 \tF2 score: 0.74512076863\n",
      "thresh: 0.1 \tF2 score: 0.777656976051\n",
      "thresh: 0.15 \tF2 score: 0.770387359837\n",
      "thresh: 0.2 \tF2 score: 0.764708023882\n",
      "thresh: 0.25 \tF2 score: 0.743993010048\n",
      "thresh: 0.3 \tF2 score: 0.74006116208\n",
      "thresh: 0.35 \tF2 score: 0.705402650357\n"
     ]
    },
    {
     "name": "stderr",
     "output_type": "stream",
     "text": [
      "/home/cs231n/myVE35/lib/python3.5/site-packages/sklearn/metrics/classification.py:1113: UndefinedMetricWarning: F-score is ill-defined and being set to 0.0 in samples with no predicted labels.\n",
      "  'precision', 'predicted', average, warn_for)\n"
     ]
    }
   ],
   "source": [
    "y_pred = model2.predict(x_val,batch_size=128)\n",
    "for thresh in [0.05,0.1,0.15,0.2,0.25,0.3,0.35]:\n",
    "    print(\"thresh:\",thresh,\"\\tF2 score:\",fbeta_score(y_val_3, np.array(y_pred)>thresh, beta=2, average='samples'))"
   ]
  },
  {
   "cell_type": "code",
   "execution_count": 46,
   "metadata": {
    "collapsed": false,
    "scrolled": true
   },
   "outputs": [
    {
     "name": "stdout",
     "output_type": "stream",
     "text": [
      "Epoch 1/10\n",
      "12s - loss: 0.1734 - acc: 0.9264 - val_loss: 0.2111 - val_acc: 0.9135\n",
      "Epoch 2/10\n",
      "10s - loss: 0.1721 - acc: 0.9264 - val_loss: 0.2112 - val_acc: 0.9135\n",
      "Epoch 3/10\n",
      "10s - loss: 0.1699 - acc: 0.9275 - val_loss: 0.2119 - val_acc: 0.9128\n",
      "Epoch 4/10\n",
      "10s - loss: 0.1678 - acc: 0.9283 - val_loss: 0.2127 - val_acc: 0.9122\n"
     ]
    },
    {
     "data": {
      "text/plain": [
       "<keras.callbacks.History at 0x7f6261d1f208>"
      ]
     },
     "execution_count": 46,
     "metadata": {},
     "output_type": "execute_result"
    }
   ],
   "source": [
    "model2.compile(loss='binary_crossentropy', \n",
    "              optimizer=Adam(lr=0.00005),\n",
    "              metrics=['accuracy']) \n",
    "model2.fit_generator(datagen.flow(x_train,y_train_3, batch_size = 128), validation_data=(x_val, y_val_3),\n",
    "                  verbose=2, epochs=10, steps_per_epoch=10*x_train.shape[0]/ 128, callbacks=callbacks,\n",
    "                  )"
   ]
  },
  {
   "cell_type": "code",
   "execution_count": 47,
   "metadata": {
    "collapsed": false,
    "scrolled": true
   },
   "outputs": [
    {
     "name": "stdout",
     "output_type": "stream",
     "text": [
      "thresh: 0.05 \tF2 score: 0.748106060606\n",
      "thresh: 0.1 \tF2 score: 0.782571786012\n",
      "thresh: 0.15 \tF2 score: 0.777823285277\n",
      "thresh: 0.2 \tF2 score: 0.75629823795\n",
      "thresh: 0.25 \tF2 score: 0.754696373962\n",
      "thresh: 0.3 \tF2 score: 0.727319062181\n",
      "thresh: 0.35 \tF2 score: 0.699541284404\n"
     ]
    },
    {
     "name": "stderr",
     "output_type": "stream",
     "text": [
      "/home/cs231n/myVE35/lib/python3.5/site-packages/sklearn/metrics/classification.py:1113: UndefinedMetricWarning: F-score is ill-defined and being set to 0.0 in samples with no predicted labels.\n",
      "  'precision', 'predicted', average, warn_for)\n"
     ]
    }
   ],
   "source": [
    "y_pred = model2.predict(x_val,batch_size=128)\n",
    "bestthresh = 0\n",
    "bestF2score = 0\n",
    "for thresh in [0.05,0.1,0.15,0.2,0.25,0.3,0.35]:\n",
    "    F2score = fbeta_score(y_val_3, np.array(y_pred)>thresh, beta=2, average='samples')\n",
    "    print(\"thresh:\",thresh,\"\\tF2 score:\",F2score)\n",
    "    if F2score > bestF2score:\n",
    "        bestthresh = thresh\n",
    "        bestF2score = F2score    "
   ]
  },
  {
   "cell_type": "code",
   "execution_count": 48,
   "metadata": {
    "collapsed": false,
    "scrolled": true
   },
   "outputs": [
    {
     "data": {
      "text/html": [
       "<div>\n",
       "<table border=\"1\" class=\"dataframe\">\n",
       "  <thead>\n",
       "    <tr style=\"text-align: right;\">\n",
       "      <th></th>\n",
       "      <th>FN</th>\n",
       "      <th>FP</th>\n",
       "      <th>TN</th>\n",
       "      <th>TP</th>\n",
       "      <th>Total</th>\n",
       "    </tr>\n",
       "  </thead>\n",
       "  <tbody>\n",
       "    <tr>\n",
       "      <th>blow_down</th>\n",
       "      <td>3</td>\n",
       "      <td>7</td>\n",
       "      <td>203</td>\n",
       "      <td>5</td>\n",
       "      <td>8</td>\n",
       "    </tr>\n",
       "    <tr>\n",
       "      <th>bare_ground</th>\n",
       "      <td>0</td>\n",
       "      <td>69</td>\n",
       "      <td>71</td>\n",
       "      <td>78</td>\n",
       "      <td>78</td>\n",
       "    </tr>\n",
       "    <tr>\n",
       "      <th>conventional_mine</th>\n",
       "      <td>7</td>\n",
       "      <td>15</td>\n",
       "      <td>191</td>\n",
       "      <td>5</td>\n",
       "      <td>12</td>\n",
       "    </tr>\n",
       "    <tr>\n",
       "      <th>blooming</th>\n",
       "      <td>2</td>\n",
       "      <td>23</td>\n",
       "      <td>155</td>\n",
       "      <td>38</td>\n",
       "      <td>40</td>\n",
       "    </tr>\n",
       "    <tr>\n",
       "      <th>artisinal_mine</th>\n",
       "      <td>3</td>\n",
       "      <td>12</td>\n",
       "      <td>167</td>\n",
       "      <td>36</td>\n",
       "      <td>39</td>\n",
       "    </tr>\n",
       "    <tr>\n",
       "      <th>selective_logging</th>\n",
       "      <td>2</td>\n",
       "      <td>60</td>\n",
       "      <td>133</td>\n",
       "      <td>23</td>\n",
       "      <td>25</td>\n",
       "    </tr>\n",
       "    <tr>\n",
       "      <th>slash_burn</th>\n",
       "      <td>5</td>\n",
       "      <td>35</td>\n",
       "      <td>157</td>\n",
       "      <td>21</td>\n",
       "      <td>26</td>\n",
       "    </tr>\n",
       "  </tbody>\n",
       "</table>\n",
       "</div>"
      ],
      "text/plain": [
       "                   FN  FP   TN  TP  Total\n",
       "blow_down           3   7  203   5      8\n",
       "bare_ground         0  69   71  78     78\n",
       "conventional_mine   7  15  191   5     12\n",
       "blooming            2  23  155  38     40\n",
       "artisinal_mine      3  12  167  36     39\n",
       "selective_logging   2  60  133  23     25\n",
       "slash_burn          5  35  157  21     26"
      ]
     },
     "execution_count": 48,
     "metadata": {},
     "output_type": "execute_result"
    }
   ],
   "source": [
    "total,tp,tn,fp,fn = multilabelmetrics(y_val_3,np.array(y_pred)>bestthresh)\n",
    "d = {'Total':total,'TP':tp,'TN':tn,'FP':fp,'FN':fn}\n",
    "pd.DataFrame(d, index=labels[:7])"
   ]
  },
  {
   "cell_type": "code",
   "execution_count": 49,
   "metadata": {
    "collapsed": false,
    "scrolled": true
   },
   "outputs": [],
   "source": [
    "model2.save(\"simple_tif_rare\")"
   ]
  },
  {
   "cell_type": "code",
   "execution_count": 50,
   "metadata": {
    "collapsed": false,
    "scrolled": true
   },
   "outputs": [
    {
     "name": "stderr",
     "output_type": "stream",
     "text": [
      "100%|██████████| 40479/40479 [02:01<00:00, 334.45it/s]"
     ]
    },
    {
     "name": "stdout",
     "output_type": "stream",
     "text": [
      "(40479, 32, 32, 4)\n",
      "(40479, 17)\n"
     ]
    },
    {
     "name": "stderr",
     "output_type": "stream",
     "text": [
      "\n"
     ]
    }
   ],
   "source": [
    "#F2 score on training set\n",
    "x_val = []\n",
    "x_train = []\n",
    "x_train = np.zeros((40479,32,32,4), np.float32)\n",
    "y_train = []\n",
    "\n",
    "df_train = pd.read_csv('train_v2.csv')\n",
    "\n",
    "labels = ['blow_down',\n",
    " 'bare_ground',\n",
    " 'conventional_mine',\n",
    " 'blooming',\n",
    " 'artisinal_mine',\n",
    " 'selective_logging',         \n",
    " 'slash_burn', \n",
    " 'cultivation',\n",
    " 'habitation',\n",
    " 'road',\n",
    " 'agriculture',\n",
    " 'water',\n",
    " 'primary',\n",
    " 'partly_cloudy', \n",
    " 'cloudy',\n",
    " 'clear',\n",
    " 'haze',]\n",
    "\n",
    "label_map = {l: i for i, l in enumerate(labels)}\n",
    "inv_label_map = {i: l for l, i in label_map.items()}\n",
    "\n",
    "i=0\n",
    "\n",
    "for f, tags in tqdm(df_train.values[:40479], miniters=1000):    \n",
    "    img = io.imread('train-tif-v2/{}.tif'.format(f))\n",
    "    targets = np.zeros(17)\n",
    "    for t in tags.split(' '):\n",
    "        targets[label_map[t]] = 1 \n",
    "    x_train[i,:,:,:] = np.array(transform.resize(img,(32,32),mode = 'constant'),np.float32)#automatically scales to [0,1] float\n",
    "    i+=1\n",
    "    y_train.append(targets)\n",
    "\n",
    "y_train = np.array(y_train, np.uint8)\n",
    "\n",
    "print(x_train.shape)\n",
    "print(y_train.shape)"
   ]
  },
  {
   "cell_type": "code",
   "execution_count": 51,
   "metadata": {
    "collapsed": false,
    "scrolled": true
   },
   "outputs": [],
   "source": [
    "x_train -= train_mean"
   ]
  },
  {
   "cell_type": "code",
   "execution_count": 52,
   "metadata": {
    "collapsed": false,
    "scrolled": true
   },
   "outputs": [],
   "source": [
    "y = model.predict(x_train,batch_size=128)\n",
    "y1 = model1.predict(x_train,batch_size=128)\n",
    "y2 = model2.predict(x_train,batch_size=128)"
   ]
  },
  {
   "cell_type": "code",
   "execution_count": 53,
   "metadata": {
    "collapsed": false
   },
   "outputs": [
    {
     "name": "stdout",
     "output_type": "stream",
     "text": [
      "(40479, 4)\n",
      "(40479, 7)\n",
      "(40479, 7)\n"
     ]
    }
   ],
   "source": [
    "print(y.shape)\n",
    "print(y1.shape)\n",
    "print(y2.shape)"
   ]
  },
  {
   "cell_type": "code",
   "execution_count": 54,
   "metadata": {
    "collapsed": false
   },
   "outputs": [],
   "source": [
    "f2scorelist = []\n",
    "for thresh in [0.05,0.1,0.15,0.2,0.25,0.3]:\n",
    "    for thresh1 in [0.05,0.1,0.15,0.2,0.25,0.3]:\n",
    "        for thresh2 in [0.05,0.1,0.15,0.2,0.25,0.3]:\n",
    "            for thresh3 in [0.05,0.1,0.15,0.2,0.25,0.3]:\n",
    "                y_pred = combine_predictions(x_train,y,y1,y2,thresh,thresh1,thresh2,thresh3)\n",
    "                f2scorelist.append([thresh,thresh1,thresh2,thresh3,fbeta_score(y_train,y_pred , beta=2, average='samples')])"
   ]
  },
  {
   "cell_type": "code",
   "execution_count": 55,
   "metadata": {
    "collapsed": false
   },
   "outputs": [
    {
     "data": {
      "text/plain": [
       "[[0.05, 0.05, 0.05, 0.05, 0.88024434047066269],\n",
       " [0.05, 0.05, 0.05, 0.1, 0.88798136787450066],\n",
       " [0.05, 0.05, 0.05, 0.15, 0.89143854612135653],\n",
       " [0.05, 0.05, 0.05, 0.2, 0.89299359567455816],\n",
       " [0.05, 0.05, 0.05, 0.25, 0.89369772988216756],\n",
       " [0.05, 0.05, 0.05, 0.3, 0.89408325365173713],\n",
       " [0.05, 0.05, 0.1, 0.05, 0.88416027406757103],\n",
       " [0.05, 0.05, 0.1, 0.1, 0.89013825172708327],\n",
       " [0.05, 0.05, 0.1, 0.15, 0.89274956847031361],\n",
       " [0.05, 0.05, 0.1, 0.2, 0.89387349685793716],\n",
       " [0.05, 0.05, 0.1, 0.25, 0.89433658470109534],\n",
       " [0.05, 0.05, 0.1, 0.3, 0.89457522569089254],\n",
       " [0.05, 0.05, 0.15, 0.05, 0.8864166618380066],\n",
       " [0.05, 0.05, 0.15, 0.1, 0.8913441878560624],\n",
       " [0.05, 0.05, 0.15, 0.15, 0.89345000378185502],\n",
       " [0.05, 0.05, 0.15, 0.2, 0.89431919238121582],\n",
       " [0.05, 0.05, 0.15, 0.25, 0.89467327633553118],\n",
       " [0.05, 0.05, 0.15, 0.3, 0.89483615667706229],\n",
       " [0.05, 0.05, 0.2, 0.05, 0.88795134217534011],\n",
       " [0.05, 0.05, 0.2, 0.1, 0.89217287146163216],\n",
       " [0.05, 0.05, 0.2, 0.15, 0.89392959397531113],\n",
       " [0.05, 0.05, 0.2, 0.2, 0.89460039321405593],\n",
       " [0.05, 0.05, 0.2, 0.25, 0.89486578355531399],\n",
       " [0.05, 0.05, 0.2, 0.3, 0.89496226669712153],\n",
       " [0.05, 0.05, 0.25, 0.05, 0.88913690175710669],\n",
       " [0.05, 0.05, 0.25, 0.1, 0.89277920310023418],\n",
       " [0.05, 0.05, 0.25, 0.15, 0.89425693730691946],\n",
       " [0.05, 0.05, 0.25, 0.2, 0.8948166355155931],\n",
       " [0.05, 0.05, 0.25, 0.25, 0.89500622683761744],\n",
       " [0.05, 0.05, 0.25, 0.3, 0.89504953515337671],\n",
       " [0.05, 0.05, 0.3, 0.05, 0.8900123150950352],\n",
       " [0.05, 0.05, 0.3, 0.1, 0.8932187495657169],\n",
       " [0.05, 0.05, 0.3, 0.15, 0.89444854530374995],\n",
       " [0.05, 0.05, 0.3, 0.2, 0.89490344202647865],\n",
       " [0.05, 0.05, 0.3, 0.25, 0.89503029569810244],\n",
       " [0.05, 0.05, 0.3, 0.3, 0.89503926294765845],\n",
       " [0.05, 0.1, 0.05, 0.05, 0.89345016198536054],\n",
       " [0.05, 0.1, 0.05, 0.1, 0.90154207896742489],\n",
       " [0.05, 0.1, 0.05, 0.15, 0.90518637388218293],\n",
       " [0.05, 0.1, 0.05, 0.2, 0.90683024978336646],\n",
       " [0.05, 0.1, 0.05, 0.25, 0.90758386449217909],\n",
       " [0.05, 0.1, 0.05, 0.3, 0.90800762548701008],\n",
       " [0.05, 0.1, 0.1, 0.05, 0.89753323210969149],\n",
       " [0.05, 0.1, 0.1, 0.1, 0.90380074710931124],\n",
       " [0.05, 0.1, 0.1, 0.15, 0.90656677647698625],\n",
       " [0.05, 0.1, 0.1, 0.2, 0.90776174219155437],\n",
       " [0.05, 0.1, 0.1, 0.25, 0.90826411288380071],\n",
       " [0.05, 0.1, 0.1, 0.3, 0.90853304548623526],\n",
       " [0.05, 0.1, 0.15, 0.05, 0.8998951287060073],\n",
       " [0.05, 0.1, 0.15, 0.1, 0.90506720758681425],\n",
       " [0.05, 0.1, 0.15, 0.15, 0.90730415775055573],\n",
       " [0.05, 0.1, 0.15, 0.2, 0.9082345821420984],\n",
       " [0.05, 0.1, 0.15, 0.25, 0.90862225269526364],\n",
       " [0.05, 0.1, 0.15, 0.3, 0.90880851974041632],\n",
       " [0.05, 0.1, 0.2, 0.05, 0.90150715310629925],\n",
       " [0.05, 0.1, 0.2, 0.1, 0.90593888940658363],\n",
       " [0.05, 0.1, 0.2, 0.15, 0.90781080973960737],\n",
       " [0.05, 0.1, 0.2, 0.2, 0.90853540176926217],\n",
       " [0.05, 0.1, 0.2, 0.25, 0.908828405105648],\n",
       " [0.05, 0.1, 0.2, 0.3, 0.90894303535782361],\n",
       " [0.05, 0.1, 0.25, 0.05, 0.90275421816572099],\n",
       " [0.05, 0.1, 0.25, 0.1, 0.90658189945832512],\n",
       " [0.05, 0.1, 0.25, 0.15, 0.90816146479366178],\n",
       " [0.05, 0.1, 0.25, 0.2, 0.90876730959551166],\n",
       " [0.05, 0.1, 0.25, 0.25, 0.90898027037926477],\n",
       " [0.05, 0.1, 0.25, 0.3, 0.90903822938389001],\n",
       " [0.05, 0.1, 0.3, 0.05, 0.9036930919471502],\n",
       " [0.05, 0.1, 0.3, 0.1, 0.907056250969421],\n",
       " [0.05, 0.1, 0.3, 0.15, 0.90837254687153091],\n",
       " [0.05, 0.1, 0.3, 0.2, 0.90886727412029944],\n",
       " [0.05, 0.1, 0.3, 0.25, 0.90901409164453739],\n",
       " [0.05, 0.1, 0.3, 0.3, 0.90903441991867351],\n",
       " [0.05, 0.15, 0.05, 0.05, 0.89855417491153489],\n",
       " [0.05, 0.15, 0.05, 0.1, 0.90682372924662791],\n",
       " [0.05, 0.15, 0.05, 0.15, 0.91056183141524816],\n",
       " [0.05, 0.15, 0.05, 0.2, 0.91224472972878612],\n",
       " [0.05, 0.15, 0.05, 0.25, 0.91302030923570421],\n",
       " [0.05, 0.15, 0.05, 0.3, 0.91346115894365654],\n",
       " [0.05, 0.15, 0.1, 0.05, 0.90271849886780697],\n",
       " [0.05, 0.15, 0.1, 0.1, 0.90913278445276069],\n",
       " [0.05, 0.15, 0.1, 0.15, 0.91197771590463994],\n",
       " [0.05, 0.15, 0.1, 0.2, 0.91320388733508318],\n",
       " [0.05, 0.15, 0.1, 0.25, 0.91372277638880062],\n",
       " [0.05, 0.15, 0.1, 0.3, 0.91400523122586097],\n",
       " [0.05, 0.15, 0.15, 0.05, 0.90513361195607878],\n",
       " [0.05, 0.15, 0.15, 0.1, 0.91043243167040899],\n",
       " [0.05, 0.15, 0.15, 0.15, 0.91273640752819152],\n",
       " [0.05, 0.15, 0.15, 0.2, 0.91369329244633501],\n",
       " [0.05, 0.15, 0.15, 0.25, 0.91409469139853394],\n",
       " [0.05, 0.15, 0.15, 0.3, 0.914291852812949],\n",
       " [0.05, 0.15, 0.2, 0.05, 0.90678350734697333],\n",
       " [0.05, 0.15, 0.2, 0.1, 0.91132873868928732],\n",
       " [0.05, 0.15, 0.2, 0.15, 0.91325808327906188],\n",
       " [0.05, 0.15, 0.2, 0.2, 0.9140064956874171],\n",
       " [0.05, 0.15, 0.2, 0.25, 0.91431129220957896],\n",
       " [0.05, 0.15, 0.2, 0.3, 0.91443507219936471],\n",
       " [0.05, 0.15, 0.25, 0.05, 0.90806202463483598],\n",
       " [0.05, 0.15, 0.25, 0.1, 0.91199023838959814],\n",
       " [0.05, 0.15, 0.25, 0.15, 0.91362084329127424],\n",
       " [0.05, 0.15, 0.25, 0.2, 0.91424740280475703],\n",
       " [0.05, 0.15, 0.25, 0.25, 0.91446964848307599],\n",
       " [0.05, 0.15, 0.25, 0.3, 0.91453315400790802],\n",
       " [0.05, 0.15, 0.3, 0.05, 0.90903205025642819],\n",
       " [0.05, 0.15, 0.3, 0.1, 0.91248102173773182],\n",
       " [0.05, 0.15, 0.3, 0.15, 0.9138406098140911],\n",
       " [0.05, 0.15, 0.3, 0.2, 0.91435481804756458],\n",
       " [0.05, 0.15, 0.3, 0.25, 0.91450848332810908],\n",
       " [0.05, 0.15, 0.3, 0.3, 0.91453314333065017],\n",
       " [0.05, 0.2, 0.05, 0.05, 0.8999933594276065],\n",
       " [0.05, 0.2, 0.05, 0.1, 0.90837035940877775],\n",
       " [0.05, 0.2, 0.05, 0.15, 0.91215927090600835],\n",
       " [0.05, 0.2, 0.05, 0.2, 0.9138643738529918],\n",
       " [0.05, 0.2, 0.05, 0.25, 0.91465084008418918],\n",
       " [0.05, 0.2, 0.05, 0.3, 0.91510074203077707],\n",
       " [0.05, 0.2, 0.1, 0.05, 0.90420757005346974],\n",
       " [0.05, 0.2, 0.1, 0.1, 0.91070850913871337],\n",
       " [0.05, 0.2, 0.1, 0.15, 0.9135937381834015],\n",
       " [0.05, 0.2, 0.1, 0.2, 0.91483748899991246],\n",
       " [0.05, 0.2, 0.1, 0.25, 0.91536335957886161],\n",
       " [0.05, 0.2, 0.1, 0.3, 0.91565278698073038],\n",
       " [0.05, 0.2, 0.15, 0.05, 0.90665440860130087],\n",
       " [0.05, 0.2, 0.15, 0.1, 0.91202508192520126],\n",
       " [0.05, 0.2, 0.15, 0.15, 0.91436420350052383],\n",
       " [0.05, 0.2, 0.15, 0.2, 0.9153350172980651],\n",
       " [0.05, 0.2, 0.15, 0.25, 0.9157419647476247],\n",
       " [0.05, 0.2, 0.15, 0.3, 0.91594467028808946],\n",
       " [0.05, 0.2, 0.2, 0.05, 0.90832714940991888],\n",
       " [0.05, 0.2, 0.2, 0.1, 0.9129351599586395],\n",
       " [0.05, 0.2, 0.2, 0.15, 0.91489411909727381],\n",
       " [0.05, 0.2, 0.2, 0.2, 0.91565435387277339],\n",
       " [0.05, 0.2, 0.2, 0.25, 0.91596358358993679],\n",
       " [0.05, 0.2, 0.2, 0.3, 0.91609109173321612],\n",
       " [0.05, 0.2, 0.25, 0.05, 0.90962744944329954],\n",
       " [0.05, 0.2, 0.25, 0.1, 0.91361000858680241],\n",
       " [0.05, 0.2, 0.25, 0.15, 0.91526438107990404],\n",
       " [0.05, 0.2, 0.25, 0.2, 0.91590053707807351],\n",
       " [0.05, 0.2, 0.25, 0.25, 0.91612527464266458],\n",
       " [0.05, 0.2, 0.25, 0.3, 0.91619271756205711],\n",
       " [0.05, 0.2, 0.3, 0.05, 0.91061419803466159],\n",
       " [0.05, 0.2, 0.3, 0.1, 0.91411064156904775],\n",
       " [0.05, 0.2, 0.3, 0.15, 0.9154894663236337],\n",
       " [0.05, 0.2, 0.3, 0.2, 0.91601112814308772],\n",
       " [0.05, 0.2, 0.3, 0.25, 0.91616580264781988],\n",
       " [0.05, 0.2, 0.3, 0.3, 0.91619346488965148],\n",
       " [0.05, 0.25, 0.05, 0.05, 0.8993921735495638],\n",
       " [0.05, 0.25, 0.05, 0.1, 0.90783206581769438],\n",
       " [0.05, 0.25, 0.05, 0.15, 0.91164769641917187],\n",
       " [0.05, 0.25, 0.05, 0.2, 0.9133643876168428],\n",
       " [0.05, 0.25, 0.05, 0.25, 0.91415935933280645],\n",
       " [0.05, 0.25, 0.05, 0.3, 0.91461112783316834],\n",
       " [0.05, 0.25, 0.1, 0.05, 0.90363505930866006],\n",
       " [0.05, 0.25, 0.1, 0.1, 0.91018499840285694],\n",
       " [0.05, 0.25, 0.1, 0.15, 0.91309223806241202],\n",
       " [0.05, 0.25, 0.1, 0.2, 0.91434468365441635],\n",
       " [0.05, 0.25, 0.1, 0.25, 0.91487684927626767],\n",
       " [0.05, 0.25, 0.1, 0.3, 0.91516663231072837],\n",
       " [0.05, 0.25, 0.15, 0.05, 0.9060986472709035],\n",
       " [0.05, 0.25, 0.15, 0.1, 0.91151154541180546],\n",
       " [0.05, 0.25, 0.15, 0.15, 0.91386884382545008],\n",
       " [0.05, 0.25, 0.15, 0.2, 0.91484519653914209],\n",
       " [0.05, 0.25, 0.15, 0.25, 0.91525873513235101],\n",
       " [0.05, 0.25, 0.15, 0.3, 0.91546130159882977],\n",
       " [0.05, 0.25, 0.2, 0.05, 0.90778034271826735],\n",
       " [0.05, 0.25, 0.2, 0.1, 0.91242653159976506],\n",
       " [0.05, 0.25, 0.2, 0.15, 0.91440035138932219],\n",
       " [0.05, 0.25, 0.2, 0.2, 0.91516534830358731],\n",
       " [0.05, 0.25, 0.2, 0.25, 0.91548009672265862],\n",
       " [0.05, 0.25, 0.2, 0.3, 0.91560750476236452],\n",
       " [0.05, 0.25, 0.25, 0.05, 0.90909242786200584],\n",
       " [0.05, 0.25, 0.25, 0.1, 0.91310816924096605],\n",
       " [0.05, 0.25, 0.25, 0.15, 0.91477494582677732],\n",
       " [0.05, 0.25, 0.25, 0.2, 0.91541467225959239],\n",
       " [0.05, 0.25, 0.25, 0.25, 0.91564425690327556],\n",
       " [0.05, 0.25, 0.25, 0.3, 0.91571075664922119],\n",
       " [0.05, 0.25, 0.3, 0.05, 0.91008796269596992],\n",
       " [0.05, 0.25, 0.3, 0.1, 0.91361144416262374],\n",
       " [0.05, 0.25, 0.3, 0.15, 0.9150013286527976],\n",
       " [0.05, 0.25, 0.3, 0.2, 0.91552561555141732],\n",
       " [0.05, 0.25, 0.3, 0.25, 0.91568368907550102],\n",
       " [0.05, 0.25, 0.3, 0.3, 0.91571039988852942],\n",
       " [0.05, 0.3, 0.05, 0.05, 0.89820155313027461],\n",
       " [0.05, 0.3, 0.05, 0.1, 0.90668256347029763],\n",
       " [0.05, 0.3, 0.05, 0.15, 0.910514538980983],\n",
       " [0.05, 0.3, 0.05, 0.2, 0.91223377006609485],\n",
       " [0.05, 0.3, 0.05, 0.25, 0.91303477503057329],\n",
       " [0.05, 0.3, 0.05, 0.3, 0.91348949170907623],\n",
       " [0.05, 0.3, 0.1, 0.05, 0.90246182360978844],\n",
       " [0.05, 0.3, 0.1, 0.1, 0.90904515690963716],\n",
       " [0.05, 0.3, 0.1, 0.15, 0.91196695534893446],\n",
       " [0.05, 0.3, 0.1, 0.2, 0.91321982538638857],\n",
       " [0.05, 0.3, 0.1, 0.25, 0.91375626503359797],\n",
       " [0.05, 0.3, 0.1, 0.3, 0.91404790126872137],\n",
       " [0.05, 0.3, 0.15, 0.05, 0.90493924923484825],\n",
       " [0.05, 0.3, 0.15, 0.1, 0.91037734178798924],\n",
       " [0.05, 0.3, 0.15, 0.15, 0.91274737909890402],\n",
       " [0.05, 0.3, 0.15, 0.2, 0.91372345260423671],\n",
       " [0.05, 0.3, 0.15, 0.25, 0.91413989197809764],\n",
       " [0.05, 0.3, 0.15, 0.3, 0.91434362294417337],\n",
       " [0.05, 0.3, 0.2, 0.05, 0.90662467204256469],\n",
       " [0.05, 0.3, 0.2, 0.1, 0.91129441957352819],\n",
       " [0.05, 0.3, 0.2, 0.15, 0.91327971312856149],\n",
       " [0.05, 0.3, 0.2, 0.2, 0.91404417545149674],\n",
       " [0.05, 0.3, 0.2, 0.25, 0.91436093778723682],\n",
       " [0.05, 0.3, 0.2, 0.3, 0.91448944693591383],\n",
       " [0.05, 0.3, 0.25, 0.05, 0.90794480186012394],\n",
       " [0.05, 0.3, 0.25, 0.1, 0.91197969555666081],\n",
       " [0.05, 0.3, 0.25, 0.15, 0.91365667807083562],\n",
       " [0.05, 0.3, 0.25, 0.2, 0.91429485105551445],\n",
       " [0.05, 0.3, 0.25, 0.25, 0.91452486545258616],\n",
       " [0.05, 0.3, 0.25, 0.3, 0.9145924494819675],\n",
       " [0.05, 0.3, 0.3, 0.05, 0.90894454966242166],\n",
       " [0.05, 0.3, 0.3, 0.1, 0.91248478110122966],\n",
       " [0.05, 0.3, 0.3, 0.15, 0.91388445829934195],\n",
       " [0.05, 0.3, 0.3, 0.2, 0.91440657283317195],\n",
       " [0.05, 0.3, 0.3, 0.25, 0.91456497376236312],\n",
       " [0.05, 0.3, 0.3, 0.3, 0.91459193772847414],\n",
       " [0.1, 0.05, 0.05, 0.05, 0.883660025895049],\n",
       " [0.1, 0.05, 0.05, 0.1, 0.89143834988724369],\n",
       " [0.1, 0.05, 0.05, 0.15, 0.89491411721440906],\n",
       " [0.1, 0.05, 0.05, 0.2, 0.89647991209471367],\n",
       " [0.1, 0.05, 0.05, 0.25, 0.89718917106519913],\n",
       " [0.1, 0.05, 0.05, 0.3, 0.89757659739825368],\n",
       " [0.1, 0.05, 0.1, 0.05, 0.88759584834281446],\n",
       " [0.1, 0.05, 0.1, 0.1, 0.8936076908317222],\n",
       " [0.1, 0.05, 0.1, 0.15, 0.89623238872331878],\n",
       " [0.1, 0.05, 0.1, 0.2, 0.8973644923234656],\n",
       " [0.1, 0.05, 0.1, 0.25, 0.897831329044119],\n",
       " [0.1, 0.05, 0.1, 0.3, 0.89807046795013301],\n",
       " [0.1, 0.05, 0.15, 0.05, 0.88986289603547908],\n",
       " [0.1, 0.05, 0.15, 0.1, 0.89481996125080088],\n",
       " [0.1, 0.05, 0.15, 0.15, 0.89693659490844346],\n",
       " [0.1, 0.05, 0.15, 0.2, 0.8978123762861675],\n",
       " [0.1, 0.05, 0.15, 0.25, 0.89816980247750366],\n",
       " [0.1, 0.05, 0.15, 0.3, 0.89833229788497637],\n",
       " [0.1, 0.05, 0.2, 0.05, 0.89140509291151648],\n",
       " [0.1, 0.05, 0.2, 0.1, 0.89565228635366767],\n",
       " [0.1, 0.05, 0.2, 0.15, 0.89741898302009104],\n",
       " [0.1, 0.05, 0.2, 0.2, 0.89809530997421672],\n",
       " [0.1, 0.05, 0.2, 0.25, 0.89836357830015878],\n",
       " [0.1, 0.05, 0.2, 0.3, 0.89845951744987618],\n",
       " [0.1, 0.05, 0.25, 0.05, 0.89259818004019986],\n",
       " [0.1, 0.05, 0.25, 0.1, 0.89626265670146976],\n",
       " [0.1, 0.05, 0.25, 0.15, 0.89774922524081902],\n",
       " [0.1, 0.05, 0.25, 0.2, 0.89831377239089782],\n",
       " [0.1, 0.05, 0.25, 0.25, 0.89850613618719588],\n",
       " [0.1, 0.05, 0.25, 0.3, 0.89854781853072918],\n",
       " [0.1, 0.05, 0.3, 0.05, 0.89347904880685936],\n",
       " [0.1, 0.05, 0.3, 0.1, 0.89670459636465538],\n",
       " [0.1, 0.05, 0.3, 0.15, 0.89794222146586411],\n",
       " [0.1, 0.05, 0.3, 0.2, 0.89840152607827028],\n",
       " [0.1, 0.05, 0.3, 0.25, 0.89853053328301236],\n",
       " [0.1, 0.05, 0.3, 0.3, 0.89853766571708171],\n",
       " [0.1, 0.1, 0.05, 0.05, 0.89708296026535772],\n",
       " [0.1, 0.1, 0.05, 0.1, 0.90521985615328004],\n",
       " [0.1, 0.1, 0.05, 0.15, 0.90888570092634147],\n",
       " [0.1, 0.1, 0.05, 0.2, 0.91054160191425115],\n",
       " [0.1, 0.1, 0.05, 0.25, 0.91130070179927225],\n",
       " [0.1, 0.1, 0.05, 0.3, 0.91172638595135935],\n",
       " [0.1, 0.1, 0.1, 0.05, 0.90118791794282838],\n",
       " [0.1, 0.1, 0.1, 0.1, 0.90749247438527558],\n",
       " [0.1, 0.1, 0.1, 0.15, 0.91027415450458538],\n",
       " [0.1, 0.1, 0.1, 0.2, 0.91147824007580625],\n",
       " [0.1, 0.1, 0.1, 0.25, 0.91198464455536887],\n",
       " [0.1, 0.1, 0.1, 0.3, 0.91225398281037484],\n",
       " [0.1, 0.1, 0.15, 0.05, 0.90356162289181619],\n",
       " [0.1, 0.1, 0.15, 0.1, 0.908766116995955],\n",
       " [0.1, 0.1, 0.15, 0.15, 0.91101578274040751],\n",
       " [0.1, 0.1, 0.15, 0.2, 0.91195357704454627],\n",
       " [0.1, 0.1, 0.15, 0.25, 0.9123449133683158],\n",
       " [0.1, 0.1, 0.15, 0.3, 0.91253056529500909],\n",
       " [0.1, 0.1, 0.2, 0.05, 0.90518199379311426],\n",
       " [0.1, 0.1, 0.2, 0.1, 0.90964194450365599],\n",
       " [0.1, 0.1, 0.2, 0.15, 0.91152554132763441],\n",
       " [0.1, 0.1, 0.2, 0.2, 0.91225633414516671],\n",
       " [0.1, 0.1, 0.2, 0.25, 0.91255252369933193],\n",
       " [0.1, 0.1, 0.2, 0.3, 0.91266637977501686],\n",
       " [0.1, 0.1, 0.25, 0.05, 0.90643740719239529],\n",
       " [0.1, 0.1, 0.25, 0.1, 0.91028943534060169],\n",
       " [0.1, 0.1, 0.25, 0.15, 0.91187932192052967],\n",
       " [0.1, 0.1, 0.25, 0.2, 0.91249066570767712],\n",
       " [0.1, 0.1, 0.25, 0.25, 0.91270669171999774],\n",
       " [0.1, 0.1, 0.25, 0.3, 0.91276272684125148],\n",
       " [0.1, 0.1, 0.3, 0.05, 0.90738229733211051],\n",
       " [0.1, 0.1, 0.3, 0.1, 0.91076640088263616],\n",
       " [0.1, 0.1, 0.3, 0.15, 0.91209194866543974],\n",
       " [0.1, 0.1, 0.3, 0.2, 0.9125916756784721],\n",
       " [0.1, 0.1, 0.3, 0.25, 0.91274090489044779],\n",
       " [0.1, 0.1, 0.3, 0.3, 0.91275908881355472],\n",
       " [0.1, 0.15, 0.05, 0.05, 0.90233154470540655],\n",
       " [0.1, 0.15, 0.05, 0.1, 0.91064894152370479],\n",
       " [0.1, 0.15, 0.05, 0.15, 0.91441005546159027],\n",
       " [0.1, 0.15, 0.05, 0.2, 0.91610630690686967],\n",
       " [0.1, 0.15, 0.05, 0.25, 0.91688774863050637],\n",
       " [0.1, 0.15, 0.05, 0.3, 0.91733098683795411],\n",
       " [0.1, 0.15, 0.1, 0.05, 0.90651916624206219],\n",
       " [0.1, 0.15, 0.1, 0.1, 0.91297297184124038],\n",
       " [0.1, 0.15, 0.1, 0.15, 0.91583465613544279],\n",
       " [0.1, 0.15, 0.1, 0.2, 0.91707097284275441],\n",
       " [0.1, 0.15, 0.1, 0.25, 0.91759416190320819],\n",
       " [0.1, 0.15, 0.1, 0.3, 0.91787740538515394],\n",
       " [0.1, 0.15, 0.15, 0.05, 0.9089469704983707],\n",
       " [0.1, 0.15, 0.15, 0.1, 0.91428036174698801],\n",
       " [0.1, 0.15, 0.15, 0.15, 0.91659797683506294],\n",
       " [0.1, 0.15, 0.15, 0.2, 0.91756311482996356],\n",
       " [0.1, 0.15, 0.15, 0.25, 0.91796848883373749],\n",
       " [0.1, 0.15, 0.15, 0.3, 0.91816524148193002],\n",
       " [0.1, 0.15, 0.2, 0.05, 0.91060555954590872],\n",
       " [0.1, 0.15, 0.2, 0.1, 0.91518108948186327],\n",
       " [0.1, 0.15, 0.2, 0.15, 0.9171230128297817],\n",
       " [0.1, 0.15, 0.2, 0.2, 0.91787842869128422],\n",
       " [0.1, 0.15, 0.2, 0.25, 0.91818671000996854],\n",
       " [0.1, 0.15, 0.2, 0.3, 0.91830992780954623],\n",
       " [0.1, 0.15, 0.25, 0.05, 0.91189303787744957],\n",
       " [0.1, 0.15, 0.25, 0.1, 0.91584742059612134],\n",
       " [0.1, 0.15, 0.25, 0.15, 0.91748916331851027],\n",
       " [0.1, 0.15, 0.25, 0.2, 0.91812199133817873],\n",
       " [0.1, 0.15, 0.25, 0.25, 0.91834753977508732],\n",
       " [0.1, 0.15, 0.25, 0.3, 0.91840922460773389],\n",
       " [0.1, 0.15, 0.3, 0.05, 0.91286949500135306],\n",
       " [0.1, 0.15, 0.3, 0.1, 0.91634097826260619],\n",
       " [0.1, 0.15, 0.3, 0.15, 0.9177106167690241],\n",
       " [0.1, 0.15, 0.3, 0.2, 0.91823049708086868],\n",
       " [0.1, 0.15, 0.3, 0.25, 0.91838679355241681],\n",
       " [0.1, 0.15, 0.3, 0.3, 0.91840941239511487],\n",
       " [0.1, 0.2, 0.05, 0.05, 0.90383311936852884],\n",
       " [0.1, 0.2, 0.05, 0.1, 0.91225940687955587],\n",
       " [0.1, 0.2, 0.05, 0.15, 0.91607223797348758],\n",
       " [0.1, 0.2, 0.05, 0.2, 0.91779138925371495],\n",
       " [0.1, 0.2, 0.05, 0.25, 0.91858368794824319],\n",
       " [0.1, 0.2, 0.05, 0.3, 0.91903586771712964],\n",
       " [0.1, 0.2, 0.1, 0.05, 0.90807129662432107],\n",
       " [0.1, 0.2, 0.1, 0.1, 0.91461286064689296],\n",
       " [0.1, 0.2, 0.1, 0.15, 0.91751557730007205],\n",
       " [0.1, 0.2, 0.1, 0.2, 0.91876998537465371],\n",
       " [0.1, 0.2, 0.1, 0.25, 0.91930014957690709],\n",
       " [0.1, 0.2, 0.1, 0.3, 0.91959023752903757],\n",
       " [0.1, 0.2, 0.15, 0.05, 0.9105311995758042],\n",
       " [0.1, 0.2, 0.15, 0.1, 0.9159374347374285],\n",
       " [0.1, 0.2, 0.15, 0.15, 0.91829081590992234],\n",
       " [0.1, 0.2, 0.15, 0.2, 0.91927028150426582],\n",
       " [0.1, 0.2, 0.15, 0.25, 0.91968119762196865],\n",
       " [0.1, 0.2, 0.15, 0.3, 0.91988335353208606],\n",
       " [0.1, 0.2, 0.2, 0.05, 0.91221296927345397],\n",
       " [0.1, 0.2, 0.2, 0.1, 0.916852143426933],\n",
       " [0.1, 0.2, 0.2, 0.15, 0.91882428124137072],\n",
       " [0.1, 0.2, 0.2, 0.2, 0.91959182352135793],\n",
       " [0.1, 0.2, 0.2, 0.25, 0.91990453165161168],\n",
       " [0.1, 0.2, 0.2, 0.3, 0.92003133153990002],\n",
       " [0.1, 0.2, 0.25, 0.05, 0.91352266758183343],\n",
       " [0.1, 0.2, 0.25, 0.1, 0.91753202692002311],\n",
       " [0.1, 0.2, 0.25, 0.15, 0.91919804480937162],\n",
       " [0.1, 0.2, 0.25, 0.2, 0.9198407617406702],\n",
       " [0.1, 0.2, 0.25, 0.25, 0.92006879568041922],\n",
       " [0.1, 0.2, 0.25, 0.3, 0.92013426207835014],\n",
       " [0.1, 0.2, 0.3, 0.05, 0.9145160147787158],\n",
       " [0.1, 0.2, 0.3, 0.1, 0.91803556753786186],\n",
       " [0.1, 0.2, 0.3, 0.15, 0.91942484771398647],\n",
       " [0.1, 0.2, 0.3, 0.2, 0.91995244061827708],\n",
       " [0.1, 0.2, 0.3, 0.25, 0.92010973993058109],\n",
       " [0.1, 0.2, 0.3, 0.3, 0.92013520518329328],\n",
       " [0.1, 0.25, 0.05, 0.05, 0.90326382594911647],\n",
       " [0.1, 0.25, 0.05, 0.1, 0.91175350847038206],\n",
       " [0.1, 0.25, 0.05, 0.15, 0.91559355231896777],\n",
       " [0.1, 0.25, 0.05, 0.2, 0.91732450088605744],\n",
       " [0.1, 0.25, 0.05, 0.25, 0.91812546213828483],\n",
       " [0.1, 0.25, 0.05, 0.3, 0.91857968046302862],\n",
       " [0.1, 0.25, 0.1, 0.05, 0.90753103221979647],\n",
       " [0.1, 0.25, 0.1, 0.1, 0.91412208627730618],\n",
       " [0.1, 0.25, 0.1, 0.15, 0.91704722555149432],\n",
       " [0.1, 0.25, 0.1, 0.2, 0.91831049283916022],\n",
       " [0.1, 0.25, 0.1, 0.25, 0.91884708074331167],\n",
       " [0.1, 0.25, 0.1, 0.3, 0.9191376093509519],\n",
       " [0.1, 0.25, 0.15, 0.05, 0.91000794254039197],\n",
       " [0.1, 0.25, 0.15, 0.1, 0.91545687737312176],\n",
       " [0.1, 0.25, 0.15, 0.15, 0.91782870494855651],\n",
       " [0.1, 0.25, 0.15, 0.2, 0.91881384794688592],\n",
       " [0.1, 0.25, 0.15, 0.25, 0.91923146474636108],\n",
       " [0.1, 0.25, 0.15, 0.3, 0.91943358819083787],\n",
       " [0.1, 0.25, 0.2, 0.05, 0.91169873283777847],\n",
       " [0.1, 0.25, 0.2, 0.1, 0.91637655193766065],\n",
       " [0.1, 0.25, 0.2, 0.15, 0.91836379655307887],\n",
       " [0.1, 0.25, 0.2, 0.2, 0.91913622571986253],\n",
       " [0.1, 0.25, 0.2, 0.25, 0.91945453502631835],\n",
       " [0.1, 0.25, 0.2, 0.3, 0.91958134946306391],\n",
       " [0.1, 0.25, 0.25, 0.05, 0.91302042787081039],\n",
       " [0.1, 0.25, 0.25, 0.1, 0.91706339157777306],\n",
       " [0.1, 0.25, 0.25, 0.15, 0.91874204808549209],\n",
       " [0.1, 0.25, 0.25, 0.2, 0.91938848036032561],\n",
       " [0.1, 0.25, 0.25, 0.25, 0.91962145555494257],\n",
       " [0.1, 0.25, 0.25, 0.3, 0.91968593709226487],\n",
       " [0.1, 0.25, 0.3, 0.05, 0.91402263224747538],\n",
       " [0.1, 0.25, 0.3, 0.1, 0.91756962105530371],\n",
       " [0.1, 0.25, 0.3, 0.15, 0.91897012553169333],\n",
       " [0.1, 0.25, 0.3, 0.2, 0.91950047294523707],\n",
       " [0.1, 0.25, 0.3, 0.25, 0.91966126545266813],\n",
       " [0.1, 0.25, 0.3, 0.3, 0.91968573758941541],\n",
       " [0.1, 0.3, 0.05, 0.05, 0.9020992069722793],\n",
       " [0.1, 0.3, 0.05, 0.1, 0.91063166316643052],\n",
       " [0.1, 0.3, 0.05, 0.15, 0.91448876695915315],\n",
       " [0.1, 0.3, 0.05, 0.2, 0.91622263428486361],\n",
       " [0.1, 0.3, 0.05, 0.25, 0.91702966446745171],\n",
       " [0.1, 0.3, 0.05, 0.3, 0.91748673888678578],\n",
       " [0.1, 0.3, 0.1, 0.05, 0.9063844559426677],\n",
       " [0.1, 0.3, 0.1, 0.1, 0.91301033020048639],\n",
       " [0.1, 0.3, 0.1, 0.15, 0.91595050622607233],\n",
       " [0.1, 0.3, 0.1, 0.2, 0.91721447596567618],\n",
       " [0.1, 0.3, 0.1, 0.25, 0.91775536153285553],\n",
       " [0.1, 0.3, 0.1, 0.3, 0.9180476261065349],\n",
       " [0.1, 0.3, 0.15, 0.05, 0.90887566666230135],\n",
       " [0.1, 0.3, 0.15, 0.1, 0.91435100705847361],\n",
       " [0.1, 0.3, 0.15, 0.15, 0.9167359425125875],\n",
       " [0.1, 0.3, 0.15, 0.2, 0.91772106292015565],\n",
       " [0.1, 0.3, 0.15, 0.25, 0.91814159359683345],\n",
       " [0.1, 0.3, 0.15, 0.3, 0.91834476156159461],\n",
       " [0.1, 0.3, 0.2, 0.05, 0.91057042421927981],\n",
       " [0.1, 0.3, 0.2, 0.1, 0.91527287549820013],\n",
       " [0.1, 0.3, 0.2, 0.15, 0.91727186551787798],\n",
       " [0.1, 0.3, 0.2, 0.2, 0.91804400388846397],\n",
       " [0.1, 0.3, 0.2, 0.25, 0.91836434398138089],\n",
       " [0.1, 0.3, 0.2, 0.3, 0.91849213954778464],\n",
       " [0.1, 0.3, 0.25, 0.05, 0.91190032683475675],\n",
       " [0.1, 0.3, 0.25, 0.1, 0.91596331821067289],\n",
       " [0.1, 0.3, 0.25, 0.15, 0.91765246756667018],\n",
       " [0.1, 0.3, 0.25, 0.2, 0.91829759625593432],\n",
       " [0.1, 0.3, 0.25, 0.25, 0.91853100593886228],\n",
       " [0.1, 0.3, 0.25, 0.3, 0.91859646979249754],\n",
       " [0.1, 0.3, 0.3, 0.05, 0.91290702627673359],\n",
       " [0.1, 0.3, 0.3, 0.1, 0.9164713677999119],\n",
       " [0.1, 0.3, 0.3, 0.15, 0.91788198252946129],\n",
       " [0.1, 0.3, 0.3, 0.2, 0.9184103457420616],\n",
       " [0.1, 0.3, 0.3, 0.25, 0.9185714703895228],\n",
       " [0.1, 0.3, 0.3, 0.3, 0.91859610649906642],\n",
       " [0.15, 0.05, 0.05, 0.05, 0.88449857964333778],\n",
       " [0.15, 0.05, 0.05, 0.1, 0.89227406642986973],\n",
       " [0.15, 0.05, 0.05, 0.15, 0.8957541867986677],\n",
       " [0.15, 0.05, 0.05, 0.2, 0.89732339109869863],\n",
       " [0.15, 0.05, 0.05, 0.25, 0.89803128452107905],\n",
       " [0.15, 0.05, 0.05, 0.3, 0.89841656604899356],\n",
       " [0.15, 0.05, 0.1, 0.05, 0.88843804180573749],\n",
       " [0.15, 0.05, 0.1, 0.1, 0.89444637841470509],\n",
       " [0.15, 0.05, 0.1, 0.15, 0.89707424527377466],\n",
       " [0.15, 0.05, 0.1, 0.2, 0.89820918581161524],\n",
       " [0.15, 0.05, 0.1, 0.25, 0.89867455139928487],\n",
       " [0.15, 0.05, 0.1, 0.3, 0.89891207207661894],\n",
       " [0.15, 0.05, 0.15, 0.05, 0.89070910604905229],\n",
       " [0.15, 0.05, 0.15, 0.1, 0.89566114925221363],\n",
       " [0.15, 0.05, 0.15, 0.15, 0.89778000796573065],\n",
       " [0.15, 0.05, 0.15, 0.2, 0.89865831985740097],\n",
       " [0.15, 0.05, 0.15, 0.25, 0.89901434623221521],\n",
       " [0.15, 0.05, 0.15, 0.3, 0.89917501088838314],\n",
       " [0.15, 0.05, 0.2, 0.05, 0.89225095222948714],\n",
       " [0.15, 0.05, 0.2, 0.1, 0.89649390182970512],\n",
       " [0.15, 0.05, 0.2, 0.15, 0.89826248153443833],\n",
       " [0.15, 0.05, 0.2, 0.2, 0.89894106168681964],\n",
       " [0.15, 0.05, 0.2, 0.25, 0.89920778661700951],\n",
       " [0.15, 0.05, 0.2, 0.3, 0.8993023742288917],\n",
       " [0.15, 0.05, 0.25, 0.05, 0.8934420816105707],\n",
       " [0.15, 0.05, 0.25, 0.1, 0.89710401232800741],\n",
       " [0.15, 0.05, 0.25, 0.15, 0.89859218828657661],\n",
       " [0.15, 0.05, 0.25, 0.2, 0.89915895121000156],\n",
       " [0.15, 0.05, 0.25, 0.25, 0.89934981531341385],\n",
       " [0.15, 0.05, 0.25, 0.3, 0.89939036000800865],\n",
       " [0.15, 0.05, 0.3, 0.05, 0.8943222292299069],\n",
       " [0.15, 0.05, 0.3, 0.1, 0.89754690730512465],\n",
       " [0.15, 0.05, 0.3, 0.15, 0.89878530107859012],\n",
       " [0.15, 0.05, 0.3, 0.2, 0.89924661634043934],\n",
       " [0.15, 0.05, 0.3, 0.25, 0.8993742763643785],\n",
       " [0.15, 0.05, 0.3, 0.3, 0.89938015149969475],\n",
       " [0.15, 0.1, 0.05, 0.05, 0.89800300584944992],\n",
       " [0.15, 0.1, 0.05, 0.1, 0.90613663959709256],\n",
       " [0.15, 0.1, 0.05, 0.15, 0.90980729653027781],\n",
       " [0.15, 0.1, 0.05, 0.2, 0.91146695287827528],\n",
       " [0.15, 0.1, 0.05, 0.25, 0.91222470265635447],\n",
       " [0.15, 0.1, 0.05, 0.3, 0.91264807581472118],\n",
       " [0.15, 0.1, 0.1, 0.05, 0.90211179647923578],\n",
       " [0.15, 0.1, 0.1, 0.1, 0.90841243928773097],\n",
       " [0.15, 0.1, 0.1, 0.15, 0.91119769163054298],\n",
       " [0.15, 0.1, 0.1, 0.2, 0.91240492911577775],\n",
       " [0.15, 0.1, 0.1, 0.25, 0.91290986178038191],\n",
       " [0.15, 0.1, 0.1, 0.3, 0.91317749399733095],\n",
       " [0.15, 0.1, 0.15, 0.05, 0.90448995136160626],\n",
       " [0.15, 0.1, 0.15, 0.1, 0.90968887977573065],\n",
       " [0.15, 0.1, 0.15, 0.15, 0.9119410891943065],\n",
       " [0.15, 0.1, 0.15, 0.2, 0.91288169208478231],\n",
       " [0.15, 0.1, 0.15, 0.25, 0.91327160685813191],\n",
       " [0.15, 0.1, 0.15, 0.3, 0.91345530944485387],\n",
       " [0.15, 0.1, 0.2, 0.05, 0.90610984339101486],\n",
       " [0.15, 0.1, 0.2, 0.1, 0.91056517553714422],\n",
       " [0.15, 0.1, 0.2, 0.15, 0.91245096922390279],\n",
       " [0.15, 0.1, 0.2, 0.2, 0.91318429331208106],\n",
       " [0.15, 0.1, 0.2, 0.25, 0.9134788775028756],\n",
       " [0.15, 0.1, 0.2, 0.3, 0.9135912882548497],\n",
       " [0.15, 0.1, 0.25, 0.05, 0.90736331369504841],\n",
       " [0.15, 0.1, 0.25, 0.1, 0.91121243402307717],\n",
       " [0.15, 0.1, 0.25, 0.15, 0.91280416454293878],\n",
       " [0.15, 0.1, 0.25, 0.2, 0.91341798305494981],\n",
       " [0.15, 0.1, 0.25, 0.25, 0.91363245347420063],\n",
       " [0.15, 0.1, 0.25, 0.3, 0.91368729609217225],\n",
       " [0.15, 0.1, 0.3, 0.05, 0.9083075484815345],\n",
       " [0.15, 0.1, 0.3, 0.1, 0.91169044764562435],\n",
       " [0.15, 0.1, 0.3, 0.15, 0.91301692266601886],\n",
       " [0.15, 0.1, 0.3, 0.2, 0.91351890161092919],\n",
       " [0.15, 0.1, 0.3, 0.25, 0.91366673623384553],\n",
       " [0.15, 0.1, 0.3, 0.3, 0.91368360800385584],\n",
       " [0.15, 0.15, 0.05, 0.05, 0.90330640021164965],\n",
       " [0.15, 0.15, 0.05, 0.1, 0.91162155316766902],\n",
       " [0.15, 0.15, 0.05, 0.15, 0.91538769447513679],\n",
       " [0.15, 0.15, 0.05, 0.2, 0.91708793312864123],\n",
       " [0.15, 0.15, 0.05, 0.25, 0.91786794371275304],\n",
       " [0.15, 0.15, 0.05, 0.3, 0.91830837358386119],\n",
       " [0.15, 0.15, 0.1, 0.05, 0.90749821840847966],\n",
       " [0.15, 0.15, 0.1, 0.1, 0.91394895214887928],\n",
       " [0.15, 0.15, 0.1, 0.15, 0.91681439722109892],\n",
       " [0.15, 0.15, 0.1, 0.2, 0.91805405516870597],\n",
       " [0.15, 0.15, 0.1, 0.25, 0.91857568103308129],\n",
       " [0.15, 0.15, 0.1, 0.3, 0.91885675966475522],\n",
       " [0.15, 0.15, 0.15, 0.05, 0.9099307395052274],\n",
       " [0.15, 0.15, 0.15, 0.1, 0.91525924866096253],\n",
       " [0.15, 0.15, 0.15, 0.15, 0.91757952332388837],\n",
       " [0.15, 0.15, 0.15, 0.2, 0.91854765051310994],\n",
       " [0.15, 0.15, 0.15, 0.25, 0.91895154155793313],\n",
       " [0.15, 0.15, 0.15, 0.3, 0.91914588605393899],\n",
       " [0.15, 0.15, 0.2, 0.05, 0.91158893899593407],\n",
       " [0.15, 0.15, 0.2, 0.1, 0.91616043145256265],\n",
       " [0.15, 0.15, 0.2, 0.15, 0.91810464752106336],\n",
       " [0.15, 0.15, 0.2, 0.2, 0.91886275723443933],\n",
       " [0.15, 0.15, 0.2, 0.25, 0.91916934137930772],\n",
       " [0.15, 0.15, 0.2, 0.3, 0.91929074298379909],\n",
       " [0.15, 0.15, 0.25, 0.05, 0.91287451802719033],\n",
       " [0.15, 0.15, 0.25, 0.1, 0.91682654872578995],\n",
       " [0.15, 0.15, 0.25, 0.15, 0.91847018556203608],\n",
       " [0.15, 0.15, 0.25, 0.2, 0.91910565088779594],\n",
       " [0.15, 0.15, 0.25, 0.25, 0.91932955845668385],\n",
       " [0.15, 0.15, 0.25, 0.3, 0.91938967991467258],\n",
       " [0.15, 0.15, 0.3, 0.05, 0.91385042330387767],\n",
       " [0.15, 0.15, 0.3, 0.1, 0.9173212465502335],\n",
       " [0.15, 0.15, 0.3, 0.15, 0.91869174982505353],\n",
       " [0.15, 0.15, 0.3, 0.2, 0.91921403418804659],\n",
       " [0.15, 0.15, 0.3, 0.25, 0.91936888832403107],\n",
       " [0.15, 0.15, 0.3, 0.3, 0.91938982414225667],\n",
       " [0.15, 0.2, 0.05, 0.05, 0.90484468148731756],\n",
       " [0.15, 0.2, 0.05, 0.1, 0.91326940009546198],\n",
       " [0.15, 0.2, 0.05, 0.15, 0.91708743798498193],\n",
       " [0.15, 0.2, 0.05, 0.2, 0.91881072310215195],\n",
       " [0.15, 0.2, 0.05, 0.25, 0.91960163606079792],\n",
       " [0.15, 0.2, 0.05, 0.3, 0.92005089751652414],\n",
       " [0.15, 0.2, 0.1, 0.05, 0.90908737633698633],\n",
       " [0.15, 0.2, 0.1, 0.1, 0.91562642945095352],\n",
       " [0.15, 0.2, 0.1, 0.15, 0.91853301011454724],\n",
       " [0.15, 0.2, 0.1, 0.2, 0.91979087619986211],\n",
       " [0.15, 0.2, 0.1, 0.25, 0.92031950323807865],\n",
       " [0.15, 0.2, 0.1, 0.3, 0.92060732798751299],\n",
       " [0.15, 0.2, 0.15, 0.05, 0.91155222328308882],\n",
       " [0.15, 0.2, 0.15, 0.1, 0.91695401879932903],\n",
       " [0.15, 0.2, 0.15, 0.15, 0.9193101081672338],\n",
       " [0.15, 0.2, 0.15, 0.2, 0.92029264090276519],\n",
       " [0.15, 0.2, 0.15, 0.25, 0.92070210343557257],\n",
       " [0.15, 0.2, 0.15, 0.3, 0.92090172545794302],\n",
       " [0.15, 0.2, 0.2, 0.05, 0.91323357635908109],\n",
       " [0.15, 0.2, 0.2, 0.1, 0.91786915024197346],\n",
       " [0.15, 0.2, 0.2, 0.15, 0.91984362711079337],\n",
       " [0.15, 0.2, 0.2, 0.2, 0.92061392571071932],\n",
       " [0.15, 0.2, 0.2, 0.25, 0.92092496604121243],\n",
       " [0.15, 0.2, 0.2, 0.3, 0.92104988055601444],\n",
       " [0.15, 0.2, 0.25, 0.05, 0.9145414870725338],\n",
       " [0.15, 0.2, 0.25, 0.1, 0.9185488454333639],\n",
       " [0.15, 0.2, 0.25, 0.15, 0.92021678177343424],\n",
       " [0.15, 0.2, 0.25, 0.2, 0.920862203198757],\n",
       " [0.15, 0.2, 0.25, 0.25, 0.92108861738227732],\n",
       " [0.15, 0.2, 0.25, 0.3, 0.92115245122715039],\n",
       " [0.15, 0.2, 0.3, 0.05, 0.91553431961314635],\n",
       " [0.15, 0.2, 0.3, 0.1, 0.91905356296096374],\n",
       " [0.15, 0.2, 0.3, 0.15, 0.92044370608325798],\n",
       " [0.15, 0.2, 0.3, 0.2, 0.92097380055610811],\n",
       " [0.15, 0.2, 0.3, 0.25, 0.92112965952376769],\n",
       " [0.15, 0.2, 0.3, 0.3, 0.92115335727311964],\n",
       " [0.15, 0.25, 0.05, 0.05, 0.90430727711222192],\n",
       " [0.15, 0.25, 0.05, 0.1, 0.91279524740354556],\n",
       " [0.15, 0.25, 0.05, 0.15, 0.91664064114407451],\n",
       " [0.15, 0.25, 0.05, 0.2, 0.91837568372031608],\n",
       " [0.15, 0.25, 0.05, 0.25, 0.91917536189460303],\n",
       " [0.15, 0.25, 0.05, 0.3, 0.91962639171004446],\n",
       " [0.15, 0.25, 0.1, 0.05, 0.90857903294174625],\n",
       " [0.15, 0.25, 0.1, 0.1, 0.91516747592199399],\n",
       " [0.15, 0.25, 0.1, 0.15, 0.91809658626699098],\n",
       " [0.15, 0.25, 0.1, 0.2, 0.91936329017468721],\n",
       " [0.15, 0.25, 0.1, 0.25, 0.9198984168276898],\n",
       " [0.15, 0.25, 0.1, 0.3, 0.92018641203649176],\n",
       " [0.15, 0.25, 0.15, 0.05, 0.9110609675420438],\n",
       " [0.15, 0.25, 0.15, 0.1, 0.91650533356348085],\n",
       " [0.15, 0.25, 0.15, 0.15, 0.91887994179504617],\n",
       " [0.15, 0.25, 0.15, 0.2, 0.91986812564325937],\n",
       " [0.15, 0.25, 0.15, 0.25, 0.92028434564985429],\n",
       " [0.15, 0.25, 0.15, 0.3, 0.92048366501044188],\n",
       " [0.15, 0.25, 0.2, 0.05, 0.91275135080131409],\n",
       " [0.15, 0.25, 0.2, 0.1, 0.91742543907435914],\n",
       " [0.15, 0.25, 0.2, 0.15, 0.91941505218291508],\n",
       " [0.15, 0.25, 0.2, 0.2, 0.92019019225746079],\n",
       " [0.15, 0.25, 0.2, 0.25, 0.92050689055617141],\n",
       " [0.15, 0.25, 0.2, 0.3, 0.92063161729188048],\n",
       " [0.15, 0.25, 0.25, 0.05, 0.91407119907067491],\n",
       " [0.15, 0.25, 0.25, 0.1, 0.91811205010147212],\n",
       " [0.15, 0.25, 0.25, 0.15, 0.91979265449866887],\n",
       " [0.15, 0.25, 0.25, 0.2, 0.92044176649375209],\n",
       " [0.15, 0.25, 0.25, 0.25, 0.92067316895966234],\n",
       " [0.15, 0.25, 0.25, 0.3, 0.92073581561637652],\n",
       " [0.15, 0.25, 0.3, 0.05, 0.91507287181573205],\n",
       " [0.15, 0.25, 0.3, 0.1, 0.91861946288338159],\n",
       " [0.15, 0.25, 0.3, 0.15, 0.92002080556889065],\n",
       " [0.15, 0.25, 0.3, 0.2, 0.92055367639596808],\n",
       " [0.15, 0.25, 0.3, 0.25, 0.92071306512431994],\n",
       " [0.15, 0.25, 0.3, 0.3, 0.92073556743015716],\n",
       " [0.15, 0.3, 0.05, 0.05, 0.90316100812843292],\n",
       " [0.15, 0.3, 0.05, 0.1, 0.91169194197251868],\n",
       " [0.15, 0.3, 0.05, 0.15, 0.91555436174353522],\n",
       " [0.15, 0.3, 0.05, 0.2, 0.91729221848374554],\n",
       " [0.15, 0.3, 0.05, 0.25, 0.91809793903162518],\n",
       " [0.15, 0.3, 0.05, 0.3, 0.91855185459281019],\n",
       " [0.15, 0.3, 0.1, 0.05, 0.90745083240691338],\n",
       " [0.15, 0.3, 0.1, 0.1, 0.91407426942567915],\n",
       " [0.15, 0.3, 0.1, 0.15, 0.91701840677832813],\n",
       " [0.15, 0.3, 0.1, 0.2, 0.91828573191326557],\n",
       " [0.15, 0.3, 0.1, 0.25, 0.91882512967252816],\n",
       " [0.15, 0.3, 0.1, 0.3, 0.91911489049852246],\n",
       " [0.15, 0.3, 0.15, 0.05, 0.90994726724589992],\n",
       " [0.15, 0.3, 0.15, 0.1, 0.91541810019639058],\n",
       " [0.15, 0.3, 0.15, 0.15, 0.91780580270848444],\n",
       " [0.15, 0.3, 0.15, 0.2, 0.91879390103574399],\n",
       " [0.15, 0.3, 0.15, 0.25, 0.91921300836277375],\n",
       " [0.15, 0.3, 0.15, 0.3, 0.91941340189479892],\n",
       " [0.15, 0.3, 0.2, 0.05, 0.91164166697036264],\n",
       " [0.15, 0.3, 0.2, 0.1, 0.91634039299492742],\n",
       " [0.15, 0.3, 0.2, 0.15, 0.91834174961107429],\n",
       " [0.15, 0.3, 0.2, 0.2, 0.9191165359592296],\n",
       " [0.15, 0.3, 0.2, 0.25, 0.91943523848763375],\n",
       " [0.15, 0.3, 0.2, 0.3, 0.91956097600415398],\n",
       " [0.15, 0.3, 0.25, 0.05, 0.9129697021698705],\n",
       " [0.15, 0.3, 0.25, 0.1, 0.91703058004868487],\n",
       " [0.15, 0.3, 0.25, 0.15, 0.91872167539749072],\n",
       " [0.15, 0.3, 0.25, 0.2, 0.91936944138703425],\n",
       " [0.15, 0.3, 0.25, 0.25, 0.91960125178448771],\n",
       " [0.15, 0.3, 0.25, 0.3, 0.91966491040866827],\n",
       " [0.15, 0.3, 0.3, 0.05, 0.91397587080064657],\n",
       " [0.15, 0.3, 0.3, 0.1, 0.91753984031947755],\n",
       " [0.15, 0.3, 0.3, 0.15, 0.91895127676517707],\n",
       " [0.15, 0.3, 0.3, 0.2, 0.91948212097134085],\n",
       " [0.15, 0.3, 0.3, 0.25, 0.9196418152829553],\n",
       " [0.15, 0.3, 0.3, 0.3, 0.9196644931859852],\n",
       " [0.2, 0.05, 0.05, 0.05, 0.88453207261580924],\n",
       " [0.2, 0.05, 0.05, 0.1, 0.89231937332566469],\n",
       " [0.2, 0.05, 0.05, 0.15, 0.89579858756287711],\n",
       " [0.2, 0.05, 0.05, 0.2, 0.8973695646920572],\n",
       " [0.2, 0.05, 0.05, 0.25, 0.89807660238823628],\n",
       " [0.2, 0.05, 0.05, 0.3, 0.89846248401823792],\n",
       " [0.2, 0.05, 0.1, 0.05, 0.88847615509279787],\n",
       " [0.2, 0.05, 0.1, 0.1, 0.89449344285765275],\n",
       " [0.2, 0.05, 0.1, 0.15, 0.89711969568055672],\n",
       " [0.2, 0.05, 0.1, 0.2, 0.89825657946908766],\n",
       " [0.2, 0.05, 0.1, 0.25, 0.89872091839854484],\n",
       " [0.2, 0.05, 0.1, 0.3, 0.89895931241665339],\n",
       " [0.2, 0.05, 0.15, 0.05, 0.89075100579987543],\n",
       " [0.2, 0.05, 0.15, 0.1, 0.89571097850477854],\n",
       " [0.2, 0.05, 0.15, 0.15, 0.89782789269812213],\n",
       " [0.2, 0.05, 0.15, 0.2, 0.898707535387269],\n",
       " [0.2, 0.05, 0.15, 0.25, 0.89906220302407369],\n",
       " [0.2, 0.05, 0.15, 0.3, 0.89922355972356083],\n",
       " [0.2, 0.05, 0.2, 0.05, 0.89229418135402438],\n",
       " [0.2, 0.05, 0.2, 0.1, 0.89654374372769619],\n",
       " [0.2, 0.05, 0.2, 0.15, 0.89831099344873422],\n",
       " [0.2, 0.05, 0.2, 0.2, 0.89899091184714741],\n",
       " [0.2, 0.05, 0.2, 0.25, 0.89925607177881717],\n",
       " [0.2, 0.05, 0.2, 0.3, 0.89935116155318229],\n",
       " [0.2, 0.05, 0.25, 0.05, 0.8934857390150942],\n",
       " [0.2, 0.05, 0.25, 0.1, 0.8971533618216524],\n",
       " [0.2, 0.05, 0.25, 0.15, 0.89864100393939172],\n",
       " [0.2, 0.05, 0.25, 0.2, 0.89920910510884855],\n",
       " [0.2, 0.05, 0.25, 0.25, 0.89939845386497397],\n",
       " [0.2, 0.05, 0.25, 0.3, 0.89943950072205192],\n",
       " [0.2, 0.05, 0.3, 0.05, 0.89436674219486412],\n",
       " [0.2, 0.05, 0.3, 0.1, 0.8975962241148514],\n",
       " [0.2, 0.05, 0.3, 0.15, 0.89883383690664942],\n",
       " [0.2, 0.05, 0.3, 0.2, 0.89929652568359719],\n",
       " [0.2, 0.05, 0.3, 0.25, 0.89942290254227586],\n",
       " [0.2, 0.05, 0.3, 0.3, 0.89942927984007526],\n",
       " [0.2, 0.1, 0.05, 0.05, 0.89807184830138964],\n",
       " [0.2, 0.1, 0.05, 0.1, 0.90621860404723353],\n",
       " [0.2, 0.1, 0.05, 0.15, 0.90988880855203258],\n",
       " [0.2, 0.1, 0.05, 0.2, 0.91155045900348231],\n",
       " [0.2, 0.1, 0.05, 0.25, 0.91230740502899876],\n",
       " [0.2, 0.1, 0.05, 0.3, 0.91273146260405125],\n",
       " [0.2, 0.1, 0.1, 0.05, 0.90218581518439001],\n",
       " [0.2, 0.1, 0.1, 0.1, 0.90849636853305793],\n",
       " [0.2, 0.1, 0.1, 0.15, 0.91128039839121688],\n",
       " [0.2, 0.1, 0.1, 0.2, 0.91248978240558321],\n",
       " [0.2, 0.1, 0.1, 0.25, 0.9129937492726129],\n",
       " [0.2, 0.1, 0.1, 0.3, 0.91326236013175044],\n",
       " [0.2, 0.1, 0.15, 0.05, 0.90456805599900736],\n",
       " [0.2, 0.1, 0.15, 0.1, 0.90977574802134775],\n",
       " [0.2, 0.1, 0.15, 0.15, 0.91202635570365842],\n",
       " [0.2, 0.1, 0.15, 0.2, 0.91296848537182929],\n",
       " [0.2, 0.1, 0.15, 0.25, 0.91335707807070798],\n",
       " [0.2, 0.1, 0.15, 0.3, 0.91354155353682231],\n",
       " [0.2, 0.1, 0.2, 0.05, 0.90618943688472597],\n",
       " [0.2, 0.1, 0.2, 0.1, 0.91065206164609858],\n",
       " [0.2, 0.1, 0.2, 0.15, 0.91253689808317529],\n",
       " [0.2, 0.1, 0.2, 0.2, 0.91327175871354205],\n",
       " [0.2, 0.1, 0.2, 0.25, 0.91356478440469924],\n",
       " [0.2, 0.1, 0.2, 0.3, 0.91367776235916598],\n",
       " [0.2, 0.1, 0.25, 0.05, 0.90744340405962798],\n",
       " [0.2, 0.1, 0.25, 0.1, 0.91129881736140461],\n",
       " [0.2, 0.1, 0.25, 0.15, 0.91289039240849612],\n",
       " [0.2, 0.1, 0.25, 0.2, 0.91350574746269553],\n",
       " [0.2, 0.1, 0.25, 0.25, 0.91371871867284971],\n",
       " [0.2, 0.1, 0.25, 0.3, 0.91377412849331419],\n",
       " [0.2, 0.1, 0.3, 0.05, 0.90838855415019715],\n",
       " [0.2, 0.1, 0.3, 0.1, 0.91177683209392701],\n",
       " [0.2, 0.1, 0.3, 0.15, 0.91310289623845053],\n",
       " [0.2, 0.1, 0.3, 0.2, 0.91360645861901257],\n",
       " [0.2, 0.1, 0.3, 0.25, 0.91375304685326075],\n",
       " [0.2, 0.1, 0.3, 0.3, 0.91377048582576392],\n",
       " [0.2, 0.15, 0.05, 0.05, 0.90338959759028625],\n",
       " [0.2, 0.15, 0.05, 0.1, 0.91171856259512651],\n",
       " [0.2, 0.15, 0.05, 0.15, 0.91548441942281622],\n",
       " [0.2, 0.15, 0.05, 0.2, 0.91718662520750949],\n",
       " [0.2, 0.15, 0.05, 0.25, 0.91796580728093069],\n",
       " [0.2, 0.15, 0.05, 0.3, 0.91840695922185567],\n",
       " [0.2, 0.15, 0.1, 0.05, 0.90758674187815014],\n",
       " [0.2, 0.15, 0.1, 0.1, 0.91404797968772489],\n",
       " [0.2, 0.15, 0.1, 0.15, 0.91691233993380916],\n",
       " [0.2, 0.15, 0.1, 0.2, 0.91815410184041479],\n",
       " [0.2, 0.15, 0.1, 0.25, 0.91867475313773161],\n",
       " [0.2, 0.15, 0.1, 0.3, 0.9189569314464221],\n",
       " [0.2, 0.15, 0.15, 0.05, 0.91002349611961408],\n",
       " [0.2, 0.15, 0.15, 0.1, 0.91536125362400644],\n",
       " [0.2, 0.15, 0.15, 0.15, 0.91768006536177382],\n",
       " [0.2, 0.15, 0.15, 0.2, 0.91864971717568977],\n",
       " [0.2, 0.15, 0.15, 0.25, 0.91905226128055473],\n",
       " [0.2, 0.15, 0.15, 0.3, 0.91924749969078123],\n",
       " [0.2, 0.15, 0.2, 0.05, 0.91168327010156192],\n",
       " [0.2, 0.15, 0.2, 0.1, 0.91626251176495155],\n",
       " [0.2, 0.15, 0.2, 0.15, 0.91820591719977451],\n",
       " [0.2, 0.15, 0.2, 0.2, 0.91896556130233853],\n",
       " [0.2, 0.15, 0.2, 0.25, 0.91927052567654277],\n",
       " [0.2, 0.15, 0.2, 0.3, 0.91939260575386217],\n",
       " [0.2, 0.15, 0.25, 0.05, 0.91296937857868488],\n",
       " [0.2, 0.15, 0.25, 0.1, 0.91692814785270538],\n",
       " [0.2, 0.15, 0.25, 0.15, 0.91857175193109486],\n",
       " [0.2, 0.15, 0.25, 0.2, 0.91920875164604232],\n",
       " [0.2, 0.15, 0.25, 0.25, 0.91943110931300764],\n",
       " [0.2, 0.15, 0.25, 0.3, 0.91949190924382462],\n",
       " [0.2, 0.15, 0.3, 0.05, 0.91394645667512153],\n",
       " [0.2, 0.15, 0.3, 0.1, 0.91742300709600955],\n",
       " [0.2, 0.15, 0.3, 0.15, 0.9187932165758248],\n",
       " [0.2, 0.15, 0.3, 0.2, 0.91931708222146946],\n",
       " [0.2, 0.15, 0.3, 0.25, 0.91947066264591559],\n",
       " [0.2, 0.15, 0.3, 0.3, 0.91949227693696922],\n",
       " [0.2, 0.2, 0.05, 0.05, 0.90494847147385893],\n",
       " [0.2, 0.2, 0.05, 0.1, 0.91338773881684032],\n",
       " [0.2, 0.2, 0.05, 0.15, 0.91720525458875302],\n",
       " [0.2, 0.2, 0.05, 0.2, 0.91893071705217422],\n",
       " [0.2, 0.2, 0.05, 0.25, 0.91972091562467639],\n",
       " [0.2, 0.2, 0.05, 0.3, 0.9201710254515395],\n",
       " [0.2, 0.2, 0.1, 0.05, 0.90919667203256349],\n",
       " [0.2, 0.2, 0.1, 0.1, 0.91574690230975953],\n",
       " [0.2, 0.2, 0.1, 0.15, 0.91865218989135944],\n",
       " [0.2, 0.2, 0.1, 0.2, 0.91991230703576432],\n",
       " [0.2, 0.2, 0.1, 0.25, 0.92044006923694677],\n",
       " [0.2, 0.2, 0.1, 0.3, 0.92072908938973086],\n",
       " [0.2, 0.2, 0.15, 0.05, 0.91166607451760417],\n",
       " [0.2, 0.2, 0.15, 0.1, 0.91707766490676157],\n",
       " [0.2, 0.2, 0.15, 0.15, 0.91943209176216723],\n",
       " [0.2, 0.2, 0.15, 0.2, 0.92041626973381718],\n",
       " [0.2, 0.2, 0.15, 0.25, 0.92082445677052105],\n",
       " [0.2, 0.2, 0.15, 0.3, 0.92102504319015055],\n",
       " [0.2, 0.2, 0.2, 0.05, 0.9133491005647334],\n",
       " [0.2, 0.2, 0.2, 0.1, 0.91799291971982466],\n",
       " [0.2, 0.2, 0.2, 0.15, 0.91996641761967735],\n",
       " [0.2, 0.2, 0.2, 0.2, 0.92073836145572219],\n",
       " [0.2, 0.2, 0.2, 0.25, 0.92104781885973153],\n",
       " [0.2, 0.2, 0.2, 0.3, 0.9211734571859358],\n",
       " [0.2, 0.2, 0.25, 0.05, 0.91465777181212915],\n",
       " [0.2, 0.2, 0.25, 0.1, 0.91867224409925052],\n",
       " [0.2, 0.2, 0.25, 0.15, 0.92033999798186739],\n",
       " [0.2, 0.2, 0.25, 0.2, 0.92098706464330893],\n",
       " [0.2, 0.2, 0.25, 0.25, 0.92121190726832147],\n",
       " [0.2, 0.2, 0.25, 0.3, 0.92127646492459681],\n",
       " [0.2, 0.2, 0.3, 0.05, 0.91565185632568968],\n",
       " [0.2, 0.2, 0.3, 0.1, 0.91917712887579295],\n",
       " [0.2, 0.2, 0.3, 0.15, 0.9205668203574664],\n",
       " [0.2, 0.2, 0.3, 0.2, 0.92109860695989898],\n",
       " [0.2, 0.2, 0.3, 0.25, 0.9212531705594349],\n",
       " [0.2, 0.2, 0.3, 0.3, 0.92127759212018911],\n",
       " [0.2, 0.25, 0.05, 0.05, 0.90442159342667838],\n",
       " [0.2, 0.25, 0.05, 0.1, 0.91292445887425067],\n",
       " [0.2, 0.25, 0.05, 0.15, 0.91676908450300076],\n",
       " [0.2, 0.25, 0.05, 0.2, 0.91850649095183723],\n",
       " [0.2, 0.25, 0.05, 0.25, 0.91930564643245771],\n",
       " [0.2, 0.25, 0.05, 0.3, 0.91975754144489452],\n",
       " [0.2, 0.25, 0.1, 0.05, 0.90869889249427793],\n",
       " [0.2, 0.25, 0.1, 0.1, 0.91529882602799628],\n",
       " [0.2, 0.25, 0.1, 0.15, 0.91822646807213804],\n",
       " [0.2, 0.25, 0.1, 0.2, 0.9194955975065412],\n",
       " [0.2, 0.25, 0.1, 0.25, 0.92003000745409091],\n",
       " [0.2, 0.25, 0.1, 0.3, 0.92031924316213332],\n",
       " [0.2, 0.25, 0.15, 0.05, 0.91118555706206894],\n",
       " [0.2, 0.25, 0.15, 0.1, 0.91663993065507521],\n",
       " [0.2, 0.25, 0.15, 0.15, 0.91901268255425828],\n",
       " [0.2, 0.25, 0.15, 0.2, 0.92000265150653271],\n",
       " [0.2, 0.25, 0.15, 0.25, 0.920417744148605],\n",
       " [0.2, 0.25, 0.15, 0.3, 0.92061806900714549],\n",
       " [0.2, 0.25, 0.2, 0.05, 0.91287737300033367],\n",
       " [0.2, 0.25, 0.2, 0.1, 0.91755991606273934],\n",
       " [0.2, 0.25, 0.2, 0.15, 0.91954859700745462],\n",
       " [0.2, 0.25, 0.2, 0.2, 0.92032549893726845],\n",
       " [0.2, 0.25, 0.2, 0.25, 0.92064076244107618],\n",
       " [0.2, 0.25, 0.2, 0.3, 0.92076625362953024],\n",
       " [0.2, 0.25, 0.25, 0.05, 0.91419799766104304],\n",
       " [0.2, 0.25, 0.25, 0.1, 0.91824617213529369],\n",
       " [0.2, 0.25, 0.25, 0.15, 0.91992664892384823],\n",
       " [0.2, 0.25, 0.25, 0.2, 0.9205775227741998],\n",
       " [0.2, 0.25, 0.25, 0.25, 0.92080750181318316],\n",
       " [0.2, 0.25, 0.25, 0.3, 0.92087091292264267],\n",
       " [0.2, 0.25, 0.3, 0.05, 0.91520092762982053],\n",
       " [0.2, 0.25, 0.3, 0.1, 0.91875375741691812],\n",
       " [0.2, 0.25, 0.3, 0.15, 0.92015470331061755],\n",
       " [0.2, 0.25, 0.3, 0.2, 0.92068935898533621],\n",
       " [0.2, 0.25, 0.3, 0.25, 0.92084760047714531],\n",
       " [0.2, 0.25, 0.3, 0.3, 0.92087086723572753],\n",
       " [0.2, 0.3, 0.05, 0.05, 0.90327524014922378],\n",
       " [0.2, 0.3, 0.05, 0.1, 0.91182137065071867],\n",
       " [0.2, 0.3, 0.05, 0.15, 0.91568313947069391],\n",
       " [0.2, 0.3, 0.05, 0.2, 0.91742329492125041],\n",
       " [0.2, 0.3, 0.05, 0.25, 0.91822849227273351],\n",
       " [0.2, 0.3, 0.05, 0.3, 0.91868316501579728],\n",
       " [0.2, 0.3, 0.1, 0.05, 0.90757078569190885],\n",
       " [0.2, 0.3, 0.1, 0.1, 0.91420598588540769],\n",
       " [0.2, 0.3, 0.1, 0.15, 0.91714874367862165],\n",
       " [0.2, 0.3, 0.1, 0.2, 0.9184184468698493],\n",
       " [0.2, 0.3, 0.1, 0.25, 0.91895712138816499],\n",
       " [0.2, 0.3, 0.1, 0.3, 0.91924808037612371],\n",
       " [0.2, 0.3, 0.15, 0.05, 0.91007211361658713],\n",
       " [0.2, 0.3, 0.15, 0.1, 0.91555309359268677],\n",
       " [0.2, 0.3, 0.15, 0.15, 0.91793902851381881],\n",
       " [0.2, 0.3, 0.15, 0.2, 0.9189288710102167],\n",
       " [0.2, 0.3, 0.15, 0.25, 0.91934685097272373],\n",
       " [0.2, 0.3, 0.15, 0.3, 0.91954820766542578],\n",
       " [0.2, 0.3, 0.2, 0.05, 0.91176796573131669],\n",
       " [0.2, 0.3, 0.2, 0.1, 0.91647525778666972],\n",
       " [0.2, 0.3, 0.2, 0.15, 0.91847573561493401],\n",
       " [0.2, 0.3, 0.2, 0.2, 0.91925225567027102],\n",
       " [0.2, 0.3, 0.2, 0.25, 0.91956952340377218],\n",
       " [0.2, 0.3, 0.2, 0.3, 0.91969600132889073],\n",
       " [0.2, 0.3, 0.25, 0.05, 0.91309680759688838],\n",
       " [0.2, 0.3, 0.25, 0.1, 0.9171651201605836],\n",
       " [0.2, 0.3, 0.25, 0.15, 0.91885614127670578],\n",
       " [0.2, 0.3, 0.25, 0.2, 0.91950564097343068],\n",
       " [0.2, 0.3, 0.25, 0.25, 0.91973602794395726],\n",
       " [0.2, 0.3, 0.25, 0.3, 0.91980042697673625],\n",
       " [0.2, 0.3, 0.3, 0.05, 0.91410422642360367],\n",
       " [0.2, 0.3, 0.3, 0.1, 0.91767453613881667],\n",
       " [0.2, 0.3, 0.3, 0.15, 0.91908561940417211],\n",
       " [0.2, 0.3, 0.3, 0.2, 0.91961822030988993],\n",
       " [0.2, 0.3, 0.3, 0.25, 0.91977676738496172],\n",
       " [0.2, 0.3, 0.3, 0.3, 0.91980018569659006],\n",
       " [0.25, 0.05, 0.05, 0.05, 0.88386698649453943],\n",
       " [0.25, 0.05, 0.05, 0.1, 0.89165232387594417],\n",
       " [0.25, 0.05, 0.05, 0.15, 0.89513527452898889],\n",
       " [0.25, 0.05, 0.05, 0.2, 0.89670470152610116],\n",
       " [0.25, 0.05, 0.05, 0.25, 0.89741177559958407],\n",
       " [0.25, 0.05, 0.05, 0.3, 0.89779565863556932],\n",
       " [0.25, 0.05, 0.1, 0.05, 0.88780969261488429],\n",
       " [0.25, 0.05, 0.1, 0.1, 0.89382623356456592],\n",
       " [0.25, 0.05, 0.1, 0.15, 0.89645535552797728],\n",
       " [0.25, 0.05, 0.1, 0.2, 0.89759078191614994],\n",
       " [0.25, 0.05, 0.1, 0.25, 0.89805502935454862],\n",
       " [0.25, 0.05, 0.1, 0.3, 0.89829211189510483],\n",
       " [0.25, 0.05, 0.15, 0.05, 0.89008448993975564],\n",
       " [0.25, 0.05, 0.15, 0.1, 0.89504471288873466],\n",
       " [0.25, 0.05, 0.15, 0.15, 0.89716322474809251],\n",
       " [0.25, 0.05, 0.15, 0.2, 0.89804165622471044],\n",
       " [0.25, 0.05, 0.15, 0.25, 0.89839623237045674],\n",
       " [0.25, 0.05, 0.15, 0.3, 0.89855687057163658],\n",
       " [0.25, 0.05, 0.2, 0.05, 0.89162791945952369],\n",
       " [0.25, 0.05, 0.2, 0.1, 0.8958781741768167],\n",
       " [0.25, 0.05, 0.2, 0.15, 0.89764677402073845],\n",
       " [0.25, 0.05, 0.2, 0.2, 0.89832541786260345],\n",
       " [0.25, 0.05, 0.2, 0.25, 0.89859043283099049],\n",
       " [0.25, 0.05, 0.2, 0.3, 0.89868480410704854],\n",
       " [0.25, 0.05, 0.25, 0.05, 0.89281940453047359],\n",
       " [0.25, 0.05, 0.25, 0.1, 0.89648814303150015],\n",
       " [0.25, 0.05, 0.25, 0.15, 0.89797716528108551],\n",
       " [0.25, 0.05, 0.25, 0.2, 0.89854376987941609],\n",
       " [0.25, 0.05, 0.25, 0.25, 0.89873291733179261],\n",
       " [0.25, 0.05, 0.25, 0.3, 0.89877324569056349],\n",
       " [0.25, 0.05, 0.3, 0.05, 0.89370003686898647],\n",
       " [0.25, 0.05, 0.3, 0.1, 0.89693088134891674],\n",
       " [0.25, 0.05, 0.3, 0.15, 0.89816972722394395],\n",
       " [0.25, 0.05, 0.3, 0.2, 0.8986309194297657],\n",
       " [0.25, 0.05, 0.3, 0.25, 0.8987573088735924],\n",
       " [0.25, 0.05, 0.3, 0.3, 0.8987629676730845],\n",
       " [0.25, 0.1, 0.05, 0.05, 0.89743090979038909],\n",
       " [0.25, 0.1, 0.05, 0.1, 0.90557586807240809],\n",
       " [0.25, 0.1, 0.05, 0.15, 0.90925057810413357],\n",
       " [0.25, 0.1, 0.05, 0.2, 0.91091075710114378],\n",
       " [0.25, 0.1, 0.05, 0.25, 0.91166767836983498],\n",
       " [0.25, 0.1, 0.05, 0.3, 0.91208966391165569],\n",
       " [0.25, 0.1, 0.1, 0.05, 0.90154355212026249],\n",
       " [0.25, 0.1, 0.1, 0.1, 0.90785353334556462],\n",
       " [0.25, 0.1, 0.1, 0.15, 0.91064113421915072],\n",
       " [0.25, 0.1, 0.1, 0.2, 0.91184910028832167],\n",
       " [0.25, 0.1, 0.1, 0.25, 0.91235291453016354],\n",
       " [0.25, 0.1, 0.1, 0.3, 0.91262015820844244],\n",
       " [0.25, 0.1, 0.15, 0.05, 0.90392581953577289],\n",
       " [0.25, 0.1, 0.15, 0.1, 0.90913395319455059],\n",
       " [0.25, 0.1, 0.15, 0.15, 0.91138679117002752],\n",
       " [0.25, 0.1, 0.15, 0.2, 0.91232775094073526],\n",
       " [0.25, 0.1, 0.15, 0.25, 0.91271619101442625],\n",
       " [0.25, 0.1, 0.15, 0.3, 0.91289988664488075],\n",
       " [0.25, 0.1, 0.2, 0.05, 0.90554751420446944],\n",
       " [0.25, 0.1, 0.2, 0.1, 0.91001105379706659],\n",
       " [0.25, 0.1, 0.2, 0.15, 0.91189786648335636],\n",
       " [0.25, 0.1, 0.2, 0.2, 0.9126314758454841],\n",
       " [0.25, 0.1, 0.2, 0.25, 0.91292429543922948],\n",
       " [0.25, 0.1, 0.2, 0.3, 0.91303649355803629],\n",
       " [0.25, 0.1, 0.25, 0.05, 0.90680149362701323],\n",
       " [0.25, 0.1, 0.25, 0.1, 0.91065823861003869],\n",
       " [0.25, 0.1, 0.25, 0.15, 0.91225175453634155],\n",
       " [0.25, 0.1, 0.25, 0.2, 0.91286559017482449],\n",
       " [0.25, 0.1, 0.25, 0.25, 0.91307829894710069],\n",
       " [0.25, 0.1, 0.25, 0.3, 0.91313292893190523],\n",
       " [0.25, 0.1, 0.3, 0.05, 0.90774621999964689],\n",
       " [0.25, 0.1, 0.3, 0.1, 0.91113609243795657],\n",
       " [0.25, 0.1, 0.3, 0.15, 0.9124639504130746],\n",
       " [0.25, 0.1, 0.3, 0.2, 0.91296599337792028],\n",
       " [0.25, 0.1, 0.3, 0.25, 0.91311255135631686],\n",
       " [0.25, 0.1, 0.3, 0.3, 0.91312921049316009],\n",
       " [0.25, 0.15, 0.05, 0.05, 0.9027612306820787],\n",
       " [0.25, 0.15, 0.05, 0.1, 0.91108851008036251],\n",
       " [0.25, 0.15, 0.05, 0.15, 0.91485945747565955],\n",
       " [0.25, 0.15, 0.05, 0.2, 0.91656017931797518],\n",
       " [0.25, 0.15, 0.05, 0.25, 0.91733934515206117],\n",
       " [0.25, 0.15, 0.05, 0.3, 0.91777827591898664],\n",
       " [0.25, 0.15, 0.1, 0.05, 0.9069571089575571],\n",
       " [0.25, 0.15, 0.1, 0.1, 0.91341787439543787],\n",
       " [0.25, 0.15, 0.1, 0.15, 0.91628629962102914],\n",
       " [0.25, 0.15, 0.1, 0.2, 0.91752662405627683],\n",
       " [0.25, 0.15, 0.1, 0.25, 0.91804712427125812],\n",
       " [0.25, 0.15, 0.1, 0.3, 0.91832783026667986],\n",
       " [0.25, 0.15, 0.15, 0.05, 0.90939404915981359],\n",
       " [0.25, 0.15, 0.15, 0.1, 0.91473233351931593],\n",
       " [0.25, 0.15, 0.15, 0.15, 0.91705364850517357],\n",
       " [0.25, 0.15, 0.15, 0.2, 0.91802209217124409],\n",
       " [0.25, 0.15, 0.15, 0.25, 0.91842448519377329],\n",
       " [0.25, 0.15, 0.15, 0.3, 0.91861889384161666],\n",
       " [0.25, 0.15, 0.2, 0.05, 0.911054162757992],\n",
       " [0.25, 0.15, 0.2, 0.1, 0.91563441896365072],\n",
       " [0.25, 0.15, 0.2, 0.15, 0.91758007833484523],\n",
       " [0.25, 0.15, 0.2, 0.2, 0.91833843291878758],\n",
       " [0.25, 0.15, 0.2, 0.25, 0.918643184295449],\n",
       " [0.25, 0.15, 0.2, 0.3, 0.91876443461038537],\n",
       " [0.25, 0.15, 0.25, 0.05, 0.9123402979177091],\n",
       " [0.25, 0.15, 0.25, 0.1, 0.91630046658069453],\n",
       " [0.25, 0.15, 0.25, 0.15, 0.91794626133209534],\n",
       " [0.25, 0.15, 0.25, 0.2, 0.91858170338094414],\n",
       " [0.25, 0.15, 0.25, 0.25, 0.91880378520907768],\n",
       " [0.25, 0.15, 0.25, 0.3, 0.91886375537751108],\n",
       " [0.25, 0.15, 0.3, 0.05, 0.91331697331887518],\n",
       " [0.25, 0.15, 0.3, 0.1, 0.916795223659567],\n",
       " [0.25, 0.15, 0.3, 0.15, 0.91816739758375299],\n",
       " [0.25, 0.15, 0.3, 0.2, 0.91868970556329821],\n",
       " [0.25, 0.15, 0.3, 0.25, 0.91884326296934149],\n",
       " [0.25, 0.15, 0.3, 0.3, 0.91886404749801187],\n",
       " [0.25, 0.2, 0.05, 0.05, 0.90435521496246651],\n",
       " [0.25, 0.2, 0.05, 0.1, 0.91279284611456046],\n",
       " [0.25, 0.2, 0.05, 0.15, 0.91661609736180616],\n",
       " [0.25, 0.2, 0.05, 0.2, 0.91834004673620495],\n",
       " [0.25, 0.2, 0.05, 0.25, 0.91913033569651881],\n",
       " [0.25, 0.2, 0.05, 0.3, 0.91957809270142177],\n",
       " [0.25, 0.2, 0.1, 0.05, 0.90860226955149404],\n",
       " [0.25, 0.2, 0.1, 0.1, 0.91515207986446778],\n",
       " [0.25, 0.2, 0.1, 0.15, 0.91806197483107488],\n",
       " [0.25, 0.2, 0.1, 0.2, 0.91932057839491477],\n",
       " [0.25, 0.2, 0.1, 0.25, 0.91984827737872454],\n",
       " [0.25, 0.2, 0.1, 0.3, 0.92013572012704758],\n",
       " [0.25, 0.2, 0.15, 0.05, 0.91107189745616624],\n",
       " [0.25, 0.2, 0.15, 0.1, 0.91648408907925127],\n",
       " [0.25, 0.2, 0.15, 0.15, 0.91884141343650338],\n",
       " [0.25, 0.2, 0.15, 0.2, 0.91982430715110075],\n",
       " [0.25, 0.2, 0.15, 0.25, 0.92023243097043195],\n",
       " [0.25, 0.2, 0.15, 0.3, 0.92043213833714987],\n",
       " [0.25, 0.2, 0.2, 0.05, 0.91275531602562632],\n",
       " [0.25, 0.2, 0.2, 0.1, 0.91740024843795975],\n",
       " [0.25, 0.2, 0.2, 0.15, 0.91937639452794007],\n",
       " [0.25, 0.2, 0.2, 0.2, 0.9201469727361562],\n",
       " [0.25, 0.2, 0.2, 0.25, 0.92045628194113638],\n",
       " [0.25, 0.2, 0.2, 0.3, 0.92058104121442907],\n",
       " [0.25, 0.2, 0.25, 0.05, 0.91406386677584506],\n",
       " [0.25, 0.2, 0.25, 0.1, 0.91808001166376929],\n",
       " [0.25, 0.2, 0.25, 0.15, 0.91975030745119035],\n",
       " [0.25, 0.2, 0.25, 0.2, 0.92039574033732563],\n",
       " ...]"
      ]
     },
     "execution_count": 55,
     "metadata": {},
     "output_type": "execute_result"
    }
   ],
   "source": [
    "f2scorelist"
   ]
  },
  {
   "cell_type": "code",
   "execution_count": 56,
   "metadata": {
    "collapsed": false
   },
   "outputs": [
    {
     "data": {
      "text/plain": [
       "0.92127759212018911"
      ]
     },
     "execution_count": 56,
     "metadata": {},
     "output_type": "execute_result"
    }
   ],
   "source": [
    "max([l[4] for l in f2scorelist])"
   ]
  },
  {
   "cell_type": "code",
   "execution_count": 57,
   "metadata": {
    "collapsed": false,
    "scrolled": true
   },
   "outputs": [
    {
     "name": "stderr",
     "output_type": "stream",
     "text": [
      "100%|██████████| 61191/61191 [47:09<00:00, 25.20it/s]"
     ]
    },
    {
     "name": "stdout",
     "output_type": "stream",
     "text": [
      "(61191, 32, 32, 4)\n"
     ]
    },
    {
     "name": "stderr",
     "output_type": "stream",
     "text": [
      "\n"
     ]
    }
   ],
   "source": [
    "#Test set\n",
    "x_train = []\n",
    "x_val = []\n",
    "x_test = np.zeros((61191,32,32,4), np.float32)\n",
    "y_train = []\n",
    "\n",
    "df_test = pd.read_csv('sample_submission_v2.csv')\n",
    "\n",
    "i = 0 \n",
    "for f, tags in tqdm(df_test.values, miniters=1000):\n",
    "    img = io.imread('test-tif-v2/{}.tif'.format(f))\n",
    "    x_test[i,:,:,:] = np.array(transform.resize(img,(32,32),mode = 'constant'),np.float32)#automatically scales to [0,1] float\n",
    "    i+=1\n",
    "print(x_test.shape)"
   ]
  },
  {
   "cell_type": "code",
   "execution_count": 58,
   "metadata": {
    "collapsed": true
   },
   "outputs": [],
   "source": [
    "x_test -= train_mean\n",
    "\n",
    "y = model.predict(x_test,batch_size=128)\n",
    "y1 = model1.predict(x_test,batch_size=128)\n",
    "y2 = model2.predict(x_test,batch_size=128)"
   ]
  },
  {
   "cell_type": "code",
   "execution_count": 59,
   "metadata": {
    "collapsed": false,
    "scrolled": true
   },
   "outputs": [
    {
     "name": "stdout",
     "output_type": "stream",
     "text": [
      "(61191, 17)\n"
     ]
    }
   ],
   "source": [
    "thresh,thresh1,thresh2,thresh3 = 0.2, 0.2, 0.3, 0.3\n",
    "y_pred = combine_predictions(x_test,y,y1,y2,thresh,thresh1,thresh2,thresh3)\n",
    "print(y_pred.shape)"
   ]
  },
  {
   "cell_type": "code",
   "execution_count": 60,
   "metadata": {
    "collapsed": false,
    "scrolled": true
   },
   "outputs": [],
   "source": [
    "labels_np = np.array(labels)\n",
    "preds = [' '.join(labels_np[np.array(y_pred[i,:],bool)]) for i in range(y_pred.shape[0])]\n",
    "subm = pd.DataFrame()\n",
    "subm['image_name'] = df_test.values[:,0]\n",
    "subm['tags'] = preds\n",
    "subm.to_csv('submission_3net_tif_1.csv', index=False)\n",
    "#test set score:0.91086"
   ]
  },
  {
   "cell_type": "code",
   "execution_count": null,
   "metadata": {
    "collapsed": false,
    "scrolled": true
   },
   "outputs": [],
   "source": [
    "subm"
   ]
  },
  {
   "cell_type": "code",
   "execution_count": 61,
   "metadata": {
    "collapsed": false
   },
   "outputs": [
    {
     "name": "stdout",
     "output_type": "stream",
     "text": [
      "(61191, 17)\n"
     ]
    }
   ],
   "source": [
    "thresh,thresh1,thresh2,thresh3 = 0.2, 0.2, 0.25, 0.3\n",
    "y_pred = combine_predictions(x_test,y,y1,y2,thresh,thresh1,thresh2,thresh3)\n",
    "print(y_pred.shape)"
   ]
  },
  {
   "cell_type": "code",
   "execution_count": 62,
   "metadata": {
    "collapsed": true
   },
   "outputs": [],
   "source": [
    "labels_np = np.array(labels)\n",
    "preds = [' '.join(labels_np[np.array(y_pred[i,:],bool)]) for i in range(y_pred.shape[0])]\n",
    "subm = pd.DataFrame()\n",
    "subm['image_name'] = df_test.values[:,0]\n",
    "subm['tags'] = preds\n",
    "subm.to_csv('submission_3net_tif_2.csv', index=False)\n",
    "#test set score:0.91079"
   ]
  },
  {
   "cell_type": "code",
   "execution_count": 63,
   "metadata": {
    "collapsed": false
   },
   "outputs": [
    {
     "name": "stdout",
     "output_type": "stream",
     "text": [
      "(61191, 17)\n"
     ]
    }
   ],
   "source": [
    "thresh,thresh1,thresh2,thresh3 = 0.2, 0.2, 0.3, 0.25\n",
    "y_pred = combine_predictions(x_test,y,y1,y2,thresh,thresh1,thresh2,thresh3)\n",
    "print(y_pred.shape)"
   ]
  },
  {
   "cell_type": "code",
   "execution_count": 64,
   "metadata": {
    "collapsed": true
   },
   "outputs": [],
   "source": [
    "labels_np = np.array(labels)\n",
    "preds = [' '.join(labels_np[np.array(y_pred[i,:],bool)]) for i in range(y_pred.shape[0])]\n",
    "subm = pd.DataFrame()\n",
    "subm['image_name'] = df_test.values[:,0]\n",
    "subm['tags'] = preds\n",
    "subm.to_csv('submission_3net_tif_3.csv', index=False)\n",
    "#test set score:0.91077"
   ]
  },
  {
   "cell_type": "code",
   "execution_count": 65,
   "metadata": {
    "collapsed": false
   },
   "outputs": [
    {
     "name": "stdout",
     "output_type": "stream",
     "text": [
      "(61191, 17)\n"
     ]
    }
   ],
   "source": [
    "thresh,thresh1,thresh2,thresh3 = 0.15, 0.2, 0.3, 0.3\n",
    "y_pred = combine_predictions(x_test,y,y1,y2,thresh,thresh1,thresh2,thresh3)\n",
    "print(y_pred.shape)"
   ]
  },
  {
   "cell_type": "code",
   "execution_count": 66,
   "metadata": {
    "collapsed": true
   },
   "outputs": [],
   "source": [
    "labels_np = np.array(labels)\n",
    "preds = [' '.join(labels_np[np.array(y_pred[i,:],bool)]) for i in range(y_pred.shape[0])]\n",
    "subm = pd.DataFrame()\n",
    "subm['image_name'] = df_test.values[:,0]\n",
    "subm['tags'] = preds\n",
    "subm.to_csv('submission_3net_tif_4.csv', index=False)\n",
    "#test set score:0."
   ]
  },
  {
   "cell_type": "code",
   "execution_count": 67,
   "metadata": {
    "collapsed": false
   },
   "outputs": [
    {
     "name": "stdout",
     "output_type": "stream",
     "text": [
      "(61191, 17)\n"
     ]
    }
   ],
   "source": [
    "thresh,thresh1,thresh2,thresh3 = 0.2, 0.2, 0.35, 0.35\n",
    "y_pred = combine_predictions(x_test,y,y1,y2,thresh,thresh1,thresh2,thresh3)\n",
    "print(y_pred.shape)"
   ]
  },
  {
   "cell_type": "code",
   "execution_count": 68,
   "metadata": {
    "collapsed": true
   },
   "outputs": [],
   "source": [
    "labels_np = np.array(labels)\n",
    "preds = [' '.join(labels_np[np.array(y_pred[i,:],bool)]) for i in range(y_pred.shape[0])]\n",
    "subm = pd.DataFrame()\n",
    "subm['image_name'] = df_test.values[:,0]\n",
    "subm['tags'] = preds\n",
    "subm.to_csv('submission_3net_tif_5.csv', index=False)\n",
    "#test set score:0.91083"
   ]
  },
  {
   "cell_type": "code",
   "execution_count": null,
   "metadata": {
    "collapsed": true
   },
   "outputs": [],
   "source": []
  }
 ],
 "metadata": {
  "kernelspec": {
   "display_name": "Python 3",
   "language": "python",
   "name": "python3"
  },
  "language_info": {
   "codemirror_mode": {
    "name": "ipython",
    "version": 3
   },
   "file_extension": ".py",
   "mimetype": "text/x-python",
   "name": "python",
   "nbconvert_exporter": "python",
   "pygments_lexer": "ipython3",
   "version": "3.5.2"
  }
 },
 "nbformat": 4,
 "nbformat_minor": 0
}
