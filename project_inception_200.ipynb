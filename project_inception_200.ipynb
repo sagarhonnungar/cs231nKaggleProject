{
 "cells": [
  {
   "cell_type": "code",
   "execution_count": 1,
   "metadata": {
    "collapsed": false,
    "scrolled": true
   },
   "outputs": [
    {
     "name": "stderr",
     "output_type": "stream",
     "text": [
      "Using TensorFlow backend.\n",
      "ERROR:tornado.application:Exception in callback functools.partial(<function wrap.<locals>.null_wrapper at 0x7f9fe592c840>)\n",
      "Traceback (most recent call last):\n",
      "  File \"/home/cs231n/myVE35/lib/python3.5/site-packages/tornado/ioloop.py\", line 600, in _run_callback\n",
      "    ret = callback()\n",
      "  File \"/home/cs231n/myVE35/lib/python3.5/site-packages/tornado/stack_context.py\", line 275, in null_wrapper\n",
      "    return fn(*args, **kwargs)\n",
      "  File \"/home/cs231n/myVE35/lib/python3.5/site-packages/ipykernel/kernelbase.py\", line 242, in enter_eventloop\n",
      "    self.eventloop(self)\n",
      "  File \"/home/cs231n/myVE35/lib/python3.5/site-packages/ipykernel/eventloops.py\", line 163, in loop_tk\n",
      "    kernel.timer = Timer(doi)\n",
      "  File \"/home/cs231n/myVE35/lib/python3.5/site-packages/ipykernel/eventloops.py\", line 151, in __init__\n",
      "    self.app = Tk()\n",
      "  File \"/usr/lib/python3.5/tkinter/__init__.py\", line 1871, in __init__\n",
      "    self.tk = _tkinter.create(screenName, baseName, className, interactive, wantobjects, useTk, sync, use)\n",
      "_tkinter.TclError: no display name and no $DISPLAY environment variable\n"
     ]
    }
   ],
   "source": [
    "import numpy as np # linear algebra\n",
    "import pandas as pd # data processing, CSV file I/O (e.g. pd.read_csv)\n",
    "import os\n",
    "import gc\n",
    "\n",
    "import keras as k\n",
    "import tensorflow as tf\n",
    "from keras.models import Sequential, Model\n",
    "from keras.layers import Dense, Dropout, Flatten\n",
    "from keras.layers import Conv2D, MaxPooling2D, GlobalAveragePooling2D, Activation, BatchNormalization\n",
    "from keras.callbacks import EarlyStopping, ModelCheckpoint\n",
    "from keras.applications.inception_v3 import InceptionV3\n",
    "from keras.applications.resnet50 import ResNet50\n",
    "from keras.layers import Input\n",
    "from keras import backend as K\n",
    "from keras.optimizers import Adam\n",
    "from keras.preprocessing.image import ImageDataGenerator\n",
    "import cv2\n",
    "from tqdm import tqdm\n",
    "from heamy.dataset import Dataset\n",
    "\n",
    "from sklearn.model_selection import train_test_split\n",
    "from sklearn.metrics import fbeta_score, precision_score \n",
    "from skimage import io,transform\n",
    "\n",
    "import time\n",
    "\n",
    "import os\n",
    "import fnmatch"
   ]
  },
  {
   "cell_type": "code",
   "execution_count": 89,
   "metadata": {
    "collapsed": true,
    "scrolled": true
   },
   "outputs": [],
   "source": [
    "datagen = ImageDataGenerator(\n",
    "#    rotation_range=90,\n",
    "    fill_mode='reflect',\n",
    "    horizontal_flip=True,\n",
    "    vertical_flip=True)\n",
    "\n",
    "def multilabelmetrics(y_true,y_pred):\n",
    "    '''y_true and y_pred should be boolean np arrays\n",
    "    of shape num_example x num_classes '''\n",
    "    total = np.sum(y_true,axis = 0)\n",
    "    tp = np.sum(y_true*y_pred,axis=0)\n",
    "    tn = np.sum((1-y_true)*(1-y_pred),axis=0)\n",
    "    fp = np.sum((1-y_true)*y_pred,axis=0)\n",
    "    fn = np.sum(y_true*(1-y_pred),axis=0)\n",
    "    return total,tp,tn,fp,fn\n",
    "\n",
    "def combine_predictions(x,y,y1,y2,thresh,thresh1,thresh2,thresh3):\n",
    "    y_pred = np.zeros((x.shape[0],17),np.uint8)\n",
    "    y_bool = np.array((y > thresh),np.uint8)\n",
    "    y1_bool = np.array((y1 > thresh1),np.uint8)\n",
    "    y2_bool = np.array((y2 > thresh2)*np.tile(y1[:,0]>thresh3,(7,1)).T,np.uint8)\n",
    "    y_pred[:,:7] = y2_bool\n",
    "    y_pred[:,7:13] = y1_bool[:,1:]\n",
    "    y_pred[:,13:] = y_bool\n",
    "    return y_pred\n",
    "\n",
    "def combine_predictions_2(x,y,y1,y2,thresh,thresh1,thresh2,thresh3,thresh4):#if cloud > thresh4, \n",
    "    y_pred = np.zeros((x.shape[0],17),np.uint8)\n",
    "    y_bool = np.array((y > thresh),np.uint8)\n",
    "    y1_bool = np.array((y1 > thresh1),np.uint8)\n",
    "    y2_bool = np.array((y2 > thresh2)*np.tile(y1[:,0]>thresh3,(7,1)).T,np.uint8)\n",
    "    y_pred[:,:7] = y2_bool\n",
    "    y_pred[:,7:13] = y1_bool[:,1:]\n",
    "    y_pred[:,13:] = y_bool\n",
    "    y_pred[((np.nonzero(y[:,1]>thresh4))[0]),:] = 0\n",
    "    y_pred[((np.nonzero(y[:,1]>thresh4))[0]),14] = 1\n",
    "    return y_pred\n",
    "\n",
    "callbacks = [EarlyStopping(monitor='val_loss', patience=2, verbose=0)]"
   ]
  },
  {
   "cell_type": "code",
   "execution_count": 3,
   "metadata": {
    "collapsed": false,
    "scrolled": true
   },
   "outputs": [
    {
     "name": "stderr",
     "output_type": "stream",
     "text": [
      "100%|██████████| 36000/36000 [01:08<00:00, 532.21it/s]\n",
      "100%|██████████| 4479/4479 [00:08<00:00, 525.62it/s]"
     ]
    },
    {
     "name": "stdout",
     "output_type": "stream",
     "text": [
      "(36000, 200, 200, 3)\n",
      "(36000, 17)\n",
      "(4479, 200, 200, 3)\n",
      "(4479, 17)\n"
     ]
    },
    {
     "name": "stderr",
     "output_type": "stream",
     "text": [
      "\n"
     ]
    }
   ],
   "source": [
    "\n",
    "df_train = pd.read_csv('train_v2.csv')\n",
    "\n",
    "labels = ['blow_down',\n",
    " 'bare_ground',\n",
    " 'conventional_mine',\n",
    " 'blooming',\n",
    " 'artisinal_mine',\n",
    " 'selective_logging',         \n",
    " 'slash_burn', \n",
    " 'cultivation',\n",
    " 'habitation',\n",
    " 'road',\n",
    " 'agriculture',\n",
    " 'water',\n",
    " 'primary',\n",
    " 'partly_cloudy', \n",
    " 'cloudy',\n",
    " 'clear',\n",
    " 'haze',]\n",
    "\n",
    "label_map = {l: i for i, l in enumerate(labels)}\n",
    "inv_label_map = {i: l for l, i in label_map.items()}\n",
    "\n",
    "np.random.shuffle(df_train.values)\n",
    "\n",
    "train_values = df_train.values[:36000]\n",
    "val_values = df_train.values[36000:]\n",
    "\n",
    "x_train = np.zeros((36000,200,200,3), np.float32)\n",
    "x_val = np.zeros((40479-36000,200,200,3), np.float32)\n",
    "y_train = []\n",
    "y_val = []\n",
    "\n",
    "i=0\n",
    "\n",
    "for f, tags in tqdm(train_values, miniters=1000):    \n",
    "    img = cv2.imread('train-jpg/{}.jpg'.format(f))\n",
    "    targets = np.zeros(17)\n",
    "    for t in tags.split(' '):\n",
    "        targets[label_map[t]] = 1 \n",
    "    x_train[i,:,:,:] = np.array(cv2.resize(img, (200, 200)),np.float32)/255.#139 minimum size for inception\n",
    "    i+=1\n",
    "    y_train.append(targets)\n",
    "\n",
    "i=0\n",
    "\n",
    "for f, tags in tqdm(val_values, miniters=1000):    \n",
    "    img = cv2.imread('train-jpg/{}.jpg'.format(f))\n",
    "    targets = np.zeros(17)\n",
    "    for t in tags.split(' '):\n",
    "        targets[label_map[t]] = 1 \n",
    "    x_val[i,:,:,:] = np.array(cv2.resize(img, (200, 200)),np.float32)/255.#139 minimum size for inception\n",
    "    i+=1\n",
    "    y_val.append(targets)\n",
    "  \n",
    "y_train = np.array(y_train, np.uint8)\n",
    "y_val = np.array(y_val, np.uint8)\n",
    "\n",
    "\n",
    "print(x_train.shape)\n",
    "print(y_train.shape)\n",
    "\n",
    "print(x_val.shape)\n",
    "print(y_val.shape)\n"
   ]
  },
  {
   "cell_type": "code",
   "execution_count": 4,
   "metadata": {
    "collapsed": false
   },
   "outputs": [],
   "source": [
    "#subtracting mean\n",
    "train_mean = np.mean(x_train,axis = 0)\n",
    "x_train -= train_mean\n",
    "x_val -= train_mean"
   ]
  },
  {
   "cell_type": "code",
   "execution_count": 5,
   "metadata": {
    "collapsed": false,
    "scrolled": true
   },
   "outputs": [],
   "source": [
    "#weather classifier (last four labels - mutually exclusive)\n",
    "\n",
    "#y_train_w = y_train[:,-4:]\n",
    "#y_val_w = y_val[:,-4:]\n",
    "# x_val = np.array([])\n",
    "# y_val_w = np.array([])\n",
    "# dataset = Dataset(X_train=x_train, y_train=y_train_w,X_test=None, y_test=None)\n",
    "# dataset.split(test_size=0.1,inplace=True)\n",
    "\n",
    "#print(x_train.shape)\n",
    "# print(y_train_w.shape)\n",
    "# print(x_val.shape)\n",
    "# print(y_val_w.shape)"
   ]
  },
  {
   "cell_type": "code",
   "execution_count": 13,
   "metadata": {
    "collapsed": false,
    "scrolled": true
   },
   "outputs": [],
   "source": [
    "base_model = InceptionV3(weights='imagenet', include_top=False)\n",
    "\n",
    "# add a global spatial average pooling layer\n",
    "x = base_model.output\n",
    "x = GlobalAveragePooling2D()(x)\n",
    "x = Dropout(0.5)(x)\n",
    "x = Dense(1024)(x)\n",
    "x = BatchNormalization()(x)\n",
    "x = Activation('relu')(x)\n",
    "x = Dropout(0.5)(x)\n",
    "predictions = Dense(17, activation='sigmoid')(x)\n",
    "\n",
    "# this is the model we will train\n",
    "model = Model(inputs=base_model.input, outputs=predictions)\n",
    "\n",
    "# first: train only the top layers (which were randomly initialized)\n",
    "# i.e. freeze all convolutional InceptionV3 layers\n",
    "for layer in base_model.layers:\n",
    "    layer.trainable = False"
   ]
  },
  {
   "cell_type": "code",
   "execution_count": 14,
   "metadata": {
    "collapsed": false,
    "scrolled": true
   },
   "outputs": [
    {
     "name": "stdout",
     "output_type": "stream",
     "text": [
      "Epoch 1/10\n",
      "282/281 [==============================] - 239s - loss: 0.1993 - acc: 0.9239 - val_loss: 0.1705 - val_acc: 0.9388\n",
      "Epoch 2/10\n",
      "282/281 [==============================] - 236s - loss: 0.1668 - acc: 0.9359 - val_loss: 0.1540 - val_acc: 0.9420\n",
      "Epoch 3/10\n",
      "282/281 [==============================] - 236s - loss: 0.1615 - acc: 0.9379 - val_loss: 0.1491 - val_acc: 0.9447\n",
      "Epoch 4/10\n",
      "282/281 [==============================] - 236s - loss: 0.1595 - acc: 0.9385 - val_loss: 0.1452 - val_acc: 0.9454\n",
      "Epoch 5/10\n",
      "282/281 [==============================] - 236s - loss: 0.1574 - acc: 0.9395 - val_loss: 0.1434 - val_acc: 0.9459\n",
      "Epoch 6/10\n",
      "282/281 [==============================] - 237s - loss: 0.1561 - acc: 0.9397 - val_loss: 0.1427 - val_acc: 0.9458\n",
      "Epoch 7/10\n",
      "282/281 [==============================] - 237s - loss: 0.1558 - acc: 0.9401 - val_loss: 0.1417 - val_acc: 0.9465\n",
      "Epoch 8/10\n",
      "282/281 [==============================] - 237s - loss: 0.1541 - acc: 0.9407 - val_loss: 0.1411 - val_acc: 0.9468\n",
      "Epoch 9/10\n",
      "282/281 [==============================] - 237s - loss: 0.1535 - acc: 0.9410 - val_loss: 0.1396 - val_acc: 0.9471\n",
      "Epoch 10/10\n",
      "282/281 [==============================] - 237s - loss: 0.1532 - acc: 0.9406 - val_loss: 0.1392 - val_acc: 0.9472\n"
     ]
    },
    {
     "data": {
      "text/plain": [
       "<keras.callbacks.History at 0x7f01508c2a20>"
      ]
     },
     "execution_count": 14,
     "metadata": {},
     "output_type": "execute_result"
    }
   ],
   "source": [
    "model.compile(loss='binary_crossentropy', \n",
    "              optimizer='adam',\n",
    "              metrics=['accuracy'])    \n",
    "model.fit_generator(datagen.flow(x_train,y_train, batch_size = 128), validation_data=(x_val, y_val),\n",
    "                  epochs=10, steps_per_epoch=x_train.shape[0]/ 128, callbacks=callbacks,\n",
    "                  )"
   ]
  },
  {
   "cell_type": "code",
   "execution_count": 15,
   "metadata": {
    "collapsed": false,
    "scrolled": true
   },
   "outputs": [
    {
     "name": "stdout",
     "output_type": "stream",
     "text": [
      "thresh: 0.05 \tF2 score: 0.81119586456\n",
      "thresh: 0.1 \tF2 score: 0.848830268377\n",
      "thresh: 0.15 \tF2 score: 0.86416940206\n",
      "thresh: 0.2 \tF2 score: 0.872163694737\n",
      "thresh: 0.25 \tF2 score: 0.873875452547\n",
      "thresh: 0.3 \tF2 score: 0.870081199074\n",
      "thresh: 0.35 \tF2 score: 0.86535669398\n"
     ]
    },
    {
     "name": "stderr",
     "output_type": "stream",
     "text": [
      "/home/cs231n/myVE35/lib/python3.5/site-packages/sklearn/metrics/classification.py:1113: UndefinedMetricWarning: F-score is ill-defined and being set to 0.0 in samples with no predicted labels.\n",
      "  'precision', 'predicted', average, warn_for)\n"
     ]
    }
   ],
   "source": [
    "y_pred = model.predict(x_val,batch_size=16)\n",
    "for thresh in [0.05,0.1,0.15,0.2,0.25,0.3,0.35]:\n",
    "    print(\"thresh:\",thresh,\"\\tF2 score:\",fbeta_score(y_val, np.array(y_pred)>thresh, beta=2, average='samples'))"
   ]
  },
  {
   "cell_type": "code",
   "execution_count": 16,
   "metadata": {
    "collapsed": false
   },
   "outputs": [
    {
     "name": "stdout",
     "output_type": "stream",
     "text": [
      "Epoch 1/10\n",
      "282/281 [==============================] - 240s - loss: 0.1517 - acc: 0.9414 - val_loss: 0.1425 - val_acc: 0.9477\n",
      "Epoch 2/10\n",
      "282/281 [==============================] - 237s - loss: 0.1506 - acc: 0.9418 - val_loss: 0.1413 - val_acc: 0.9483\n",
      "Epoch 3/10\n",
      "282/281 [==============================] - 237s - loss: 0.1506 - acc: 0.9416 - val_loss: 0.1386 - val_acc: 0.9484\n",
      "Epoch 4/10\n",
      "282/281 [==============================] - 237s - loss: 0.1492 - acc: 0.9423 - val_loss: 0.1390 - val_acc: 0.9480\n",
      "Epoch 5/10\n",
      "282/281 [==============================] - 237s - loss: 0.1492 - acc: 0.9427 - val_loss: 0.1388 - val_acc: 0.9489\n",
      "Epoch 6/10\n",
      "282/281 [==============================] - 237s - loss: 0.1492 - acc: 0.9424 - val_loss: 0.1372 - val_acc: 0.9485\n",
      "Epoch 7/10\n",
      "282/281 [==============================] - 237s - loss: 0.1483 - acc: 0.9428 - val_loss: 0.1369 - val_acc: 0.9483\n",
      "Epoch 8/10\n",
      "282/281 [==============================] - 236s - loss: 0.1481 - acc: 0.9428 - val_loss: 0.1381 - val_acc: 0.9490\n",
      "Epoch 9/10\n",
      "282/281 [==============================] - 236s - loss: 0.1484 - acc: 0.9429 - val_loss: 0.1388 - val_acc: 0.9484\n",
      "Epoch 10/10\n",
      "282/281 [==============================] - 236s - loss: 0.1471 - acc: 0.9432 - val_loss: 0.1375 - val_acc: 0.9486\n"
     ]
    },
    {
     "data": {
      "text/plain": [
       "<keras.callbacks.History at 0x7f01504c2588>"
      ]
     },
     "execution_count": 16,
     "metadata": {},
     "output_type": "execute_result"
    }
   ],
   "source": [
    "model.compile(loss='binary_crossentropy', \n",
    "              optimizer=Adam(lr=0.0005),\n",
    "              metrics=['accuracy'])    \n",
    "model.fit_generator(datagen.flow(x_train,y_train, batch_size = 128), validation_data=(x_val, y_val),\n",
    "                  epochs=10, steps_per_epoch=x_train.shape[0]/ 128, callbacks=callbacks,\n",
    "                  )"
   ]
  },
  {
   "cell_type": "code",
   "execution_count": 17,
   "metadata": {
    "collapsed": false
   },
   "outputs": [
    {
     "name": "stdout",
     "output_type": "stream",
     "text": [
      "thresh: 0.05 \tF2 score: 0.803230009448\n",
      "thresh: 0.1 \tF2 score: 0.844400364029\n",
      "thresh: 0.15 \tF2 score: 0.863639557577\n",
      "thresh: 0.2 \tF2 score: 0.871966723545\n",
      "thresh: 0.25 \tF2 score: 0.87566910195\n",
      "thresh: 0.3 \tF2 score: 0.872494416247\n",
      "thresh: 0.35 \tF2 score: 0.869288732875\n"
     ]
    }
   ],
   "source": [
    "y_pred = model.predict(x_val,batch_size=16)\n",
    "for thresh in [0.05,0.1,0.15,0.2,0.25,0.3,0.35]:\n",
    "    print(\"thresh:\",thresh,\"\\tF2 score:\",fbeta_score(y_val, np.array(y_pred)>thresh, beta=2, average='samples'))"
   ]
  },
  {
   "cell_type": "code",
   "execution_count": 18,
   "metadata": {
    "collapsed": false
   },
   "outputs": [
    {
     "name": "stdout",
     "output_type": "stream",
     "text": [
      "Epoch 1/10\n",
      "282/281 [==============================] - 238s - loss: 0.1469 - acc: 0.9434 - val_loss: 0.1369 - val_acc: 0.9493\n",
      "Epoch 2/10\n",
      "282/281 [==============================] - 236s - loss: 0.1464 - acc: 0.9437 - val_loss: 0.1367 - val_acc: 0.9492\n",
      "Epoch 3/10\n",
      "282/281 [==============================] - 236s - loss: 0.1445 - acc: 0.9442 - val_loss: 0.1360 - val_acc: 0.9493\n",
      "Epoch 4/10\n",
      "282/281 [==============================] - 236s - loss: 0.1461 - acc: 0.9435 - val_loss: 0.1371 - val_acc: 0.9489\n",
      "Epoch 5/10\n",
      "282/281 [==============================] - 236s - loss: 0.1460 - acc: 0.9437 - val_loss: 0.1367 - val_acc: 0.9493\n",
      "Epoch 6/10\n",
      "282/281 [==============================] - 237s - loss: 0.1460 - acc: 0.9437 - val_loss: 0.1372 - val_acc: 0.9491\n"
     ]
    },
    {
     "data": {
      "text/plain": [
       "<keras.callbacks.History at 0x7f01500c80b8>"
      ]
     },
     "execution_count": 18,
     "metadata": {},
     "output_type": "execute_result"
    }
   ],
   "source": [
    "model.compile(loss='binary_crossentropy', \n",
    "              optimizer=Adam(lr=0.0002),\n",
    "              metrics=['accuracy'])    \n",
    "model.fit_generator(datagen.flow(x_train,y_train, batch_size = 128), validation_data=(x_val, y_val),\n",
    "                  epochs=10, steps_per_epoch=x_train.shape[0]/ 128, callbacks=callbacks,\n",
    "                  )"
   ]
  },
  {
   "cell_type": "code",
   "execution_count": 19,
   "metadata": {
    "collapsed": false
   },
   "outputs": [
    {
     "name": "stdout",
     "output_type": "stream",
     "text": [
      "thresh: 0.05 \tF2 score: 0.801496808014\n",
      "thresh: 0.1 \tF2 score: 0.843709131221\n",
      "thresh: 0.15 \tF2 score: 0.862725849959\n",
      "thresh: 0.2 \tF2 score: 0.873129729499\n",
      "thresh: 0.25 \tF2 score: 0.875997212448\n",
      "thresh: 0.3 \tF2 score: 0.8764597919\n",
      "thresh: 0.35 \tF2 score: 0.871721456544\n"
     ]
    }
   ],
   "source": [
    "y_pred = model.predict(x_val,batch_size=16)\n",
    "for thresh in [0.05,0.1,0.15,0.2,0.25,0.3,0.35]:\n",
    "    print(\"thresh:\",thresh,\"\\tF2 score:\",fbeta_score(y_val, np.array(y_pred)>thresh, beta=2, average='samples'))"
   ]
  },
  {
   "cell_type": "code",
   "execution_count": 20,
   "metadata": {
    "collapsed": false
   },
   "outputs": [
    {
     "name": "stdout",
     "output_type": "stream",
     "text": [
      "Epoch 1/10\n",
      "282/281 [==============================] - 239s - loss: 0.1453 - acc: 0.9436 - val_loss: 0.1369 - val_acc: 0.9495\n",
      "Epoch 2/10\n",
      "282/281 [==============================] - 236s - loss: 0.1448 - acc: 0.9443 - val_loss: 0.1364 - val_acc: 0.9496\n",
      "Epoch 3/10\n",
      "282/281 [==============================] - 236s - loss: 0.1453 - acc: 0.9440 - val_loss: 0.1369 - val_acc: 0.9494\n",
      "Epoch 4/10\n",
      "282/281 [==============================] - 236s - loss: 0.1447 - acc: 0.9442 - val_loss: 0.1367 - val_acc: 0.9494\n",
      "Epoch 5/10\n",
      "282/281 [==============================] - 236s - loss: 0.1453 - acc: 0.9439 - val_loss: 0.1369 - val_acc: 0.9497\n"
     ]
    },
    {
     "data": {
      "text/plain": [
       "<keras.callbacks.History at 0x7f014fd3ea90>"
      ]
     },
     "execution_count": 20,
     "metadata": {},
     "output_type": "execute_result"
    }
   ],
   "source": [
    "model.compile(loss='binary_crossentropy', \n",
    "              optimizer=Adam(lr=0.0001),\n",
    "              metrics=['accuracy'])    \n",
    "model.fit_generator(datagen.flow(x_train,y_train, batch_size = 128), validation_data=(x_val, y_val),\n",
    "                  epochs=10, steps_per_epoch=x_train.shape[0]/ 128, callbacks=callbacks,\n",
    "                  )"
   ]
  },
  {
   "cell_type": "code",
   "execution_count": 21,
   "metadata": {
    "collapsed": false
   },
   "outputs": [
    {
     "name": "stdout",
     "output_type": "stream",
     "text": [
      "thresh: 0.05 \tF2 score: 0.802104357584\n",
      "thresh: 0.1 \tF2 score: 0.844076097056\n",
      "thresh: 0.15 \tF2 score: 0.863527317305\n",
      "thresh: 0.2 \tF2 score: 0.87385096256\n",
      "thresh: 0.25 \tF2 score: 0.879230965904\n",
      "thresh: 0.3 \tF2 score: 0.877471758944\n",
      "thresh: 0.35 \tF2 score: 0.873553301541\n"
     ]
    }
   ],
   "source": [
    "y_pred = model.predict(x_val,batch_size=16)\n",
    "for thresh in [0.05,0.1,0.15,0.2,0.25,0.3,0.35]:\n",
    "    print(\"thresh:\",thresh,\"\\tF2 score:\",fbeta_score(y_val, np.array(y_pred)>thresh, beta=2, average='samples'))"
   ]
  },
  {
   "cell_type": "code",
   "execution_count": 22,
   "metadata": {
    "collapsed": false
   },
   "outputs": [
    {
     "name": "stdout",
     "output_type": "stream",
     "text": [
      "0 0.18 0.87385096256\n",
      "1 0.22 0.873965841508\n",
      "2 0.26 0.874019578792\n",
      "3 0.16 0.874079495165\n",
      "4 0.35 0.874171042403\n",
      "5 0.28 0.874308619631\n",
      "6 0.23 0.874327042615\n",
      "7 0.31 0.87600803652\n",
      "8 0.28 0.877150794416\n",
      "9 0.26 0.877752257782\n",
      "10 0.3 0.878754952535\n",
      "11 0.23 0.879157448546\n",
      "12 0.19 0.879229999994\n",
      "13 0.27 0.879984148763\n",
      "14 0.17 0.880169663533\n",
      "15 0.24 0.88044378153\n",
      "16 0.27 0.881502188608\n"
     ]
    },
    {
     "name": "stderr",
     "output_type": "stream",
     "text": [
      "/home/cs231n/myVE35/lib/python3.5/site-packages/sklearn/metrics/classification.py:1113: UndefinedMetricWarning: F-score is ill-defined and being set to 0.0 in samples with no predicted labels.\n",
      "  'precision', 'predicted', average, warn_for)\n"
     ]
    }
   ],
   "source": [
    "def optimise_f2_thresholds(x_init, y, p, num_classes=17, verbose=True, resolution=100):\n",
    "  def mf(x):\n",
    "    p2 = np.zeros_like(p)\n",
    "    for i in range(num_classes):\n",
    "      p2[:, i] = (p[:, i] > x[i]).astype(np.int)\n",
    "    score = fbeta_score(y, p2, beta=2, average='samples')\n",
    "    return score\n",
    "\n",
    "  x = list(x_init)\n",
    "  for i in range(num_classes):\n",
    "    best_i2 = 0\n",
    "    best_score = 0\n",
    "    for i2 in range(resolution):\n",
    "      i2 /= resolution\n",
    "      x[i] = i2\n",
    "      score = mf(x)\n",
    "      if score > best_score:\n",
    "        best_i2 = i2\n",
    "        best_score = score\n",
    "    x[i] = best_i2\n",
    "    if verbose:\n",
    "      print(i, best_i2, best_score)\n",
    "\n",
    "  return x\n",
    "\n",
    "thresh = optimise_f2_thresholds([0.2]*17,y_val,y_pred)"
   ]
  },
  {
   "cell_type": "code",
   "execution_count": 23,
   "metadata": {
    "collapsed": false
   },
   "outputs": [
    {
     "name": "stdout",
     "output_type": "stream",
     "text": [
      "0 0.18 0.881502188608\n",
      "1 0.22 0.881502188608\n",
      "2 0.26 0.881502188608\n",
      "3 0.16 0.881502188608\n",
      "4 0.35 0.881502188608\n",
      "5 0.28 0.881502188608\n",
      "6 0.23 0.881502188608\n",
      "7 0.31 0.881502188608\n",
      "8 0.28 0.881502188608\n",
      "9 0.26 0.881502188608\n",
      "10 0.3 0.881502188608\n",
      "11 0.23 0.881502188608\n",
      "12 0.19 0.881502188608\n",
      "13 0.27 0.881502188608\n",
      "14 0.17 0.881502188608\n",
      "15 0.24 0.881502188608\n",
      "16 0.27 0.881502188608\n"
     ]
    },
    {
     "name": "stderr",
     "output_type": "stream",
     "text": [
      "/home/cs231n/myVE35/lib/python3.5/site-packages/sklearn/metrics/classification.py:1113: UndefinedMetricWarning: F-score is ill-defined and being set to 0.0 in samples with no predicted labels.\n",
      "  'precision', 'predicted', average, warn_for)\n"
     ]
    }
   ],
   "source": [
    "thresh = optimise_f2_thresholds(thresh,y_val,y_pred)"
   ]
  },
  {
   "cell_type": "code",
   "execution_count": 24,
   "metadata": {
    "collapsed": false
   },
   "outputs": [
    {
     "data": {
      "text/html": [
       "<div>\n",
       "<table border=\"1\" class=\"dataframe\">\n",
       "  <thead>\n",
       "    <tr style=\"text-align: right;\">\n",
       "      <th></th>\n",
       "      <th>FN</th>\n",
       "      <th>FP</th>\n",
       "      <th>TN</th>\n",
       "      <th>TP</th>\n",
       "      <th>Total</th>\n",
       "    </tr>\n",
       "  </thead>\n",
       "  <tbody>\n",
       "    <tr>\n",
       "      <th>blow_down</th>\n",
       "      <td>13</td>\n",
       "      <td>0</td>\n",
       "      <td>4465</td>\n",
       "      <td>1</td>\n",
       "      <td>14</td>\n",
       "    </tr>\n",
       "    <tr>\n",
       "      <th>bare_ground</th>\n",
       "      <td>72</td>\n",
       "      <td>112</td>\n",
       "      <td>4260</td>\n",
       "      <td>35</td>\n",
       "      <td>107</td>\n",
       "    </tr>\n",
       "    <tr>\n",
       "      <th>conventional_mine</th>\n",
       "      <td>10</td>\n",
       "      <td>6</td>\n",
       "      <td>4458</td>\n",
       "      <td>5</td>\n",
       "      <td>15</td>\n",
       "    </tr>\n",
       "    <tr>\n",
       "      <th>blooming</th>\n",
       "      <td>34</td>\n",
       "      <td>15</td>\n",
       "      <td>4425</td>\n",
       "      <td>5</td>\n",
       "      <td>39</td>\n",
       "    </tr>\n",
       "    <tr>\n",
       "      <th>artisinal_mine</th>\n",
       "      <td>11</td>\n",
       "      <td>19</td>\n",
       "      <td>4428</td>\n",
       "      <td>21</td>\n",
       "      <td>32</td>\n",
       "    </tr>\n",
       "    <tr>\n",
       "      <th>selective_logging</th>\n",
       "      <td>33</td>\n",
       "      <td>13</td>\n",
       "      <td>4425</td>\n",
       "      <td>8</td>\n",
       "      <td>41</td>\n",
       "    </tr>\n",
       "    <tr>\n",
       "      <th>slash_burn</th>\n",
       "      <td>26</td>\n",
       "      <td>3</td>\n",
       "      <td>4448</td>\n",
       "      <td>2</td>\n",
       "      <td>28</td>\n",
       "    </tr>\n",
       "    <tr>\n",
       "      <th>cultivation</th>\n",
       "      <td>232</td>\n",
       "      <td>334</td>\n",
       "      <td>3678</td>\n",
       "      <td>235</td>\n",
       "      <td>467</td>\n",
       "    </tr>\n",
       "    <tr>\n",
       "      <th>habitation</th>\n",
       "      <td>115</td>\n",
       "      <td>380</td>\n",
       "      <td>3720</td>\n",
       "      <td>264</td>\n",
       "      <td>379</td>\n",
       "    </tr>\n",
       "    <tr>\n",
       "      <th>road</th>\n",
       "      <td>116</td>\n",
       "      <td>589</td>\n",
       "      <td>3039</td>\n",
       "      <td>735</td>\n",
       "      <td>851</td>\n",
       "    </tr>\n",
       "    <tr>\n",
       "      <th>agriculture</th>\n",
       "      <td>169</td>\n",
       "      <td>652</td>\n",
       "      <td>2518</td>\n",
       "      <td>1140</td>\n",
       "      <td>1309</td>\n",
       "    </tr>\n",
       "    <tr>\n",
       "      <th>water</th>\n",
       "      <td>163</td>\n",
       "      <td>634</td>\n",
       "      <td>2991</td>\n",
       "      <td>691</td>\n",
       "      <td>854</td>\n",
       "    </tr>\n",
       "    <tr>\n",
       "      <th>primary</th>\n",
       "      <td>17</td>\n",
       "      <td>221</td>\n",
       "      <td>147</td>\n",
       "      <td>4094</td>\n",
       "      <td>4111</td>\n",
       "    </tr>\n",
       "    <tr>\n",
       "      <th>partly_cloudy</th>\n",
       "      <td>123</td>\n",
       "      <td>310</td>\n",
       "      <td>3384</td>\n",
       "      <td>662</td>\n",
       "      <td>785</td>\n",
       "    </tr>\n",
       "    <tr>\n",
       "      <th>cloudy</th>\n",
       "      <td>10</td>\n",
       "      <td>209</td>\n",
       "      <td>4018</td>\n",
       "      <td>242</td>\n",
       "      <td>252</td>\n",
       "    </tr>\n",
       "    <tr>\n",
       "      <th>clear</th>\n",
       "      <td>21</td>\n",
       "      <td>453</td>\n",
       "      <td>862</td>\n",
       "      <td>3143</td>\n",
       "      <td>3164</td>\n",
       "    </tr>\n",
       "    <tr>\n",
       "      <th>haze</th>\n",
       "      <td>63</td>\n",
       "      <td>242</td>\n",
       "      <td>3959</td>\n",
       "      <td>215</td>\n",
       "      <td>278</td>\n",
       "    </tr>\n",
       "  </tbody>\n",
       "</table>\n",
       "</div>"
      ],
      "text/plain": [
       "                    FN   FP    TN    TP  Total\n",
       "blow_down           13    0  4465     1     14\n",
       "bare_ground         72  112  4260    35    107\n",
       "conventional_mine   10    6  4458     5     15\n",
       "blooming            34   15  4425     5     39\n",
       "artisinal_mine      11   19  4428    21     32\n",
       "selective_logging   33   13  4425     8     41\n",
       "slash_burn          26    3  4448     2     28\n",
       "cultivation        232  334  3678   235    467\n",
       "habitation         115  380  3720   264    379\n",
       "road               116  589  3039   735    851\n",
       "agriculture        169  652  2518  1140   1309\n",
       "water              163  634  2991   691    854\n",
       "primary             17  221   147  4094   4111\n",
       "partly_cloudy      123  310  3384   662    785\n",
       "cloudy              10  209  4018   242    252\n",
       "clear               21  453   862  3143   3164\n",
       "haze                63  242  3959   215    278"
      ]
     },
     "execution_count": 24,
     "metadata": {},
     "output_type": "execute_result"
    }
   ],
   "source": [
    "total,tp,tn,fp,fn = multilabelmetrics(y_val,np.array(y_pred>np.array(thresh)))\n",
    "d = {'Total':total,'TP':tp,'TN':tn,'FP':fp,'FN':fn}\n",
    "pd.DataFrame(d, index=labels)"
   ]
  },
  {
   "cell_type": "code",
   "execution_count": 25,
   "metadata": {
    "collapsed": true
   },
   "outputs": [],
   "source": [
    "model.save_weights('inc_weights')"
   ]
  },
  {
   "cell_type": "code",
   "execution_count": null,
   "metadata": {
    "collapsed": false,
    "scrolled": true
   },
   "outputs": [
    {
     "name": "stdout",
     "output_type": "stream",
     "text": [
      "Epoch 1/10\n",
      "563/562 [==============================] - 719s - loss: 0.1174 - acc: 0.9556 - val_loss: 0.1018 - val_acc: 0.9616\n",
      "Epoch 2/10\n",
      "563/562 [==============================] - 705s - loss: 0.1012 - acc: 0.9612 - val_loss: 0.0986 - val_acc: 0.9631\n",
      "Epoch 3/10\n",
      "563/562 [==============================] - 705s - loss: 0.0945 - acc: 0.9636 - val_loss: 0.0933 - val_acc: 0.9642\n",
      "Epoch 4/10\n",
      "563/562 [==============================] - 703s - loss: 0.0896 - acc: 0.9655 - val_loss: 0.0935 - val_acc: 0.9643\n",
      "Epoch 5/10\n",
      "563/562 [==============================] - 705s - loss: 0.0860 - acc: 0.9667 - val_loss: 0.0918 - val_acc: 0.9651\n",
      "Epoch 6/10\n",
      "563/562 [==============================] - 704s - loss: 0.0823 - acc: 0.9682 - val_loss: 0.0936 - val_acc: 0.9649\n",
      "Epoch 7/10\n",
      "563/562 [==============================] - 704s - loss: 0.0796 - acc: 0.9694 - val_loss: 0.0926 - val_acc: 0.9651\n",
      "Epoch 8/10\n",
      "563/562 [==============================] - 706s - loss: 0.0756 - acc: 0.9708 - val_loss: 0.0923 - val_acc: 0.9658\n",
      "Epoch 9/10\n",
      "258/562 [============>.................] - ETA: 363s - loss: 0.0726 - acc: 0.9718"
     ]
    }
   ],
   "source": [
    "for layer in base_model.layers:\n",
    "    layer.trainable = True\n",
    "#continue with reduced learning rate\n",
    "model.compile(loss='binary_crossentropy', \n",
    "              optimizer=Adam(lr=0.0001),\n",
    "              metrics=['accuracy']) \n",
    "callbacks = [#EarlyStopping(monitor='val_loss', patience=2, verbose=0),\n",
    "ModelCheckpoint('inc_weights.{epoch:02d}-{val_loss:.2f}.hdf5', monitor='val_loss', \n",
    "                verbose=0, save_best_only=True,)]\n",
    "\n",
    "model.fit_generator(datagen.flow(x_train,y_train, batch_size = 64), validation_data=(x_val, y_val),\n",
    "                  epochs=10, steps_per_epoch=x_train.shape[0]/ 64, callbacks=callbacks,\n",
    "                  )"
   ]
  },
  {
   "cell_type": "code",
   "execution_count": 28,
   "metadata": {
    "collapsed": false
   },
   "outputs": [
    {
     "name": "stdout",
     "output_type": "stream",
     "text": [
      "Epoch 10/10\n",
      "563/562 [==============================] - 703s - loss: 0.0697 - acc: 0.9729 - val_loss: 0.0957 - val_acc: 0.9642\n"
     ]
    },
    {
     "data": {
      "text/plain": [
       "<keras.callbacks.History at 0x7f01387c4a58>"
      ]
     },
     "execution_count": 28,
     "metadata": {},
     "output_type": "execute_result"
    }
   ],
   "source": [
    "model.fit_generator(datagen.flow(x_train,y_train, batch_size = 64), validation_data=(x_val, y_val),\n",
    "                  epochs=10, steps_per_epoch=x_train.shape[0]/ 64, callbacks=callbacks,initial_epoch=9,\n",
    "                  )"
   ]
  },
  {
   "cell_type": "code",
   "execution_count": 30,
   "metadata": {
    "collapsed": false,
    "scrolled": true
   },
   "outputs": [
    {
     "name": "stdout",
     "output_type": "stream",
     "text": [
      "thresh: 0.05 \tF2 score: 0.897050859774\n",
      "thresh: 0.1 \tF2 score: 0.913967605522\n",
      "thresh: 0.15 \tF2 score: 0.91961846729\n",
      "thresh: 0.2 \tF2 score: 0.921813323781\n",
      "thresh: 0.25 \tF2 score: 0.921611665731\n",
      "thresh: 0.3 \tF2 score: 0.919595515965\n",
      "thresh: 0.35 \tF2 score: 0.915540603322\n"
     ]
    }
   ],
   "source": [
    "model.load_weights('inc_weights.04-0.09.hdf5')\n",
    "y_pred = model.predict(x_val,batch_size=16)\n",
    "for thresh in [0.05,0.1,0.15,0.2,0.25,0.3,0.35]:\n",
    "    print(\"thresh:\",thresh,\"\\tF2 score:\",fbeta_score(y_val, np.array(y_pred)>thresh, beta=2, average='samples'))"
   ]
  },
  {
   "cell_type": "code",
   "execution_count": 31,
   "metadata": {
    "collapsed": false
   },
   "outputs": [
    {
     "name": "stdout",
     "output_type": "stream",
     "text": [
      "0 0.05 0.921933577047\n",
      "1 0.13 0.922095760924\n",
      "2 0.07 0.922133862111\n",
      "3 0.4 0.922381212767\n",
      "4 0.16 0.922446459528\n",
      "5 0.33 0.922645440039\n",
      "6 0.19 0.922645440039\n",
      "7 0.27 0.922863873856\n",
      "8 0.22 0.922979190859\n",
      "9 0.23 0.923069268089\n",
      "10 0.19 0.923129157551\n",
      "11 0.26 0.923300278924\n",
      "12 0.1 0.923708021007\n",
      "13 0.15 0.923766491402\n",
      "14 0.16 0.92394439653\n",
      "15 0.23 0.924044823182\n",
      "16 0.31 0.924262329554\n"
     ]
    },
    {
     "name": "stderr",
     "output_type": "stream",
     "text": [
      "/home/cs231n/myVE35/lib/python3.5/site-packages/sklearn/metrics/classification.py:1113: UndefinedMetricWarning: F-score is ill-defined and being set to 0.0 in samples with no predicted labels.\n",
      "  'precision', 'predicted', average, warn_for)\n"
     ]
    }
   ],
   "source": [
    "thresh_1_val = optimise_f2_thresholds([0.2]*17,y_val,y_pred)"
   ]
  },
  {
   "cell_type": "code",
   "execution_count": 32,
   "metadata": {
    "collapsed": false
   },
   "outputs": [
    {
     "name": "stdout",
     "output_type": "stream",
     "text": [
      "0 0.05 0.924262329554\n",
      "1 0.13 0.924262329554\n",
      "2 0.07 0.924262329554\n",
      "3 0.4 0.924262329554\n",
      "4 0.16 0.924262329554\n",
      "5 0.33 0.924262329554\n",
      "6 0.19 0.924262329554\n",
      "7 0.27 0.924262329554\n",
      "8 0.22 0.924262329554\n",
      "9 0.23 0.924262329554\n",
      "10 0.19 0.924262329554\n",
      "11 0.26 0.924262329554\n",
      "12 0.1 0.924262329554\n",
      "13 0.25 0.924267387957\n",
      "14 0.16 0.924267387957\n",
      "15 0.23 0.924267387957\n",
      "16 0.31 0.924267387957\n"
     ]
    },
    {
     "name": "stderr",
     "output_type": "stream",
     "text": [
      "/home/cs231n/myVE35/lib/python3.5/site-packages/sklearn/metrics/classification.py:1113: UndefinedMetricWarning: F-score is ill-defined and being set to 0.0 in samples with no predicted labels.\n",
      "  'precision', 'predicted', average, warn_for)\n"
     ]
    }
   ],
   "source": [
    "thresh_1_val = optimise_f2_thresholds(thresh_1_val,y_val,y_pred)"
   ]
  },
  {
   "cell_type": "code",
   "execution_count": 33,
   "metadata": {
    "collapsed": false
   },
   "outputs": [
    {
     "data": {
      "text/html": [
       "<div>\n",
       "<table border=\"1\" class=\"dataframe\">\n",
       "  <thead>\n",
       "    <tr style=\"text-align: right;\">\n",
       "      <th></th>\n",
       "      <th>FN</th>\n",
       "      <th>FP</th>\n",
       "      <th>TN</th>\n",
       "      <th>TP</th>\n",
       "      <th>Total</th>\n",
       "    </tr>\n",
       "  </thead>\n",
       "  <tbody>\n",
       "    <tr>\n",
       "      <th>blow_down</th>\n",
       "      <td>9</td>\n",
       "      <td>6</td>\n",
       "      <td>4459</td>\n",
       "      <td>5</td>\n",
       "      <td>14</td>\n",
       "    </tr>\n",
       "    <tr>\n",
       "      <th>bare_ground</th>\n",
       "      <td>65</td>\n",
       "      <td>91</td>\n",
       "      <td>4281</td>\n",
       "      <td>42</td>\n",
       "      <td>107</td>\n",
       "    </tr>\n",
       "    <tr>\n",
       "      <th>conventional_mine</th>\n",
       "      <td>7</td>\n",
       "      <td>4</td>\n",
       "      <td>4460</td>\n",
       "      <td>8</td>\n",
       "      <td>15</td>\n",
       "    </tr>\n",
       "    <tr>\n",
       "      <th>blooming</th>\n",
       "      <td>31</td>\n",
       "      <td>3</td>\n",
       "      <td>4437</td>\n",
       "      <td>8</td>\n",
       "      <td>39</td>\n",
       "    </tr>\n",
       "    <tr>\n",
       "      <th>artisinal_mine</th>\n",
       "      <td>0</td>\n",
       "      <td>17</td>\n",
       "      <td>4430</td>\n",
       "      <td>32</td>\n",
       "      <td>32</td>\n",
       "    </tr>\n",
       "    <tr>\n",
       "      <th>selective_logging</th>\n",
       "      <td>22</td>\n",
       "      <td>26</td>\n",
       "      <td>4412</td>\n",
       "      <td>19</td>\n",
       "      <td>41</td>\n",
       "    </tr>\n",
       "    <tr>\n",
       "      <th>slash_burn</th>\n",
       "      <td>26</td>\n",
       "      <td>0</td>\n",
       "      <td>4451</td>\n",
       "      <td>2</td>\n",
       "      <td>28</td>\n",
       "    </tr>\n",
       "    <tr>\n",
       "      <th>cultivation</th>\n",
       "      <td>132</td>\n",
       "      <td>318</td>\n",
       "      <td>3694</td>\n",
       "      <td>335</td>\n",
       "      <td>467</td>\n",
       "    </tr>\n",
       "    <tr>\n",
       "      <th>habitation</th>\n",
       "      <td>82</td>\n",
       "      <td>183</td>\n",
       "      <td>3917</td>\n",
       "      <td>297</td>\n",
       "      <td>379</td>\n",
       "    </tr>\n",
       "    <tr>\n",
       "      <th>road</th>\n",
       "      <td>84</td>\n",
       "      <td>324</td>\n",
       "      <td>3304</td>\n",
       "      <td>767</td>\n",
       "      <td>851</td>\n",
       "    </tr>\n",
       "    <tr>\n",
       "      <th>agriculture</th>\n",
       "      <td>82</td>\n",
       "      <td>471</td>\n",
       "      <td>2699</td>\n",
       "      <td>1227</td>\n",
       "      <td>1309</td>\n",
       "    </tr>\n",
       "    <tr>\n",
       "      <th>water</th>\n",
       "      <td>126</td>\n",
       "      <td>267</td>\n",
       "      <td>3358</td>\n",
       "      <td>728</td>\n",
       "      <td>854</td>\n",
       "    </tr>\n",
       "    <tr>\n",
       "      <th>primary</th>\n",
       "      <td>11</td>\n",
       "      <td>193</td>\n",
       "      <td>175</td>\n",
       "      <td>4100</td>\n",
       "      <td>4111</td>\n",
       "    </tr>\n",
       "    <tr>\n",
       "      <th>partly_cloudy</th>\n",
       "      <td>34</td>\n",
       "      <td>81</td>\n",
       "      <td>3613</td>\n",
       "      <td>751</td>\n",
       "      <td>785</td>\n",
       "    </tr>\n",
       "    <tr>\n",
       "      <th>cloudy</th>\n",
       "      <td>9</td>\n",
       "      <td>145</td>\n",
       "      <td>4082</td>\n",
       "      <td>243</td>\n",
       "      <td>252</td>\n",
       "    </tr>\n",
       "    <tr>\n",
       "      <th>clear</th>\n",
       "      <td>29</td>\n",
       "      <td>211</td>\n",
       "      <td>1104</td>\n",
       "      <td>3135</td>\n",
       "      <td>3164</td>\n",
       "    </tr>\n",
       "    <tr>\n",
       "      <th>haze</th>\n",
       "      <td>69</td>\n",
       "      <td>120</td>\n",
       "      <td>4081</td>\n",
       "      <td>209</td>\n",
       "      <td>278</td>\n",
       "    </tr>\n",
       "  </tbody>\n",
       "</table>\n",
       "</div>"
      ],
      "text/plain": [
       "                    FN   FP    TN    TP  Total\n",
       "blow_down            9    6  4459     5     14\n",
       "bare_ground         65   91  4281    42    107\n",
       "conventional_mine    7    4  4460     8     15\n",
       "blooming            31    3  4437     8     39\n",
       "artisinal_mine       0   17  4430    32     32\n",
       "selective_logging   22   26  4412    19     41\n",
       "slash_burn          26    0  4451     2     28\n",
       "cultivation        132  318  3694   335    467\n",
       "habitation          82  183  3917   297    379\n",
       "road                84  324  3304   767    851\n",
       "agriculture         82  471  2699  1227   1309\n",
       "water              126  267  3358   728    854\n",
       "primary             11  193   175  4100   4111\n",
       "partly_cloudy       34   81  3613   751    785\n",
       "cloudy               9  145  4082   243    252\n",
       "clear               29  211  1104  3135   3164\n",
       "haze                69  120  4081   209    278"
      ]
     },
     "execution_count": 33,
     "metadata": {},
     "output_type": "execute_result"
    }
   ],
   "source": [
    "total,tp,tn,fp,fn = multilabelmetrics(y_val,np.array(y_pred>np.array(thresh_1_val)))\n",
    "d = {'Total':total,'TP':tp,'TN':tn,'FP':fp,'FN':fn}\n",
    "pd.DataFrame(d, index=labels)"
   ]
  },
  {
   "cell_type": "code",
   "execution_count": 34,
   "metadata": {
    "collapsed": true
   },
   "outputs": [],
   "source": [
    "model.save_weights(\"inc_weights_1\")"
   ]
  },
  {
   "cell_type": "code",
   "execution_count": 36,
   "metadata": {
    "collapsed": false,
    "scrolled": true
   },
   "outputs": [
    {
     "name": "stdout",
     "output_type": "stream",
     "text": [
      "Epoch 1/10\n",
      "563/562 [==============================] - 719s - loss: 0.1282 - acc: 0.9525 - val_loss: 0.1079 - val_acc: 0.9591\n",
      "Epoch 2/10\n",
      "563/562 [==============================] - 704s - loss: 0.1128 - acc: 0.9576 - val_loss: 0.0993 - val_acc: 0.9622\n",
      "Epoch 3/10\n",
      "563/562 [==============================] - 705s - loss: 0.1075 - acc: 0.9598 - val_loss: 0.0962 - val_acc: 0.9625\n",
      "Epoch 4/10\n",
      "563/562 [==============================] - 703s - loss: 0.1042 - acc: 0.9610 - val_loss: 0.0966 - val_acc: 0.9620\n",
      "Epoch 5/10\n",
      "563/562 [==============================] - 704s - loss: 0.1019 - acc: 0.9619 - val_loss: 0.0942 - val_acc: 0.9641\n",
      "Epoch 6/10\n",
      "563/562 [==============================] - 703s - loss: 0.1001 - acc: 0.9624 - val_loss: 0.0927 - val_acc: 0.9645\n",
      "Epoch 7/10\n",
      "563/562 [==============================] - 695s - loss: 0.0997 - acc: 0.9625 - val_loss: 0.0945 - val_acc: 0.9636\n",
      "Epoch 8/10\n",
      "563/562 [==============================] - 699s - loss: 0.0977 - acc: 0.9633 - val_loss: 0.0921 - val_acc: 0.9646\n",
      "Epoch 9/10\n",
      "563/562 [==============================] - 699s - loss: 0.0969 - acc: 0.9635 - val_loss: 0.0905 - val_acc: 0.9655\n",
      "Epoch 10/10\n",
      "563/562 [==============================] - 698s - loss: 0.0951 - acc: 0.9643 - val_loss: 0.0910 - val_acc: 0.9650\n"
     ]
    },
    {
     "data": {
      "text/plain": [
       "<keras.callbacks.History at 0x7f0125f537b8>"
      ]
     },
     "execution_count": 36,
     "metadata": {},
     "output_type": "execute_result"
    }
   ],
   "source": [
    "model.load_weights(\"inc_weights\")\n",
    "\n",
    "for layer in base_model.layers:\n",
    "    layer.trainable = True\n",
    "\n",
    "datagen1 = ImageDataGenerator(\n",
    "    rotation_range=40,\n",
    "    width_shift_range=0.2,\n",
    "    height_shift_range=0.2,\n",
    "    horizontal_flip=True,\n",
    "    vertical_flip=True)\n",
    "\n",
    "    \n",
    "#continue with reduced learning rate\n",
    "model.compile(loss='binary_crossentropy', \n",
    "              optimizer=Adam(lr=0.0001),\n",
    "              metrics=['accuracy']) \n",
    "callbacks = [#EarlyStopping(monitor='val_loss', patience=2, verbose=0),\n",
    "ModelCheckpoint('inc_weights_2.{epoch:02d}-{val_loss:.2f}.hdf5', monitor='val_loss', \n",
    "                verbose=0, save_best_only=True,)]\n",
    "\n",
    "model.fit_generator(datagen1.flow(x_train,y_train, batch_size = 64), validation_data=(x_val, y_val),\n",
    "                  epochs=10, steps_per_epoch=x_train.shape[0]/ 64, callbacks=callbacks,\n",
    "                  )"
   ]
  },
  {
   "cell_type": "code",
   "execution_count": 37,
   "metadata": {
    "collapsed": false
   },
   "outputs": [
    {
     "name": "stdout",
     "output_type": "stream",
     "text": [
      "thresh: 0.05 \tF2 score: 0.883296117599\n",
      "thresh: 0.1 \tF2 score: 0.905590204959\n",
      "thresh: 0.15 \tF2 score: 0.915810485909\n",
      "thresh: 0.2 \tF2 score: 0.920296971336\n",
      "thresh: 0.25 \tF2 score: 0.920828006783\n",
      "thresh: 0.3 \tF2 score: 0.920129832671\n",
      "thresh: 0.35 \tF2 score: 0.914566275125\n"
     ]
    }
   ],
   "source": [
    "y_pred = model.predict(x_val,batch_size=16)\n",
    "for thresh in [0.05,0.1,0.15,0.2,0.25,0.3,0.35]:\n",
    "    print(\"thresh:\",thresh,\"\\tF2 score:\",fbeta_score(y_val, np.array(y_pred)>thresh, beta=2, average='samples'))"
   ]
  },
  {
   "cell_type": "code",
   "execution_count": 38,
   "metadata": {
    "collapsed": false,
    "scrolled": true
   },
   "outputs": [
    {
     "name": "stdout",
     "output_type": "stream",
     "text": [
      "Epoch 11/15\n",
      "563/562 [==============================] - 699s - loss: 0.0941 - acc: 0.9644 - val_loss: 0.0908 - val_acc: 0.9659\n",
      "Epoch 12/15\n",
      "563/562 [==============================] - 700s - loss: 0.0938 - acc: 0.9646 - val_loss: 0.0891 - val_acc: 0.9668\n",
      "Epoch 13/15\n",
      "563/562 [==============================] - 698s - loss: 0.0923 - acc: 0.9651 - val_loss: 0.0921 - val_acc: 0.9650\n",
      "Epoch 14/15\n",
      "563/562 [==============================] - 699s - loss: 0.0909 - acc: 0.9656 - val_loss: 0.0894 - val_acc: 0.9655\n",
      "Epoch 15/15\n",
      "563/562 [==============================] - 699s - loss: 0.0896 - acc: 0.9660 - val_loss: 0.0896 - val_acc: 0.9651\n"
     ]
    },
    {
     "data": {
      "text/plain": [
       "<keras.callbacks.History at 0x7f01479aa4a8>"
      ]
     },
     "execution_count": 38,
     "metadata": {},
     "output_type": "execute_result"
    }
   ],
   "source": [
    "model.fit_generator(datagen1.flow(x_train,y_train, batch_size = 64), validation_data=(x_val, y_val),\n",
    "                  epochs=15, steps_per_epoch=x_train.shape[0]/ 64, callbacks=callbacks,initial_epoch=10\n",
    "                  )"
   ]
  },
  {
   "cell_type": "code",
   "execution_count": 39,
   "metadata": {
    "collapsed": false,
    "scrolled": true
   },
   "outputs": [
    {
     "ename": "NameError",
     "evalue": "name 'y_val_w' is not defined",
     "output_type": "error",
     "traceback": [
      "\u001b[1;31m---------------------------------------------------------------------------\u001b[0m",
      "\u001b[1;31mNameError\u001b[0m                                 Traceback (most recent call last)",
      "\u001b[1;32m<ipython-input-39-d77cd83d8350>\u001b[0m in \u001b[0;36m<module>\u001b[1;34m()\u001b[0m\n\u001b[0;32m      1\u001b[0m \u001b[0my_pred\u001b[0m \u001b[1;33m=\u001b[0m \u001b[0mmodel\u001b[0m\u001b[1;33m.\u001b[0m\u001b[0mpredict\u001b[0m\u001b[1;33m(\u001b[0m\u001b[0mx_val\u001b[0m\u001b[1;33m,\u001b[0m\u001b[0mbatch_size\u001b[0m\u001b[1;33m=\u001b[0m\u001b[1;36m16\u001b[0m\u001b[1;33m)\u001b[0m\u001b[1;33m\u001b[0m\u001b[0m\n\u001b[0;32m      2\u001b[0m \u001b[1;32mfor\u001b[0m \u001b[0mthresh\u001b[0m \u001b[1;32min\u001b[0m \u001b[1;33m[\u001b[0m\u001b[1;36m0.05\u001b[0m\u001b[1;33m,\u001b[0m\u001b[1;36m0.1\u001b[0m\u001b[1;33m,\u001b[0m\u001b[1;36m0.15\u001b[0m\u001b[1;33m,\u001b[0m\u001b[1;36m0.2\u001b[0m\u001b[1;33m,\u001b[0m\u001b[1;36m0.25\u001b[0m\u001b[1;33m,\u001b[0m\u001b[1;36m0.3\u001b[0m\u001b[1;33m,\u001b[0m\u001b[1;36m0.35\u001b[0m\u001b[1;33m]\u001b[0m\u001b[1;33m:\u001b[0m\u001b[1;33m\u001b[0m\u001b[0m\n\u001b[1;32m----> 3\u001b[1;33m     \u001b[0mprint\u001b[0m\u001b[1;33m(\u001b[0m\u001b[1;34m\"thresh:\"\u001b[0m\u001b[1;33m,\u001b[0m\u001b[0mthresh\u001b[0m\u001b[1;33m,\u001b[0m\u001b[1;34m\"\\tF2 score:\"\u001b[0m\u001b[1;33m,\u001b[0m\u001b[0mfbeta_score\u001b[0m\u001b[1;33m(\u001b[0m\u001b[0my_val_w\u001b[0m\u001b[1;33m,\u001b[0m \u001b[0mnp\u001b[0m\u001b[1;33m.\u001b[0m\u001b[0marray\u001b[0m\u001b[1;33m(\u001b[0m\u001b[0my_pred\u001b[0m\u001b[1;33m)\u001b[0m\u001b[1;33m>\u001b[0m\u001b[0mthresh\u001b[0m\u001b[1;33m,\u001b[0m \u001b[0mbeta\u001b[0m\u001b[1;33m=\u001b[0m\u001b[1;36m2\u001b[0m\u001b[1;33m,\u001b[0m \u001b[0maverage\u001b[0m\u001b[1;33m=\u001b[0m\u001b[1;34m'samples'\u001b[0m\u001b[1;33m)\u001b[0m\u001b[1;33m)\u001b[0m\u001b[1;33m\u001b[0m\u001b[0m\n\u001b[0m",
      "\u001b[1;31mNameError\u001b[0m: name 'y_val_w' is not defined"
     ]
    }
   ],
   "source": [
    "y_pred = model.predict(x_val,batch_size=16)\n"
   ]
  },
  {
   "cell_type": "code",
   "execution_count": 40,
   "metadata": {
    "collapsed": false
   },
   "outputs": [
    {
     "name": "stdout",
     "output_type": "stream",
     "text": [
      "thresh: 0.05 \tF2 score: 0.895501299997\n",
      "thresh: 0.1 \tF2 score: 0.913870185048\n",
      "thresh: 0.15 \tF2 score: 0.920357930064\n",
      "thresh: 0.2 \tF2 score: 0.92292332587\n",
      "thresh: 0.25 \tF2 score: 0.922960735659\n",
      "thresh: 0.3 \tF2 score: 0.921214164823\n",
      "thresh: 0.35 \tF2 score: 0.91726728678\n"
     ]
    }
   ],
   "source": [
    "for thresh in [0.05,0.1,0.15,0.2,0.25,0.3,0.35]:\n",
    "    print(\"thresh:\",thresh,\"\\tF2 score:\",fbeta_score(y_val, np.array(y_pred)>thresh, beta=2, average='samples'))"
   ]
  },
  {
   "cell_type": "code",
   "execution_count": 41,
   "metadata": {
    "collapsed": false,
    "scrolled": true
   },
   "outputs": [
    {
     "name": "stdout",
     "output_type": "stream",
     "text": [
      "Epoch 16/20\n",
      "563/562 [==============================] - 699s - loss: 0.0882 - acc: 0.9666 - val_loss: 0.0886 - val_acc: 0.9664\n",
      "Epoch 17/20\n",
      "563/562 [==============================] - 698s - loss: 0.0883 - acc: 0.9665 - val_loss: 0.0909 - val_acc: 0.9655\n",
      "Epoch 18/20\n",
      "563/562 [==============================] - 699s - loss: 0.0865 - acc: 0.9670 - val_loss: 0.0924 - val_acc: 0.9649\n",
      "Epoch 19/20\n",
      "563/562 [==============================] - 702s - loss: 0.0849 - acc: 0.9676 - val_loss: 0.0900 - val_acc: 0.9655\n",
      "Epoch 20/20\n",
      "563/562 [==============================] - 704s - loss: 0.0841 - acc: 0.9682 - val_loss: 0.0932 - val_acc: 0.9653\n"
     ]
    },
    {
     "data": {
      "text/plain": [
       "<keras.callbacks.History at 0x7f01248f9438>"
      ]
     },
     "execution_count": 41,
     "metadata": {},
     "output_type": "execute_result"
    }
   ],
   "source": [
    "model.fit_generator(datagen1.flow(x_train,y_train, batch_size = 64), validation_data=(x_val, y_val),\n",
    "                  epochs=20, steps_per_epoch=x_train.shape[0]/ 64, callbacks=callbacks,initial_epoch=15\n",
    "                  )"
   ]
  },
  {
   "cell_type": "code",
   "execution_count": 42,
   "metadata": {
    "collapsed": false,
    "scrolled": true
   },
   "outputs": [
    {
     "name": "stdout",
     "output_type": "stream",
     "text": [
      "thresh: 0.05 \tF2 score: 0.901041947935\n",
      "thresh: 0.1 \tF2 score: 0.913054439367\n",
      "thresh: 0.15 \tF2 score: 0.917572305411\n",
      "thresh: 0.2 \tF2 score: 0.919269592649\n",
      "thresh: 0.25 \tF2 score: 0.918651024012\n",
      "thresh: 0.3 \tF2 score: 0.917730770771\n",
      "thresh: 0.35 \tF2 score: 0.915255506917\n"
     ]
    }
   ],
   "source": [
    "y_pred = model.predict(x_val,batch_size=16)\n",
    "for thresh in [0.05,0.1,0.15,0.2,0.25,0.3,0.35]:\n",
    "    print(\"thresh:\",thresh,\"\\tF2 score:\",fbeta_score(y_val, np.array(y_pred)>thresh, beta=2, average='samples'))"
   ]
  },
  {
   "cell_type": "code",
   "execution_count": 57,
   "metadata": {
    "collapsed": false
   },
   "outputs": [],
   "source": [
    "base_model = InceptionV3(weights='imagenet', include_top=False)\n",
    "\n",
    "# add a global spatial average pooling layer\n",
    "x = base_model.output\n",
    "x = GlobalAveragePooling2D()(x)\n",
    "x = Dropout(0.5)(x)\n",
    "x = Dense(1024)(x)\n",
    "x = BatchNormalization()(x)\n",
    "x = Activation('relu')(x)\n",
    "x = Dropout(0.5)(x)\n",
    "predictions = Dense(17, activation='sigmoid')(x)\n",
    "\n",
    "# this is the model we will train\n",
    "model = Model(inputs=base_model.input, outputs=predictions)\n",
    "\n",
    "# first: train only the top layers (which were randomly initialized)\n",
    "# i.e. freeze all convolutional InceptionV3 layers\n",
    "for layer in base_model.layers:\n",
    "    layer.trainable = True\n",
    "    \n",
    "model.load_weights('inc_weights_2.15-0.09.hdf5')"
   ]
  },
  {
   "cell_type": "code",
   "execution_count": 58,
   "metadata": {
    "collapsed": false
   },
   "outputs": [
    {
     "name": "stdout",
     "output_type": "stream",
     "text": [
      "thresh: 0.05 \tF2 score: 0.898413025855\n",
      "thresh: 0.1 \tF2 score: 0.914924595428\n",
      "thresh: 0.15 \tF2 score: 0.920018977986\n",
      "thresh: 0.2 \tF2 score: 0.92172635772\n",
      "thresh: 0.25 \tF2 score: 0.921200496649\n",
      "thresh: 0.3 \tF2 score: 0.918887740825\n",
      "thresh: 0.35 \tF2 score: 0.917874984399\n"
     ]
    }
   ],
   "source": [
    "y_pred = model.predict(x_val,batch_size=16)\n",
    "for thresh in [0.05,0.1,0.15,0.2,0.25,0.3,0.35]:\n",
    "    print(\"thresh:\",thresh,\"\\tF2 score:\",fbeta_score(y_val, np.array(y_pred)>thresh, beta=2, average='samples'))"
   ]
  },
  {
   "cell_type": "code",
   "execution_count": 60,
   "metadata": {
    "collapsed": false
   },
   "outputs": [
    {
     "name": "stdout",
     "output_type": "stream",
     "text": [
      "Epoch 21/21\n",
      "563/562 [==============================] - 710s - loss: 0.0837 - acc: 0.9681 - val_loss: 0.0890 - val_acc: 0.9656\n"
     ]
    },
    {
     "data": {
      "text/plain": [
       "<keras.callbacks.History at 0x7f00d520f240>"
      ]
     },
     "execution_count": 60,
     "metadata": {},
     "output_type": "execute_result"
    }
   ],
   "source": [
    "model.compile(loss='binary_crossentropy', \n",
    "              optimizer=Adam(lr=0.00005),\n",
    "              metrics=['accuracy'])\n",
    "\n",
    "model.fit_generator(datagen1.flow(x_train,y_train, batch_size = 64), validation_data=(x_val, y_val),\n",
    "                  epochs=21, steps_per_epoch=x_train.shape[0]/ 64, callbacks=callbacks,initial_epoch=20\n",
    "                  )"
   ]
  },
  {
   "cell_type": "code",
   "execution_count": 61,
   "metadata": {
    "collapsed": false
   },
   "outputs": [
    {
     "name": "stdout",
     "output_type": "stream",
     "text": [
      "thresh: 0.05 \tF2 score: 0.901033220695\n",
      "thresh: 0.1 \tF2 score: 0.915732459627\n",
      "thresh: 0.15 \tF2 score: 0.921695326799\n",
      "thresh: 0.2 \tF2 score: 0.92353546239\n",
      "thresh: 0.25 \tF2 score: 0.922672385039\n",
      "thresh: 0.3 \tF2 score: 0.920683995537\n",
      "thresh: 0.35 \tF2 score: 0.916658735851\n"
     ]
    }
   ],
   "source": [
    "y_pred = model.predict(x_val,batch_size=16)\n",
    "for thresh in [0.05,0.1,0.15,0.2,0.25,0.3,0.35]:\n",
    "    print(\"thresh:\",thresh,\"\\tF2 score:\",fbeta_score(y_val, np.array(y_pred)>thresh, beta=2, average='samples'))"
   ]
  },
  {
   "cell_type": "code",
   "execution_count": 62,
   "metadata": {
    "collapsed": false
   },
   "outputs": [
    {
     "name": "stdout",
     "output_type": "stream",
     "text": [
      "Epoch 22/25\n",
      "563/562 [==============================] - 704s - loss: 0.0821 - acc: 0.9689 - val_loss: 0.0905 - val_acc: 0.9654\n",
      "Epoch 23/25\n",
      "563/562 [==============================] - 702s - loss: 0.0801 - acc: 0.9695 - val_loss: 0.0899 - val_acc: 0.9662\n",
      "Epoch 24/25\n",
      "563/562 [==============================] - 701s - loss: 0.0787 - acc: 0.9699 - val_loss: 0.0911 - val_acc: 0.9659\n",
      "Epoch 25/25\n",
      "563/562 [==============================] - 699s - loss: 0.0779 - acc: 0.9700 - val_loss: 0.0924 - val_acc: 0.9653\n"
     ]
    },
    {
     "data": {
      "text/plain": [
       "<keras.callbacks.History at 0x7f00cfc08128>"
      ]
     },
     "execution_count": 62,
     "metadata": {},
     "output_type": "execute_result"
    }
   ],
   "source": [
    "model.save_weights('inc_weights_2.20-0.09.hdf5')\n",
    "model.fit_generator(datagen1.flow(x_train,y_train, batch_size = 64), validation_data=(x_val, y_val),\n",
    "                  epochs=25, steps_per_epoch=x_train.shape[0]/ 64, callbacks=callbacks,initial_epoch=21\n",
    "                  )"
   ]
  },
  {
   "cell_type": "code",
   "execution_count": 63,
   "metadata": {
    "collapsed": false,
    "scrolled": true
   },
   "outputs": [
    {
     "name": "stdout",
     "output_type": "stream",
     "text": [
      "thresh: 0.05 \tF2 score: 0.903340179116\n",
      "thresh: 0.1 \tF2 score: 0.915208858888\n",
      "thresh: 0.15 \tF2 score: 0.920071334831\n",
      "thresh: 0.2 \tF2 score: 0.920699965052\n",
      "thresh: 0.25 \tF2 score: 0.919560859574\n",
      "thresh: 0.3 \tF2 score: 0.916977289297\n",
      "thresh: 0.35 \tF2 score: 0.915211930744\n"
     ]
    }
   ],
   "source": [
    "y_pred = model.predict(x_val,batch_size=16)\n",
    "for thresh in [0.05,0.1,0.15,0.2,0.25,0.3,0.35]:\n",
    "    print(\"thresh:\",thresh,\"\\tF2 score:\",fbeta_score(y_val, np.array(y_pred)>thresh, beta=2, average='samples'))"
   ]
  },
  {
   "cell_type": "code",
   "execution_count": 64,
   "metadata": {
    "collapsed": false
   },
   "outputs": [
    {
     "name": "stdout",
     "output_type": "stream",
     "text": [
      "thresh: 0.05 \tF2 score: 0.901033220695\n",
      "thresh: 0.1 \tF2 score: 0.915732459627\n",
      "thresh: 0.15 \tF2 score: 0.921695326799\n",
      "thresh: 0.2 \tF2 score: 0.92353546239\n",
      "thresh: 0.25 \tF2 score: 0.922672385039\n",
      "thresh: 0.3 \tF2 score: 0.920683995537\n",
      "thresh: 0.35 \tF2 score: 0.916658735851\n"
     ]
    }
   ],
   "source": [
    "model.load_weights('inc_weights_2.20-0.09.hdf5')\n",
    "y_pred = model.predict(x_val,batch_size=16)\n",
    "for thresh in [0.05,0.1,0.15,0.2,0.25,0.3,0.35]:\n",
    "    print(\"thresh:\",thresh,\"\\tF2 score:\",fbeta_score(y_val, np.array(y_pred)>thresh, beta=2, average='samples'))"
   ]
  },
  {
   "cell_type": "code",
   "execution_count": 65,
   "metadata": {
    "collapsed": false
   },
   "outputs": [
    {
     "name": "stdout",
     "output_type": "stream",
     "text": [
      "0 0.23 0.923549416398\n",
      "1 0.32 0.923910625328\n",
      "2 0.57 0.923977767663\n",
      "3 0.36 0.924250140772\n",
      "4 0.49 0.924269671023\n",
      "5 0.25 0.924313156\n",
      "6 0.16 0.924358340405\n",
      "7 0.32 0.924744496042\n",
      "8 0.21 0.924828213775\n",
      "9 0.17 0.92493470304\n",
      "10 0.19 0.924996207985\n",
      "11 0.18 0.925107626486\n",
      "12 0.15 0.925306856072\n",
      "13 0.33 0.925599478955\n",
      "14 0.04 0.926986167868\n",
      "15 0.2 0.926986167868\n",
      "16 0.16 0.927050533219\n"
     ]
    },
    {
     "name": "stderr",
     "output_type": "stream",
     "text": [
      "/home/cs231n/myVE35/lib/python3.5/site-packages/sklearn/metrics/classification.py:1113: UndefinedMetricWarning: F-score is ill-defined and being set to 0.0 in samples with no predicted labels.\n",
      "  'precision', 'predicted', average, warn_for)\n"
     ]
    }
   ],
   "source": [
    "thresh_2_val = optimise_f2_thresholds([0.2]*17,y_val,y_pred)"
   ]
  },
  {
   "cell_type": "code",
   "execution_count": 66,
   "metadata": {
    "collapsed": false
   },
   "outputs": [
    {
     "name": "stdout",
     "output_type": "stream",
     "text": [
      "0 0.23 0.927050533219\n",
      "1 0.32 0.927050533219\n",
      "2 0.57 0.927050533219\n",
      "3 0.36 0.927050533219\n",
      "4 0.49 0.927050533219\n",
      "5 0.25 0.927050533219\n",
      "6 0.16 0.927050533219\n",
      "7 0.32 0.927050533219\n",
      "8 0.21 0.927050533219\n",
      "9 0.17 0.927050533219\n",
      "10 0.19 0.927050533219\n",
      "11 0.16 0.927056085924\n",
      "12 0.15 0.927056085924\n",
      "13 0.33 0.927056085924\n",
      "14 0.04 0.927056085924\n",
      "15 0.2 0.927056085924\n",
      "16 0.16 0.927056085924\n"
     ]
    },
    {
     "name": "stderr",
     "output_type": "stream",
     "text": [
      "/home/cs231n/myVE35/lib/python3.5/site-packages/sklearn/metrics/classification.py:1113: UndefinedMetricWarning: F-score is ill-defined and being set to 0.0 in samples with no predicted labels.\n",
      "  'precision', 'predicted', average, warn_for)\n"
     ]
    }
   ],
   "source": [
    "thresh_2_val = optimise_f2_thresholds(thresh_2_val,y_val,y_pred)"
   ]
  },
  {
   "cell_type": "code",
   "execution_count": 67,
   "metadata": {
    "collapsed": false
   },
   "outputs": [
    {
     "data": {
      "text/html": [
       "<div>\n",
       "<table border=\"1\" class=\"dataframe\">\n",
       "  <thead>\n",
       "    <tr style=\"text-align: right;\">\n",
       "      <th></th>\n",
       "      <th>FN</th>\n",
       "      <th>FP</th>\n",
       "      <th>TN</th>\n",
       "      <th>TP</th>\n",
       "      <th>Total</th>\n",
       "    </tr>\n",
       "  </thead>\n",
       "  <tbody>\n",
       "    <tr>\n",
       "      <th>blow_down</th>\n",
       "      <td>10</td>\n",
       "      <td>6</td>\n",
       "      <td>4459</td>\n",
       "      <td>4</td>\n",
       "      <td>14</td>\n",
       "    </tr>\n",
       "    <tr>\n",
       "      <th>bare_ground</th>\n",
       "      <td>52</td>\n",
       "      <td>94</td>\n",
       "      <td>4278</td>\n",
       "      <td>55</td>\n",
       "      <td>107</td>\n",
       "    </tr>\n",
       "    <tr>\n",
       "      <th>conventional_mine</th>\n",
       "      <td>2</td>\n",
       "      <td>7</td>\n",
       "      <td>4457</td>\n",
       "      <td>13</td>\n",
       "      <td>15</td>\n",
       "    </tr>\n",
       "    <tr>\n",
       "      <th>blooming</th>\n",
       "      <td>25</td>\n",
       "      <td>16</td>\n",
       "      <td>4424</td>\n",
       "      <td>14</td>\n",
       "      <td>39</td>\n",
       "    </tr>\n",
       "    <tr>\n",
       "      <th>artisinal_mine</th>\n",
       "      <td>4</td>\n",
       "      <td>6</td>\n",
       "      <td>4441</td>\n",
       "      <td>28</td>\n",
       "      <td>32</td>\n",
       "    </tr>\n",
       "    <tr>\n",
       "      <th>selective_logging</th>\n",
       "      <td>22</td>\n",
       "      <td>34</td>\n",
       "      <td>4404</td>\n",
       "      <td>19</td>\n",
       "      <td>41</td>\n",
       "    </tr>\n",
       "    <tr>\n",
       "      <th>slash_burn</th>\n",
       "      <td>22</td>\n",
       "      <td>16</td>\n",
       "      <td>4435</td>\n",
       "      <td>6</td>\n",
       "      <td>28</td>\n",
       "    </tr>\n",
       "    <tr>\n",
       "      <th>cultivation</th>\n",
       "      <td>154</td>\n",
       "      <td>255</td>\n",
       "      <td>3757</td>\n",
       "      <td>313</td>\n",
       "      <td>467</td>\n",
       "    </tr>\n",
       "    <tr>\n",
       "      <th>habitation</th>\n",
       "      <td>59</td>\n",
       "      <td>223</td>\n",
       "      <td>3877</td>\n",
       "      <td>320</td>\n",
       "      <td>379</td>\n",
       "    </tr>\n",
       "    <tr>\n",
       "      <th>road</th>\n",
       "      <td>65</td>\n",
       "      <td>322</td>\n",
       "      <td>3306</td>\n",
       "      <td>786</td>\n",
       "      <td>851</td>\n",
       "    </tr>\n",
       "    <tr>\n",
       "      <th>agriculture</th>\n",
       "      <td>75</td>\n",
       "      <td>479</td>\n",
       "      <td>2691</td>\n",
       "      <td>1234</td>\n",
       "      <td>1309</td>\n",
       "    </tr>\n",
       "    <tr>\n",
       "      <th>water</th>\n",
       "      <td>108</td>\n",
       "      <td>326</td>\n",
       "      <td>3299</td>\n",
       "      <td>746</td>\n",
       "      <td>854</td>\n",
       "    </tr>\n",
       "    <tr>\n",
       "      <th>primary</th>\n",
       "      <td>8</td>\n",
       "      <td>187</td>\n",
       "      <td>181</td>\n",
       "      <td>4103</td>\n",
       "      <td>4111</td>\n",
       "    </tr>\n",
       "    <tr>\n",
       "      <th>partly_cloudy</th>\n",
       "      <td>29</td>\n",
       "      <td>140</td>\n",
       "      <td>3554</td>\n",
       "      <td>756</td>\n",
       "      <td>785</td>\n",
       "    </tr>\n",
       "    <tr>\n",
       "      <th>cloudy</th>\n",
       "      <td>4</td>\n",
       "      <td>159</td>\n",
       "      <td>4068</td>\n",
       "      <td>248</td>\n",
       "      <td>252</td>\n",
       "    </tr>\n",
       "    <tr>\n",
       "      <th>clear</th>\n",
       "      <td>35</td>\n",
       "      <td>169</td>\n",
       "      <td>1146</td>\n",
       "      <td>3129</td>\n",
       "      <td>3164</td>\n",
       "    </tr>\n",
       "    <tr>\n",
       "      <th>haze</th>\n",
       "      <td>38</td>\n",
       "      <td>266</td>\n",
       "      <td>3935</td>\n",
       "      <td>240</td>\n",
       "      <td>278</td>\n",
       "    </tr>\n",
       "  </tbody>\n",
       "</table>\n",
       "</div>"
      ],
      "text/plain": [
       "                    FN   FP    TN    TP  Total\n",
       "blow_down           10    6  4459     4     14\n",
       "bare_ground         52   94  4278    55    107\n",
       "conventional_mine    2    7  4457    13     15\n",
       "blooming            25   16  4424    14     39\n",
       "artisinal_mine       4    6  4441    28     32\n",
       "selective_logging   22   34  4404    19     41\n",
       "slash_burn          22   16  4435     6     28\n",
       "cultivation        154  255  3757   313    467\n",
       "habitation          59  223  3877   320    379\n",
       "road                65  322  3306   786    851\n",
       "agriculture         75  479  2691  1234   1309\n",
       "water              108  326  3299   746    854\n",
       "primary              8  187   181  4103   4111\n",
       "partly_cloudy       29  140  3554   756    785\n",
       "cloudy               4  159  4068   248    252\n",
       "clear               35  169  1146  3129   3164\n",
       "haze                38  266  3935   240    278"
      ]
     },
     "execution_count": 67,
     "metadata": {},
     "output_type": "execute_result"
    }
   ],
   "source": [
    "total,tp,tn,fp,fn = multilabelmetrics(y_val,np.array(y_pred>np.array(thresh_2_val)))\n",
    "d = {'Total':total,'TP':tp,'TN':tn,'FP':fp,'FN':fn}\n",
    "pd.DataFrame(d, index=labels)"
   ]
  },
  {
   "cell_type": "code",
   "execution_count": 68,
   "metadata": {
    "collapsed": true
   },
   "outputs": [],
   "source": [
    "model.save_weights('inc_weights_2')\n",
    "np.save('inc_train_mean',train_mean)"
   ]
  },
  {
   "cell_type": "code",
   "execution_count": 70,
   "metadata": {
    "collapsed": true
   },
   "outputs": [],
   "source": [
    "model.save('inc_model')"
   ]
  },
  {
   "cell_type": "code",
   "execution_count": 71,
   "metadata": {
    "collapsed": true
   },
   "outputs": [],
   "source": [
    "K.clear_session()"
   ]
  },
  {
   "cell_type": "code",
   "execution_count": 76,
   "metadata": {
    "collapsed": false
   },
   "outputs": [],
   "source": [
    "np.save('thresh_2_val',thresh_2_val)\n",
    "np.save('thresh_1_val',thresh_1_val)"
   ]
  },
  {
   "cell_type": "code",
   "execution_count": 77,
   "metadata": {
    "collapsed": false
   },
   "outputs": [
    {
     "name": "stdout",
     "output_type": "stream",
     "text": [
      "Once deleted, variables cannot be recovered. Proceed (y/[n])? y\n"
     ]
    }
   ],
   "source": [
    "%reset"
   ]
  },
  {
   "cell_type": "code",
   "execution_count": 80,
   "metadata": {
    "collapsed": false,
    "scrolled": true
   },
   "outputs": [
    {
     "name": "stderr",
     "output_type": "stream",
     "text": [
      "100%|██████████| 40479/40479 [07:51<00:00, 85.92it/s]"
     ]
    },
    {
     "name": "stdout",
     "output_type": "stream",
     "text": [
      "(40479, 200, 200, 3)\n",
      "(40479, 17)\n"
     ]
    },
    {
     "name": "stderr",
     "output_type": "stream",
     "text": [
      "\n"
     ]
    }
   ],
   "source": [
    "#F2 score on training set\n",
    "\n",
    "\n",
    "x_val = []\n",
    "x_train = []\n",
    "x_train = np.zeros((40479,200,200,3), np.float32)\n",
    "y_train = []\n",
    "\n",
    "df_train = pd.read_csv('train_v2.csv')\n",
    "\n",
    "labels = ['blow_down',\n",
    " 'bare_ground',\n",
    " 'conventional_mine',\n",
    " 'blooming',\n",
    " 'artisinal_mine',\n",
    " 'selective_logging',         \n",
    " 'slash_burn', \n",
    " 'cultivation',\n",
    " 'habitation',\n",
    " 'road',\n",
    " 'agriculture',\n",
    " 'water',\n",
    " 'primary',\n",
    " 'partly_cloudy', \n",
    " 'cloudy',\n",
    " 'clear',\n",
    " 'haze',]\n",
    "\n",
    "label_map = {l: i for i, l in enumerate(labels)}\n",
    "inv_label_map = {i: l for l, i in label_map.items()}\n",
    "\n",
    "i=0\n",
    "\n",
    "for f, tags in tqdm(df_train.values[:40479], miniters=1000):    \n",
    "    img = cv2.imread('train-jpg/{}.jpg'.format(f))\n",
    "    targets = np.zeros(17)\n",
    "    for t in tags.split(' '):\n",
    "        targets[label_map[t]] = 1 \n",
    "    x_train[i,:,:,:] = np.array(cv2.resize(img, (200, 200)),np.float32)/255.#139 minimum size for inception\n",
    "    i+=1\n",
    "    y_train.append(targets)\n",
    "\n",
    "y_train = np.array(y_train, np.uint8)\n",
    "\n",
    "print(x_train.shape)\n",
    "print(y_train.shape)"
   ]
  },
  {
   "cell_type": "code",
   "execution_count": 81,
   "metadata": {
    "collapsed": false,
    "scrolled": true
   },
   "outputs": [],
   "source": [
    "train_mean = np.load('inc_train_mean.npy')\n",
    "thresh_1_val = np.load('thresh_1_val.npy')\n",
    "thresh_2_val = np.load('thresh_2_val.npy')\n",
    "x_train -= train_mean"
   ]
  },
  {
   "cell_type": "code",
   "execution_count": 82,
   "metadata": {
    "collapsed": true
   },
   "outputs": [],
   "source": [
    "from keras.models import load_model\n",
    "model = load_model('inc_model')\n",
    "model.load_weights('inc_weights_1')"
   ]
  },
  {
   "cell_type": "code",
   "execution_count": 83,
   "metadata": {
    "collapsed": false,
    "scrolled": true
   },
   "outputs": [],
   "source": [
    "y_pred = model.predict(x_train,batch_size=128)"
   ]
  },
  {
   "cell_type": "code",
   "execution_count": 84,
   "metadata": {
    "collapsed": false
   },
   "outputs": [
    {
     "name": "stdout",
     "output_type": "stream",
     "text": [
      "thresh: 0.05 \tF2 score: 0.908883556969\n",
      "thresh: 0.1 \tF2 score: 0.926870720572\n",
      "thresh: 0.15 \tF2 score: 0.932795624168\n",
      "thresh: 0.2 \tF2 score: 0.934768147342\n",
      "thresh: 0.25 \tF2 score: 0.934201197186\n",
      "thresh: 0.3 \tF2 score: 0.931977226576\n",
      "thresh: 0.35 \tF2 score: 0.928789929143\n"
     ]
    },
    {
     "name": "stderr",
     "output_type": "stream",
     "text": [
      "/home/cs231n/myVE35/lib/python3.5/site-packages/sklearn/metrics/classification.py:1113: UndefinedMetricWarning: F-score is ill-defined and being set to 0.0 in samples with no predicted labels.\n",
      "  'precision', 'predicted', average, warn_for)\n"
     ]
    }
   ],
   "source": [
    "for thresh in [0.05,0.1,0.15,0.2,0.25,0.3,0.35]:\n",
    "    print(\"thresh:\",thresh,\"\\tF2 score:\",fbeta_score(y_train, np.array(y_pred)>thresh, beta=2, average='samples'))"
   ]
  },
  {
   "cell_type": "code",
   "execution_count": 85,
   "metadata": {
    "collapsed": true
   },
   "outputs": [],
   "source": [
    "def optimise_f2_thresholds(x_init, y, p, num_classes=17, verbose=True, resolution=100):\n",
    "  def mf(x):\n",
    "    p2 = np.zeros_like(p)\n",
    "    for i in range(num_classes):\n",
    "      p2[:, i] = (p[:, i] > x[i]).astype(np.int)\n",
    "    score = fbeta_score(y, p2, beta=2, average='samples')\n",
    "    return score\n",
    "\n",
    "  x = list(x_init)\n",
    "  for i in range(num_classes):\n",
    "    best_i2 = 0\n",
    "    best_score = 0\n",
    "    for i2 in range(resolution):\n",
    "      i2 /= resolution\n",
    "      x[i] = i2\n",
    "      score = mf(x)\n",
    "      if score > best_score:\n",
    "        best_i2 = i2\n",
    "        best_score = score\n",
    "    x[i] = best_i2\n",
    "    if verbose:\n",
    "      print(i, best_i2, best_score)\n",
    "\n",
    "  return x"
   ]
  },
  {
   "cell_type": "code",
   "execution_count": 86,
   "metadata": {
    "collapsed": false
   },
   "outputs": [
    {
     "name": "stdout",
     "output_type": "stream",
     "text": [
      "0 0.08 0.934796809864\n",
      "1 0.13 0.934924463979\n",
      "2 0.06 0.934946239251\n",
      "3 0.23 0.934994882101\n",
      "4 0.25 0.935006227422\n",
      "5 0.33 0.935151719074\n",
      "6 0.11 0.935197988199\n",
      "7 0.27 0.935400739995\n",
      "8 0.25 0.935424750667\n",
      "9 0.24 0.935548874133\n",
      "10 0.2 0.935548874133\n",
      "11 0.23 0.93558877266\n",
      "12 0.14 0.935792282161\n",
      "13 0.11 0.935850650531\n",
      "14 0.17 0.935901812568\n",
      "15 0.23 0.936031475652\n",
      "16 0.18 0.936067226427\n"
     ]
    },
    {
     "name": "stderr",
     "output_type": "stream",
     "text": [
      "/home/cs231n/myVE35/lib/python3.5/site-packages/sklearn/metrics/classification.py:1113: UndefinedMetricWarning: F-score is ill-defined and being set to 0.0 in samples with no predicted labels.\n",
      "  'precision', 'predicted', average, warn_for)\n"
     ]
    }
   ],
   "source": [
    "thresh_1_train = optimise_f2_thresholds([0.2]*17,y_train,y_pred)"
   ]
  },
  {
   "cell_type": "code",
   "execution_count": 87,
   "metadata": {
    "collapsed": false
   },
   "outputs": [
    {
     "name": "stdout",
     "output_type": "stream",
     "text": [
      "0 0.08 0.936067226427\n",
      "1 0.13 0.936067226427\n",
      "2 0.06 0.936067226427\n",
      "3 0.23 0.936067226427\n",
      "4 0.25 0.936067226427\n",
      "5 0.33 0.936067226427\n",
      "6 0.11 0.936067226427\n",
      "7 0.27 0.936067226427\n",
      "8 0.25 0.936067226427\n",
      "9 0.24 0.936067226427\n",
      "10 0.2 0.936067226427\n",
      "11 0.23 0.936067226427\n",
      "12 0.14 0.936067226427\n",
      "13 0.11 0.936067226427\n",
      "14 0.17 0.936067226427\n",
      "15 0.23 0.936067226427\n",
      "16 0.18 0.936067226427\n"
     ]
    },
    {
     "name": "stderr",
     "output_type": "stream",
     "text": [
      "/home/cs231n/myVE35/lib/python3.5/site-packages/sklearn/metrics/classification.py:1113: UndefinedMetricWarning: F-score is ill-defined and being set to 0.0 in samples with no predicted labels.\n",
      "  'precision', 'predicted', average, warn_for)\n"
     ]
    }
   ],
   "source": [
    "thresh_1_train = optimise_f2_thresholds(thresh_1_train,y_train,y_pred)"
   ]
  },
  {
   "cell_type": "code",
   "execution_count": 90,
   "metadata": {
    "collapsed": false
   },
   "outputs": [
    {
     "data": {
      "text/html": [
       "<div>\n",
       "<table border=\"1\" class=\"dataframe\">\n",
       "  <thead>\n",
       "    <tr style=\"text-align: right;\">\n",
       "      <th></th>\n",
       "      <th>FN</th>\n",
       "      <th>FP</th>\n",
       "      <th>TN</th>\n",
       "      <th>TP</th>\n",
       "      <th>Total</th>\n",
       "    </tr>\n",
       "  </thead>\n",
       "  <tbody>\n",
       "    <tr>\n",
       "      <th>blow_down</th>\n",
       "      <td>50</td>\n",
       "      <td>76</td>\n",
       "      <td>40305</td>\n",
       "      <td>48</td>\n",
       "      <td>98</td>\n",
       "    </tr>\n",
       "    <tr>\n",
       "      <th>bare_ground</th>\n",
       "      <td>430</td>\n",
       "      <td>711</td>\n",
       "      <td>38906</td>\n",
       "      <td>432</td>\n",
       "      <td>862</td>\n",
       "    </tr>\n",
       "    <tr>\n",
       "      <th>conventional_mine</th>\n",
       "      <td>32</td>\n",
       "      <td>51</td>\n",
       "      <td>40328</td>\n",
       "      <td>68</td>\n",
       "      <td>100</td>\n",
       "    </tr>\n",
       "    <tr>\n",
       "      <th>blooming</th>\n",
       "      <td>231</td>\n",
       "      <td>171</td>\n",
       "      <td>39976</td>\n",
       "      <td>101</td>\n",
       "      <td>332</td>\n",
       "    </tr>\n",
       "    <tr>\n",
       "      <th>artisinal_mine</th>\n",
       "      <td>29</td>\n",
       "      <td>97</td>\n",
       "      <td>40043</td>\n",
       "      <td>310</td>\n",
       "      <td>339</td>\n",
       "    </tr>\n",
       "    <tr>\n",
       "      <th>selective_logging</th>\n",
       "      <td>150</td>\n",
       "      <td>219</td>\n",
       "      <td>39920</td>\n",
       "      <td>190</td>\n",
       "      <td>340</td>\n",
       "    </tr>\n",
       "    <tr>\n",
       "      <th>slash_burn</th>\n",
       "      <td>150</td>\n",
       "      <td>146</td>\n",
       "      <td>40124</td>\n",
       "      <td>59</td>\n",
       "      <td>209</td>\n",
       "    </tr>\n",
       "    <tr>\n",
       "      <th>cultivation</th>\n",
       "      <td>1213</td>\n",
       "      <td>2786</td>\n",
       "      <td>33216</td>\n",
       "      <td>3264</td>\n",
       "      <td>4477</td>\n",
       "    </tr>\n",
       "    <tr>\n",
       "      <th>habitation</th>\n",
       "      <td>679</td>\n",
       "      <td>1331</td>\n",
       "      <td>35488</td>\n",
       "      <td>2981</td>\n",
       "      <td>3660</td>\n",
       "    </tr>\n",
       "    <tr>\n",
       "      <th>road</th>\n",
       "      <td>671</td>\n",
       "      <td>2319</td>\n",
       "      <td>30089</td>\n",
       "      <td>7400</td>\n",
       "      <td>8071</td>\n",
       "    </tr>\n",
       "    <tr>\n",
       "      <th>agriculture</th>\n",
       "      <td>665</td>\n",
       "      <td>3557</td>\n",
       "      <td>24607</td>\n",
       "      <td>11650</td>\n",
       "      <td>12315</td>\n",
       "    </tr>\n",
       "    <tr>\n",
       "      <th>water</th>\n",
       "      <td>909</td>\n",
       "      <td>2393</td>\n",
       "      <td>30675</td>\n",
       "      <td>6502</td>\n",
       "      <td>7411</td>\n",
       "    </tr>\n",
       "    <tr>\n",
       "      <th>primary</th>\n",
       "      <td>154</td>\n",
       "      <td>1154</td>\n",
       "      <td>1812</td>\n",
       "      <td>37359</td>\n",
       "      <td>37513</td>\n",
       "    </tr>\n",
       "    <tr>\n",
       "      <th>partly_cloudy</th>\n",
       "      <td>158</td>\n",
       "      <td>929</td>\n",
       "      <td>32289</td>\n",
       "      <td>7103</td>\n",
       "      <td>7261</td>\n",
       "    </tr>\n",
       "    <tr>\n",
       "      <th>cloudy</th>\n",
       "      <td>30</td>\n",
       "      <td>1114</td>\n",
       "      <td>37276</td>\n",
       "      <td>2059</td>\n",
       "      <td>2089</td>\n",
       "    </tr>\n",
       "    <tr>\n",
       "      <th>clear</th>\n",
       "      <td>166</td>\n",
       "      <td>1917</td>\n",
       "      <td>10131</td>\n",
       "      <td>28265</td>\n",
       "      <td>28431</td>\n",
       "    </tr>\n",
       "    <tr>\n",
       "      <th>haze</th>\n",
       "      <td>349</td>\n",
       "      <td>1515</td>\n",
       "      <td>36267</td>\n",
       "      <td>2348</td>\n",
       "      <td>2697</td>\n",
       "    </tr>\n",
       "  </tbody>\n",
       "</table>\n",
       "</div>"
      ],
      "text/plain": [
       "                     FN    FP     TN     TP  Total\n",
       "blow_down            50    76  40305     48     98\n",
       "bare_ground         430   711  38906    432    862\n",
       "conventional_mine    32    51  40328     68    100\n",
       "blooming            231   171  39976    101    332\n",
       "artisinal_mine       29    97  40043    310    339\n",
       "selective_logging   150   219  39920    190    340\n",
       "slash_burn          150   146  40124     59    209\n",
       "cultivation        1213  2786  33216   3264   4477\n",
       "habitation          679  1331  35488   2981   3660\n",
       "road                671  2319  30089   7400   8071\n",
       "agriculture         665  3557  24607  11650  12315\n",
       "water               909  2393  30675   6502   7411\n",
       "primary             154  1154   1812  37359  37513\n",
       "partly_cloudy       158   929  32289   7103   7261\n",
       "cloudy               30  1114  37276   2059   2089\n",
       "clear               166  1917  10131  28265  28431\n",
       "haze                349  1515  36267   2348   2697"
      ]
     },
     "execution_count": 90,
     "metadata": {},
     "output_type": "execute_result"
    }
   ],
   "source": [
    "total,tp,tn,fp,fn = multilabelmetrics(y_train,np.array(y_pred>np.array(thresh_1_train)))\n",
    "d = {'Total':total,'TP':tp,'TN':tn,'FP':fp,'FN':fn}\n",
    "pd.DataFrame(d, index=labels)"
   ]
  },
  {
   "cell_type": "code",
   "execution_count": 91,
   "metadata": {
    "collapsed": true
   },
   "outputs": [],
   "source": [
    "np.save('thresh_1_train',thresh_1_train)"
   ]
  },
  {
   "cell_type": "code",
   "execution_count": 92,
   "metadata": {
    "collapsed": true
   },
   "outputs": [],
   "source": [
    "model.load_weights('inc_weights_2')"
   ]
  },
  {
   "cell_type": "code",
   "execution_count": 93,
   "metadata": {
    "collapsed": true
   },
   "outputs": [],
   "source": [
    "y_pred = model.predict(x_train,batch_size=128)"
   ]
  },
  {
   "cell_type": "code",
   "execution_count": 94,
   "metadata": {
    "collapsed": false
   },
   "outputs": [
    {
     "name": "stdout",
     "output_type": "stream",
     "text": [
      "thresh: 0.05 \tF2 score: 0.913437259177\n",
      "thresh: 0.1 \tF2 score: 0.930891371088\n",
      "thresh: 0.15 \tF2 score: 0.93769219526\n",
      "thresh: 0.2 \tF2 score: 0.940144972476\n",
      "thresh: 0.25 \tF2 score: 0.940142050986\n",
      "thresh: 0.3 \tF2 score: 0.938630106111\n",
      "thresh: 0.35 \tF2 score: 0.935727927362\n"
     ]
    }
   ],
   "source": [
    "for thresh in [0.05,0.1,0.15,0.2,0.25,0.3,0.35]:\n",
    "    print(\"thresh:\",thresh,\"\\tF2 score:\",fbeta_score(y_train, np.array(y_pred)>thresh, beta=2, average='samples'))"
   ]
  },
  {
   "cell_type": "code",
   "execution_count": 95,
   "metadata": {
    "collapsed": false
   },
   "outputs": [
    {
     "name": "stdout",
     "output_type": "stream",
     "text": [
      "0 0.18 0.940150692316\n",
      "1 0.29 0.940345332275\n",
      "2 0.47 0.940357265931\n",
      "3 0.34 0.940514574253\n",
      "4 0.18 0.940515328251\n",
      "5 0.4 0.940630459791\n",
      "6 0.18 0.940656469208\n",
      "7 0.25 0.940987635956\n",
      "8 0.28 0.941044528442\n",
      "9 0.2 0.941044528442\n",
      "10 0.24 0.941063298677\n",
      "11 0.2 0.941063298677\n",
      "12 0.22 0.941072012511\n",
      "13 0.31 0.941245029821\n",
      "14 0.12 0.941501059424\n",
      "15 0.15 0.941571475599\n",
      "16 0.26 0.941656985786\n"
     ]
    },
    {
     "name": "stderr",
     "output_type": "stream",
     "text": [
      "/home/cs231n/myVE35/lib/python3.5/site-packages/sklearn/metrics/classification.py:1113: UndefinedMetricWarning: F-score is ill-defined and being set to 0.0 in samples with no predicted labels.\n",
      "  'precision', 'predicted', average, warn_for)\n"
     ]
    }
   ],
   "source": [
    "thresh_2_train = optimise_f2_thresholds([0.2]*17,y_train,y_pred)"
   ]
  },
  {
   "cell_type": "code",
   "execution_count": 96,
   "metadata": {
    "collapsed": false
   },
   "outputs": [
    {
     "name": "stdout",
     "output_type": "stream",
     "text": [
      "0 0.18 0.941656985786\n",
      "1 0.29 0.941656985786\n",
      "2 0.47 0.941656985786\n",
      "3 0.34 0.941656985786\n",
      "4 0.18 0.941656985786\n",
      "5 0.4 0.941656985786\n",
      "6 0.18 0.941656985786\n",
      "7 0.25 0.941656985786\n",
      "8 0.28 0.941656985786\n",
      "9 0.2 0.941656985786\n",
      "10 0.24 0.941656985786\n",
      "11 0.2 0.941656985786\n",
      "12 0.22 0.941656985786\n",
      "13 0.31 0.941656985786\n",
      "14 0.12 0.941656985786\n",
      "15 0.15 0.941656985786\n",
      "16 0.26 0.941656985786\n"
     ]
    },
    {
     "name": "stderr",
     "output_type": "stream",
     "text": [
      "/home/cs231n/myVE35/lib/python3.5/site-packages/sklearn/metrics/classification.py:1113: UndefinedMetricWarning: F-score is ill-defined and being set to 0.0 in samples with no predicted labels.\n",
      "  'precision', 'predicted', average, warn_for)\n"
     ]
    }
   ],
   "source": [
    "thresh_2_train = optimise_f2_thresholds(thresh_2_train,y_train,y_pred)"
   ]
  },
  {
   "cell_type": "code",
   "execution_count": 97,
   "metadata": {
    "collapsed": false
   },
   "outputs": [
    {
     "data": {
      "text/html": [
       "<div>\n",
       "<table border=\"1\" class=\"dataframe\">\n",
       "  <thead>\n",
       "    <tr style=\"text-align: right;\">\n",
       "      <th></th>\n",
       "      <th>FN</th>\n",
       "      <th>FP</th>\n",
       "      <th>TN</th>\n",
       "      <th>TP</th>\n",
       "      <th>Total</th>\n",
       "    </tr>\n",
       "  </thead>\n",
       "  <tbody>\n",
       "    <tr>\n",
       "      <th>blow_down</th>\n",
       "      <td>36</td>\n",
       "      <td>63</td>\n",
       "      <td>40318</td>\n",
       "      <td>62</td>\n",
       "      <td>98</td>\n",
       "    </tr>\n",
       "    <tr>\n",
       "      <th>bare_ground</th>\n",
       "      <td>335</td>\n",
       "      <td>716</td>\n",
       "      <td>38901</td>\n",
       "      <td>527</td>\n",
       "      <td>862</td>\n",
       "    </tr>\n",
       "    <tr>\n",
       "      <th>conventional_mine</th>\n",
       "      <td>20</td>\n",
       "      <td>28</td>\n",
       "      <td>40351</td>\n",
       "      <td>80</td>\n",
       "      <td>100</td>\n",
       "    </tr>\n",
       "    <tr>\n",
       "      <th>blooming</th>\n",
       "      <td>214</td>\n",
       "      <td>149</td>\n",
       "      <td>39998</td>\n",
       "      <td>118</td>\n",
       "      <td>332</td>\n",
       "    </tr>\n",
       "    <tr>\n",
       "      <th>artisinal_mine</th>\n",
       "      <td>16</td>\n",
       "      <td>81</td>\n",
       "      <td>40059</td>\n",
       "      <td>323</td>\n",
       "      <td>339</td>\n",
       "    </tr>\n",
       "    <tr>\n",
       "      <th>selective_logging</th>\n",
       "      <td>155</td>\n",
       "      <td>147</td>\n",
       "      <td>39992</td>\n",
       "      <td>185</td>\n",
       "      <td>340</td>\n",
       "    </tr>\n",
       "    <tr>\n",
       "      <th>slash_burn</th>\n",
       "      <td>121</td>\n",
       "      <td>124</td>\n",
       "      <td>40146</td>\n",
       "      <td>88</td>\n",
       "      <td>209</td>\n",
       "    </tr>\n",
       "    <tr>\n",
       "      <th>cultivation</th>\n",
       "      <td>958</td>\n",
       "      <td>3235</td>\n",
       "      <td>32767</td>\n",
       "      <td>3519</td>\n",
       "      <td>4477</td>\n",
       "    </tr>\n",
       "    <tr>\n",
       "      <th>habitation</th>\n",
       "      <td>519</td>\n",
       "      <td>1389</td>\n",
       "      <td>35430</td>\n",
       "      <td>3141</td>\n",
       "      <td>3660</td>\n",
       "    </tr>\n",
       "    <tr>\n",
       "      <th>road</th>\n",
       "      <td>567</td>\n",
       "      <td>2062</td>\n",
       "      <td>30346</td>\n",
       "      <td>7504</td>\n",
       "      <td>8071</td>\n",
       "    </tr>\n",
       "    <tr>\n",
       "      <th>agriculture</th>\n",
       "      <td>613</td>\n",
       "      <td>3209</td>\n",
       "      <td>24955</td>\n",
       "      <td>11702</td>\n",
       "      <td>12315</td>\n",
       "    </tr>\n",
       "    <tr>\n",
       "      <th>water</th>\n",
       "      <td>866</td>\n",
       "      <td>2061</td>\n",
       "      <td>31007</td>\n",
       "      <td>6545</td>\n",
       "      <td>7411</td>\n",
       "    </tr>\n",
       "    <tr>\n",
       "      <th>primary</th>\n",
       "      <td>137</td>\n",
       "      <td>1050</td>\n",
       "      <td>1916</td>\n",
       "      <td>37376</td>\n",
       "      <td>37513</td>\n",
       "    </tr>\n",
       "    <tr>\n",
       "      <th>partly_cloudy</th>\n",
       "      <td>138</td>\n",
       "      <td>950</td>\n",
       "      <td>32268</td>\n",
       "      <td>7123</td>\n",
       "      <td>7261</td>\n",
       "    </tr>\n",
       "    <tr>\n",
       "      <th>cloudy</th>\n",
       "      <td>47</td>\n",
       "      <td>820</td>\n",
       "      <td>37570</td>\n",
       "      <td>2042</td>\n",
       "      <td>2089</td>\n",
       "    </tr>\n",
       "    <tr>\n",
       "      <th>clear</th>\n",
       "      <td>191</td>\n",
       "      <td>1759</td>\n",
       "      <td>10289</td>\n",
       "      <td>28240</td>\n",
       "      <td>28431</td>\n",
       "    </tr>\n",
       "    <tr>\n",
       "      <th>haze</th>\n",
       "      <td>310</td>\n",
       "      <td>1218</td>\n",
       "      <td>36564</td>\n",
       "      <td>2387</td>\n",
       "      <td>2697</td>\n",
       "    </tr>\n",
       "  </tbody>\n",
       "</table>\n",
       "</div>"
      ],
      "text/plain": [
       "                    FN    FP     TN     TP  Total\n",
       "blow_down           36    63  40318     62     98\n",
       "bare_ground        335   716  38901    527    862\n",
       "conventional_mine   20    28  40351     80    100\n",
       "blooming           214   149  39998    118    332\n",
       "artisinal_mine      16    81  40059    323    339\n",
       "selective_logging  155   147  39992    185    340\n",
       "slash_burn         121   124  40146     88    209\n",
       "cultivation        958  3235  32767   3519   4477\n",
       "habitation         519  1389  35430   3141   3660\n",
       "road               567  2062  30346   7504   8071\n",
       "agriculture        613  3209  24955  11702  12315\n",
       "water              866  2061  31007   6545   7411\n",
       "primary            137  1050   1916  37376  37513\n",
       "partly_cloudy      138   950  32268   7123   7261\n",
       "cloudy              47   820  37570   2042   2089\n",
       "clear              191  1759  10289  28240  28431\n",
       "haze               310  1218  36564   2387   2697"
      ]
     },
     "execution_count": 97,
     "metadata": {},
     "output_type": "execute_result"
    }
   ],
   "source": [
    "total,tp,tn,fp,fn = multilabelmetrics(y_train,np.array(y_pred>np.array(thresh_2_train)))\n",
    "d = {'Total':total,'TP':tp,'TN':tn,'FP':fp,'FN':fn}\n",
    "pd.DataFrame(d, index=labels)"
   ]
  },
  {
   "cell_type": "code",
   "execution_count": 98,
   "metadata": {
    "collapsed": true
   },
   "outputs": [],
   "source": [
    "np.save('thresh_2_train',thresh_2_train)"
   ]
  },
  {
   "cell_type": "code",
   "execution_count": 99,
   "metadata": {
    "collapsed": false
   },
   "outputs": [
    {
     "name": "stdout",
     "output_type": "stream",
     "text": [
      "[0.08, 0.13, 0.06, 0.23, 0.25, 0.33, 0.11, 0.27, 0.25, 0.24, 0.2, 0.23, 0.14, 0.11, 0.17, 0.23, 0.18]\n",
      "[0.18, 0.29, 0.47, 0.34, 0.18, 0.4, 0.18, 0.25, 0.28, 0.2, 0.24, 0.2, 0.22, 0.31, 0.12, 0.15, 0.26]\n",
      "[ 0.05  0.13  0.07  0.4   0.16  0.33  0.19  0.27  0.22  0.23  0.19  0.26\n",
      "  0.1   0.25  0.16  0.23  0.31]\n",
      "[ 0.23  0.32  0.57  0.36  0.49  0.25  0.16  0.32  0.21  0.17  0.19  0.16\n",
      "  0.15  0.33  0.04  0.2   0.16]\n"
     ]
    }
   ],
   "source": [
    "print(thresh_1_train)\n",
    "print(thresh_2_train)\n",
    "print(thresh_1_val)\n",
    "print(thresh_2_val)"
   ]
  },
  {
   "cell_type": "code",
   "execution_count": 107,
   "metadata": {
    "collapsed": false
   },
   "outputs": [],
   "source": [
    "K.clear_session()"
   ]
  },
  {
   "cell_type": "code",
   "execution_count": 2,
   "metadata": {
    "collapsed": false
   },
   "outputs": [],
   "source": [
    "thresh_1_train = np.load('thresh_1_train.npy')\n",
    "thresh_2_train = np.load('thresh_2_train.npy')\n",
    "thresh_1_val = np.load('thresh_1_val.npy')\n",
    "thresh_2_val = np.load('thresh_2_val.npy')\n",
    "train_mean = np.load('inc_train_mean.npy')\n",
    "\n",
    "base_model = InceptionV3(weights='imagenet', include_top=False)\n",
    "\n",
    "# add a global spatial average pooling layer\n",
    "x = base_model.output\n",
    "x = GlobalAveragePooling2D()(x)\n",
    "x = Dropout(0.5)(x)\n",
    "x = Dense(1024)(x)\n",
    "x = BatchNormalization()(x)\n",
    "x = Activation('relu')(x)\n",
    "x = Dropout(0.5)(x)\n",
    "predictions = Dense(17, activation='sigmoid')(x)\n",
    "\n",
    "# this is the model we will train\n",
    "model = Model(inputs=base_model.input, outputs=predictions)"
   ]
  },
  {
   "cell_type": "code",
   "execution_count": 3,
   "metadata": {
    "collapsed": false,
    "scrolled": true
   },
   "outputs": [
    {
     "name": "stderr",
     "output_type": "stream",
     "text": [
      "100%|██████████| 61191/61191 [08:48<00:00, 115.68it/s]"
     ]
    },
    {
     "name": "stdout",
     "output_type": "stream",
     "text": [
      "(61191, 200, 200, 3)\n"
     ]
    },
    {
     "name": "stderr",
     "output_type": "stream",
     "text": [
      "\n"
     ]
    }
   ],
   "source": [
    "#Test set\n",
    "x_train = []\n",
    "x_val = []\n",
    "x_test = np.zeros((61191,200,200,3), np.float32)\n",
    "y_train = []\n",
    "\n",
    "df_test = pd.read_csv('sample_submission_v2.csv')\n",
    "\n",
    "i = 0 \n",
    "for f, tags in tqdm(df_test.values, miniters=1000):\n",
    "    img = cv2.imread('test-jpg/{}.jpg'.format(f))\n",
    "    x_test[i,:,:,:] = np.array(cv2.resize(img, (200, 200)),np.float32)/255.#139 minimum size for inception\n",
    "    i+=1\n",
    "print(x_test.shape)"
   ]
  },
  {
   "cell_type": "code",
   "execution_count": 4,
   "metadata": {
    "collapsed": true
   },
   "outputs": [],
   "source": [
    "x_test -= train_mean\n",
    "model.load_weights('inc_weights_2')\n",
    "y_test = model.predict(x_test,batch_size=64)\n",
    "y_pred = np.array(y_test>np.array(thresh_2_val))"
   ]
  },
  {
   "cell_type": "code",
   "execution_count": 6,
   "metadata": {
    "collapsed": true
   },
   "outputs": [],
   "source": [
    "labels = ['blow_down',\n",
    " 'bare_ground',\n",
    " 'conventional_mine',\n",
    " 'blooming',\n",
    " 'artisinal_mine',\n",
    " 'selective_logging',         \n",
    " 'slash_burn', \n",
    " 'cultivation',\n",
    " 'habitation',\n",
    " 'road',\n",
    " 'agriculture',\n",
    " 'water',\n",
    " 'primary',\n",
    " 'partly_cloudy', \n",
    " 'cloudy',\n",
    " 'clear',\n",
    " 'haze',]"
   ]
  },
  {
   "cell_type": "code",
   "execution_count": 7,
   "metadata": {
    "collapsed": false,
    "scrolled": true
   },
   "outputs": [],
   "source": [
    "labels_np = np.array(labels)\n",
    "preds = [' '.join(labels_np[np.array(y_pred[i,:],bool)]) for i in range(y_pred.shape[0])]\n",
    "subm = pd.DataFrame()\n",
    "subm['image_name'] = df_test.values[:,0]\n",
    "subm['tags'] = preds\n",
    "subm.to_csv('submission_inc_1.csv', index=False)\n",
    "#test set score:0.92398"
   ]
  },
  {
   "cell_type": "code",
   "execution_count": 8,
   "metadata": {
    "collapsed": false,
    "scrolled": true
   },
   "outputs": [],
   "source": [
    "y_pred = np.array(y_test>np.array(thresh_2_train))"
   ]
  },
  {
   "cell_type": "code",
   "execution_count": 9,
   "metadata": {
    "collapsed": false
   },
   "outputs": [],
   "source": [
    "labels_np = np.array(labels)\n",
    "preds = [' '.join(labels_np[np.array(y_pred[i,:],bool)]) for i in range(y_pred.shape[0])]\n",
    "subm = pd.DataFrame()\n",
    "subm['image_name'] = df_test.values[:,0]\n",
    "subm['tags'] = preds\n",
    "subm.to_csv('submission_inc_2.csv', index=False)\n",
    "#test set score:0.92391"
   ]
  },
  {
   "cell_type": "code",
   "execution_count": 10,
   "metadata": {
    "collapsed": true
   },
   "outputs": [],
   "source": [
    "model.load_weights('inc_weights_1')\n",
    "y_test = model.predict(x_test,batch_size=64)\n",
    "y_pred = np.array(y_test>np.array(thresh_2_val))"
   ]
  },
  {
   "cell_type": "code",
   "execution_count": 11,
   "metadata": {
    "collapsed": false
   },
   "outputs": [],
   "source": [
    "labels_np = np.array(labels)\n",
    "preds = [' '.join(labels_np[np.array(y_pred[i,:],bool)]) for i in range(y_pred.shape[0])]\n",
    "subm = pd.DataFrame()\n",
    "subm['image_name'] = df_test.values[:,0]\n",
    "subm['tags'] = preds\n",
    "subm.to_csv('submission_inc_3.csv', index=False)\n",
    "#test set score:0.91841"
   ]
  },
  {
   "cell_type": "code",
   "execution_count": 12,
   "metadata": {
    "collapsed": true
   },
   "outputs": [],
   "source": [
    "y_pred = np.array(y_test>np.array(thresh_2_train))"
   ]
  },
  {
   "cell_type": "code",
   "execution_count": 13,
   "metadata": {
    "collapsed": true
   },
   "outputs": [],
   "source": [
    "labels_np = np.array(labels)\n",
    "preds = [' '.join(labels_np[np.array(y_pred[i,:],bool)]) for i in range(y_pred.shape[0])]\n",
    "subm = pd.DataFrame()\n",
    "subm['image_name'] = df_test.values[:,0]\n",
    "subm['tags'] = preds\n",
    "subm.to_csv('submission_inc_4.csv', index=False)\n",
    "#test set score:"
   ]
  }
 ],
 "metadata": {
  "kernelspec": {
   "display_name": "Python 3",
   "language": "python",
   "name": "python3"
  },
  "language_info": {
   "codemirror_mode": {
    "name": "ipython",
    "version": 3
   },
   "file_extension": ".py",
   "mimetype": "text/x-python",
   "name": "python",
   "nbconvert_exporter": "python",
   "pygments_lexer": "ipython3",
   "version": "3.5.2"
  }
 },
 "nbformat": 4,
 "nbformat_minor": 0
}
