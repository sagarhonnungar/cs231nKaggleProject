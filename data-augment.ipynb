{
 "cells": [
  {
   "cell_type": "code",
   "execution_count": 1,
   "metadata": {
    "collapsed": false
   },
   "outputs": [
    {
     "name": "stderr",
     "output_type": "stream",
     "text": [
      "Using TensorFlow backend.\n"
     ]
    }
   ],
   "source": [
    "import numpy as np # linear algebra\n",
    "import pandas as pd # data processing, CSV file I/O (e.g. pd.read_csv)\n",
    "import os\n",
    "import gc\n",
    "\n",
    "import keras as k\n",
    "import tensorflow as tf\n",
    "from keras.models import Sequential, Model\n",
    "from keras.layers import Dense, Dropout, Flatten\n",
    "from keras.layers import Conv2D, MaxPooling2D, GlobalAveragePooling2D\n",
    "from keras.callbacks import EarlyStopping\n",
    "from keras.applications.inception_v3 import InceptionV3\n",
    "from keras.layers import Input\n",
    "from keras import backend as K\n",
    "from keras.utils.np_utils import to_categorical\n",
    "\n",
    "import cv2\n",
    "from tqdm import tqdm\n",
    "\n",
    "from sklearn.model_selection import train_test_split\n",
    "from sklearn.metrics import fbeta_score, precision_score \n",
    "from sklearn.utils import class_weight\n",
    "from sklearn.metrics import confusion_matrix\n",
    "\n",
    "from PIL import Image\n",
    "\n",
    "import time"
   ]
  },
  {
   "cell_type": "code",
   "execution_count": 2,
   "metadata": {
    "collapsed": false
   },
   "outputs": [
    {
     "name": "stderr",
     "output_type": "stream",
     "text": [
      "100%|██████████| 40479/40479 [00:00<00:00, 271628.67it/s]"
     ]
    },
    {
     "name": "stdout",
     "output_type": "stream",
     "text": [
      "(40479, 17)\n"
     ]
    },
    {
     "name": "stderr",
     "output_type": "stream",
     "text": [
      "\n"
     ]
    }
   ],
   "source": [
    "x_train = []\n",
    "#x_test = []\n",
    "y_train = []\n",
    "\n",
    "df_train = pd.read_csv('train_v2.csv')\n",
    "#df_test = pd.read_csv('sample_submission_v2.csv')\n",
    "\n",
    "flatten = lambda l: [item for sublist in l for item in sublist]\n",
    "labels = list(set(flatten([l.split(' ') for l in df_train['tags'].values])))\n",
    "\n",
    "label_map = {l: i for i, l in enumerate(labels)}\n",
    "inv_label_map = {i: l for l, i in label_map.items()}\n",
    "\n",
    "for f, tags in tqdm(df_train.values[:40479], miniters=1000):\n",
    "    #img = cv2.imread('train-jpg/{}.jpg'.format(f))\n",
    "    targets = np.zeros(17)\n",
    "    for t in tags.split(' '):\n",
    "        targets[label_map[t]] = 1 \n",
    "    y_train.append(targets)\n",
    "\n",
    "y_train = np.array(y_train, np.uint8)\n",
    "\n",
    "print(y_train.shape)"
   ]
  },
  {
   "cell_type": "code",
   "execution_count": 3,
   "metadata": {
    "collapsed": false
   },
   "outputs": [],
   "source": [
    "for i in range(17):\n",
    "    if(np.sum(y_train[:,i],axis=0)>y_train.size/2):\n",
    "        l = np.where(y_train[:,i] == 0)[0]\n",
    "        for j in range(1000):\n",
    "            ind = np.random.choice(l)\n",
    "            filename = df_train.values[ind,0]\n",
    "            img = Image.open(\"train-jpg/\"+filename+\".jpg\")\n",
    "            rnd = np.random.choice([1,2,3,4])\n",
    "            if rnd == 1:\n",
    "                img2 = img.transpose(Image.FLIP_LEFT_RIGHT)\n",
    "            elif rnd == 2:\n",
    "                img2 = img.transpose(Image.FLIP_TOP_BOTTOM)\n",
    "            elif rnd == 3:\n",
    "                img2 = img.transpose(Image.ROTATE_180)\n",
    "            elif rnd == 4:\n",
    "                img2 = img.transpose(Image.TRANSPOSE)\n",
    "            img2.save(\"train-augmented/\"+filename+\"_\"+str(i)+\"_\"+str(j)+\".jpg\")\n",
    "    else:\n",
    "        l = np.where(y_train[:,i] == 1)[0]\n",
    "        for j in range(1000):\n",
    "            ind = np.random.choice(l)\n",
    "            filename = df_train.values[ind,0]\n",
    "            img = Image.open(\"train-jpg/\"+filename+\".jpg\")\n",
    "            rnd = np.random.choice([1,2,3,4])\n",
    "            if rnd == 1:\n",
    "                img2 = img.transpose(Image.FLIP_LEFT_RIGHT)\n",
    "            elif rnd == 2:\n",
    "                img2 = img.transpose(Image.FLIP_TOP_BOTTOM)\n",
    "            elif rnd == 3:\n",
    "                img2 = img.transpose(Image.ROTATE_180)\n",
    "            elif rnd == 4:\n",
    "                img2 = img.transpose(Image.TRANSPOSE)\n",
    "            img2.save(\"train-augmented/\"+filename+\"_\"+str(i)+\"_\"+str(j)+\".jpg\")                      "
   ]
  },
  {
   "cell_type": "code",
   "execution_count": 18,
   "metadata": {
    "collapsed": false
   },
   "outputs": [
    {
     "data": {
      "text/plain": [
       "['train_10203_11_318.jpg', 'train_10203_11_207.jpg']"
      ]
     },
     "execution_count": 18,
     "metadata": {},
     "output_type": "execute_result"
    }
   ],
   "source": []
  },
  {
   "cell_type": "code",
   "execution_count": 26,
   "metadata": {
    "collapsed": false
   },
   "outputs": [
    {
     "name": "stdout",
     "output_type": "stream",
     "text": [
      "selective_logging\n",
      "Train on 36431 samples, validate on 4048 samples\n",
      "Epoch 1/5\n",
      "14s - loss: 0.2798 - acc: 0.9907 - val_loss: 0.0956 - val_acc: 0.9941\n",
      "Epoch 2/5\n",
      "14s - loss: 0.2796 - acc: 0.9913 - val_loss: 0.0956 - val_acc: 0.9941\n",
      "Epoch 3/5\n",
      "14s - loss: 0.2796 - acc: 0.9913 - val_loss: 0.0956 - val_acc: 0.9941\n",
      "Epoch 4/5\n",
      "14s - loss: 0.2796 - acc: 0.9913 - val_loss: 0.0956 - val_acc: 0.9941\n",
      "Epoch 5/5\n",
      "14s - loss: 0.2796 - acc: 0.9913 - val_loss: 0.0956 - val_acc: 0.9941\n",
      "[[4024    0]\n",
      " [  24    0]]\n"
     ]
    }
   ],
   "source": []
  },
  {
   "cell_type": "code",
   "execution_count": 27,
   "metadata": {
    "collapsed": false
   },
   "outputs": [
    {
     "data": {
      "text/plain": [
       "array([ 1895,   316,   295,  3326,    87, 33746,   309, 25614,   190,\n",
       "        4025,  6490,   780,    87,  2431, 11061,  7276,  6652], dtype=uint64)"
      ]
     },
     "execution_count": 27,
     "metadata": {},
     "output_type": "execute_result"
    }
   ],
   "source": []
  },
  {
   "cell_type": "code",
   "execution_count": 8,
   "metadata": {
    "collapsed": false
   },
   "outputs": [
    {
     "data": {
      "text/plain": [
       "'road'"
      ]
     },
     "execution_count": 8,
     "metadata": {},
     "output_type": "execute_result"
    }
   ],
   "source": []
  },
  {
   "cell_type": "code",
   "execution_count": 21,
   "metadata": {
    "collapsed": true
   },
   "outputs": [],
   "source": []
  },
  {
   "cell_type": "code",
   "execution_count": 35,
   "metadata": {
    "collapsed": false
   },
   "outputs": [
    {
     "name": "stderr",
     "output_type": "stream",
     "text": [
      "100%|██████████| 61191/61191 [01:34<00:00, 645.74it/s]\n"
     ]
    }
   ],
   "source": []
  },
  {
   "cell_type": "code",
   "execution_count": null,
   "metadata": {
    "collapsed": true
   },
   "outputs": [],
   "source": []
  },
  {
   "cell_type": "code",
   "execution_count": 37,
   "metadata": {
    "collapsed": false
   },
   "outputs": [
    {
     "ename": "TypeError",
     "evalue": "only integer scalar arrays can be converted to a scalar index",
     "output_type": "error",
     "traceback": [
      "\u001b[1;31m---------------------------------------------------------------------------\u001b[0m",
      "\u001b[1;31mTypeError\u001b[0m                                 Traceback (most recent call last)",
      "\u001b[1;32m<ipython-input-37-b19f6197cb6b>\u001b[0m in \u001b[0;36m<module>\u001b[1;34m()\u001b[0m\n\u001b[0;32m      5\u001b[0m \u001b[0my_pred_2\u001b[0m \u001b[1;33m=\u001b[0m \u001b[0mmodel\u001b[0m\u001b[1;33m.\u001b[0m\u001b[0mpredict\u001b[0m\u001b[1;33m(\u001b[0m\u001b[0mx_test_np\u001b[0m\u001b[1;33m,\u001b[0m \u001b[0mbatch_size\u001b[0m \u001b[1;33m=\u001b[0m \u001b[1;36m128\u001b[0m\u001b[1;33m,\u001b[0m \u001b[0mverbose\u001b[0m\u001b[1;33m=\u001b[0m\u001b[1;36m2\u001b[0m\u001b[1;33m)\u001b[0m\u001b[1;33m\u001b[0m\u001b[0m\n\u001b[0;32m      6\u001b[0m \u001b[1;33m\u001b[0m\u001b[0m\n\u001b[1;32m----> 7\u001b[1;33m \u001b[0my_pred\u001b[0m \u001b[1;33m=\u001b[0m \u001b[0mnp\u001b[0m\u001b[1;33m.\u001b[0m\u001b[0mconcatenate\u001b[0m\u001b[1;33m(\u001b[0m\u001b[0my_pred_1\u001b[0m\u001b[1;33m,\u001b[0m\u001b[0my_pred_2\u001b[0m\u001b[1;33m)\u001b[0m\u001b[1;33m\u001b[0m\u001b[0m\n\u001b[0m\u001b[0;32m      8\u001b[0m \u001b[1;33m\u001b[0m\u001b[0m\n\u001b[0;32m      9\u001b[0m \u001b[0mprint\u001b[0m\u001b[1;33m(\u001b[0m\u001b[0my_pred\u001b[0m\u001b[1;33m.\u001b[0m\u001b[0mshape\u001b[0m\u001b[1;33m)\u001b[0m\u001b[1;33m\u001b[0m\u001b[0m\n",
      "\u001b[1;31mTypeError\u001b[0m: only integer scalar arrays can be converted to a scalar index"
     ]
    }
   ],
   "source": []
  },
  {
   "cell_type": "code",
   "execution_count": 55,
   "metadata": {
    "collapsed": false
   },
   "outputs": [],
   "source": []
  },
  {
   "cell_type": "code",
   "execution_count": 53,
   "metadata": {
    "collapsed": false
   },
   "outputs": [
    {
     "data": {
      "text/html": [
       "<div>\n",
       "<table border=\"1\" class=\"dataframe\">\n",
       "  <thead>\n",
       "    <tr style=\"text-align: right;\">\n",
       "      <th></th>\n",
       "      <th>image_name</th>\n",
       "      <th>tags</th>\n",
       "    </tr>\n",
       "  </thead>\n",
       "  <tbody>\n",
       "    <tr>\n",
       "      <th>0</th>\n",
       "      <td>test_0</td>\n",
       "      <td>primary clear</td>\n",
       "    </tr>\n",
       "    <tr>\n",
       "      <th>1</th>\n",
       "      <td>test_1</td>\n",
       "      <td>primary clear</td>\n",
       "    </tr>\n",
       "    <tr>\n",
       "      <th>2</th>\n",
       "      <td>test_2</td>\n",
       "      <td>primary partly_cloudy</td>\n",
       "    </tr>\n",
       "    <tr>\n",
       "      <th>3</th>\n",
       "      <td>test_3</td>\n",
       "      <td>primary partly_cloudy clear</td>\n",
       "    </tr>\n",
       "    <tr>\n",
       "      <th>4</th>\n",
       "      <td>test_4</td>\n",
       "      <td>agriculture cloudy primary partly_cloudy</td>\n",
       "    </tr>\n",
       "    <tr>\n",
       "      <th>5</th>\n",
       "      <td>test_5</td>\n",
       "      <td>primary clear</td>\n",
       "    </tr>\n",
       "    <tr>\n",
       "      <th>6</th>\n",
       "      <td>test_6</td>\n",
       "      <td>agriculture primary habitation cultivation wat...</td>\n",
       "    </tr>\n",
       "    <tr>\n",
       "      <th>7</th>\n",
       "      <td>test_7</td>\n",
       "      <td>road agriculture habitation clear</td>\n",
       "    </tr>\n",
       "    <tr>\n",
       "      <th>8</th>\n",
       "      <td>test_8</td>\n",
       "      <td>primary clear</td>\n",
       "    </tr>\n",
       "    <tr>\n",
       "      <th>9</th>\n",
       "      <td>test_9</td>\n",
       "      <td>primary partly_cloudy</td>\n",
       "    </tr>\n",
       "    <tr>\n",
       "      <th>10</th>\n",
       "      <td>test_10</td>\n",
       "      <td>agriculture primary partly_cloudy</td>\n",
       "    </tr>\n",
       "    <tr>\n",
       "      <th>11</th>\n",
       "      <td>test_11</td>\n",
       "      <td>agriculture primary habitation cultivation clear</td>\n",
       "    </tr>\n",
       "    <tr>\n",
       "      <th>12</th>\n",
       "      <td>test_12</td>\n",
       "      <td>cloudy primary haze</td>\n",
       "    </tr>\n",
       "    <tr>\n",
       "      <th>13</th>\n",
       "      <td>test_13</td>\n",
       "      <td>road agriculture primary water clear</td>\n",
       "    </tr>\n",
       "    <tr>\n",
       "      <th>14</th>\n",
       "      <td>test_14</td>\n",
       "      <td>primary haze clear</td>\n",
       "    </tr>\n",
       "    <tr>\n",
       "      <th>15</th>\n",
       "      <td>test_15</td>\n",
       "      <td>primary clear</td>\n",
       "    </tr>\n",
       "    <tr>\n",
       "      <th>16</th>\n",
       "      <td>test_16</td>\n",
       "      <td>bare_ground road agriculture primary clear</td>\n",
       "    </tr>\n",
       "    <tr>\n",
       "      <th>17</th>\n",
       "      <td>test_17</td>\n",
       "      <td>agriculture primary partly_cloudy</td>\n",
       "    </tr>\n",
       "    <tr>\n",
       "      <th>18</th>\n",
       "      <td>test_18</td>\n",
       "      <td>primary clear</td>\n",
       "    </tr>\n",
       "    <tr>\n",
       "      <th>19</th>\n",
       "      <td>test_19</td>\n",
       "      <td>road agriculture primary cultivation water clear</td>\n",
       "    </tr>\n",
       "    <tr>\n",
       "      <th>20</th>\n",
       "      <td>test_20</td>\n",
       "      <td>road agriculture primary water clear</td>\n",
       "    </tr>\n",
       "    <tr>\n",
       "      <th>21</th>\n",
       "      <td>test_21</td>\n",
       "      <td>road agriculture primary clear</td>\n",
       "    </tr>\n",
       "    <tr>\n",
       "      <th>22</th>\n",
       "      <td>test_22</td>\n",
       "      <td>road agriculture primary habitation partly_clo...</td>\n",
       "    </tr>\n",
       "    <tr>\n",
       "      <th>23</th>\n",
       "      <td>test_23</td>\n",
       "      <td>cloudy primary haze</td>\n",
       "    </tr>\n",
       "    <tr>\n",
       "      <th>24</th>\n",
       "      <td>test_24</td>\n",
       "      <td>bare_ground road agriculture primary water par...</td>\n",
       "    </tr>\n",
       "    <tr>\n",
       "      <th>25</th>\n",
       "      <td>test_25</td>\n",
       "      <td>primary clear</td>\n",
       "    </tr>\n",
       "    <tr>\n",
       "      <th>26</th>\n",
       "      <td>test_26</td>\n",
       "      <td>road agriculture primary clear</td>\n",
       "    </tr>\n",
       "    <tr>\n",
       "      <th>27</th>\n",
       "      <td>test_27</td>\n",
       "      <td>bare_ground agriculture primary clear</td>\n",
       "    </tr>\n",
       "    <tr>\n",
       "      <th>28</th>\n",
       "      <td>test_28</td>\n",
       "      <td>road agriculture primary clear</td>\n",
       "    </tr>\n",
       "    <tr>\n",
       "      <th>29</th>\n",
       "      <td>test_29</td>\n",
       "      <td>primary clear</td>\n",
       "    </tr>\n",
       "    <tr>\n",
       "      <th>...</th>\n",
       "      <td>...</td>\n",
       "      <td>...</td>\n",
       "    </tr>\n",
       "    <tr>\n",
       "      <th>61161</th>\n",
       "      <td>file_9972</td>\n",
       "      <td>agriculture primary cultivation clear</td>\n",
       "    </tr>\n",
       "    <tr>\n",
       "      <th>61162</th>\n",
       "      <td>file_9973</td>\n",
       "      <td>road agriculture primary habitation cultivatio...</td>\n",
       "    </tr>\n",
       "    <tr>\n",
       "      <th>61163</th>\n",
       "      <td>file_9974</td>\n",
       "      <td>primary clear</td>\n",
       "    </tr>\n",
       "    <tr>\n",
       "      <th>61164</th>\n",
       "      <td>file_9975</td>\n",
       "      <td>primary clear</td>\n",
       "    </tr>\n",
       "    <tr>\n",
       "      <th>61165</th>\n",
       "      <td>file_9976</td>\n",
       "      <td>agriculture primary cultivation clear</td>\n",
       "    </tr>\n",
       "    <tr>\n",
       "      <th>61166</th>\n",
       "      <td>file_9977</td>\n",
       "      <td>primary clear</td>\n",
       "    </tr>\n",
       "    <tr>\n",
       "      <th>61167</th>\n",
       "      <td>file_9978</td>\n",
       "      <td>primary partly_cloudy</td>\n",
       "    </tr>\n",
       "    <tr>\n",
       "      <th>61168</th>\n",
       "      <td>file_9979</td>\n",
       "      <td>primary clear</td>\n",
       "    </tr>\n",
       "    <tr>\n",
       "      <th>61169</th>\n",
       "      <td>file_998</td>\n",
       "      <td>primary clear</td>\n",
       "    </tr>\n",
       "    <tr>\n",
       "      <th>61170</th>\n",
       "      <td>file_9980</td>\n",
       "      <td>agriculture primary partly_cloudy clear</td>\n",
       "    </tr>\n",
       "    <tr>\n",
       "      <th>61171</th>\n",
       "      <td>file_9981</td>\n",
       "      <td>road agriculture primary habitation cultivatio...</td>\n",
       "    </tr>\n",
       "    <tr>\n",
       "      <th>61172</th>\n",
       "      <td>file_9982</td>\n",
       "      <td>road agriculture primary cultivation water clear</td>\n",
       "    </tr>\n",
       "    <tr>\n",
       "      <th>61173</th>\n",
       "      <td>file_9983</td>\n",
       "      <td>agriculture primary haze clear</td>\n",
       "    </tr>\n",
       "    <tr>\n",
       "      <th>61174</th>\n",
       "      <td>file_9984</td>\n",
       "      <td>primary clear</td>\n",
       "    </tr>\n",
       "    <tr>\n",
       "      <th>61175</th>\n",
       "      <td>file_9985</td>\n",
       "      <td>primary clear</td>\n",
       "    </tr>\n",
       "    <tr>\n",
       "      <th>61176</th>\n",
       "      <td>file_9986</td>\n",
       "      <td>primary clear</td>\n",
       "    </tr>\n",
       "    <tr>\n",
       "      <th>61177</th>\n",
       "      <td>file_9987</td>\n",
       "      <td>road agriculture primary habitation clear</td>\n",
       "    </tr>\n",
       "    <tr>\n",
       "      <th>61178</th>\n",
       "      <td>file_9988</td>\n",
       "      <td>primary clear</td>\n",
       "    </tr>\n",
       "    <tr>\n",
       "      <th>61179</th>\n",
       "      <td>file_9989</td>\n",
       "      <td>road agriculture primary habitation clear</td>\n",
       "    </tr>\n",
       "    <tr>\n",
       "      <th>61180</th>\n",
       "      <td>file_999</td>\n",
       "      <td>road agriculture primary habitation clear</td>\n",
       "    </tr>\n",
       "    <tr>\n",
       "      <th>61181</th>\n",
       "      <td>file_9990</td>\n",
       "      <td>primary clear</td>\n",
       "    </tr>\n",
       "    <tr>\n",
       "      <th>61182</th>\n",
       "      <td>file_9991</td>\n",
       "      <td>road agriculture primary water clear</td>\n",
       "    </tr>\n",
       "    <tr>\n",
       "      <th>61183</th>\n",
       "      <td>file_9992</td>\n",
       "      <td>primary clear</td>\n",
       "    </tr>\n",
       "    <tr>\n",
       "      <th>61184</th>\n",
       "      <td>file_9993</td>\n",
       "      <td>agriculture primary water clear</td>\n",
       "    </tr>\n",
       "    <tr>\n",
       "      <th>61185</th>\n",
       "      <td>file_9994</td>\n",
       "      <td>cloudy primary water clear</td>\n",
       "    </tr>\n",
       "    <tr>\n",
       "      <th>61186</th>\n",
       "      <td>file_9995</td>\n",
       "      <td>agriculture cloudy primary partly_cloudy</td>\n",
       "    </tr>\n",
       "    <tr>\n",
       "      <th>61187</th>\n",
       "      <td>file_9996</td>\n",
       "      <td>agriculture primary water clear</td>\n",
       "    </tr>\n",
       "    <tr>\n",
       "      <th>61188</th>\n",
       "      <td>file_9997</td>\n",
       "      <td>primary clear</td>\n",
       "    </tr>\n",
       "    <tr>\n",
       "      <th>61189</th>\n",
       "      <td>file_9998</td>\n",
       "      <td>cloudy</td>\n",
       "    </tr>\n",
       "    <tr>\n",
       "      <th>61190</th>\n",
       "      <td>file_9999</td>\n",
       "      <td>road agriculture primary habitation clear</td>\n",
       "    </tr>\n",
       "  </tbody>\n",
       "</table>\n",
       "<p>61191 rows × 2 columns</p>\n",
       "</div>"
      ],
      "text/plain": [
       "      image_name                                               tags\n",
       "0         test_0                                      primary clear\n",
       "1         test_1                                      primary clear\n",
       "2         test_2                              primary partly_cloudy\n",
       "3         test_3                        primary partly_cloudy clear\n",
       "4         test_4           agriculture cloudy primary partly_cloudy\n",
       "5         test_5                                      primary clear\n",
       "6         test_6  agriculture primary habitation cultivation wat...\n",
       "7         test_7                  road agriculture habitation clear\n",
       "8         test_8                                      primary clear\n",
       "9         test_9                              primary partly_cloudy\n",
       "10       test_10                  agriculture primary partly_cloudy\n",
       "11       test_11   agriculture primary habitation cultivation clear\n",
       "12       test_12                                cloudy primary haze\n",
       "13       test_13               road agriculture primary water clear\n",
       "14       test_14                                 primary haze clear\n",
       "15       test_15                                      primary clear\n",
       "16       test_16         bare_ground road agriculture primary clear\n",
       "17       test_17                  agriculture primary partly_cloudy\n",
       "18       test_18                                      primary clear\n",
       "19       test_19   road agriculture primary cultivation water clear\n",
       "20       test_20               road agriculture primary water clear\n",
       "21       test_21                     road agriculture primary clear\n",
       "22       test_22  road agriculture primary habitation partly_clo...\n",
       "23       test_23                                cloudy primary haze\n",
       "24       test_24  bare_ground road agriculture primary water par...\n",
       "25       test_25                                      primary clear\n",
       "26       test_26                     road agriculture primary clear\n",
       "27       test_27              bare_ground agriculture primary clear\n",
       "28       test_28                     road agriculture primary clear\n",
       "29       test_29                                      primary clear\n",
       "...          ...                                                ...\n",
       "61161  file_9972              agriculture primary cultivation clear\n",
       "61162  file_9973  road agriculture primary habitation cultivatio...\n",
       "61163  file_9974                                      primary clear\n",
       "61164  file_9975                                      primary clear\n",
       "61165  file_9976              agriculture primary cultivation clear\n",
       "61166  file_9977                                      primary clear\n",
       "61167  file_9978                              primary partly_cloudy\n",
       "61168  file_9979                                      primary clear\n",
       "61169   file_998                                      primary clear\n",
       "61170  file_9980            agriculture primary partly_cloudy clear\n",
       "61171  file_9981  road agriculture primary habitation cultivatio...\n",
       "61172  file_9982   road agriculture primary cultivation water clear\n",
       "61173  file_9983                     agriculture primary haze clear\n",
       "61174  file_9984                                      primary clear\n",
       "61175  file_9985                                      primary clear\n",
       "61176  file_9986                                      primary clear\n",
       "61177  file_9987          road agriculture primary habitation clear\n",
       "61178  file_9988                                      primary clear\n",
       "61179  file_9989          road agriculture primary habitation clear\n",
       "61180   file_999          road agriculture primary habitation clear\n",
       "61181  file_9990                                      primary clear\n",
       "61182  file_9991               road agriculture primary water clear\n",
       "61183  file_9992                                      primary clear\n",
       "61184  file_9993                    agriculture primary water clear\n",
       "61185  file_9994                         cloudy primary water clear\n",
       "61186  file_9995           agriculture cloudy primary partly_cloudy\n",
       "61187  file_9996                    agriculture primary water clear\n",
       "61188  file_9997                                      primary clear\n",
       "61189  file_9998                                             cloudy\n",
       "61190  file_9999          road agriculture primary habitation clear\n",
       "\n",
       "[61191 rows x 2 columns]"
      ]
     },
     "execution_count": 53,
     "metadata": {},
     "output_type": "execute_result"
    }
   ],
   "source": []
  },
  {
   "cell_type": "code",
   "execution_count": null,
   "metadata": {
    "collapsed": true
   },
   "outputs": [],
   "source": []
  }
 ],
 "metadata": {
  "kernelspec": {
   "display_name": "Python 3",
   "language": "python",
   "name": "python3"
  },
  "language_info": {
   "codemirror_mode": {
    "name": "ipython",
    "version": 3
   },
   "file_extension": ".py",
   "mimetype": "text/x-python",
   "name": "python",
   "nbconvert_exporter": "python",
   "pygments_lexer": "ipython3",
   "version": "3.5.2"
  }
 },
 "nbformat": 4,
 "nbformat_minor": 0
}
