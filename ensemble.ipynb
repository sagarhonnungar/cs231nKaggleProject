{
 "cells": [
  {
   "cell_type": "code",
   "execution_count": 1,
   "metadata": {
    "collapsed": false
   },
   "outputs": [
    {
     "name": "stderr",
     "output_type": "stream",
     "text": [
      "Using TensorFlow backend.\n"
     ]
    }
   ],
   "source": [
    "import numpy as np # linear algebra\n",
    "import pandas as pd # data processing, CSV file I/O (e.g. pd.read_csv)\n",
    "import os\n",
    "import gc\n",
    "\n",
    "import keras as k\n",
    "import tensorflow as tf\n",
    "from keras.models import Sequential, Model\n",
    "from keras.layers import Dense, Dropout, Flatten\n",
    "from keras.layers import Conv2D, MaxPooling2D, GlobalAveragePooling2D, Activation, BatchNormalization\n",
    "from keras.callbacks import EarlyStopping\n",
    "from keras.applications.inception_v3 import InceptionV3\n",
    "from keras.layers import Input\n",
    "from keras import backend as K\n",
    "from keras.optimizers import Adam\n",
    "from keras.preprocessing.image import ImageDataGenerator\n",
    "import cv2\n",
    "from tqdm import tqdm\n",
    "\n",
    "from sklearn.model_selection import train_test_split\n",
    "from sklearn.metrics import fbeta_score, precision_score \n",
    "from skimage import io,transform\n",
    "\n",
    "import time\n",
    "\n",
    "import os\n",
    "import fnmatch"
   ]
  },
  {
   "cell_type": "code",
   "execution_count": 3,
   "metadata": {
    "collapsed": true
   },
   "outputs": [],
   "source": [
    "file_1 = 'submission_96_3net_4.csv'\n",
    "file_2 = 'submission_64_3net_8.csv'\n",
    "file_3 = 'submission_3net_1.csv'"
   ]
  },
  {
   "cell_type": "code",
   "execution_count": 13,
   "metadata": {
    "collapsed": false
   },
   "outputs": [
    {
     "name": "stderr",
     "output_type": "stream",
     "text": [
      "100%|██████████| 61191/61191 [00:00<00:00, 270127.91it/s]"
     ]
    },
    {
     "name": "stdout",
     "output_type": "stream",
     "text": [
      "(61191, 17)\n"
     ]
    },
    {
     "name": "stderr",
     "output_type": "stream",
     "text": [
      "\n"
     ]
    }
   ],
   "source": [
    "y_1 = []\n",
    "\n",
    "df_train = pd.read_csv(file_1)\n",
    "\n",
    "labels = ['blow_down',\n",
    " 'bare_ground',\n",
    " 'conventional_mine',\n",
    " 'blooming',\n",
    " 'artisinal_mine',\n",
    " 'selective_logging',         \n",
    " 'slash_burn', \n",
    " 'cultivation',\n",
    " 'habitation',\n",
    " 'road',\n",
    " 'agriculture',\n",
    " 'water',\n",
    " 'primary',\n",
    " 'partly_cloudy', \n",
    " 'cloudy',\n",
    " 'clear',\n",
    " 'haze',]\n",
    "\n",
    "label_map = {l: i for i, l in enumerate(labels)}\n",
    "inv_label_map = {i: l for l, i in label_map.items()}\n",
    "\n",
    "\n",
    "for f, tags in tqdm(df_train.values, miniters=1000):    \n",
    "    targets = np.zeros(17)\n",
    "    for t in tags.split(' '):\n",
    "        targets[label_map[t]] = 1 \n",
    "    y_1.append(targets)\n",
    "  \n",
    "y_1 = np.array(y_1, np.uint8)\n",
    "\n",
    "print(y_1.shape)"
   ]
  },
  {
   "cell_type": "code",
   "execution_count": 14,
   "metadata": {
    "collapsed": false
   },
   "outputs": [
    {
     "name": "stderr",
     "output_type": "stream",
     "text": [
      "100%|██████████| 61191/61191 [00:00<00:00, 268949.77it/s]"
     ]
    },
    {
     "name": "stdout",
     "output_type": "stream",
     "text": [
      "(61191, 17)\n"
     ]
    },
    {
     "name": "stderr",
     "output_type": "stream",
     "text": [
      "\n"
     ]
    }
   ],
   "source": [
    "y_2 = []\n",
    "\n",
    "df_train = pd.read_csv(file_2)\n",
    "\n",
    "labels = ['blow_down',\n",
    " 'bare_ground',\n",
    " 'conventional_mine',\n",
    " 'blooming',\n",
    " 'artisinal_mine',\n",
    " 'selective_logging',         \n",
    " 'slash_burn', \n",
    " 'cultivation',\n",
    " 'habitation',\n",
    " 'road',\n",
    " 'agriculture',\n",
    " 'water',\n",
    " 'primary',\n",
    " 'partly_cloudy', \n",
    " 'cloudy',\n",
    " 'clear',\n",
    " 'haze',]\n",
    "\n",
    "label_map = {l: i for i, l in enumerate(labels)}\n",
    "inv_label_map = {i: l for l, i in label_map.items()}\n",
    "\n",
    "\n",
    "for f, tags in tqdm(df_train.values, miniters=1000):    \n",
    "    targets = np.zeros(17)\n",
    "    for t in tags.split(' '):\n",
    "        targets[label_map[t]] = 1 \n",
    "    y_2.append(targets)\n",
    "  \n",
    "y_2 = np.array(y_2, np.uint8)\n",
    "\n",
    "print(y_2.shape)"
   ]
  },
  {
   "cell_type": "code",
   "execution_count": 15,
   "metadata": {
    "collapsed": false
   },
   "outputs": [
    {
     "name": "stderr",
     "output_type": "stream",
     "text": [
      "100%|██████████| 61191/61191 [00:00<00:00, 269534.15it/s]"
     ]
    },
    {
     "name": "stdout",
     "output_type": "stream",
     "text": [
      "(61191, 17)\n"
     ]
    },
    {
     "name": "stderr",
     "output_type": "stream",
     "text": [
      "\n"
     ]
    }
   ],
   "source": [
    "y_3 = []\n",
    "\n",
    "df_train = pd.read_csv(file_3)\n",
    "\n",
    "labels = ['blow_down',\n",
    " 'bare_ground',\n",
    " 'conventional_mine',\n",
    " 'blooming',\n",
    " 'artisinal_mine',\n",
    " 'selective_logging',         \n",
    " 'slash_burn', \n",
    " 'cultivation',\n",
    " 'habitation',\n",
    " 'road',\n",
    " 'agriculture',\n",
    " 'water',\n",
    " 'primary',\n",
    " 'partly_cloudy', \n",
    " 'cloudy',\n",
    " 'clear',\n",
    " 'haze',]\n",
    "\n",
    "label_map = {l: i for i, l in enumerate(labels)}\n",
    "inv_label_map = {i: l for l, i in label_map.items()}\n",
    "\n",
    "\n",
    "for f, tags in tqdm(df_train.values, miniters=1000):    \n",
    "    targets = np.zeros(17)\n",
    "    for t in tags.split(' '):\n",
    "        targets[label_map[t]] = 1 \n",
    "    y_3.append(targets)\n",
    "  \n",
    "y_3 = np.array(y_3, np.uint8)\n",
    "\n",
    "print(y_3.shape)"
   ]
  },
  {
   "cell_type": "code",
   "execution_count": 23,
   "metadata": {
    "collapsed": false
   },
   "outputs": [],
   "source": [
    "y = y_1 + y_2 +y_3"
   ]
  },
  {
   "cell_type": "code",
   "execution_count": 24,
   "metadata": {
    "collapsed": false
   },
   "outputs": [
    {
     "data": {
      "text/plain": [
       "array([[0, 0, 0, ..., 0, 3, 0],\n",
       "       [0, 0, 0, ..., 0, 3, 0],\n",
       "       [0, 0, 0, ..., 0, 0, 0],\n",
       "       ..., \n",
       "       [0, 0, 0, ..., 0, 3, 0],\n",
       "       [0, 0, 0, ..., 3, 0, 0],\n",
       "       [0, 0, 0, ..., 0, 3, 0]], dtype=uint8)"
      ]
     },
     "execution_count": 24,
     "metadata": {},
     "output_type": "execute_result"
    }
   ],
   "source": [
    "y"
   ]
  },
  {
   "cell_type": "code",
   "execution_count": 25,
   "metadata": {
    "collapsed": false
   },
   "outputs": [
    {
     "data": {
      "text/plain": [
       "22629"
      ]
     },
     "execution_count": 25,
     "metadata": {},
     "output_type": "execute_result"
    }
   ],
   "source": [
    "np.sum(y==1)"
   ]
  },
  {
   "cell_type": "code",
   "execution_count": 26,
   "metadata": {
    "collapsed": false
   },
   "outputs": [
    {
     "data": {
      "text/plain": [
       "17478"
      ]
     },
     "execution_count": 26,
     "metadata": {},
     "output_type": "execute_result"
    }
   ],
   "source": [
    "np.sum(y==2)"
   ]
  },
  {
   "cell_type": "code",
   "execution_count": 27,
   "metadata": {
    "collapsed": false
   },
   "outputs": [
    {
     "data": {
      "text/plain": [
       "182517"
      ]
     },
     "execution_count": 27,
     "metadata": {},
     "output_type": "execute_result"
    }
   ],
   "source": [
    "np.sum(y==3)"
   ]
  },
  {
   "cell_type": "code",
   "execution_count": 28,
   "metadata": {
    "collapsed": false
   },
   "outputs": [
    {
     "data": {
      "text/plain": [
       "817623"
      ]
     },
     "execution_count": 28,
     "metadata": {},
     "output_type": "execute_result"
    }
   ],
   "source": [
    "np.sum(y==0)"
   ]
  },
  {
   "cell_type": "code",
   "execution_count": 29,
   "metadata": {
    "collapsed": true
   },
   "outputs": [],
   "source": [
    "y = (y>=2)"
   ]
  },
  {
   "cell_type": "code",
   "execution_count": 30,
   "metadata": {
    "collapsed": true
   },
   "outputs": [],
   "source": [
    "labels_np = np.array(labels)\n",
    "preds = [' '.join(labels_np[np.array(y[i,:],bool)]) for i in range(y.shape[0])]\n",
    "subm = pd.DataFrame()\n",
    "subm['image_name'] = df_train.values[:,0]\n",
    "subm['tags'] = preds\n",
    "subm.to_csv('submission_ensemble.csv', index=False)\n",
    "#test set score: 0.92519"
   ]
  },
  {
   "cell_type": "code",
   "execution_count": 3,
   "metadata": {
    "collapsed": true
   },
   "outputs": [],
   "source": [
    "file_1 = 'submission_96_3net_4.csv'\n",
    "file_2 = 'submission_64_3net_8.csv'\n",
    "file_3 = 'submission_32_net_1.csv'"
   ]
  },
  {
   "cell_type": "code",
   "execution_count": 4,
   "metadata": {
    "collapsed": false
   },
   "outputs": [
    {
     "name": "stderr",
     "output_type": "stream",
     "text": [
      "100%|██████████| 61191/61191 [00:00<00:00, 271697.55it/s]"
     ]
    },
    {
     "name": "stdout",
     "output_type": "stream",
     "text": [
      "(61191, 17)\n"
     ]
    },
    {
     "name": "stderr",
     "output_type": "stream",
     "text": [
      "\n"
     ]
    }
   ],
   "source": [
    "y_1 = []\n",
    "\n",
    "df_train = pd.read_csv(file_1)\n",
    "\n",
    "labels = ['blow_down',\n",
    " 'bare_ground',\n",
    " 'conventional_mine',\n",
    " 'blooming',\n",
    " 'artisinal_mine',\n",
    " 'selective_logging',         \n",
    " 'slash_burn', \n",
    " 'cultivation',\n",
    " 'habitation',\n",
    " 'road',\n",
    " 'agriculture',\n",
    " 'water',\n",
    " 'primary',\n",
    " 'partly_cloudy', \n",
    " 'cloudy',\n",
    " 'clear',\n",
    " 'haze',]\n",
    "\n",
    "label_map = {l: i for i, l in enumerate(labels)}\n",
    "inv_label_map = {i: l for l, i in label_map.items()}\n",
    "\n",
    "\n",
    "for f, tags in tqdm(df_train.values, miniters=1000):    \n",
    "    targets = np.zeros(17)\n",
    "    for t in tags.split(' '):\n",
    "        targets[label_map[t]] = 1 \n",
    "    y_1.append(targets)\n",
    "  \n",
    "y_1 = np.array(y_1, np.uint8)\n",
    "\n",
    "print(y_1.shape)"
   ]
  },
  {
   "cell_type": "code",
   "execution_count": 5,
   "metadata": {
    "collapsed": false
   },
   "outputs": [
    {
     "name": "stderr",
     "output_type": "stream",
     "text": [
      "100%|██████████| 61191/61191 [00:00<00:00, 270187.34it/s]"
     ]
    },
    {
     "name": "stdout",
     "output_type": "stream",
     "text": [
      "(61191, 17)\n"
     ]
    },
    {
     "name": "stderr",
     "output_type": "stream",
     "text": [
      "\n"
     ]
    }
   ],
   "source": [
    "y_2 = []\n",
    "\n",
    "df_train = pd.read_csv(file_2)\n",
    "\n",
    "labels = ['blow_down',\n",
    " 'bare_ground',\n",
    " 'conventional_mine',\n",
    " 'blooming',\n",
    " 'artisinal_mine',\n",
    " 'selective_logging',         \n",
    " 'slash_burn', \n",
    " 'cultivation',\n",
    " 'habitation',\n",
    " 'road',\n",
    " 'agriculture',\n",
    " 'water',\n",
    " 'primary',\n",
    " 'partly_cloudy', \n",
    " 'cloudy',\n",
    " 'clear',\n",
    " 'haze',]\n",
    "\n",
    "label_map = {l: i for i, l in enumerate(labels)}\n",
    "inv_label_map = {i: l for l, i in label_map.items()}\n",
    "\n",
    "\n",
    "for f, tags in tqdm(df_train.values, miniters=1000):    \n",
    "    targets = np.zeros(17)\n",
    "    for t in tags.split(' '):\n",
    "        targets[label_map[t]] = 1 \n",
    "    y_2.append(targets)\n",
    "  \n",
    "y_2 = np.array(y_2, np.uint8)\n",
    "\n",
    "print(y_2.shape)"
   ]
  },
  {
   "cell_type": "code",
   "execution_count": 6,
   "metadata": {
    "collapsed": false
   },
   "outputs": [
    {
     "name": "stderr",
     "output_type": "stream",
     "text": [
      "100%|██████████| 61191/61191 [00:00<00:00, 267508.62it/s]"
     ]
    },
    {
     "name": "stdout",
     "output_type": "stream",
     "text": [
      "(61191, 17)\n"
     ]
    },
    {
     "name": "stderr",
     "output_type": "stream",
     "text": [
      "\n"
     ]
    }
   ],
   "source": [
    "y_3 = []\n",
    "\n",
    "df_train = pd.read_csv(file_3)\n",
    "\n",
    "labels = ['blow_down',\n",
    " 'bare_ground',\n",
    " 'conventional_mine',\n",
    " 'blooming',\n",
    " 'artisinal_mine',\n",
    " 'selective_logging',         \n",
    " 'slash_burn', \n",
    " 'cultivation',\n",
    " 'habitation',\n",
    " 'road',\n",
    " 'agriculture',\n",
    " 'water',\n",
    " 'primary',\n",
    " 'partly_cloudy', \n",
    " 'cloudy',\n",
    " 'clear',\n",
    " 'haze',]\n",
    "\n",
    "label_map = {l: i for i, l in enumerate(labels)}\n",
    "inv_label_map = {i: l for l, i in label_map.items()}\n",
    "\n",
    "\n",
    "for f, tags in tqdm(df_train.values, miniters=1000):    \n",
    "    targets = np.zeros(17)\n",
    "    for t in tags.split(' '):\n",
    "        targets[label_map[t]] = 1 \n",
    "    y_3.append(targets)\n",
    "  \n",
    "y_3 = np.array(y_3, np.uint8)\n",
    "\n",
    "print(y_3.shape)"
   ]
  },
  {
   "cell_type": "code",
   "execution_count": 7,
   "metadata": {
    "collapsed": true
   },
   "outputs": [],
   "source": [
    "y = y_1 + y_2 +y_3"
   ]
  },
  {
   "cell_type": "code",
   "execution_count": 8,
   "metadata": {
    "collapsed": true
   },
   "outputs": [],
   "source": [
    "y = (y>=2)"
   ]
  },
  {
   "cell_type": "code",
   "execution_count": 9,
   "metadata": {
    "collapsed": true
   },
   "outputs": [],
   "source": [
    "labels_np = np.array(labels)\n",
    "preds = [' '.join(labels_np[np.array(y[i,:],bool)]) for i in range(y.shape[0])]\n",
    "subm = pd.DataFrame()\n",
    "subm['image_name'] = df_train.values[:,0]\n",
    "subm['tags'] = preds\n",
    "subm.to_csv('submission_ensemble_1.csv', index=False)\n",
    "#test set score: 0.92566"
   ]
  },
  {
   "cell_type": "code",
   "execution_count": 10,
   "metadata": {
    "collapsed": true
   },
   "outputs": [],
   "source": [
    "file_1 = 'submission_96_3net_4.csv'\n",
    "file_2 = 'submission_64_3net_8.csv'\n",
    "file_3 = 'submission_32_net_1.csv'"
   ]
  },
  {
   "cell_type": "code",
   "execution_count": 12,
   "metadata": {
    "collapsed": false
   },
   "outputs": [
    {
     "name": "stderr",
     "output_type": "stream",
     "text": [
      "100%|██████████| 61191/61191 [00:00<00:00, 276729.85it/s]"
     ]
    },
    {
     "name": "stdout",
     "output_type": "stream",
     "text": [
      "(61191, 17)\n"
     ]
    },
    {
     "name": "stderr",
     "output_type": "stream",
     "text": [
      "\n"
     ]
    }
   ],
   "source": [
    "y_1 = []\n",
    "\n",
    "df_train = pd.read_csv(file_1)\n",
    "\n",
    "labels = ['blow_down',\n",
    " 'bare_ground',\n",
    " 'conventional_mine',\n",
    " 'blooming',\n",
    " 'artisinal_mine',\n",
    " 'selective_logging',         \n",
    " 'slash_burn', \n",
    " 'cultivation',\n",
    " 'habitation',\n",
    " 'road',\n",
    " 'agriculture',\n",
    " 'water',\n",
    " 'primary',\n",
    " 'partly_cloudy', \n",
    " 'cloudy',\n",
    " 'clear',\n",
    " 'haze',]\n",
    "\n",
    "label_map = {l: i for i, l in enumerate(labels)}\n",
    "inv_label_map = {i: l for l, i in label_map.items()}\n",
    "\n",
    "\n",
    "for f, tags in tqdm(df_train.values, miniters=1000):    \n",
    "    targets = np.zeros(17)\n",
    "    for t in tags.split(' '):\n",
    "        targets[label_map[t]] = 1 \n",
    "    y_1.append(targets)\n",
    "  \n",
    "y_1 = np.array(y_1, np.uint8)\n",
    "\n",
    "print(y_1.shape)"
   ]
  },
  {
   "cell_type": "code",
   "execution_count": 13,
   "metadata": {
    "collapsed": false
   },
   "outputs": [
    {
     "name": "stderr",
     "output_type": "stream",
     "text": [
      "100%|██████████| 61191/61191 [00:00<00:00, 269704.95it/s]"
     ]
    },
    {
     "name": "stdout",
     "output_type": "stream",
     "text": [
      "(61191, 17)\n"
     ]
    },
    {
     "name": "stderr",
     "output_type": "stream",
     "text": [
      "\n"
     ]
    }
   ],
   "source": [
    "y_2 = []\n",
    "\n",
    "df_train = pd.read_csv(file_2)\n",
    "\n",
    "labels = ['blow_down',\n",
    " 'bare_ground',\n",
    " 'conventional_mine',\n",
    " 'blooming',\n",
    " 'artisinal_mine',\n",
    " 'selective_logging',         \n",
    " 'slash_burn', \n",
    " 'cultivation',\n",
    " 'habitation',\n",
    " 'road',\n",
    " 'agriculture',\n",
    " 'water',\n",
    " 'primary',\n",
    " 'partly_cloudy', \n",
    " 'cloudy',\n",
    " 'clear',\n",
    " 'haze',]\n",
    "\n",
    "label_map = {l: i for i, l in enumerate(labels)}\n",
    "inv_label_map = {i: l for l, i in label_map.items()}\n",
    "\n",
    "\n",
    "for f, tags in tqdm(df_train.values, miniters=1000):    \n",
    "    targets = np.zeros(17)\n",
    "    for t in tags.split(' '):\n",
    "        targets[label_map[t]] = 1 \n",
    "    y_2.append(targets)\n",
    "  \n",
    "y_2 = np.array(y_2, np.uint8)\n",
    "\n",
    "print(y_2.shape)"
   ]
  },
  {
   "cell_type": "code",
   "execution_count": 14,
   "metadata": {
    "collapsed": false
   },
   "outputs": [
    {
     "name": "stderr",
     "output_type": "stream",
     "text": [
      "100%|██████████| 61191/61191 [00:00<00:00, 282376.15it/s]"
     ]
    },
    {
     "name": "stdout",
     "output_type": "stream",
     "text": [
      "(61191, 17)\n"
     ]
    },
    {
     "name": "stderr",
     "output_type": "stream",
     "text": [
      "\n"
     ]
    }
   ],
   "source": [
    "y_3 = []\n",
    "\n",
    "df_train = pd.read_csv(file_3)\n",
    "\n",
    "labels = ['blow_down',\n",
    " 'bare_ground',\n",
    " 'conventional_mine',\n",
    " 'blooming',\n",
    " 'artisinal_mine',\n",
    " 'selective_logging',         \n",
    " 'slash_burn', \n",
    " 'cultivation',\n",
    " 'habitation',\n",
    " 'road',\n",
    " 'agriculture',\n",
    " 'water',\n",
    " 'primary',\n",
    " 'partly_cloudy', \n",
    " 'cloudy',\n",
    " 'clear',\n",
    " 'haze',]\n",
    "\n",
    "label_map = {l: i for i, l in enumerate(labels)}\n",
    "inv_label_map = {i: l for l, i in label_map.items()}\n",
    "\n",
    "\n",
    "for f, tags in tqdm(df_train.values, miniters=1000):    \n",
    "    targets = np.zeros(17)\n",
    "    for t in tags.split(' '):\n",
    "        targets[label_map[t]] = 1 \n",
    "    y_3.append(targets)\n",
    "  \n",
    "y_3 = np.array(y_3, np.uint8)\n",
    "\n",
    "print(y_3.shape)"
   ]
  },
  {
   "cell_type": "code",
   "execution_count": 15,
   "metadata": {
    "collapsed": true
   },
   "outputs": [],
   "source": [
    "y = y_1 + y_2 +y_3"
   ]
  },
  {
   "cell_type": "code",
   "execution_count": 16,
   "metadata": {
    "collapsed": true
   },
   "outputs": [],
   "source": [
    "y = (y>=1)"
   ]
  },
  {
   "cell_type": "code",
   "execution_count": 17,
   "metadata": {
    "collapsed": true
   },
   "outputs": [],
   "source": [
    "labels_np = np.array(labels)\n",
    "preds = [' '.join(labels_np[np.array(y[i,:],bool)]) for i in range(y.shape[0])]\n",
    "subm = pd.DataFrame()\n",
    "subm['image_name'] = df_train.values[:,0]\n",
    "subm['tags'] = preds\n",
    "subm.to_csv('submission_ensemble_2.csv', index=False)\n",
    "#test set score: 0.92051"
   ]
  },
  {
   "cell_type": "code",
   "execution_count": 20,
   "metadata": {
    "collapsed": true
   },
   "outputs": [],
   "source": [
    "file_1 = 'submission_96_3net_4.csv'\n",
    "file_2 = 'submission_64_3net_8.csv'\n",
    "file_3 = 'submission_32_net_1.csv'\n",
    "file_4 = 'submission_3net_1.csv'"
   ]
  },
  {
   "cell_type": "code",
   "execution_count": 21,
   "metadata": {
    "collapsed": false
   },
   "outputs": [
    {
     "name": "stderr",
     "output_type": "stream",
     "text": [
      "100%|██████████| 61191/61191 [00:00<00:00, 269253.65it/s]"
     ]
    },
    {
     "name": "stdout",
     "output_type": "stream",
     "text": [
      "(61191, 17)\n"
     ]
    },
    {
     "name": "stderr",
     "output_type": "stream",
     "text": [
      "\n"
     ]
    }
   ],
   "source": [
    "y_1 = []\n",
    "\n",
    "df_train = pd.read_csv(file_1)\n",
    "\n",
    "labels = ['blow_down',\n",
    " 'bare_ground',\n",
    " 'conventional_mine',\n",
    " 'blooming',\n",
    " 'artisinal_mine',\n",
    " 'selective_logging',         \n",
    " 'slash_burn', \n",
    " 'cultivation',\n",
    " 'habitation',\n",
    " 'road',\n",
    " 'agriculture',\n",
    " 'water',\n",
    " 'primary',\n",
    " 'partly_cloudy', \n",
    " 'cloudy',\n",
    " 'clear',\n",
    " 'haze',]\n",
    "\n",
    "label_map = {l: i for i, l in enumerate(labels)}\n",
    "inv_label_map = {i: l for l, i in label_map.items()}\n",
    "\n",
    "\n",
    "for f, tags in tqdm(df_train.values, miniters=1000):    \n",
    "    targets = np.zeros(17)\n",
    "    for t in tags.split(' '):\n",
    "        targets[label_map[t]] = 1 \n",
    "    y_1.append(targets)\n",
    "  \n",
    "y_1 = np.array(y_1, np.uint8)\n",
    "\n",
    "print(y_1.shape)"
   ]
  },
  {
   "cell_type": "code",
   "execution_count": 22,
   "metadata": {
    "collapsed": false
   },
   "outputs": [
    {
     "name": "stderr",
     "output_type": "stream",
     "text": [
      "100%|██████████| 61191/61191 [00:00<00:00, 290492.55it/s]"
     ]
    },
    {
     "name": "stdout",
     "output_type": "stream",
     "text": [
      "(61191, 17)\n"
     ]
    },
    {
     "name": "stderr",
     "output_type": "stream",
     "text": [
      "\n"
     ]
    }
   ],
   "source": [
    "y_2 = []\n",
    "\n",
    "df_train = pd.read_csv(file_2)\n",
    "\n",
    "labels = ['blow_down',\n",
    " 'bare_ground',\n",
    " 'conventional_mine',\n",
    " 'blooming',\n",
    " 'artisinal_mine',\n",
    " 'selective_logging',         \n",
    " 'slash_burn', \n",
    " 'cultivation',\n",
    " 'habitation',\n",
    " 'road',\n",
    " 'agriculture',\n",
    " 'water',\n",
    " 'primary',\n",
    " 'partly_cloudy', \n",
    " 'cloudy',\n",
    " 'clear',\n",
    " 'haze',]\n",
    "\n",
    "label_map = {l: i for i, l in enumerate(labels)}\n",
    "inv_label_map = {i: l for l, i in label_map.items()}\n",
    "\n",
    "\n",
    "for f, tags in tqdm(df_train.values, miniters=1000):    \n",
    "    targets = np.zeros(17)\n",
    "    for t in tags.split(' '):\n",
    "        targets[label_map[t]] = 1 \n",
    "    y_2.append(targets)\n",
    "  \n",
    "y_2 = np.array(y_2, np.uint8)\n",
    "\n",
    "print(y_2.shape)"
   ]
  },
  {
   "cell_type": "code",
   "execution_count": 23,
   "metadata": {
    "collapsed": false
   },
   "outputs": [
    {
     "name": "stderr",
     "output_type": "stream",
     "text": [
      "100%|██████████| 61191/61191 [00:00<00:00, 272452.06it/s]"
     ]
    },
    {
     "name": "stdout",
     "output_type": "stream",
     "text": [
      "(61191, 17)\n"
     ]
    },
    {
     "name": "stderr",
     "output_type": "stream",
     "text": [
      "\n"
     ]
    }
   ],
   "source": [
    "y_3 = []\n",
    "\n",
    "df_train = pd.read_csv(file_3)\n",
    "\n",
    "labels = ['blow_down',\n",
    " 'bare_ground',\n",
    " 'conventional_mine',\n",
    " 'blooming',\n",
    " 'artisinal_mine',\n",
    " 'selective_logging',         \n",
    " 'slash_burn', \n",
    " 'cultivation',\n",
    " 'habitation',\n",
    " 'road',\n",
    " 'agriculture',\n",
    " 'water',\n",
    " 'primary',\n",
    " 'partly_cloudy', \n",
    " 'cloudy',\n",
    " 'clear',\n",
    " 'haze',]\n",
    "\n",
    "label_map = {l: i for i, l in enumerate(labels)}\n",
    "inv_label_map = {i: l for l, i in label_map.items()}\n",
    "\n",
    "\n",
    "for f, tags in tqdm(df_train.values, miniters=1000):    \n",
    "    targets = np.zeros(17)\n",
    "    for t in tags.split(' '):\n",
    "        targets[label_map[t]] = 1 \n",
    "    y_3.append(targets)\n",
    "  \n",
    "y_3 = np.array(y_3, np.uint8)\n",
    "\n",
    "print(y_3.shape)"
   ]
  },
  {
   "cell_type": "code",
   "execution_count": 24,
   "metadata": {
    "collapsed": false
   },
   "outputs": [
    {
     "name": "stderr",
     "output_type": "stream",
     "text": [
      "100%|██████████| 61191/61191 [00:00<00:00, 286164.04it/s]"
     ]
    },
    {
     "name": "stdout",
     "output_type": "stream",
     "text": [
      "(61191, 17)\n"
     ]
    },
    {
     "name": "stderr",
     "output_type": "stream",
     "text": [
      "\n"
     ]
    }
   ],
   "source": [
    "y_4 = []\n",
    "\n",
    "df_train = pd.read_csv(file_4)\n",
    "\n",
    "labels = ['blow_down',\n",
    " 'bare_ground',\n",
    " 'conventional_mine',\n",
    " 'blooming',\n",
    " 'artisinal_mine',\n",
    " 'selective_logging',         \n",
    " 'slash_burn', \n",
    " 'cultivation',\n",
    " 'habitation',\n",
    " 'road',\n",
    " 'agriculture',\n",
    " 'water',\n",
    " 'primary',\n",
    " 'partly_cloudy', \n",
    " 'cloudy',\n",
    " 'clear',\n",
    " 'haze',]\n",
    "\n",
    "label_map = {l: i for i, l in enumerate(labels)}\n",
    "inv_label_map = {i: l for l, i in label_map.items()}\n",
    "\n",
    "\n",
    "for f, tags in tqdm(df_train.values, miniters=1000):    \n",
    "    targets = np.zeros(17)\n",
    "    for t in tags.split(' '):\n",
    "        targets[label_map[t]] = 1 \n",
    "    y_4.append(targets)\n",
    "  \n",
    "y_4 = np.array(y_4, np.uint8)\n",
    "\n",
    "print(y_4.shape)"
   ]
  },
  {
   "cell_type": "code",
   "execution_count": 25,
   "metadata": {
    "collapsed": true
   },
   "outputs": [],
   "source": [
    "y_sum = y_1 + y_2 +y_3 + y_4"
   ]
  },
  {
   "cell_type": "code",
   "execution_count": 26,
   "metadata": {
    "collapsed": true
   },
   "outputs": [],
   "source": [
    "y = (y_sum>=2)"
   ]
  },
  {
   "cell_type": "code",
   "execution_count": 27,
   "metadata": {
    "collapsed": true
   },
   "outputs": [],
   "source": [
    "labels_np = np.array(labels)\n",
    "preds = [' '.join(labels_np[np.array(y[i,:],bool)]) for i in range(y.shape[0])]\n",
    "subm = pd.DataFrame()\n",
    "subm['image_name'] = df_train.values[:,0]\n",
    "subm['tags'] = preds\n",
    "subm.to_csv('submission_ensemble_3.csv', index=False)\n",
    "#test set score: 0.92447"
   ]
  },
  {
   "cell_type": "code",
   "execution_count": 28,
   "metadata": {
    "collapsed": true
   },
   "outputs": [],
   "source": [
    "y = (y_sum>=3)"
   ]
  },
  {
   "cell_type": "code",
   "execution_count": 29,
   "metadata": {
    "collapsed": true
   },
   "outputs": [],
   "source": [
    "labels_np = np.array(labels)\n",
    "preds = [' '.join(labels_np[np.array(y[i,:],bool)]) for i in range(y.shape[0])]\n",
    "subm = pd.DataFrame()\n",
    "subm['image_name'] = df_train.values[:,0]\n",
    "subm['tags'] = preds\n",
    "subm.to_csv('submission_ensemble_4.csv', index=False)\n",
    "#test set score: "
   ]
  },
  {
   "cell_type": "code",
   "execution_count": 31,
   "metadata": {
    "collapsed": true
   },
   "outputs": [],
   "source": [
    "file_1 = 'submission_96_3net_4.csv'\n",
    "file_2 = 'submission_64_3net_8.csv'\n",
    "file_3 = 'submission_64_net_1.csv'"
   ]
  },
  {
   "cell_type": "code",
   "execution_count": 32,
   "metadata": {
    "collapsed": false
   },
   "outputs": [
    {
     "name": "stderr",
     "output_type": "stream",
     "text": [
      "100%|██████████| 61191/61191 [00:00<00:00, 270667.18it/s]"
     ]
    },
    {
     "name": "stdout",
     "output_type": "stream",
     "text": [
      "(61191, 17)\n"
     ]
    },
    {
     "name": "stderr",
     "output_type": "stream",
     "text": [
      "\n"
     ]
    }
   ],
   "source": [
    "y_1 = []\n",
    "\n",
    "df_train = pd.read_csv(file_1)\n",
    "\n",
    "labels = ['blow_down',\n",
    " 'bare_ground',\n",
    " 'conventional_mine',\n",
    " 'blooming',\n",
    " 'artisinal_mine',\n",
    " 'selective_logging',         \n",
    " 'slash_burn', \n",
    " 'cultivation',\n",
    " 'habitation',\n",
    " 'road',\n",
    " 'agriculture',\n",
    " 'water',\n",
    " 'primary',\n",
    " 'partly_cloudy', \n",
    " 'cloudy',\n",
    " 'clear',\n",
    " 'haze',]\n",
    "\n",
    "label_map = {l: i for i, l in enumerate(labels)}\n",
    "inv_label_map = {i: l for l, i in label_map.items()}\n",
    "\n",
    "\n",
    "for f, tags in tqdm(df_train.values, miniters=1000):    \n",
    "    targets = np.zeros(17)\n",
    "    for t in tags.split(' '):\n",
    "        targets[label_map[t]] = 1 \n",
    "    y_1.append(targets)\n",
    "  \n",
    "y_1 = np.array(y_1, np.uint8)\n",
    "\n",
    "print(y_1.shape)"
   ]
  },
  {
   "cell_type": "code",
   "execution_count": 33,
   "metadata": {
    "collapsed": false
   },
   "outputs": [
    {
     "name": "stderr",
     "output_type": "stream",
     "text": [
      "100%|██████████| 61191/61191 [00:00<00:00, 282421.51it/s]"
     ]
    },
    {
     "name": "stdout",
     "output_type": "stream",
     "text": [
      "(61191, 17)\n"
     ]
    },
    {
     "name": "stderr",
     "output_type": "stream",
     "text": [
      "\n"
     ]
    }
   ],
   "source": [
    "y_2 = []\n",
    "\n",
    "df_train = pd.read_csv(file_2)\n",
    "\n",
    "labels = ['blow_down',\n",
    " 'bare_ground',\n",
    " 'conventional_mine',\n",
    " 'blooming',\n",
    " 'artisinal_mine',\n",
    " 'selective_logging',         \n",
    " 'slash_burn', \n",
    " 'cultivation',\n",
    " 'habitation',\n",
    " 'road',\n",
    " 'agriculture',\n",
    " 'water',\n",
    " 'primary',\n",
    " 'partly_cloudy', \n",
    " 'cloudy',\n",
    " 'clear',\n",
    " 'haze',]\n",
    "\n",
    "label_map = {l: i for i, l in enumerate(labels)}\n",
    "inv_label_map = {i: l for l, i in label_map.items()}\n",
    "\n",
    "\n",
    "for f, tags in tqdm(df_train.values, miniters=1000):    \n",
    "    targets = np.zeros(17)\n",
    "    for t in tags.split(' '):\n",
    "        targets[label_map[t]] = 1 \n",
    "    y_2.append(targets)\n",
    "  \n",
    "y_2 = np.array(y_2, np.uint8)\n",
    "\n",
    "print(y_2.shape)"
   ]
  },
  {
   "cell_type": "code",
   "execution_count": 34,
   "metadata": {
    "collapsed": false
   },
   "outputs": [
    {
     "name": "stderr",
     "output_type": "stream",
     "text": [
      "100%|██████████| 61191/61191 [00:00<00:00, 277926.42it/s]"
     ]
    },
    {
     "name": "stdout",
     "output_type": "stream",
     "text": [
      "(61191, 17)\n"
     ]
    },
    {
     "name": "stderr",
     "output_type": "stream",
     "text": [
      "\n"
     ]
    }
   ],
   "source": [
    "y_3 = []\n",
    "\n",
    "df_train = pd.read_csv(file_3)\n",
    "\n",
    "labels = ['blow_down',\n",
    " 'bare_ground',\n",
    " 'conventional_mine',\n",
    " 'blooming',\n",
    " 'artisinal_mine',\n",
    " 'selective_logging',         \n",
    " 'slash_burn', \n",
    " 'cultivation',\n",
    " 'habitation',\n",
    " 'road',\n",
    " 'agriculture',\n",
    " 'water',\n",
    " 'primary',\n",
    " 'partly_cloudy', \n",
    " 'cloudy',\n",
    " 'clear',\n",
    " 'haze',]\n",
    "\n",
    "label_map = {l: i for i, l in enumerate(labels)}\n",
    "inv_label_map = {i: l for l, i in label_map.items()}\n",
    "\n",
    "\n",
    "for f, tags in tqdm(df_train.values, miniters=1000):    \n",
    "    targets = np.zeros(17)\n",
    "    for t in tags.split(' '):\n",
    "        targets[label_map[t]] = 1 \n",
    "    y_3.append(targets)\n",
    "  \n",
    "y_3 = np.array(y_3, np.uint8)\n",
    "\n",
    "print(y_3.shape)"
   ]
  },
  {
   "cell_type": "code",
   "execution_count": 35,
   "metadata": {
    "collapsed": true
   },
   "outputs": [],
   "source": [
    "y_sum = y_1 + y_2 +y_3"
   ]
  },
  {
   "cell_type": "code",
   "execution_count": 36,
   "metadata": {
    "collapsed": true
   },
   "outputs": [],
   "source": [
    "y = (y_sum>=2)"
   ]
  },
  {
   "cell_type": "code",
   "execution_count": 37,
   "metadata": {
    "collapsed": true
   },
   "outputs": [],
   "source": [
    "labels_np = np.array(labels)\n",
    "preds = [' '.join(labels_np[np.array(y[i,:],bool)]) for i in range(y.shape[0])]\n",
    "subm = pd.DataFrame()\n",
    "subm['image_name'] = df_train.values[:,0]\n",
    "subm['tags'] = preds\n",
    "subm.to_csv('submission_ensemble_5.csv', index=False)\n",
    "#test set score: "
   ]
  },
  {
   "cell_type": "code",
   "execution_count": 3,
   "metadata": {
    "collapsed": true
   },
   "outputs": [],
   "source": [
    "file_1 = 'submission_96_3net_4.csv'\n",
    "file_2 = 'submission_64_3net_8.csv'\n",
    "file_3 = 'submission_inc_1.csv'"
   ]
  },
  {
   "cell_type": "code",
   "execution_count": 4,
   "metadata": {
    "collapsed": false
   },
   "outputs": [
    {
     "name": "stderr",
     "output_type": "stream",
     "text": [
      "100%|██████████| 61191/61191 [00:00<00:00, 260093.92it/s]"
     ]
    },
    {
     "name": "stdout",
     "output_type": "stream",
     "text": [
      "(61191, 17)\n"
     ]
    },
    {
     "name": "stderr",
     "output_type": "stream",
     "text": [
      "\n"
     ]
    }
   ],
   "source": [
    "y_1 = []\n",
    "\n",
    "df_train = pd.read_csv(file_1)\n",
    "\n",
    "labels = ['blow_down',\n",
    " 'bare_ground',\n",
    " 'conventional_mine',\n",
    " 'blooming',\n",
    " 'artisinal_mine',\n",
    " 'selective_logging',         \n",
    " 'slash_burn', \n",
    " 'cultivation',\n",
    " 'habitation',\n",
    " 'road',\n",
    " 'agriculture',\n",
    " 'water',\n",
    " 'primary',\n",
    " 'partly_cloudy', \n",
    " 'cloudy',\n",
    " 'clear',\n",
    " 'haze',]\n",
    "\n",
    "label_map = {l: i for i, l in enumerate(labels)}\n",
    "inv_label_map = {i: l for l, i in label_map.items()}\n",
    "\n",
    "\n",
    "for f, tags in tqdm(df_train.values, miniters=1000):    \n",
    "    targets = np.zeros(17)\n",
    "    for t in tags.split(' '):\n",
    "        targets[label_map[t]] = 1 \n",
    "    y_1.append(targets)\n",
    "  \n",
    "y_1 = np.array(y_1, np.uint8)\n",
    "\n",
    "print(y_1.shape)"
   ]
  },
  {
   "cell_type": "code",
   "execution_count": 5,
   "metadata": {
    "collapsed": false
   },
   "outputs": [
    {
     "name": "stderr",
     "output_type": "stream",
     "text": [
      "100%|██████████| 61191/61191 [00:00<00:00, 262807.29it/s]"
     ]
    },
    {
     "name": "stdout",
     "output_type": "stream",
     "text": [
      "(61191, 17)\n"
     ]
    },
    {
     "name": "stderr",
     "output_type": "stream",
     "text": [
      "\n"
     ]
    }
   ],
   "source": [
    "y_2 = []\n",
    "\n",
    "df_train = pd.read_csv(file_2)\n",
    "\n",
    "labels = ['blow_down',\n",
    " 'bare_ground',\n",
    " 'conventional_mine',\n",
    " 'blooming',\n",
    " 'artisinal_mine',\n",
    " 'selective_logging',         \n",
    " 'slash_burn', \n",
    " 'cultivation',\n",
    " 'habitation',\n",
    " 'road',\n",
    " 'agriculture',\n",
    " 'water',\n",
    " 'primary',\n",
    " 'partly_cloudy', \n",
    " 'cloudy',\n",
    " 'clear',\n",
    " 'haze',]\n",
    "\n",
    "label_map = {l: i for i, l in enumerate(labels)}\n",
    "inv_label_map = {i: l for l, i in label_map.items()}\n",
    "\n",
    "\n",
    "for f, tags in tqdm(df_train.values, miniters=1000):    \n",
    "    targets = np.zeros(17)\n",
    "    for t in tags.split(' '):\n",
    "        targets[label_map[t]] = 1 \n",
    "    y_2.append(targets)\n",
    "  \n",
    "y_2 = np.array(y_2, np.uint8)\n",
    "\n",
    "print(y_2.shape)"
   ]
  },
  {
   "cell_type": "code",
   "execution_count": 6,
   "metadata": {
    "collapsed": false
   },
   "outputs": [
    {
     "name": "stderr",
     "output_type": "stream",
     "text": [
      "100%|██████████| 61191/61191 [00:00<00:00, 248770.61it/s]"
     ]
    },
    {
     "name": "stdout",
     "output_type": "stream",
     "text": [
      "(61191, 17)\n"
     ]
    },
    {
     "name": "stderr",
     "output_type": "stream",
     "text": [
      "\n"
     ]
    }
   ],
   "source": [
    "y_3 = []\n",
    "\n",
    "df_train = pd.read_csv(file_3)\n",
    "\n",
    "labels = ['blow_down',\n",
    " 'bare_ground',\n",
    " 'conventional_mine',\n",
    " 'blooming',\n",
    " 'artisinal_mine',\n",
    " 'selective_logging',         \n",
    " 'slash_burn', \n",
    " 'cultivation',\n",
    " 'habitation',\n",
    " 'road',\n",
    " 'agriculture',\n",
    " 'water',\n",
    " 'primary',\n",
    " 'partly_cloudy', \n",
    " 'cloudy',\n",
    " 'clear',\n",
    " 'haze',]\n",
    "\n",
    "label_map = {l: i for i, l in enumerate(labels)}\n",
    "inv_label_map = {i: l for l, i in label_map.items()}\n",
    "\n",
    "\n",
    "for f, tags in tqdm(df_train.values, miniters=1000):    \n",
    "    targets = np.zeros(17)\n",
    "    for t in tags.split(' '):\n",
    "        targets[label_map[t]] = 1 \n",
    "    y_3.append(targets)\n",
    "  \n",
    "y_3 = np.array(y_3, np.uint8)\n",
    "\n",
    "print(y_3.shape)"
   ]
  },
  {
   "cell_type": "code",
   "execution_count": 7,
   "metadata": {
    "collapsed": true
   },
   "outputs": [],
   "source": [
    "y_sum = y_1 + y_2 +y_3"
   ]
  },
  {
   "cell_type": "code",
   "execution_count": 8,
   "metadata": {
    "collapsed": true
   },
   "outputs": [],
   "source": [
    "y = (y_sum>=2)"
   ]
  },
  {
   "cell_type": "code",
   "execution_count": 9,
   "metadata": {
    "collapsed": true
   },
   "outputs": [],
   "source": [
    "labels_np = np.array(labels)\n",
    "preds = [' '.join(labels_np[np.array(y[i,:],bool)]) for i in range(y.shape[0])]\n",
    "subm = pd.DataFrame()\n",
    "subm['image_name'] = df_train.values[:,0]\n",
    "subm['tags'] = preds\n",
    "subm.to_csv('submission_ensemble_6.csv', index=False)\n",
    "#test set score: 0.92773"
   ]
  },
  {
   "cell_type": "code",
   "execution_count": 11,
   "metadata": {
    "collapsed": true
   },
   "outputs": [],
   "source": [
    "file_1 = 'submission_96_3net_4.csv'\n",
    "file_2 = 'submission_64_3net_8.csv'\n",
    "file_3 = 'submission_inc_1.csv'\n",
    "file_4 = 'submission_resnet18_0.92276.csv'"
   ]
  },
  {
   "cell_type": "code",
   "execution_count": 12,
   "metadata": {
    "collapsed": false
   },
   "outputs": [
    {
     "name": "stderr",
     "output_type": "stream",
     "text": [
      "100%|██████████| 61191/61191 [00:00<00:00, 269757.96it/s]"
     ]
    },
    {
     "name": "stdout",
     "output_type": "stream",
     "text": [
      "(61191, 17)\n"
     ]
    },
    {
     "name": "stderr",
     "output_type": "stream",
     "text": [
      "\n"
     ]
    }
   ],
   "source": [
    "y_1 = []\n",
    "\n",
    "df_train = pd.read_csv(file_1)\n",
    "\n",
    "labels = ['blow_down',\n",
    " 'bare_ground',\n",
    " 'conventional_mine',\n",
    " 'blooming',\n",
    " 'artisinal_mine',\n",
    " 'selective_logging',         \n",
    " 'slash_burn', \n",
    " 'cultivation',\n",
    " 'habitation',\n",
    " 'road',\n",
    " 'agriculture',\n",
    " 'water',\n",
    " 'primary',\n",
    " 'partly_cloudy', \n",
    " 'cloudy',\n",
    " 'clear',\n",
    " 'haze',]\n",
    "\n",
    "label_map = {l: i for i, l in enumerate(labels)}\n",
    "inv_label_map = {i: l for l, i in label_map.items()}\n",
    "\n",
    "\n",
    "for f, tags in tqdm(df_train.values, miniters=1000):    \n",
    "    targets = np.zeros(17)\n",
    "    for t in tags.split(' '):\n",
    "        targets[label_map[t]] = 1 \n",
    "    y_1.append(targets)\n",
    "  \n",
    "y_1 = np.array(y_1, np.uint8)\n",
    "\n",
    "print(y_1.shape)"
   ]
  },
  {
   "cell_type": "code",
   "execution_count": 13,
   "metadata": {
    "collapsed": false
   },
   "outputs": [
    {
     "name": "stderr",
     "output_type": "stream",
     "text": [
      "100%|██████████| 61191/61191 [00:00<00:00, 257252.54it/s]"
     ]
    },
    {
     "name": "stdout",
     "output_type": "stream",
     "text": [
      "(61191, 17)\n"
     ]
    },
    {
     "name": "stderr",
     "output_type": "stream",
     "text": [
      "\n"
     ]
    }
   ],
   "source": [
    "y_2 = []\n",
    "\n",
    "df_train = pd.read_csv(file_2)\n",
    "\n",
    "labels = ['blow_down',\n",
    " 'bare_ground',\n",
    " 'conventional_mine',\n",
    " 'blooming',\n",
    " 'artisinal_mine',\n",
    " 'selective_logging',         \n",
    " 'slash_burn', \n",
    " 'cultivation',\n",
    " 'habitation',\n",
    " 'road',\n",
    " 'agriculture',\n",
    " 'water',\n",
    " 'primary',\n",
    " 'partly_cloudy', \n",
    " 'cloudy',\n",
    " 'clear',\n",
    " 'haze',]\n",
    "\n",
    "label_map = {l: i for i, l in enumerate(labels)}\n",
    "inv_label_map = {i: l for l, i in label_map.items()}\n",
    "\n",
    "\n",
    "for f, tags in tqdm(df_train.values, miniters=1000):    \n",
    "    targets = np.zeros(17)\n",
    "    for t in tags.split(' '):\n",
    "        targets[label_map[t]] = 1 \n",
    "    y_2.append(targets)\n",
    "  \n",
    "y_2 = np.array(y_2, np.uint8)\n",
    "\n",
    "print(y_2.shape)"
   ]
  },
  {
   "cell_type": "code",
   "execution_count": 14,
   "metadata": {
    "collapsed": false
   },
   "outputs": [
    {
     "name": "stderr",
     "output_type": "stream",
     "text": [
      "100%|██████████| 61191/61191 [00:00<00:00, 262574.45it/s]"
     ]
    },
    {
     "name": "stdout",
     "output_type": "stream",
     "text": [
      "(61191, 17)\n"
     ]
    },
    {
     "name": "stderr",
     "output_type": "stream",
     "text": [
      "\n"
     ]
    }
   ],
   "source": [
    "y_3 = []\n",
    "\n",
    "df_train = pd.read_csv(file_3)\n",
    "\n",
    "labels = ['blow_down',\n",
    " 'bare_ground',\n",
    " 'conventional_mine',\n",
    " 'blooming',\n",
    " 'artisinal_mine',\n",
    " 'selective_logging',         \n",
    " 'slash_burn', \n",
    " 'cultivation',\n",
    " 'habitation',\n",
    " 'road',\n",
    " 'agriculture',\n",
    " 'water',\n",
    " 'primary',\n",
    " 'partly_cloudy', \n",
    " 'cloudy',\n",
    " 'clear',\n",
    " 'haze',]\n",
    "\n",
    "label_map = {l: i for i, l in enumerate(labels)}\n",
    "inv_label_map = {i: l for l, i in label_map.items()}\n",
    "\n",
    "\n",
    "for f, tags in tqdm(df_train.values, miniters=1000):    \n",
    "    targets = np.zeros(17)\n",
    "    for t in tags.split(' '):\n",
    "        targets[label_map[t]] = 1 \n",
    "    y_3.append(targets)\n",
    "  \n",
    "y_3 = np.array(y_3, np.uint8)\n",
    "\n",
    "print(y_3.shape)"
   ]
  },
  {
   "cell_type": "code",
   "execution_count": 15,
   "metadata": {
    "collapsed": false
   },
   "outputs": [
    {
     "name": "stderr",
     "output_type": "stream",
     "text": [
      "100%|██████████| 61191/61191 [00:00<00:00, 269467.65it/s]"
     ]
    },
    {
     "name": "stdout",
     "output_type": "stream",
     "text": [
      "(61191, 17)\n"
     ]
    },
    {
     "name": "stderr",
     "output_type": "stream",
     "text": [
      "\n"
     ]
    }
   ],
   "source": [
    "y_4 = []\n",
    "\n",
    "df_train = pd.read_csv(file_4)\n",
    "\n",
    "labels = ['blow_down',\n",
    " 'bare_ground',\n",
    " 'conventional_mine',\n",
    " 'blooming',\n",
    " 'artisinal_mine',\n",
    " 'selective_logging',         \n",
    " 'slash_burn', \n",
    " 'cultivation',\n",
    " 'habitation',\n",
    " 'road',\n",
    " 'agriculture',\n",
    " 'water',\n",
    " 'primary',\n",
    " 'partly_cloudy', \n",
    " 'cloudy',\n",
    " 'clear',\n",
    " 'haze',]\n",
    "\n",
    "label_map = {l: i for i, l in enumerate(labels)}\n",
    "inv_label_map = {i: l for l, i in label_map.items()}\n",
    "\n",
    "\n",
    "for f, tags in tqdm(df_train.values, miniters=1000):    \n",
    "    targets = np.zeros(17)\n",
    "    for t in tags.split(' '):\n",
    "        targets[label_map[t]] = 1 \n",
    "    y_4.append(targets)\n",
    "  \n",
    "y_4 = np.array(y_4, np.uint8)\n",
    "\n",
    "print(y_4.shape)"
   ]
  },
  {
   "cell_type": "code",
   "execution_count": 16,
   "metadata": {
    "collapsed": true
   },
   "outputs": [],
   "source": [
    "y_sum = y_1 + y_2 +y_3+y_4"
   ]
  },
  {
   "cell_type": "code",
   "execution_count": 17,
   "metadata": {
    "collapsed": true
   },
   "outputs": [],
   "source": [
    "y = (y_sum>=2)"
   ]
  },
  {
   "cell_type": "code",
   "execution_count": 18,
   "metadata": {
    "collapsed": true
   },
   "outputs": [],
   "source": [
    "labels_np = np.array(labels)\n",
    "preds = [' '.join(labels_np[np.array(y[i,:],bool)]) for i in range(y.shape[0])]\n",
    "subm = pd.DataFrame()\n",
    "subm['image_name'] = df_train.values[:,0]\n",
    "subm['tags'] = preds\n",
    "subm.to_csv('submission_ensemble_7.csv', index=False)\n",
    "#test set score: 0.92910"
   ]
  },
  {
   "cell_type": "code",
   "execution_count": 2,
   "metadata": {
    "collapsed": true
   },
   "outputs": [],
   "source": [
    "file_1 = 'submission_96_3net_4.csv'\n",
    "file_2 = 'submission_64_3net_8.csv'\n",
    "file_3 = 'submission_inc_1.csv'\n",
    "file_4 = 'submission_exc_1.csv'"
   ]
  },
  {
   "cell_type": "code",
   "execution_count": 3,
   "metadata": {
    "collapsed": false
   },
   "outputs": [
    {
     "name": "stderr",
     "output_type": "stream",
     "text": [
      "100%|██████████| 61191/61191 [00:00<00:00, 268738.28it/s]"
     ]
    },
    {
     "name": "stdout",
     "output_type": "stream",
     "text": [
      "(61191, 17)\n"
     ]
    },
    {
     "name": "stderr",
     "output_type": "stream",
     "text": [
      "\n"
     ]
    }
   ],
   "source": [
    "y_1 = []\n",
    "\n",
    "df_train = pd.read_csv(file_1)\n",
    "\n",
    "labels = ['blow_down',\n",
    " 'bare_ground',\n",
    " 'conventional_mine',\n",
    " 'blooming',\n",
    " 'artisinal_mine',\n",
    " 'selective_logging',         \n",
    " 'slash_burn', \n",
    " 'cultivation',\n",
    " 'habitation',\n",
    " 'road',\n",
    " 'agriculture',\n",
    " 'water',\n",
    " 'primary',\n",
    " 'partly_cloudy', \n",
    " 'cloudy',\n",
    " 'clear',\n",
    " 'haze',]\n",
    "\n",
    "label_map = {l: i for i, l in enumerate(labels)}\n",
    "inv_label_map = {i: l for l, i in label_map.items()}\n",
    "\n",
    "\n",
    "for f, tags in tqdm(df_train.values, miniters=1000):    \n",
    "    targets = np.zeros(17)\n",
    "    for t in tags.split(' '):\n",
    "        targets[label_map[t]] = 1 \n",
    "    y_1.append(targets)\n",
    "  \n",
    "y_1 = np.array(y_1, np.uint8)\n",
    "\n",
    "print(y_1.shape)"
   ]
  },
  {
   "cell_type": "code",
   "execution_count": 4,
   "metadata": {
    "collapsed": false
   },
   "outputs": [
    {
     "name": "stderr",
     "output_type": "stream",
     "text": [
      "100%|██████████| 61191/61191 [00:00<00:00, 281694.93it/s]"
     ]
    },
    {
     "name": "stdout",
     "output_type": "stream",
     "text": [
      "(61191, 17)\n"
     ]
    },
    {
     "name": "stderr",
     "output_type": "stream",
     "text": [
      "\n"
     ]
    }
   ],
   "source": [
    "y_2 = []\n",
    "\n",
    "df_train = pd.read_csv(file_2)\n",
    "\n",
    "labels = ['blow_down',\n",
    " 'bare_ground',\n",
    " 'conventional_mine',\n",
    " 'blooming',\n",
    " 'artisinal_mine',\n",
    " 'selective_logging',         \n",
    " 'slash_burn', \n",
    " 'cultivation',\n",
    " 'habitation',\n",
    " 'road',\n",
    " 'agriculture',\n",
    " 'water',\n",
    " 'primary',\n",
    " 'partly_cloudy', \n",
    " 'cloudy',\n",
    " 'clear',\n",
    " 'haze',]\n",
    "\n",
    "label_map = {l: i for i, l in enumerate(labels)}\n",
    "inv_label_map = {i: l for l, i in label_map.items()}\n",
    "\n",
    "\n",
    "for f, tags in tqdm(df_train.values, miniters=1000):    \n",
    "    targets = np.zeros(17)\n",
    "    for t in tags.split(' '):\n",
    "        targets[label_map[t]] = 1 \n",
    "    y_2.append(targets)\n",
    "  \n",
    "y_2 = np.array(y_2, np.uint8)\n",
    "\n",
    "print(y_2.shape)"
   ]
  },
  {
   "cell_type": "code",
   "execution_count": 5,
   "metadata": {
    "collapsed": false
   },
   "outputs": [
    {
     "name": "stderr",
     "output_type": "stream",
     "text": [
      "100%|██████████| 61191/61191 [00:00<00:00, 261295.31it/s]"
     ]
    },
    {
     "name": "stdout",
     "output_type": "stream",
     "text": [
      "(61191, 17)\n"
     ]
    },
    {
     "name": "stderr",
     "output_type": "stream",
     "text": [
      "\n"
     ]
    }
   ],
   "source": [
    "y_3 = []\n",
    "\n",
    "df_train = pd.read_csv(file_3)\n",
    "\n",
    "labels = ['blow_down',\n",
    " 'bare_ground',\n",
    " 'conventional_mine',\n",
    " 'blooming',\n",
    " 'artisinal_mine',\n",
    " 'selective_logging',         \n",
    " 'slash_burn', \n",
    " 'cultivation',\n",
    " 'habitation',\n",
    " 'road',\n",
    " 'agriculture',\n",
    " 'water',\n",
    " 'primary',\n",
    " 'partly_cloudy', \n",
    " 'cloudy',\n",
    " 'clear',\n",
    " 'haze',]\n",
    "\n",
    "label_map = {l: i for i, l in enumerate(labels)}\n",
    "inv_label_map = {i: l for l, i in label_map.items()}\n",
    "\n",
    "\n",
    "for f, tags in tqdm(df_train.values, miniters=1000):    \n",
    "    targets = np.zeros(17)\n",
    "    for t in tags.split(' '):\n",
    "        targets[label_map[t]] = 1 \n",
    "    y_3.append(targets)\n",
    "  \n",
    "y_3 = np.array(y_3, np.uint8)\n",
    "\n",
    "print(y_3.shape)"
   ]
  },
  {
   "cell_type": "code",
   "execution_count": 6,
   "metadata": {
    "collapsed": false
   },
   "outputs": [
    {
     "name": "stderr",
     "output_type": "stream",
     "text": [
      "100%|██████████| 61191/61191 [00:00<00:00, 276397.86it/s]"
     ]
    },
    {
     "name": "stdout",
     "output_type": "stream",
     "text": [
      "(61191, 17)\n"
     ]
    },
    {
     "name": "stderr",
     "output_type": "stream",
     "text": [
      "\n"
     ]
    }
   ],
   "source": [
    "y_4 = []\n",
    "\n",
    "df_train = pd.read_csv(file_4)\n",
    "\n",
    "labels = ['blow_down',\n",
    " 'bare_ground',\n",
    " 'conventional_mine',\n",
    " 'blooming',\n",
    " 'artisinal_mine',\n",
    " 'selective_logging',         \n",
    " 'slash_burn', \n",
    " 'cultivation',\n",
    " 'habitation',\n",
    " 'road',\n",
    " 'agriculture',\n",
    " 'water',\n",
    " 'primary',\n",
    " 'partly_cloudy', \n",
    " 'cloudy',\n",
    " 'clear',\n",
    " 'haze',]\n",
    "\n",
    "label_map = {l: i for i, l in enumerate(labels)}\n",
    "inv_label_map = {i: l for l, i in label_map.items()}\n",
    "\n",
    "\n",
    "for f, tags in tqdm(df_train.values, miniters=1000):    \n",
    "    targets = np.zeros(17)\n",
    "    for t in tags.split(' '):\n",
    "        targets[label_map[t]] = 1 \n",
    "    y_4.append(targets)\n",
    "  \n",
    "y_4 = np.array(y_4, np.uint8)\n",
    "\n",
    "print(y_4.shape)"
   ]
  },
  {
   "cell_type": "code",
   "execution_count": 7,
   "metadata": {
    "collapsed": true
   },
   "outputs": [],
   "source": [
    "y_sum = y_1 + y_2 +y_3+y_4"
   ]
  },
  {
   "cell_type": "code",
   "execution_count": 8,
   "metadata": {
    "collapsed": true
   },
   "outputs": [],
   "source": [
    "y = (y_sum>=2)"
   ]
  },
  {
   "cell_type": "code",
   "execution_count": 9,
   "metadata": {
    "collapsed": true
   },
   "outputs": [],
   "source": [
    "labels_np = np.array(labels)\n",
    "preds = [' '.join(labels_np[np.array(y[i,:],bool)]) for i in range(y.shape[0])]\n",
    "subm = pd.DataFrame()\n",
    "subm['image_name'] = df_train.values[:,0]\n",
    "subm['tags'] = preds\n",
    "subm.to_csv('submission_ensemble_8.csv', index=False)\n",
    "#test set score: 0.92889"
   ]
  },
  {
   "cell_type": "code",
   "execution_count": 10,
   "metadata": {
    "collapsed": true
   },
   "outputs": [],
   "source": [
    "file_1 = 'submission_96_3net_4.csv'\n",
    "file_2 = 'submission_64_3net_8.csv'\n",
    "file_3 = 'submission_inc_1.csv'\n",
    "file_4 = 'submission_exc_1.csv'\n",
    "file_5 = 'submission_resnet18_0.92276.csv'"
   ]
  },
  {
   "cell_type": "code",
   "execution_count": 11,
   "metadata": {
    "collapsed": false
   },
   "outputs": [
    {
     "name": "stderr",
     "output_type": "stream",
     "text": [
      "100%|██████████| 61191/61191 [00:00<00:00, 259955.09it/s]"
     ]
    },
    {
     "name": "stdout",
     "output_type": "stream",
     "text": [
      "(61191, 17)\n"
     ]
    },
    {
     "name": "stderr",
     "output_type": "stream",
     "text": [
      "\n"
     ]
    }
   ],
   "source": [
    "y_1 = []\n",
    "\n",
    "df_train = pd.read_csv(file_1)\n",
    "\n",
    "labels = ['blow_down',\n",
    " 'bare_ground',\n",
    " 'conventional_mine',\n",
    " 'blooming',\n",
    " 'artisinal_mine',\n",
    " 'selective_logging',         \n",
    " 'slash_burn', \n",
    " 'cultivation',\n",
    " 'habitation',\n",
    " 'road',\n",
    " 'agriculture',\n",
    " 'water',\n",
    " 'primary',\n",
    " 'partly_cloudy', \n",
    " 'cloudy',\n",
    " 'clear',\n",
    " 'haze',]\n",
    "\n",
    "label_map = {l: i for i, l in enumerate(labels)}\n",
    "inv_label_map = {i: l for l, i in label_map.items()}\n",
    "\n",
    "\n",
    "for f, tags in tqdm(df_train.values, miniters=1000):    \n",
    "    targets = np.zeros(17)\n",
    "    for t in tags.split(' '):\n",
    "        targets[label_map[t]] = 1 \n",
    "    y_1.append(targets)\n",
    "  \n",
    "y_1 = np.array(y_1, np.uint8)\n",
    "\n",
    "print(y_1.shape)"
   ]
  },
  {
   "cell_type": "code",
   "execution_count": 12,
   "metadata": {
    "collapsed": false
   },
   "outputs": [
    {
     "name": "stderr",
     "output_type": "stream",
     "text": [
      "100%|██████████| 61191/61191 [00:00<00:00, 256761.24it/s]"
     ]
    },
    {
     "name": "stdout",
     "output_type": "stream",
     "text": [
      "(61191, 17)\n"
     ]
    },
    {
     "name": "stderr",
     "output_type": "stream",
     "text": [
      "\n"
     ]
    }
   ],
   "source": [
    "y_2 = []\n",
    "\n",
    "df_train = pd.read_csv(file_2)\n",
    "\n",
    "labels = ['blow_down',\n",
    " 'bare_ground',\n",
    " 'conventional_mine',\n",
    " 'blooming',\n",
    " 'artisinal_mine',\n",
    " 'selective_logging',         \n",
    " 'slash_burn', \n",
    " 'cultivation',\n",
    " 'habitation',\n",
    " 'road',\n",
    " 'agriculture',\n",
    " 'water',\n",
    " 'primary',\n",
    " 'partly_cloudy', \n",
    " 'cloudy',\n",
    " 'clear',\n",
    " 'haze',]\n",
    "\n",
    "label_map = {l: i for i, l in enumerate(labels)}\n",
    "inv_label_map = {i: l for l, i in label_map.items()}\n",
    "\n",
    "\n",
    "for f, tags in tqdm(df_train.values, miniters=1000):    \n",
    "    targets = np.zeros(17)\n",
    "    for t in tags.split(' '):\n",
    "        targets[label_map[t]] = 1 \n",
    "    y_2.append(targets)\n",
    "  \n",
    "y_2 = np.array(y_2, np.uint8)\n",
    "\n",
    "print(y_2.shape)"
   ]
  },
  {
   "cell_type": "code",
   "execution_count": 13,
   "metadata": {
    "collapsed": false
   },
   "outputs": [
    {
     "name": "stderr",
     "output_type": "stream",
     "text": [
      "100%|██████████| 61191/61191 [00:00<00:00, 263652.85it/s]"
     ]
    },
    {
     "name": "stdout",
     "output_type": "stream",
     "text": [
      "(61191, 17)\n"
     ]
    },
    {
     "name": "stderr",
     "output_type": "stream",
     "text": [
      "\n"
     ]
    }
   ],
   "source": [
    "y_3 = []\n",
    "\n",
    "df_train = pd.read_csv(file_3)\n",
    "\n",
    "labels = ['blow_down',\n",
    " 'bare_ground',\n",
    " 'conventional_mine',\n",
    " 'blooming',\n",
    " 'artisinal_mine',\n",
    " 'selective_logging',         \n",
    " 'slash_burn', \n",
    " 'cultivation',\n",
    " 'habitation',\n",
    " 'road',\n",
    " 'agriculture',\n",
    " 'water',\n",
    " 'primary',\n",
    " 'partly_cloudy', \n",
    " 'cloudy',\n",
    " 'clear',\n",
    " 'haze',]\n",
    "\n",
    "label_map = {l: i for i, l in enumerate(labels)}\n",
    "inv_label_map = {i: l for l, i in label_map.items()}\n",
    "\n",
    "\n",
    "for f, tags in tqdm(df_train.values, miniters=1000):    \n",
    "    targets = np.zeros(17)\n",
    "    for t in tags.split(' '):\n",
    "        targets[label_map[t]] = 1 \n",
    "    y_3.append(targets)\n",
    "  \n",
    "y_3 = np.array(y_3, np.uint8)\n",
    "\n",
    "print(y_3.shape)"
   ]
  },
  {
   "cell_type": "code",
   "execution_count": 14,
   "metadata": {
    "collapsed": false
   },
   "outputs": [
    {
     "name": "stderr",
     "output_type": "stream",
     "text": [
      "100%|██████████| 61191/61191 [00:00<00:00, 262463.28it/s]"
     ]
    },
    {
     "name": "stdout",
     "output_type": "stream",
     "text": [
      "(61191, 17)\n"
     ]
    },
    {
     "name": "stderr",
     "output_type": "stream",
     "text": [
      "\n"
     ]
    }
   ],
   "source": [
    "y_4 = []\n",
    "\n",
    "df_train = pd.read_csv(file_4)\n",
    "\n",
    "labels = ['blow_down',\n",
    " 'bare_ground',\n",
    " 'conventional_mine',\n",
    " 'blooming',\n",
    " 'artisinal_mine',\n",
    " 'selective_logging',         \n",
    " 'slash_burn', \n",
    " 'cultivation',\n",
    " 'habitation',\n",
    " 'road',\n",
    " 'agriculture',\n",
    " 'water',\n",
    " 'primary',\n",
    " 'partly_cloudy', \n",
    " 'cloudy',\n",
    " 'clear',\n",
    " 'haze',]\n",
    "\n",
    "label_map = {l: i for i, l in enumerate(labels)}\n",
    "inv_label_map = {i: l for l, i in label_map.items()}\n",
    "\n",
    "\n",
    "for f, tags in tqdm(df_train.values, miniters=1000):    \n",
    "    targets = np.zeros(17)\n",
    "    for t in tags.split(' '):\n",
    "        targets[label_map[t]] = 1 \n",
    "    y_4.append(targets)\n",
    "  \n",
    "y_4 = np.array(y_4, np.uint8)\n",
    "\n",
    "print(y_4.shape)"
   ]
  },
  {
   "cell_type": "code",
   "execution_count": 15,
   "metadata": {
    "collapsed": false
   },
   "outputs": [
    {
     "name": "stderr",
     "output_type": "stream",
     "text": [
      "100%|██████████| 61191/61191 [00:00<00:00, 271611.86it/s]"
     ]
    },
    {
     "name": "stdout",
     "output_type": "stream",
     "text": [
      "(61191, 17)\n"
     ]
    },
    {
     "name": "stderr",
     "output_type": "stream",
     "text": [
      "\n"
     ]
    }
   ],
   "source": [
    "y_5 = []\n",
    "\n",
    "df_train = pd.read_csv(file_5)\n",
    "\n",
    "labels = ['blow_down',\n",
    " 'bare_ground',\n",
    " 'conventional_mine',\n",
    " 'blooming',\n",
    " 'artisinal_mine',\n",
    " 'selective_logging',         \n",
    " 'slash_burn', \n",
    " 'cultivation',\n",
    " 'habitation',\n",
    " 'road',\n",
    " 'agriculture',\n",
    " 'water',\n",
    " 'primary',\n",
    " 'partly_cloudy', \n",
    " 'cloudy',\n",
    " 'clear',\n",
    " 'haze',]\n",
    "\n",
    "label_map = {l: i for i, l in enumerate(labels)}\n",
    "inv_label_map = {i: l for l, i in label_map.items()}\n",
    "\n",
    "\n",
    "for f, tags in tqdm(df_train.values, miniters=1000):    \n",
    "    targets = np.zeros(17)\n",
    "    for t in tags.split(' '):\n",
    "        targets[label_map[t]] = 1 \n",
    "    y_5.append(targets)\n",
    "  \n",
    "y_5 = np.array(y_5, np.uint8)\n",
    "\n",
    "print(y_5.shape)"
   ]
  },
  {
   "cell_type": "code",
   "execution_count": 16,
   "metadata": {
    "collapsed": true
   },
   "outputs": [],
   "source": [
    "y_sum = y_1 + y_2 +y_3+y_4+y_5"
   ]
  },
  {
   "cell_type": "code",
   "execution_count": 17,
   "metadata": {
    "collapsed": true
   },
   "outputs": [],
   "source": [
    "y = (y_sum>=3)"
   ]
  },
  {
   "cell_type": "code",
   "execution_count": 18,
   "metadata": {
    "collapsed": true
   },
   "outputs": [],
   "source": [
    "labels_np = np.array(labels)\n",
    "preds = [' '.join(labels_np[np.array(y[i,:],bool)]) for i in range(y.shape[0])]\n",
    "subm = pd.DataFrame()\n",
    "subm['image_name'] = df_train.values[:,0]\n",
    "subm['tags'] = preds\n",
    "subm.to_csv('submission_ensemble_9.csv', index=False)\n",
    "#test set score:0.93019"
   ]
  },
  {
   "cell_type": "code",
   "execution_count": 20,
   "metadata": {
    "collapsed": false
   },
   "outputs": [],
   "source": [
    "file_1 = 'submission_ensemble_9.csv'\n",
    "file_2 = 'submission_ensemble_8.csv'\n",
    "file_3 = 'submission_ensemble_7.csv'"
   ]
  },
  {
   "cell_type": "code",
   "execution_count": 21,
   "metadata": {
    "collapsed": false
   },
   "outputs": [
    {
     "name": "stderr",
     "output_type": "stream",
     "text": [
      "100%|██████████| 61191/61191 [00:00<00:00, 266797.29it/s]"
     ]
    },
    {
     "name": "stdout",
     "output_type": "stream",
     "text": [
      "(61191, 17)\n"
     ]
    },
    {
     "name": "stderr",
     "output_type": "stream",
     "text": [
      "\n"
     ]
    }
   ],
   "source": [
    "y_1 = []\n",
    "\n",
    "df_train = pd.read_csv(file_1)\n",
    "\n",
    "labels = ['blow_down',\n",
    " 'bare_ground',\n",
    " 'conventional_mine',\n",
    " 'blooming',\n",
    " 'artisinal_mine',\n",
    " 'selective_logging',         \n",
    " 'slash_burn', \n",
    " 'cultivation',\n",
    " 'habitation',\n",
    " 'road',\n",
    " 'agriculture',\n",
    " 'water',\n",
    " 'primary',\n",
    " 'partly_cloudy', \n",
    " 'cloudy',\n",
    " 'clear',\n",
    " 'haze',]\n",
    "\n",
    "label_map = {l: i for i, l in enumerate(labels)}\n",
    "inv_label_map = {i: l for l, i in label_map.items()}\n",
    "\n",
    "\n",
    "for f, tags in tqdm(df_train.values, miniters=1000):    \n",
    "    targets = np.zeros(17)\n",
    "    for t in tags.split(' '):\n",
    "        targets[label_map[t]] = 1 \n",
    "    y_1.append(targets)\n",
    "  \n",
    "y_1 = np.array(y_1, np.uint8)\n",
    "\n",
    "print(y_1.shape)"
   ]
  },
  {
   "cell_type": "code",
   "execution_count": 22,
   "metadata": {
    "collapsed": false
   },
   "outputs": [
    {
     "name": "stderr",
     "output_type": "stream",
     "text": [
      "100%|██████████| 61191/61191 [00:00<00:00, 282758.80it/s]"
     ]
    },
    {
     "name": "stdout",
     "output_type": "stream",
     "text": [
      "(61191, 17)\n"
     ]
    },
    {
     "name": "stderr",
     "output_type": "stream",
     "text": [
      "\n"
     ]
    }
   ],
   "source": [
    "y_2 = []\n",
    "\n",
    "df_train = pd.read_csv(file_2)\n",
    "\n",
    "labels = ['blow_down',\n",
    " 'bare_ground',\n",
    " 'conventional_mine',\n",
    " 'blooming',\n",
    " 'artisinal_mine',\n",
    " 'selective_logging',         \n",
    " 'slash_burn', \n",
    " 'cultivation',\n",
    " 'habitation',\n",
    " 'road',\n",
    " 'agriculture',\n",
    " 'water',\n",
    " 'primary',\n",
    " 'partly_cloudy', \n",
    " 'cloudy',\n",
    " 'clear',\n",
    " 'haze',]\n",
    "\n",
    "label_map = {l: i for i, l in enumerate(labels)}\n",
    "inv_label_map = {i: l for l, i in label_map.items()}\n",
    "\n",
    "\n",
    "for f, tags in tqdm(df_train.values, miniters=1000):    \n",
    "    targets = np.zeros(17)\n",
    "    for t in tags.split(' '):\n",
    "        targets[label_map[t]] = 1 \n",
    "    y_2.append(targets)\n",
    "  \n",
    "y_2 = np.array(y_2, np.uint8)\n",
    "\n",
    "print(y_2.shape)"
   ]
  },
  {
   "cell_type": "code",
   "execution_count": 23,
   "metadata": {
    "collapsed": false
   },
   "outputs": [
    {
     "name": "stderr",
     "output_type": "stream",
     "text": [
      "100%|██████████| 61191/61191 [00:00<00:00, 276864.19it/s]"
     ]
    },
    {
     "name": "stdout",
     "output_type": "stream",
     "text": [
      "(61191, 17)\n"
     ]
    },
    {
     "name": "stderr",
     "output_type": "stream",
     "text": [
      "\n"
     ]
    }
   ],
   "source": [
    "y_3 = []\n",
    "\n",
    "df_train = pd.read_csv(file_3)\n",
    "\n",
    "labels = ['blow_down',\n",
    " 'bare_ground',\n",
    " 'conventional_mine',\n",
    " 'blooming',\n",
    " 'artisinal_mine',\n",
    " 'selective_logging',         \n",
    " 'slash_burn', \n",
    " 'cultivation',\n",
    " 'habitation',\n",
    " 'road',\n",
    " 'agriculture',\n",
    " 'water',\n",
    " 'primary',\n",
    " 'partly_cloudy', \n",
    " 'cloudy',\n",
    " 'clear',\n",
    " 'haze',]\n",
    "\n",
    "label_map = {l: i for i, l in enumerate(labels)}\n",
    "inv_label_map = {i: l for l, i in label_map.items()}\n",
    "\n",
    "\n",
    "for f, tags in tqdm(df_train.values, miniters=1000):    \n",
    "    targets = np.zeros(17)\n",
    "    for t in tags.split(' '):\n",
    "        targets[label_map[t]] = 1 \n",
    "    y_3.append(targets)\n",
    "  \n",
    "y_3 = np.array(y_3, np.uint8)\n",
    "\n",
    "print(y_3.shape)"
   ]
  },
  {
   "cell_type": "code",
   "execution_count": 24,
   "metadata": {
    "collapsed": true
   },
   "outputs": [],
   "source": [
    "y_sum = y_1 + y_2 +y_3"
   ]
  },
  {
   "cell_type": "code",
   "execution_count": 25,
   "metadata": {
    "collapsed": true
   },
   "outputs": [],
   "source": [
    "y = (y_sum>=2)"
   ]
  },
  {
   "cell_type": "code",
   "execution_count": 26,
   "metadata": {
    "collapsed": true
   },
   "outputs": [],
   "source": [
    "labels_np = np.array(labels)\n",
    "preds = [' '.join(labels_np[np.array(y[i,:],bool)]) for i in range(y.shape[0])]\n",
    "subm = pd.DataFrame()\n",
    "subm['image_name'] = df_train.values[:,0]\n",
    "subm['tags'] = preds\n",
    "subm.to_csv('submission_ensemble_10.csv', index=False)\n",
    "#test set score: 0.92939"
   ]
  },
  {
   "cell_type": "code",
   "execution_count": 47,
   "metadata": {
    "collapsed": true
   },
   "outputs": [],
   "source": [
    "file_1 = 'submission_ensemble_9.csv'"
   ]
  },
  {
   "cell_type": "code",
   "execution_count": 48,
   "metadata": {
    "collapsed": false
   },
   "outputs": [
    {
     "name": "stderr",
     "output_type": "stream",
     "text": [
      "100%|██████████| 61191/61191 [00:00<00:00, 268656.42it/s]"
     ]
    },
    {
     "name": "stdout",
     "output_type": "stream",
     "text": [
      "(61191, 17)\n"
     ]
    },
    {
     "name": "stderr",
     "output_type": "stream",
     "text": [
      "\n"
     ]
    }
   ],
   "source": [
    "y_1 = []\n",
    "\n",
    "df_train = pd.read_csv(file_1)\n",
    "\n",
    "labels = ['blow_down',\n",
    " 'bare_ground',\n",
    " 'conventional_mine',\n",
    " 'blooming',\n",
    " 'artisinal_mine',\n",
    " 'selective_logging',         \n",
    " 'slash_burn', \n",
    " 'cultivation',\n",
    " 'habitation',\n",
    " 'road',\n",
    " 'agriculture',\n",
    " 'water',\n",
    " 'primary',\n",
    " 'partly_cloudy', \n",
    " 'cloudy',\n",
    " 'clear',\n",
    " 'haze',]\n",
    "\n",
    "label_map = {l: i for i, l in enumerate(labels)}\n",
    "inv_label_map = {i: l for l, i in label_map.items()}\n",
    "\n",
    "\n",
    "for f, tags in tqdm(df_train.values, miniters=1000):    \n",
    "    targets = np.zeros(17)\n",
    "    for t in tags.split(' '):\n",
    "        targets[label_map[t]] = 1 \n",
    "    y_1.append(targets)\n",
    "  \n",
    "y_1 = np.array(y_1, np.uint8)\n",
    "\n",
    "print(y_1.shape)"
   ]
  },
  {
   "cell_type": "code",
   "execution_count": 49,
   "metadata": {
    "collapsed": true
   },
   "outputs": [],
   "source": [
    "y = np.array(y_1)\n",
    "y[(np.nonzero(y_1[:,14])[0]),:] = 0\n",
    "y[(np.nonzero(y_1[:,14])[0]),14] = 1"
   ]
  },
  {
   "cell_type": "code",
   "execution_count": 50,
   "metadata": {
    "collapsed": true
   },
   "outputs": [],
   "source": [
    "labels_np = np.array(labels)\n",
    "preds = [' '.join(labels_np[np.array(y[i,:],bool)]) for i in range(y.shape[0])]\n",
    "subm = pd.DataFrame()\n",
    "subm['image_name'] = df_train.values[:,0]\n",
    "subm['tags'] = preds\n",
    "subm.to_csv('submission_ensemble_11.csv', index=False)\n",
    "#test set score: 0.91631"
   ]
  },
  {
   "cell_type": "code",
   "execution_count": 51,
   "metadata": {
    "collapsed": false
   },
   "outputs": [],
   "source": [
    "file_1 = 'submission_96_3net_4.csv'\n",
    "file_2 = 'submission_64_3net_8.csv'\n",
    "file_3 = 'submission_inc_1.csv'\n",
    "file_4 = 'submission_exc_1.csv'\n",
    "file_5 = 'submission_resnet18_0.92276.csv'"
   ]
  },
  {
   "cell_type": "code",
   "execution_count": 52,
   "metadata": {
    "collapsed": false
   },
   "outputs": [
    {
     "name": "stderr",
     "output_type": "stream",
     "text": [
      "100%|██████████| 61191/61191 [00:00<00:00, 278728.08it/s]"
     ]
    },
    {
     "name": "stdout",
     "output_type": "stream",
     "text": [
      "(61191, 17)\n"
     ]
    },
    {
     "name": "stderr",
     "output_type": "stream",
     "text": [
      "\n"
     ]
    }
   ],
   "source": [
    "y_1 = []\n",
    "\n",
    "df_train = pd.read_csv(file_1)\n",
    "\n",
    "labels = ['blow_down',\n",
    " 'bare_ground',\n",
    " 'conventional_mine',\n",
    " 'blooming',\n",
    " 'artisinal_mine',\n",
    " 'selective_logging',         \n",
    " 'slash_burn', \n",
    " 'cultivation',\n",
    " 'habitation',\n",
    " 'road',\n",
    " 'agriculture',\n",
    " 'water',\n",
    " 'primary',\n",
    " 'partly_cloudy', \n",
    " 'cloudy',\n",
    " 'clear',\n",
    " 'haze',]\n",
    "\n",
    "label_map = {l: i for i, l in enumerate(labels)}\n",
    "inv_label_map = {i: l for l, i in label_map.items()}\n",
    "\n",
    "\n",
    "for f, tags in tqdm(df_train.values, miniters=1000):    \n",
    "    targets = np.zeros(17)\n",
    "    for t in tags.split(' '):\n",
    "        targets[label_map[t]] = 1 \n",
    "    y_1.append(targets)\n",
    "  \n",
    "y_1 = np.array(y_1, np.uint8)\n",
    "\n",
    "print(y_1.shape)"
   ]
  },
  {
   "cell_type": "code",
   "execution_count": 53,
   "metadata": {
    "collapsed": false
   },
   "outputs": [
    {
     "name": "stderr",
     "output_type": "stream",
     "text": [
      "100%|██████████| 61191/61191 [00:00<00:00, 284534.95it/s]"
     ]
    },
    {
     "name": "stdout",
     "output_type": "stream",
     "text": [
      "(61191, 17)\n"
     ]
    },
    {
     "name": "stderr",
     "output_type": "stream",
     "text": [
      "\n"
     ]
    }
   ],
   "source": [
    "y_2 = []\n",
    "\n",
    "df_train = pd.read_csv(file_2)\n",
    "\n",
    "labels = ['blow_down',\n",
    " 'bare_ground',\n",
    " 'conventional_mine',\n",
    " 'blooming',\n",
    " 'artisinal_mine',\n",
    " 'selective_logging',         \n",
    " 'slash_burn', \n",
    " 'cultivation',\n",
    " 'habitation',\n",
    " 'road',\n",
    " 'agriculture',\n",
    " 'water',\n",
    " 'primary',\n",
    " 'partly_cloudy', \n",
    " 'cloudy',\n",
    " 'clear',\n",
    " 'haze',]\n",
    "\n",
    "label_map = {l: i for i, l in enumerate(labels)}\n",
    "inv_label_map = {i: l for l, i in label_map.items()}\n",
    "\n",
    "\n",
    "for f, tags in tqdm(df_train.values, miniters=1000):    \n",
    "    targets = np.zeros(17)\n",
    "    for t in tags.split(' '):\n",
    "        targets[label_map[t]] = 1 \n",
    "    y_2.append(targets)\n",
    "  \n",
    "y_2 = np.array(y_2, np.uint8)\n",
    "\n",
    "print(y_2.shape)"
   ]
  },
  {
   "cell_type": "code",
   "execution_count": 54,
   "metadata": {
    "collapsed": false
   },
   "outputs": [
    {
     "name": "stderr",
     "output_type": "stream",
     "text": [
      "100%|██████████| 61191/61191 [00:00<00:00, 269763.63it/s]"
     ]
    },
    {
     "name": "stdout",
     "output_type": "stream",
     "text": [
      "(61191, 17)\n"
     ]
    },
    {
     "name": "stderr",
     "output_type": "stream",
     "text": [
      "\n"
     ]
    }
   ],
   "source": [
    "y_3 = []\n",
    "\n",
    "df_train = pd.read_csv(file_3)\n",
    "\n",
    "labels = ['blow_down',\n",
    " 'bare_ground',\n",
    " 'conventional_mine',\n",
    " 'blooming',\n",
    " 'artisinal_mine',\n",
    " 'selective_logging',         \n",
    " 'slash_burn', \n",
    " 'cultivation',\n",
    " 'habitation',\n",
    " 'road',\n",
    " 'agriculture',\n",
    " 'water',\n",
    " 'primary',\n",
    " 'partly_cloudy', \n",
    " 'cloudy',\n",
    " 'clear',\n",
    " 'haze',]\n",
    "\n",
    "label_map = {l: i for i, l in enumerate(labels)}\n",
    "inv_label_map = {i: l for l, i in label_map.items()}\n",
    "\n",
    "\n",
    "for f, tags in tqdm(df_train.values, miniters=1000):    \n",
    "    targets = np.zeros(17)\n",
    "    for t in tags.split(' '):\n",
    "        targets[label_map[t]] = 1 \n",
    "    y_3.append(targets)\n",
    "  \n",
    "y_3 = np.array(y_3, np.uint8)\n",
    "\n",
    "print(y_3.shape)"
   ]
  },
  {
   "cell_type": "code",
   "execution_count": 55,
   "metadata": {
    "collapsed": false
   },
   "outputs": [
    {
     "name": "stderr",
     "output_type": "stream",
     "text": [
      "100%|██████████| 61191/61191 [00:00<00:00, 288162.82it/s]"
     ]
    },
    {
     "name": "stdout",
     "output_type": "stream",
     "text": [
      "(61191, 17)\n"
     ]
    },
    {
     "name": "stderr",
     "output_type": "stream",
     "text": [
      "\n"
     ]
    }
   ],
   "source": [
    "y_4 = []\n",
    "\n",
    "df_train = pd.read_csv(file_4)\n",
    "\n",
    "labels = ['blow_down',\n",
    " 'bare_ground',\n",
    " 'conventional_mine',\n",
    " 'blooming',\n",
    " 'artisinal_mine',\n",
    " 'selective_logging',         \n",
    " 'slash_burn', \n",
    " 'cultivation',\n",
    " 'habitation',\n",
    " 'road',\n",
    " 'agriculture',\n",
    " 'water',\n",
    " 'primary',\n",
    " 'partly_cloudy', \n",
    " 'cloudy',\n",
    " 'clear',\n",
    " 'haze',]\n",
    "\n",
    "label_map = {l: i for i, l in enumerate(labels)}\n",
    "inv_label_map = {i: l for l, i in label_map.items()}\n",
    "\n",
    "\n",
    "for f, tags in tqdm(df_train.values, miniters=1000):    \n",
    "    targets = np.zeros(17)\n",
    "    for t in tags.split(' '):\n",
    "        targets[label_map[t]] = 1 \n",
    "    y_4.append(targets)\n",
    "  \n",
    "y_4 = np.array(y_4, np.uint8)\n",
    "\n",
    "print(y_4.shape)"
   ]
  },
  {
   "cell_type": "code",
   "execution_count": 56,
   "metadata": {
    "collapsed": false
   },
   "outputs": [
    {
     "name": "stderr",
     "output_type": "stream",
     "text": [
      "100%|██████████| 61191/61191 [00:00<00:00, 276728.66it/s]"
     ]
    },
    {
     "name": "stdout",
     "output_type": "stream",
     "text": [
      "(61191, 17)\n"
     ]
    },
    {
     "name": "stderr",
     "output_type": "stream",
     "text": [
      "\n"
     ]
    }
   ],
   "source": [
    "y_5 = []\n",
    "\n",
    "df_train = pd.read_csv(file_5)\n",
    "\n",
    "labels = ['blow_down',\n",
    " 'bare_ground',\n",
    " 'conventional_mine',\n",
    " 'blooming',\n",
    " 'artisinal_mine',\n",
    " 'selective_logging',         \n",
    " 'slash_burn', \n",
    " 'cultivation',\n",
    " 'habitation',\n",
    " 'road',\n",
    " 'agriculture',\n",
    " 'water',\n",
    " 'primary',\n",
    " 'partly_cloudy', \n",
    " 'cloudy',\n",
    " 'clear',\n",
    " 'haze',]\n",
    "\n",
    "label_map = {l: i for i, l in enumerate(labels)}\n",
    "inv_label_map = {i: l for l, i in label_map.items()}\n",
    "\n",
    "\n",
    "for f, tags in tqdm(df_train.values, miniters=1000):    \n",
    "    targets = np.zeros(17)\n",
    "    for t in tags.split(' '):\n",
    "        targets[label_map[t]] = 1 \n",
    "    y_5.append(targets)\n",
    "  \n",
    "y_5 = np.array(y_5, np.uint8)\n",
    "\n",
    "print(y_5.shape)"
   ]
  },
  {
   "cell_type": "code",
   "execution_count": 57,
   "metadata": {
    "collapsed": true
   },
   "outputs": [],
   "source": [
    "y_sum = y_1 + y_2 +y_3+y_4+y_5"
   ]
  },
  {
   "cell_type": "code",
   "execution_count": 63,
   "metadata": {
    "collapsed": false
   },
   "outputs": [
    {
     "data": {
      "text/plain": [
       "3872"
      ]
     },
     "execution_count": 63,
     "metadata": {},
     "output_type": "execute_result"
    }
   ],
   "source": [
    "np.sum(y_sum[:,14]==5)"
   ]
  },
  {
   "cell_type": "code",
   "execution_count": 64,
   "metadata": {
    "collapsed": true
   },
   "outputs": [],
   "source": [
    "y = (y_sum>=3)\n",
    "y[(np.nonzero(y_sum[:,14]==5)[0]),:] = 0\n",
    "y[(np.nonzero(y_sum[:,14]==5)[0]),14] = 1"
   ]
  },
  {
   "cell_type": "code",
   "execution_count": 65,
   "metadata": {
    "collapsed": true
   },
   "outputs": [],
   "source": [
    "labels_np = np.array(labels)\n",
    "preds = [' '.join(labels_np[np.array(y[i,:],bool)]) for i in range(y.shape[0])]\n",
    "subm = pd.DataFrame()\n",
    "subm['image_name'] = df_train.values[:,0]\n",
    "subm['tags'] = preds\n",
    "subm.to_csv('submission_ensemble_12.csv', index=False)\n",
    "#test set score: 0.92322"
   ]
  },
  {
   "cell_type": "code",
   "execution_count": 66,
   "metadata": {
    "collapsed": true
   },
   "outputs": [],
   "source": [
    "file_6 = 'submission_64_net_1.csv'\n",
    "file_7 = 'submission_resnet18_0.92064.csv'"
   ]
  },
  {
   "cell_type": "code",
   "execution_count": 67,
   "metadata": {
    "collapsed": false
   },
   "outputs": [
    {
     "name": "stderr",
     "output_type": "stream",
     "text": [
      "100%|██████████| 61191/61191 [00:00<00:00, 259921.65it/s]"
     ]
    },
    {
     "name": "stdout",
     "output_type": "stream",
     "text": [
      "(61191, 17)\n"
     ]
    },
    {
     "name": "stderr",
     "output_type": "stream",
     "text": [
      "\n"
     ]
    }
   ],
   "source": [
    "y_6 = []\n",
    "\n",
    "df_train = pd.read_csv(file_6)\n",
    "\n",
    "labels = ['blow_down',\n",
    " 'bare_ground',\n",
    " 'conventional_mine',\n",
    " 'blooming',\n",
    " 'artisinal_mine',\n",
    " 'selective_logging',         \n",
    " 'slash_burn', \n",
    " 'cultivation',\n",
    " 'habitation',\n",
    " 'road',\n",
    " 'agriculture',\n",
    " 'water',\n",
    " 'primary',\n",
    " 'partly_cloudy', \n",
    " 'cloudy',\n",
    " 'clear',\n",
    " 'haze',]\n",
    "\n",
    "label_map = {l: i for i, l in enumerate(labels)}\n",
    "inv_label_map = {i: l for l, i in label_map.items()}\n",
    "\n",
    "\n",
    "for f, tags in tqdm(df_train.values, miniters=1000):    \n",
    "    targets = np.zeros(17)\n",
    "    for t in tags.split(' '):\n",
    "        targets[label_map[t]] = 1 \n",
    "    y_6.append(targets)\n",
    "  \n",
    "y_6 = np.array(y_6, np.uint8)\n",
    "\n",
    "print(y_6.shape)"
   ]
  },
  {
   "cell_type": "code",
   "execution_count": 68,
   "metadata": {
    "collapsed": false
   },
   "outputs": [
    {
     "name": "stderr",
     "output_type": "stream",
     "text": [
      "100%|██████████| 61191/61191 [00:00<00:00, 272347.40it/s]"
     ]
    },
    {
     "name": "stdout",
     "output_type": "stream",
     "text": [
      "(61191, 17)\n"
     ]
    },
    {
     "name": "stderr",
     "output_type": "stream",
     "text": [
      "\n"
     ]
    }
   ],
   "source": [
    "y_7 = []\n",
    "\n",
    "df_train = pd.read_csv(file_7)\n",
    "\n",
    "labels = ['blow_down',\n",
    " 'bare_ground',\n",
    " 'conventional_mine',\n",
    " 'blooming',\n",
    " 'artisinal_mine',\n",
    " 'selective_logging',         \n",
    " 'slash_burn', \n",
    " 'cultivation',\n",
    " 'habitation',\n",
    " 'road',\n",
    " 'agriculture',\n",
    " 'water',\n",
    " 'primary',\n",
    " 'partly_cloudy', \n",
    " 'cloudy',\n",
    " 'clear',\n",
    " 'haze',]\n",
    "\n",
    "label_map = {l: i for i, l in enumerate(labels)}\n",
    "inv_label_map = {i: l for l, i in label_map.items()}\n",
    "\n",
    "\n",
    "for f, tags in tqdm(df_train.values, miniters=1000):    \n",
    "    targets = np.zeros(17)\n",
    "    for t in tags.split(' '):\n",
    "        targets[label_map[t]] = 1 \n",
    "    y_7.append(targets)\n",
    "  \n",
    "y_7 = np.array(y_7, np.uint8)\n",
    "\n",
    "print(y_7.shape)"
   ]
  },
  {
   "cell_type": "code",
   "execution_count": 69,
   "metadata": {
    "collapsed": true
   },
   "outputs": [],
   "source": [
    "y_sum = y_1 + y_2 +y_3+y_4+y_5+y_6+y_7"
   ]
  },
  {
   "cell_type": "code",
   "execution_count": 70,
   "metadata": {
    "collapsed": true
   },
   "outputs": [],
   "source": [
    "y = (y_sum>=4)"
   ]
  },
  {
   "cell_type": "code",
   "execution_count": 71,
   "metadata": {
    "collapsed": true
   },
   "outputs": [],
   "source": [
    "labels_np = np.array(labels)\n",
    "preds = [' '.join(labels_np[np.array(y[i,:],bool)]) for i in range(y.shape[0])]\n",
    "subm = pd.DataFrame()\n",
    "subm['image_name'] = df_train.values[:,0]\n",
    "subm['tags'] = preds\n",
    "subm.to_csv('submission_ensemble_13.csv', index=False)\n",
    "#test set score: 0.92989"
   ]
  },
  {
   "cell_type": "code",
   "execution_count": 2,
   "metadata": {
    "collapsed": true
   },
   "outputs": [],
   "source": [
    "file_1 = 'submission_96_3net_4.csv'\n",
    "file_2 = 'submission_64_3net_8.csv'\n",
    "file_3 = 'submission_inc_1.csv'\n",
    "file_4 = 'submission_exc_1.csv'\n",
    "file_5 = 'submission_resnet18_0.92276.csv'\n",
    "file_6 = 'submission_200_3net_1.csv'"
   ]
  },
  {
   "cell_type": "code",
   "execution_count": 3,
   "metadata": {
    "collapsed": false
   },
   "outputs": [
    {
     "name": "stderr",
     "output_type": "stream",
     "text": [
      "100%|██████████| 61191/61191 [00:00<00:00, 265394.15it/s]"
     ]
    },
    {
     "name": "stdout",
     "output_type": "stream",
     "text": [
      "(61191, 17)\n"
     ]
    },
    {
     "name": "stderr",
     "output_type": "stream",
     "text": [
      "\n"
     ]
    }
   ],
   "source": [
    "y_1 = []\n",
    "\n",
    "df_train = pd.read_csv(file_1)\n",
    "\n",
    "labels = ['blow_down',\n",
    " 'bare_ground',\n",
    " 'conventional_mine',\n",
    " 'blooming',\n",
    " 'artisinal_mine',\n",
    " 'selective_logging',         \n",
    " 'slash_burn', \n",
    " 'cultivation',\n",
    " 'habitation',\n",
    " 'road',\n",
    " 'agriculture',\n",
    " 'water',\n",
    " 'primary',\n",
    " 'partly_cloudy', \n",
    " 'cloudy',\n",
    " 'clear',\n",
    " 'haze',]\n",
    "\n",
    "label_map = {l: i for i, l in enumerate(labels)}\n",
    "inv_label_map = {i: l for l, i in label_map.items()}\n",
    "\n",
    "\n",
    "for f, tags in tqdm(df_train.values, miniters=1000):    \n",
    "    targets = np.zeros(17)\n",
    "    for t in tags.split(' '):\n",
    "        targets[label_map[t]] = 1 \n",
    "    y_1.append(targets)\n",
    "  \n",
    "y_1 = np.array(y_1, np.uint8)\n",
    "\n",
    "print(y_1.shape)"
   ]
  },
  {
   "cell_type": "code",
   "execution_count": 4,
   "metadata": {
    "collapsed": false
   },
   "outputs": [
    {
     "name": "stderr",
     "output_type": "stream",
     "text": [
      "100%|██████████| 61191/61191 [00:00<00:00, 270576.72it/s]"
     ]
    },
    {
     "name": "stdout",
     "output_type": "stream",
     "text": [
      "(61191, 17)\n"
     ]
    },
    {
     "name": "stderr",
     "output_type": "stream",
     "text": [
      "\n"
     ]
    }
   ],
   "source": [
    "y_2 = []\n",
    "\n",
    "df_train = pd.read_csv(file_2)\n",
    "\n",
    "labels = ['blow_down',\n",
    " 'bare_ground',\n",
    " 'conventional_mine',\n",
    " 'blooming',\n",
    " 'artisinal_mine',\n",
    " 'selective_logging',         \n",
    " 'slash_burn', \n",
    " 'cultivation',\n",
    " 'habitation',\n",
    " 'road',\n",
    " 'agriculture',\n",
    " 'water',\n",
    " 'primary',\n",
    " 'partly_cloudy', \n",
    " 'cloudy',\n",
    " 'clear',\n",
    " 'haze',]\n",
    "\n",
    "label_map = {l: i for i, l in enumerate(labels)}\n",
    "inv_label_map = {i: l for l, i in label_map.items()}\n",
    "\n",
    "\n",
    "for f, tags in tqdm(df_train.values, miniters=1000):    \n",
    "    targets = np.zeros(17)\n",
    "    for t in tags.split(' '):\n",
    "        targets[label_map[t]] = 1 \n",
    "    y_2.append(targets)\n",
    "  \n",
    "y_2 = np.array(y_2, np.uint8)\n",
    "\n",
    "print(y_2.shape)"
   ]
  },
  {
   "cell_type": "code",
   "execution_count": 5,
   "metadata": {
    "collapsed": false
   },
   "outputs": [
    {
     "name": "stderr",
     "output_type": "stream",
     "text": [
      "100%|██████████| 61191/61191 [00:00<00:00, 250342.52it/s]"
     ]
    },
    {
     "name": "stdout",
     "output_type": "stream",
     "text": [
      "(61191, 17)\n"
     ]
    },
    {
     "name": "stderr",
     "output_type": "stream",
     "text": [
      "\n"
     ]
    }
   ],
   "source": [
    "y_3 = []\n",
    "\n",
    "df_train = pd.read_csv(file_3)\n",
    "\n",
    "labels = ['blow_down',\n",
    " 'bare_ground',\n",
    " 'conventional_mine',\n",
    " 'blooming',\n",
    " 'artisinal_mine',\n",
    " 'selective_logging',         \n",
    " 'slash_burn', \n",
    " 'cultivation',\n",
    " 'habitation',\n",
    " 'road',\n",
    " 'agriculture',\n",
    " 'water',\n",
    " 'primary',\n",
    " 'partly_cloudy', \n",
    " 'cloudy',\n",
    " 'clear',\n",
    " 'haze',]\n",
    "\n",
    "label_map = {l: i for i, l in enumerate(labels)}\n",
    "inv_label_map = {i: l for l, i in label_map.items()}\n",
    "\n",
    "\n",
    "for f, tags in tqdm(df_train.values, miniters=1000):    \n",
    "    targets = np.zeros(17)\n",
    "    for t in tags.split(' '):\n",
    "        targets[label_map[t]] = 1 \n",
    "    y_3.append(targets)\n",
    "  \n",
    "y_3 = np.array(y_3, np.uint8)\n",
    "\n",
    "print(y_3.shape)"
   ]
  },
  {
   "cell_type": "code",
   "execution_count": 6,
   "metadata": {
    "collapsed": false
   },
   "outputs": [
    {
     "name": "stderr",
     "output_type": "stream",
     "text": [
      "100%|██████████| 61191/61191 [00:00<00:00, 262857.08it/s]"
     ]
    },
    {
     "name": "stdout",
     "output_type": "stream",
     "text": [
      "(61191, 17)\n"
     ]
    },
    {
     "name": "stderr",
     "output_type": "stream",
     "text": [
      "\n"
     ]
    }
   ],
   "source": [
    "y_4 = []\n",
    "\n",
    "df_train = pd.read_csv(file_4)\n",
    "\n",
    "labels = ['blow_down',\n",
    " 'bare_ground',\n",
    " 'conventional_mine',\n",
    " 'blooming',\n",
    " 'artisinal_mine',\n",
    " 'selective_logging',         \n",
    " 'slash_burn', \n",
    " 'cultivation',\n",
    " 'habitation',\n",
    " 'road',\n",
    " 'agriculture',\n",
    " 'water',\n",
    " 'primary',\n",
    " 'partly_cloudy', \n",
    " 'cloudy',\n",
    " 'clear',\n",
    " 'haze',]\n",
    "\n",
    "label_map = {l: i for i, l in enumerate(labels)}\n",
    "inv_label_map = {i: l for l, i in label_map.items()}\n",
    "\n",
    "\n",
    "for f, tags in tqdm(df_train.values, miniters=1000):    \n",
    "    targets = np.zeros(17)\n",
    "    for t in tags.split(' '):\n",
    "        targets[label_map[t]] = 1 \n",
    "    y_4.append(targets)\n",
    "  \n",
    "y_4 = np.array(y_4, np.uint8)\n",
    "\n",
    "print(y_4.shape)"
   ]
  },
  {
   "cell_type": "code",
   "execution_count": 7,
   "metadata": {
    "collapsed": false
   },
   "outputs": [
    {
     "name": "stderr",
     "output_type": "stream",
     "text": [
      "100%|██████████| 61191/61191 [00:00<00:00, 262168.10it/s]"
     ]
    },
    {
     "name": "stdout",
     "output_type": "stream",
     "text": [
      "(61191, 17)\n"
     ]
    },
    {
     "name": "stderr",
     "output_type": "stream",
     "text": [
      "\n"
     ]
    }
   ],
   "source": [
    "y_5 = []\n",
    "\n",
    "df_train = pd.read_csv(file_5)\n",
    "\n",
    "labels = ['blow_down',\n",
    " 'bare_ground',\n",
    " 'conventional_mine',\n",
    " 'blooming',\n",
    " 'artisinal_mine',\n",
    " 'selective_logging',         \n",
    " 'slash_burn', \n",
    " 'cultivation',\n",
    " 'habitation',\n",
    " 'road',\n",
    " 'agriculture',\n",
    " 'water',\n",
    " 'primary',\n",
    " 'partly_cloudy', \n",
    " 'cloudy',\n",
    " 'clear',\n",
    " 'haze',]\n",
    "\n",
    "label_map = {l: i for i, l in enumerate(labels)}\n",
    "inv_label_map = {i: l for l, i in label_map.items()}\n",
    "\n",
    "\n",
    "for f, tags in tqdm(df_train.values, miniters=1000):    \n",
    "    targets = np.zeros(17)\n",
    "    for t in tags.split(' '):\n",
    "        targets[label_map[t]] = 1 \n",
    "    y_5.append(targets)\n",
    "  \n",
    "y_5 = np.array(y_5, np.uint8)\n",
    "\n",
    "print(y_5.shape)"
   ]
  },
  {
   "cell_type": "code",
   "execution_count": 8,
   "metadata": {
    "collapsed": false
   },
   "outputs": [
    {
     "name": "stderr",
     "output_type": "stream",
     "text": [
      "100%|██████████| 61191/61191 [00:00<00:00, 250016.47it/s]"
     ]
    },
    {
     "name": "stdout",
     "output_type": "stream",
     "text": [
      "(61191, 17)\n"
     ]
    },
    {
     "name": "stderr",
     "output_type": "stream",
     "text": [
      "\n"
     ]
    }
   ],
   "source": [
    "y_6 = []\n",
    "\n",
    "df_train = pd.read_csv(file_6)\n",
    "\n",
    "labels = ['blow_down',\n",
    " 'bare_ground',\n",
    " 'conventional_mine',\n",
    " 'blooming',\n",
    " 'artisinal_mine',\n",
    " 'selective_logging',         \n",
    " 'slash_burn', \n",
    " 'cultivation',\n",
    " 'habitation',\n",
    " 'road',\n",
    " 'agriculture',\n",
    " 'water',\n",
    " 'primary',\n",
    " 'partly_cloudy', \n",
    " 'cloudy',\n",
    " 'clear',\n",
    " 'haze',]\n",
    "\n",
    "label_map = {l: i for i, l in enumerate(labels)}\n",
    "inv_label_map = {i: l for l, i in label_map.items()}\n",
    "\n",
    "\n",
    "for f, tags in tqdm(df_train.values, miniters=1000):    \n",
    "    targets = np.zeros(17)\n",
    "    for t in tags.split(' '):\n",
    "        targets[label_map[t]] = 1 \n",
    "    y_6.append(targets)\n",
    "  \n",
    "y_6 = np.array(y_6, np.uint8)\n",
    "\n",
    "print(y_6.shape)"
   ]
  },
  {
   "cell_type": "code",
   "execution_count": 12,
   "metadata": {
    "collapsed": true
   },
   "outputs": [],
   "source": [
    "y_sum = y_1+y_2+y_3+y_4+y_6"
   ]
  },
  {
   "cell_type": "code",
   "execution_count": 13,
   "metadata": {
    "collapsed": true
   },
   "outputs": [],
   "source": [
    "y= (y_sum>=3)"
   ]
  },
  {
   "cell_type": "code",
   "execution_count": 14,
   "metadata": {
    "collapsed": true
   },
   "outputs": [],
   "source": [
    "labels_np = np.array(labels)\n",
    "preds = [' '.join(labels_np[np.array(y[i,:],bool)]) for i in range(y.shape[0])]\n",
    "subm = pd.DataFrame()\n",
    "subm['image_name'] = df_train.values[:,0]\n",
    "subm['tags'] = preds\n",
    "subm.to_csv('submission_ensemble_14.csv', index=False)\n",
    "#test set score: 0.92884"
   ]
  },
  {
   "cell_type": "code",
   "execution_count": 15,
   "metadata": {
    "collapsed": true
   },
   "outputs": [],
   "source": [
    "y_sum = y_1+y_2+y_3+y_4+y_5+y_6"
   ]
  },
  {
   "cell_type": "code",
   "execution_count": 16,
   "metadata": {
    "collapsed": true
   },
   "outputs": [],
   "source": [
    "y= (y_sum>=4)"
   ]
  },
  {
   "cell_type": "code",
   "execution_count": 17,
   "metadata": {
    "collapsed": true
   },
   "outputs": [],
   "source": [
    "labels_np = np.array(labels)\n",
    "preds = [' '.join(labels_np[np.array(y[i,:],bool)]) for i in range(y.shape[0])]\n",
    "subm = pd.DataFrame()\n",
    "subm['image_name'] = df_train.values[:,0]\n",
    "subm['tags'] = preds\n",
    "subm.to_csv('submission_ensemble_15.csv', index=False)\n",
    "#test set score: 0.92928"
   ]
  },
  {
   "cell_type": "code",
   "execution_count": 18,
   "metadata": {
    "collapsed": true
   },
   "outputs": [],
   "source": [
    "y_sum = y_1+y_2+y_4"
   ]
  },
  {
   "cell_type": "code",
   "execution_count": 19,
   "metadata": {
    "collapsed": true
   },
   "outputs": [],
   "source": [
    "y= (y_sum>=2)"
   ]
  },
  {
   "cell_type": "code",
   "execution_count": 20,
   "metadata": {
    "collapsed": true
   },
   "outputs": [],
   "source": [
    "labels_np = np.array(labels)\n",
    "preds = [' '.join(labels_np[np.array(y[i,:],bool)]) for i in range(y.shape[0])]\n",
    "subm = pd.DataFrame()\n",
    "subm['image_name'] = df_train.values[:,0]\n",
    "subm['tags'] = preds\n",
    "subm.to_csv('submission_ensemble_16.csv', index=False)\n",
    "#test set score: 0.92735"
   ]
  },
  {
   "cell_type": "code",
   "execution_count": 13,
   "metadata": {
    "collapsed": true
   },
   "outputs": [],
   "source": [
    "file_7 = 'submission_exc_2.csv'"
   ]
  },
  {
   "cell_type": "code",
   "execution_count": 14,
   "metadata": {
    "collapsed": false
   },
   "outputs": [
    {
     "name": "stderr",
     "output_type": "stream",
     "text": [
      "100%|██████████| 61191/61191 [00:00<00:00, 259413.82it/s]"
     ]
    },
    {
     "name": "stdout",
     "output_type": "stream",
     "text": [
      "(61191, 17)\n"
     ]
    },
    {
     "name": "stderr",
     "output_type": "stream",
     "text": [
      "\n"
     ]
    }
   ],
   "source": [
    "y_7 = []\n",
    "\n",
    "df_train = pd.read_csv(file_7)\n",
    "\n",
    "labels = ['blow_down',\n",
    " 'bare_ground',\n",
    " 'conventional_mine',\n",
    " 'blooming',\n",
    " 'artisinal_mine',\n",
    " 'selective_logging',         \n",
    " 'slash_burn', \n",
    " 'cultivation',\n",
    " 'habitation',\n",
    " 'road',\n",
    " 'agriculture',\n",
    " 'water',\n",
    " 'primary',\n",
    " 'partly_cloudy', \n",
    " 'cloudy',\n",
    " 'clear',\n",
    " 'haze',]\n",
    "\n",
    "label_map = {l: i for i, l in enumerate(labels)}\n",
    "inv_label_map = {i: l for l, i in label_map.items()}\n",
    "\n",
    "\n",
    "for f, tags in tqdm(df_train.values, miniters=1000):    \n",
    "    targets = np.zeros(17)\n",
    "    for t in tags.split(' '):\n",
    "        targets[label_map[t]] = 1 \n",
    "    y_7.append(targets)\n",
    "  \n",
    "y_7 = np.array(y_7, np.uint8)\n",
    "\n",
    "print(y_7.shape)"
   ]
  },
  {
   "cell_type": "code",
   "execution_count": 11,
   "metadata": {
    "collapsed": true
   },
   "outputs": [],
   "source": [
    "y_sum = y_1+y_2+y_3+y_5+y_7"
   ]
  },
  {
   "cell_type": "code",
   "execution_count": 12,
   "metadata": {
    "collapsed": true
   },
   "outputs": [],
   "source": [
    "y= (y_sum>=3)"
   ]
  },
  {
   "cell_type": "code",
   "execution_count": 13,
   "metadata": {
    "collapsed": true
   },
   "outputs": [],
   "source": [
    "labels_np = np.array(labels)\n",
    "preds = [' '.join(labels_np[np.array(y[i,:],bool)]) for i in range(y.shape[0])]\n",
    "subm = pd.DataFrame()\n",
    "subm['image_name'] = df_train.values[:,0]\n",
    "subm['tags'] = preds\n",
    "subm.to_csv('submission_ensemble_17.csv', index=False)\n",
    "#test set score: 0.93037"
   ]
  },
  {
   "cell_type": "code",
   "execution_count": 14,
   "metadata": {
    "collapsed": true
   },
   "outputs": [],
   "source": [
    "y_sum =  y_1+y_2+y_3+y_7"
   ]
  },
  {
   "cell_type": "code",
   "execution_count": 15,
   "metadata": {
    "collapsed": true
   },
   "outputs": [],
   "source": [
    "y= (y_sum>=2)"
   ]
  },
  {
   "cell_type": "code",
   "execution_count": 16,
   "metadata": {
    "collapsed": true
   },
   "outputs": [],
   "source": [
    "labels_np = np.array(labels)\n",
    "preds = [' '.join(labels_np[np.array(y[i,:],bool)]) for i in range(y.shape[0])]\n",
    "subm = pd.DataFrame()\n",
    "subm['image_name'] = df_train.values[:,0]\n",
    "subm['tags'] = preds\n",
    "subm.to_csv('submission_ensemble_18.csv', index=False)\n",
    "#test set score: 0.92898"
   ]
  },
  {
   "cell_type": "code",
   "execution_count": 15,
   "metadata": {
    "collapsed": true
   },
   "outputs": [],
   "source": [
    "file_8 = 'submission_inc_5.csv'"
   ]
  },
  {
   "cell_type": "code",
   "execution_count": 16,
   "metadata": {
    "collapsed": false
   },
   "outputs": [
    {
     "name": "stderr",
     "output_type": "stream",
     "text": [
      "100%|██████████| 61191/61191 [00:00<00:00, 253546.95it/s]"
     ]
    },
    {
     "name": "stdout",
     "output_type": "stream",
     "text": [
      "(61191, 17)\n"
     ]
    },
    {
     "name": "stderr",
     "output_type": "stream",
     "text": [
      "\n"
     ]
    }
   ],
   "source": [
    "y_8 = []\n",
    "\n",
    "df_train = pd.read_csv(file_8)\n",
    "\n",
    "labels = ['blow_down',\n",
    " 'bare_ground',\n",
    " 'conventional_mine',\n",
    " 'blooming',\n",
    " 'artisinal_mine',\n",
    " 'selective_logging',         \n",
    " 'slash_burn', \n",
    " 'cultivation',\n",
    " 'habitation',\n",
    " 'road',\n",
    " 'agriculture',\n",
    " 'water',\n",
    " 'primary',\n",
    " 'partly_cloudy', \n",
    " 'cloudy',\n",
    " 'clear',\n",
    " 'haze',]\n",
    "\n",
    "label_map = {l: i for i, l in enumerate(labels)}\n",
    "inv_label_map = {i: l for l, i in label_map.items()}\n",
    "\n",
    "\n",
    "for f, tags in tqdm(df_train.values, miniters=1000):    \n",
    "    targets = np.zeros(17)\n",
    "    for t in tags.split(' '):\n",
    "        targets[label_map[t]] = 1 \n",
    "    y_8.append(targets)\n",
    "  \n",
    "y_8 = np.array(y_8, np.uint8)\n",
    "\n",
    "print(y_8.shape)"
   ]
  },
  {
   "cell_type": "code",
   "execution_count": 17,
   "metadata": {
    "collapsed": false
   },
   "outputs": [],
   "source": [
    "y_sum = y_1+y_2+y_5+y_8+y_7"
   ]
  },
  {
   "cell_type": "code",
   "execution_count": 18,
   "metadata": {
    "collapsed": false
   },
   "outputs": [],
   "source": [
    "y= (y_sum>=3)"
   ]
  },
  {
   "cell_type": "code",
   "execution_count": 19,
   "metadata": {
    "collapsed": true
   },
   "outputs": [],
   "source": [
    "labels_np = np.array(labels)\n",
    "preds = [' '.join(labels_np[np.array(y[i,:],bool)]) for i in range(y.shape[0])]\n",
    "subm = pd.DataFrame()\n",
    "subm['image_name'] = df_train.values[:,0]\n",
    "subm['tags'] = preds\n",
    "subm.to_csv('submission_ensemble_19.csv', index=False)\n",
    "#test set score: 0.93055"
   ]
  },
  {
   "cell_type": "code",
   "execution_count": 20,
   "metadata": {
    "collapsed": true
   },
   "outputs": [],
   "source": [
    "y_sum = y_1+y_2+y_3+y_8+y_7"
   ]
  },
  {
   "cell_type": "code",
   "execution_count": 21,
   "metadata": {
    "collapsed": true
   },
   "outputs": [],
   "source": [
    "y= (y_sum>=3)"
   ]
  },
  {
   "cell_type": "code",
   "execution_count": 22,
   "metadata": {
    "collapsed": true
   },
   "outputs": [],
   "source": [
    "labels_np = np.array(labels)\n",
    "preds = [' '.join(labels_np[np.array(y[i,:],bool)]) for i in range(y.shape[0])]\n",
    "subm = pd.DataFrame()\n",
    "subm['image_name'] = df_train.values[:,0]\n",
    "subm['tags'] = preds\n",
    "subm.to_csv('submission_ensemble_20.csv', index=False)\n",
    "#test set score: 0.93003"
   ]
  },
  {
   "cell_type": "code",
   "execution_count": 7,
   "metadata": {
    "collapsed": true
   },
   "outputs": [],
   "source": [
    "files = ['submission_xception2_1.csv','submission_xception3_1.csv','submission_exc_2.csv','submission_inc_5.csv',\n",
    "         'submission_96_3net_4.csv', 'submission_resnet18_6_0.92383.csv', 'submission_64_3net_8.csv',\n",
    "         'submission_xception_224_1.csv','submission_resnet_224_1.csv','submission_200_3net_1.csv']"
   ]
  },
  {
   "cell_type": "code",
   "execution_count": 8,
   "metadata": {
    "collapsed": false
   },
   "outputs": [
    {
     "name": "stderr",
     "output_type": "stream",
     "text": [
      "100%|██████████| 61191/61191 [00:00<00:00, 266254.53it/s]\n",
      "100%|██████████| 61191/61191 [00:00<00:00, 274706.84it/s]\n",
      "100%|██████████| 61191/61191 [00:00<00:00, 272236.18it/s]\n",
      "100%|██████████| 61191/61191 [00:00<00:00, 266896.61it/s]\n",
      "100%|██████████| 61191/61191 [00:00<00:00, 270459.53it/s]\n",
      "100%|██████████| 61191/61191 [00:00<00:00, 272284.42it/s]\n",
      "100%|██████████| 61191/61191 [00:00<00:00, 268668.79it/s]\n",
      "100%|██████████| 61191/61191 [00:00<00:00, 273322.79it/s]\n",
      "100%|██████████| 61191/61191 [00:00<00:00, 268201.89it/s]\n",
      "100%|██████████| 61191/61191 [00:00<00:00, 264353.21it/s]\n"
     ]
    }
   ],
   "source": [
    "y = []\n",
    "for file in files:\n",
    "    y_file = []\n",
    "\n",
    "    df_train = pd.read_csv(file)\n",
    "\n",
    "    labels = ['blow_down',\n",
    "     'bare_ground',\n",
    "     'conventional_mine',\n",
    "     'blooming',\n",
    "     'artisinal_mine',\n",
    "     'selective_logging',         \n",
    "     'slash_burn', \n",
    "     'cultivation',\n",
    "     'habitation',\n",
    "     'road',\n",
    "     'agriculture',\n",
    "     'water',\n",
    "     'primary',\n",
    "     'partly_cloudy', \n",
    "     'cloudy',\n",
    "     'clear',\n",
    "     'haze',]\n",
    "\n",
    "    label_map = {l: i for i, l in enumerate(labels)}\n",
    "    inv_label_map = {i: l for l, i in label_map.items()}\n",
    "\n",
    "\n",
    "    for f, tags in tqdm(df_train.values, miniters=1000):    \n",
    "        targets = np.zeros(17)\n",
    "        for t in tags.split(' '):\n",
    "            targets[label_map[t]] = 1 \n",
    "        y_file.append(targets)\n",
    "\n",
    "    y_file = np.array(y_file, np.uint8)\n",
    "    y.append(y_file)"
   ]
  },
  {
   "cell_type": "code",
   "execution_count": 4,
   "metadata": {
    "collapsed": false
   },
   "outputs": [
    {
     "data": {
      "text/plain": [
       "[array([[0, 0, 0, ..., 0, 1, 0],\n",
       "        [0, 0, 0, ..., 0, 1, 0],\n",
       "        [0, 0, 0, ..., 0, 0, 0],\n",
       "        ..., \n",
       "        [0, 0, 0, ..., 0, 1, 0],\n",
       "        [0, 0, 0, ..., 1, 0, 0],\n",
       "        [0, 0, 0, ..., 0, 1, 0]], dtype=uint8), array([[0, 0, 0, ..., 0, 1, 0],\n",
       "        [0, 0, 0, ..., 0, 1, 0],\n",
       "        [0, 0, 0, ..., 0, 0, 0],\n",
       "        ..., \n",
       "        [0, 0, 0, ..., 0, 1, 0],\n",
       "        [0, 0, 0, ..., 1, 0, 0],\n",
       "        [0, 0, 0, ..., 0, 1, 0]], dtype=uint8), array([[0, 0, 0, ..., 0, 1, 0],\n",
       "        [0, 0, 0, ..., 0, 1, 0],\n",
       "        [0, 0, 0, ..., 0, 0, 0],\n",
       "        ..., \n",
       "        [0, 0, 0, ..., 0, 1, 0],\n",
       "        [0, 0, 0, ..., 1, 0, 0],\n",
       "        [0, 0, 0, ..., 0, 1, 0]], dtype=uint8), array([[0, 0, 0, ..., 0, 1, 0],\n",
       "        [0, 0, 0, ..., 0, 1, 0],\n",
       "        [0, 0, 0, ..., 0, 0, 0],\n",
       "        ..., \n",
       "        [0, 0, 0, ..., 0, 1, 0],\n",
       "        [0, 0, 0, ..., 1, 0, 0],\n",
       "        [0, 0, 0, ..., 0, 1, 0]], dtype=uint8), array([[0, 0, 0, ..., 0, 1, 0],\n",
       "        [0, 0, 0, ..., 0, 1, 0],\n",
       "        [0, 0, 0, ..., 0, 0, 0],\n",
       "        ..., \n",
       "        [0, 0, 0, ..., 0, 1, 0],\n",
       "        [0, 0, 0, ..., 1, 0, 0],\n",
       "        [0, 0, 0, ..., 0, 1, 0]], dtype=uint8), array([[0, 0, 0, ..., 0, 1, 0],\n",
       "        [0, 0, 0, ..., 0, 1, 0],\n",
       "        [0, 0, 0, ..., 0, 0, 0],\n",
       "        ..., \n",
       "        [0, 0, 0, ..., 0, 1, 0],\n",
       "        [0, 0, 0, ..., 1, 0, 0],\n",
       "        [0, 0, 0, ..., 0, 1, 0]], dtype=uint8), array([[0, 0, 0, ..., 0, 1, 0],\n",
       "        [0, 0, 0, ..., 0, 1, 0],\n",
       "        [0, 0, 0, ..., 0, 0, 0],\n",
       "        ..., \n",
       "        [0, 0, 0, ..., 0, 1, 0],\n",
       "        [0, 0, 0, ..., 1, 0, 0],\n",
       "        [0, 0, 0, ..., 0, 1, 0]], dtype=uint8)]"
      ]
     },
     "execution_count": 4,
     "metadata": {},
     "output_type": "execute_result"
    }
   ],
   "source": [
    "y"
   ]
  },
  {
   "cell_type": "code",
   "execution_count": 5,
   "metadata": {
    "collapsed": true
   },
   "outputs": [],
   "source": [
    "y_sum = y[0]+y[1]+y[2]"
   ]
  },
  {
   "cell_type": "code",
   "execution_count": 6,
   "metadata": {
    "collapsed": true
   },
   "outputs": [],
   "source": [
    "y= (y_sum>=2)"
   ]
  },
  {
   "cell_type": "code",
   "execution_count": 7,
   "metadata": {
    "collapsed": true
   },
   "outputs": [],
   "source": [
    "labels_np = np.array(labels)\n",
    "preds = [' '.join(labels_np[np.array(y[i,:],bool)]) for i in range(y.shape[0])]\n",
    "subm = pd.DataFrame()\n",
    "subm['image_name'] = df_train.values[:,0]\n",
    "subm['tags'] = preds\n",
    "subm.to_csv('submission_ensemble_21.csv', index=False)\n",
    "#test set score: 0.92861"
   ]
  },
  {
   "cell_type": "code",
   "execution_count": 13,
   "metadata": {
    "collapsed": true
   },
   "outputs": [],
   "source": [
    "y_sum = y[0]+y[1]+y[2]+y[3]+y[4]"
   ]
  },
  {
   "cell_type": "code",
   "execution_count": 14,
   "metadata": {
    "collapsed": true
   },
   "outputs": [],
   "source": [
    "y= (y_sum>=3)"
   ]
  },
  {
   "cell_type": "code",
   "execution_count": 15,
   "metadata": {
    "collapsed": false
   },
   "outputs": [],
   "source": [
    "labels_np = np.array(labels)\n",
    "preds = [' '.join(labels_np[np.array(y[i,:],bool)]) for i in range(y.shape[0])]\n",
    "subm = pd.DataFrame()\n",
    "subm['image_name'] = df_train.values[:,0]\n",
    "subm['tags'] = preds\n",
    "subm.to_csv('submission_ensemble_22.csv', index=False)\n",
    "#test set score: 0.93034"
   ]
  },
  {
   "cell_type": "code",
   "execution_count": 18,
   "metadata": {
    "collapsed": true
   },
   "outputs": [],
   "source": [
    "y_sum = y[0]+y[1]+y[2]+y[3]+y[4]+y[5]+y[6]"
   ]
  },
  {
   "cell_type": "code",
   "execution_count": 19,
   "metadata": {
    "collapsed": true
   },
   "outputs": [],
   "source": [
    "y= (y_sum>=4)"
   ]
  },
  {
   "cell_type": "code",
   "execution_count": 20,
   "metadata": {
    "collapsed": true
   },
   "outputs": [],
   "source": [
    "labels_np = np.array(labels)\n",
    "preds = [' '.join(labels_np[np.array(y[i,:],bool)]) for i in range(y.shape[0])]\n",
    "subm = pd.DataFrame()\n",
    "subm['image_name'] = df_train.values[:,0]\n",
    "subm['tags'] = preds\n",
    "subm.to_csv('submission_ensemble_23.csv', index=False)\n",
    "#test set score: 0.93119"
   ]
  },
  {
   "cell_type": "code",
   "execution_count": 21,
   "metadata": {
    "collapsed": true
   },
   "outputs": [],
   "source": [
    "y = (y_sum>=3)"
   ]
  },
  {
   "cell_type": "code",
   "execution_count": 22,
   "metadata": {
    "collapsed": true
   },
   "outputs": [],
   "source": [
    "labels_np = np.array(labels)\n",
    "preds = [' '.join(labels_np[np.array(y[i,:],bool)]) for i in range(y.shape[0])]\n",
    "subm = pd.DataFrame()\n",
    "subm['image_name'] = df_train.values[:,0]\n",
    "subm['tags'] = preds\n",
    "subm.to_csv('submission_ensemble_24.csv', index=False)\n",
    "#test set score: 0.93051"
   ]
  },
  {
   "cell_type": "code",
   "execution_count": 4,
   "metadata": {
    "collapsed": true
   },
   "outputs": [],
   "source": [
    "y_sum = y[0]+y[1]+y[2]+y[3]+y[4]+y[5]+y[6]+y[7]"
   ]
  },
  {
   "cell_type": "code",
   "execution_count": 5,
   "metadata": {
    "collapsed": true
   },
   "outputs": [],
   "source": [
    "y_pred = (y_sum>=4)"
   ]
  },
  {
   "cell_type": "code",
   "execution_count": 6,
   "metadata": {
    "collapsed": true
   },
   "outputs": [],
   "source": [
    "labels_np = np.array(labels)\n",
    "preds = [' '.join(labels_np[np.array(y_pred[i,:],bool)]) for i in range(y_pred.shape[0])]\n",
    "subm = pd.DataFrame()\n",
    "subm['image_name'] = df_train.values[:,0]\n",
    "subm['tags'] = preds\n",
    "subm.to_csv('submission_ensemble_25.csv', index=False)\n",
    "#test set score: 0.93098"
   ]
  },
  {
   "cell_type": "code",
   "execution_count": 7,
   "metadata": {
    "collapsed": true
   },
   "outputs": [],
   "source": [
    "y_pred = (y_sum>4)"
   ]
  },
  {
   "cell_type": "code",
   "execution_count": 8,
   "metadata": {
    "collapsed": true
   },
   "outputs": [],
   "source": [
    "labels_np = np.array(labels)\n",
    "preds = [' '.join(labels_np[np.array(y_pred[i,:],bool)]) for i in range(y_pred.shape[0])]\n",
    "subm = pd.DataFrame()\n",
    "subm['image_name'] = df_train.values[:,0]\n",
    "subm['tags'] = preds\n",
    "subm.to_csv('submission_ensemble_26.csv', index=False)\n",
    "#test set score: 0.93087"
   ]
  },
  {
   "cell_type": "code",
   "execution_count": 9,
   "metadata": {
    "collapsed": true
   },
   "outputs": [],
   "source": [
    "y_sum = y[0]+y[1]+y[2]+y[3]+y[4]+y[5]+y[7]"
   ]
  },
  {
   "cell_type": "code",
   "execution_count": 10,
   "metadata": {
    "collapsed": true
   },
   "outputs": [],
   "source": [
    "y_pred = (y_sum>=4)"
   ]
  },
  {
   "cell_type": "code",
   "execution_count": 11,
   "metadata": {
    "collapsed": true
   },
   "outputs": [],
   "source": [
    "labels_np = np.array(labels)\n",
    "preds = [' '.join(labels_np[np.array(y_pred[i,:],bool)]) for i in range(y_pred.shape[0])]\n",
    "subm = pd.DataFrame()\n",
    "subm['image_name'] = df_train.values[:,0]\n",
    "subm['tags'] = preds\n",
    "subm.to_csv('submission_ensemble_27.csv', index=False)\n",
    "#test set score: 0.93068"
   ]
  },
  {
   "cell_type": "code",
   "execution_count": 4,
   "metadata": {
    "collapsed": true
   },
   "outputs": [],
   "source": [
    "y_sum = y[0]+y[1]+y[2]+y[3]+y[4]+y[5]+y[6]+y[7]+y[8]"
   ]
  },
  {
   "cell_type": "code",
   "execution_count": 5,
   "metadata": {
    "collapsed": true
   },
   "outputs": [],
   "source": [
    "y_pred = (y_sum>4)"
   ]
  },
  {
   "cell_type": "code",
   "execution_count": 6,
   "metadata": {
    "collapsed": true
   },
   "outputs": [],
   "source": [
    "labels_np = np.array(labels)\n",
    "preds = [' '.join(labels_np[np.array(y_pred[i,:],bool)]) for i in range(y_pred.shape[0])]\n",
    "subm = pd.DataFrame()\n",
    "subm['image_name'] = df_train.values[:,0]\n",
    "subm['tags'] = preds\n",
    "subm.to_csv('submission_ensemble_28.csv', index=False)\n",
    "#test set score: 0.93121"
   ]
  },
  {
   "cell_type": "code",
   "execution_count": 9,
   "metadata": {
    "collapsed": true
   },
   "outputs": [],
   "source": [
    "y_sum = y[0]+y[1]+y[2]+y[3]+y[4]+y[5]+y[6]+y[7]+y[8]+y[9]"
   ]
  },
  {
   "cell_type": "code",
   "execution_count": 10,
   "metadata": {
    "collapsed": true
   },
   "outputs": [],
   "source": [
    "y_pred = (y_sum>=5)"
   ]
  },
  {
   "cell_type": "code",
   "execution_count": 11,
   "metadata": {
    "collapsed": true
   },
   "outputs": [],
   "source": [
    "labels_np = np.array(labels)\n",
    "preds = [' '.join(labels_np[np.array(y_pred[i,:],bool)]) for i in range(y_pred.shape[0])]\n",
    "subm = pd.DataFrame()\n",
    "subm['image_name'] = df_train.values[:,0]\n",
    "subm['tags'] = preds\n",
    "subm.to_csv('submission_ensemble_29.csv', index=False)\n",
    "#test set score: 0.93123"
   ]
  },
  {
   "cell_type": "code",
   "execution_count": 12,
   "metadata": {
    "collapsed": true
   },
   "outputs": [],
   "source": [
    "y_pred = (y_sum>=4)"
   ]
  },
  {
   "cell_type": "code",
   "execution_count": 13,
   "metadata": {
    "collapsed": true
   },
   "outputs": [],
   "source": [
    "labels_np = np.array(labels)\n",
    "preds = [' '.join(labels_np[np.array(y_pred[i,:],bool)]) for i in range(y_pred.shape[0])]\n",
    "subm = pd.DataFrame()\n",
    "subm['image_name'] = df_train.values[:,0]\n",
    "subm['tags'] = preds\n",
    "subm.to_csv('submission_ensemble_30.csv', index=False)\n",
    "#test set score: 0.93071"
   ]
  },
  {
   "cell_type": "code",
   "execution_count": 27,
   "metadata": {
    "collapsed": false
   },
   "outputs": [
    {
     "data": {
      "text/plain": [
       "['submission_64_3net_val_2.csv',\n",
       " 'submission_augmented_0_01.csv',\n",
       " 'submission_inception_augmented_v2_2.csv',\n",
       " 'submission_augmented_0_1.csv',\n",
       " 'submission_resnet_224_2.csv',\n",
       " 'submission_0_3.csv',\n",
       " 'submission_resnet_224_3.csv',\n",
       " 'submission_64_3net_7.csv',\n",
       " 'submission_ensemble_8.csv',\n",
       " 'submission_ensemble_24.csv',\n",
       " 'submission_inception_augmented_v2_1.csv',\n",
       " 'submission_ensemble_28.csv',\n",
       " 'submission_inc_5.csv',\n",
       " 'submission_inception_augmented_v2_5.csv',\n",
       " 'submission_ensemble_6.csv',\n",
       " 'submission_ensemble_13.csv',\n",
       " 'submission_64_3net_val_3.csv',\n",
       " 'submission_64_3net_8.csv',\n",
       " 'submission_ensemble_22.csv',\n",
       " 'submission_inception_3net_5.csv',\n",
       " 'submission_inc_4.csv',\n",
       " 'submission_64_net_1.csv',\n",
       " 'submission_inception_augmented_v2_4.csv',\n",
       " 'submission_ensemble_11.csv',\n",
       " 'submission_ensemble_10.csv',\n",
       " 'submission_ensemble_17.csv',\n",
       " 'submission_xception_224_1.csv',\n",
       " 'submission_96_3net_1.csv',\n",
       " 'submission_resnet_224_1.csv',\n",
       " 'submission_3net_tif_3.csv',\n",
       " 'submission_inception_3net_2.csv',\n",
       " 'submission_ensemble_12.csv',\n",
       " 'submission_64_3net_val_5.csv',\n",
       " 'submission_xception2_1.csv',\n",
       " 'submission_exc_1.csv',\n",
       " 'submission_64_3net_1.csv',\n",
       " 'submission_inception_3net_1.csv',\n",
       " 'submission_ensemble_1.csv',\n",
       " 'submission_ensemble_18.csv',\n",
       " 'submission_64_3net_4.csv',\n",
       " 'submission_3net_2.csv',\n",
       " 'submission_ensemble_3.csv',\n",
       " 'submission_3net_tif_4.csv',\n",
       " 'submission_ensemble_20.csv',\n",
       " 'submission_xception3_1.csv',\n",
       " 'submission_augmented_0_05.csv',\n",
       " 'submission_exc_3.csv',\n",
       " 'submission_64_3net_val_1.csv',\n",
       " 'submission_64_3net_2.csv',\n",
       " 'submission_ensemble_23.csv',\n",
       " 'submission_augmented2.csv',\n",
       " 'submission_xception_224_2.csv',\n",
       " 'submission_ensemble.csv',\n",
       " 'submission_96_3net_4.csv',\n",
       " 'submission_inc_1.csv',\n",
       " 'submission_ensemble_25.csv',\n",
       " 'submission_64_3net_6.csv',\n",
       " 'submission_3net_tif_5.csv',\n",
       " 'submission_ensemble_21.csv',\n",
       " 'submission_3net_3.csv',\n",
       " 'submission_ensemble_14.csv',\n",
       " 'submission_64_3net_val_4.csv',\n",
       " 'submission_inception_3net_3.csv',\n",
       " 'submission_ensemble_30.csv',\n",
       " 'submission_3net_1.csv',\n",
       " 'submission_ensemble_27.csv',\n",
       " 'submission_exc_2.csv',\n",
       " 'submission_32_net_1.csv',\n",
       " 'submission_ensemble_29.csv',\n",
       " 'submission_ensemble_9.csv',\n",
       " 'submission_3net_tif_2.csv',\n",
       " 'submission_resnet18_6_0.92383.csv',\n",
       " 'submission_ensemble_15.csv',\n",
       " 'submission_ensemble_26.csv',\n",
       " 'submission_ensemble_5.csv',\n",
       " 'submission_resnet18_0.92276.csv',\n",
       " 'submission_ensemble_19.csv',\n",
       " 'submission_ensemble_4.csv',\n",
       " 'submission_3net_4.csv',\n",
       " 'submission_96_3net_3.csv',\n",
       " 'submission_96_3net_2.csv',\n",
       " 'submission_64_3net_5.csv',\n",
       " 'submission_inc_6.csv',\n",
       " 'submission_200_3net_1.csv',\n",
       " 'submission_64_3net_9.csv',\n",
       " 'submission_resnet18_0.92064.csv',\n",
       " 'submission_ensemble_2.csv',\n",
       " 'submission_ensemble_7.csv',\n",
       " 'submission_inception_augmented_v2_3.csv',\n",
       " 'submission_96_3net_5.csv',\n",
       " 'submission_inc_3.csv',\n",
       " 'submission_inception_3net_4.csv',\n",
       " 'submission_64_3net_3.csv',\n",
       " 'submission_3net_tif_1.csv',\n",
       " 'submission_inc_2.csv',\n",
       " 'submission_ensemble_16.csv',\n",
       " 'submission_augmented1.csv',\n",
       " 'submission_augmented.csv',\n",
       " 'submission_64_3net_10.csv',\n",
       " 'submission.csv']"
      ]
     },
     "execution_count": 27,
     "metadata": {},
     "output_type": "execute_result"
    }
   ],
   "source": [
    "import glob\n",
    "files = glob.glob(\"submission*.csv\")\n",
    "files"
   ]
  },
  {
   "cell_type": "code",
   "execution_count": 28,
   "metadata": {
    "collapsed": false
   },
   "outputs": [],
   "source": [
    "files.remove('submission_0_3.csv')\n",
    "files.remove('submission_augmented2.csv')\n",
    "files.remove('submission.csv')"
   ]
  },
  {
   "cell_type": "code",
   "execution_count": 29,
   "metadata": {
    "collapsed": false
   },
   "outputs": [
    {
     "name": "stderr",
     "output_type": "stream",
     "text": [
      "100%|██████████| 61191/61191 [00:00<00:00, 279099.08it/s]\n",
      "100%|██████████| 61191/61191 [00:00<00:00, 272811.46it/s]\n",
      "100%|██████████| 61191/61191 [00:00<00:00, 289298.05it/s]\n",
      "100%|██████████| 61191/61191 [00:00<00:00, 297074.50it/s]\n",
      "100%|██████████| 61191/61191 [00:00<00:00, 295648.17it/s]\n",
      "100%|██████████| 61191/61191 [00:00<00:00, 291916.93it/s]\n",
      "100%|██████████| 61191/61191 [00:00<00:00, 296872.45it/s]\n",
      "100%|██████████| 61191/61191 [00:00<00:00, 288732.73it/s]\n",
      "100%|██████████| 61191/61191 [00:00<00:00, 279917.91it/s]\n",
      "100%|██████████| 61191/61191 [00:00<00:00, 289786.38it/s]\n",
      "100%|██████████| 61191/61191 [00:00<00:00, 294478.20it/s]\n",
      "100%|██████████| 61191/61191 [00:00<00:00, 289600.65it/s]\n",
      "100%|██████████| 61191/61191 [00:00<00:00, 287673.17it/s]\n",
      "100%|██████████| 61191/61191 [00:00<00:00, 292290.60it/s]\n",
      "100%|██████████| 61191/61191 [00:00<00:00, 293899.21it/s]\n",
      "100%|██████████| 61191/61191 [00:00<00:00, 277029.45it/s]\n",
      "100%|██████████| 61191/61191 [00:00<00:00, 289727.17it/s]\n",
      "100%|██████████| 61191/61191 [00:00<00:00, 290390.99it/s]\n",
      "100%|██████████| 61191/61191 [00:00<00:00, 287978.84it/s]\n",
      "100%|██████████| 61191/61191 [00:00<00:00, 288309.78it/s]\n",
      "100%|██████████| 61191/61191 [00:00<00:00, 286024.03it/s]\n",
      "100%|██████████| 61191/61191 [00:00<00:00, 286685.38it/s]\n",
      "100%|██████████| 61191/61191 [00:00<00:00, 289845.62it/s]\n",
      "100%|██████████| 61191/61191 [00:00<00:00, 290753.52it/s]\n",
      "100%|██████████| 61191/61191 [00:00<00:00, 287541.67it/s]\n",
      "100%|██████████| 61191/61191 [00:00<00:00, 291127.52it/s]\n",
      "100%|██████████| 61191/61191 [00:00<00:00, 281759.56it/s]\n",
      "100%|██████████| 61191/61191 [00:00<00:00, 287516.54it/s]\n",
      "100%|██████████| 61191/61191 [00:00<00:00, 285380.96it/s]\n",
      "100%|██████████| 61191/61191 [00:00<00:00, 287214.42it/s]\n",
      "100%|██████████| 61191/61191 [00:00<00:00, 288741.17it/s]\n",
      "100%|██████████| 61191/61191 [00:00<00:00, 279376.46it/s]\n",
      "100%|██████████| 61191/61191 [00:00<00:00, 283548.20it/s]\n",
      "100%|██████████| 61191/61191 [00:00<00:00, 284166.67it/s]\n",
      "100%|██████████| 61191/61191 [00:00<00:00, 288423.51it/s]\n",
      "100%|██████████| 61191/61191 [00:00<00:00, 282949.89it/s]\n",
      "100%|██████████| 61191/61191 [00:00<00:00, 279417.52it/s]\n",
      "100%|██████████| 61191/61191 [00:00<00:00, 282679.69it/s]\n",
      "100%|██████████| 61191/61191 [00:00<00:00, 285391.11it/s]\n",
      "100%|██████████| 61191/61191 [00:00<00:00, 282366.83it/s]\n",
      "100%|██████████| 61191/61191 [00:00<00:00, 285911.56it/s]\n",
      "100%|██████████| 61191/61191 [00:00<00:00, 280808.22it/s]\n",
      "100%|██████████| 61191/61191 [00:00<00:00, 264176.89it/s]\n",
      "100%|██████████| 61191/61191 [00:00<00:00, 250920.13it/s]\n",
      "100%|██████████| 61191/61191 [00:00<00:00, 252475.69it/s]\n",
      "100%|██████████| 61191/61191 [00:00<00:00, 258903.79it/s]\n",
      "100%|██████████| 61191/61191 [00:00<00:00, 245812.82it/s]\n",
      "100%|██████████| 61191/61191 [00:00<00:00, 259651.33it/s]\n",
      "100%|██████████| 61191/61191 [00:00<00:00, 265600.41it/s]\n",
      "100%|██████████| 61191/61191 [00:00<00:00, 254398.92it/s]\n",
      "100%|██████████| 61191/61191 [00:00<00:00, 266575.32it/s]\n",
      "100%|██████████| 61191/61191 [00:00<00:00, 254147.76it/s]\n",
      "100%|██████████| 61191/61191 [00:00<00:00, 257375.08it/s]\n",
      "100%|██████████| 61191/61191 [00:00<00:00, 255746.27it/s]\n",
      "100%|██████████| 61191/61191 [00:00<00:00, 258773.01it/s]\n",
      "100%|██████████| 61191/61191 [00:00<00:00, 256454.39it/s]\n",
      "100%|██████████| 61191/61191 [00:00<00:00, 260026.20it/s]\n",
      "100%|██████████| 61191/61191 [00:00<00:00, 260516.07it/s]\n",
      "100%|██████████| 61191/61191 [00:00<00:00, 257820.55it/s]\n",
      "100%|██████████| 61191/61191 [00:00<00:00, 255818.92it/s]\n",
      "100%|██████████| 61191/61191 [00:00<00:00, 263197.54it/s]\n",
      "100%|██████████| 61191/61191 [00:00<00:00, 261826.56it/s]\n",
      "100%|██████████| 61191/61191 [00:00<00:00, 264088.00it/s]\n",
      "100%|██████████| 61191/61191 [00:00<00:00, 259305.84it/s]\n",
      "100%|██████████| 61191/61191 [00:00<00:00, 264505.77it/s]\n",
      "100%|██████████| 61191/61191 [00:00<00:00, 256666.23it/s]\n",
      "100%|██████████| 61191/61191 [00:00<00:00, 264020.62it/s]\n",
      "100%|██████████| 61191/61191 [00:00<00:00, 266436.40it/s]\n",
      "100%|██████████| 61191/61191 [00:00<00:00, 256474.12it/s]\n",
      "100%|██████████| 61191/61191 [00:00<00:00, 264730.31it/s]\n",
      "100%|██████████| 61191/61191 [00:00<00:00, 265136.43it/s]\n",
      "100%|██████████| 61191/61191 [00:00<00:00, 261426.25it/s]\n",
      "100%|██████████| 61191/61191 [00:00<00:00, 265770.38it/s]\n",
      "100%|██████████| 61191/61191 [00:00<00:00, 261029.82it/s]\n",
      "100%|██████████| 61191/61191 [00:00<00:00, 259480.17it/s]\n",
      "100%|██████████| 61191/61191 [00:00<00:00, 267162.21it/s]\n",
      "100%|██████████| 61191/61191 [00:00<00:00, 265493.80it/s]\n",
      "100%|██████████| 61191/61191 [00:00<00:00, 261832.71it/s]\n",
      "100%|██████████| 61191/61191 [00:00<00:00, 262390.03it/s]\n",
      "100%|██████████| 61191/61191 [00:00<00:00, 261822.82it/s]\n",
      "100%|██████████| 61191/61191 [00:00<00:00, 257575.00it/s]\n",
      "100%|██████████| 61191/61191 [00:00<00:00, 256198.90it/s]\n",
      "100%|██████████| 61191/61191 [00:00<00:00, 263569.45it/s]\n",
      "100%|██████████| 61191/61191 [00:00<00:00, 262647.80it/s]\n",
      "100%|██████████| 61191/61191 [00:00<00:00, 244591.62it/s]\n",
      "100%|██████████| 61191/61191 [00:00<00:00, 265060.86it/s]\n",
      "100%|██████████| 61191/61191 [00:00<00:00, 265069.34it/s]\n",
      "100%|██████████| 61191/61191 [00:00<00:00, 257442.98it/s]\n",
      "100%|██████████| 61191/61191 [00:00<00:00, 266451.61it/s]\n",
      "100%|██████████| 61191/61191 [00:00<00:00, 262344.16it/s]\n",
      "100%|██████████| 61191/61191 [00:00<00:00, 252805.45it/s]\n",
      "100%|██████████| 61191/61191 [00:00<00:00, 258889.95it/s]\n",
      "100%|██████████| 61191/61191 [00:00<00:00, 262806.21it/s]\n",
      "100%|██████████| 61191/61191 [00:00<00:00, 268129.32it/s]\n",
      "100%|██████████| 61191/61191 [00:00<00:00, 257387.21it/s]\n",
      "100%|██████████| 61191/61191 [00:00<00:00, 267063.80it/s]\n",
      "100%|██████████| 61191/61191 [00:00<00:00, 266708.01it/s]\n"
     ]
    }
   ],
   "source": [
    "y = []\n",
    "for file in files:\n",
    "    y_file = []\n",
    "\n",
    "    df_train = pd.read_csv(file)\n",
    "\n",
    "    labels = ['blow_down',\n",
    "     'bare_ground',\n",
    "     'conventional_mine',\n",
    "     'blooming',\n",
    "     'artisinal_mine',\n",
    "     'selective_logging',         \n",
    "     'slash_burn', \n",
    "     'cultivation',\n",
    "     'habitation',\n",
    "     'road',\n",
    "     'agriculture',\n",
    "     'water',\n",
    "     'primary',\n",
    "     'partly_cloudy', \n",
    "     'cloudy',\n",
    "     'clear',\n",
    "     'haze',]\n",
    "\n",
    "    label_map = {l: i for i, l in enumerate(labels)}\n",
    "    inv_label_map = {i: l for l, i in label_map.items()}\n",
    "\n",
    "\n",
    "    for f, tags in tqdm(df_train.values, miniters=1000):    \n",
    "        targets = np.zeros(17)\n",
    "        for t in tags.split(' '):\n",
    "            targets[label_map[t]] = 1 \n",
    "        y_file.append(targets)\n",
    "\n",
    "    y_file = np.array(y_file, np.uint8)\n",
    "    y.append(y_file)"
   ]
  },
  {
   "cell_type": "code",
   "execution_count": 30,
   "metadata": {
    "collapsed": false
   },
   "outputs": [
    {
     "data": {
      "text/plain": [
       "97"
      ]
     },
     "execution_count": 30,
     "metadata": {},
     "output_type": "execute_result"
    }
   ],
   "source": [
    "len(y)"
   ]
  },
  {
   "cell_type": "code",
   "execution_count": 31,
   "metadata": {
    "collapsed": true
   },
   "outputs": [],
   "source": [
    "y_sum = y[0]\n",
    "for i in range(1,len(y)):\n",
    "    y_sum += y[i]"
   ]
  },
  {
   "cell_type": "code",
   "execution_count": 32,
   "metadata": {
    "collapsed": false
   },
   "outputs": [
    {
     "data": {
      "text/plain": [
       "array([[ 0,  0,  0, ...,  0, 92,  5],\n",
       "       [ 0,  0,  0, ...,  0, 97,  5],\n",
       "       [ 0,  0,  0, ...,  0,  0,  0],\n",
       "       ..., \n",
       "       [ 0,  0,  0, ...,  0, 92,  5],\n",
       "       [ 0,  0,  0, ..., 92,  0,  2],\n",
       "       [ 0,  0,  0, ...,  0, 92, 10]], dtype=uint8)"
      ]
     },
     "execution_count": 32,
     "metadata": {},
     "output_type": "execute_result"
    }
   ],
   "source": [
    "y_sum"
   ]
  },
  {
   "cell_type": "code",
   "execution_count": 33,
   "metadata": {
    "collapsed": true
   },
   "outputs": [],
   "source": [
    "y_pred = (y_sum>=49)"
   ]
  },
  {
   "cell_type": "code",
   "execution_count": 34,
   "metadata": {
    "collapsed": true
   },
   "outputs": [],
   "source": [
    "labels_np = np.array(labels)\n",
    "preds = [' '.join(labels_np[np.array(y_pred[i,:],bool)]) for i in range(y_pred.shape[0])]\n",
    "subm = pd.DataFrame()\n",
    "subm['image_name'] = df_train.values[:,0]\n",
    "subm['tags'] = preds\n",
    "subm.to_csv('submission_ensemble_31.csv', index=False)\n",
    "#test set score: 0.93058"
   ]
  },
  {
   "cell_type": "code",
   "execution_count": 37,
   "metadata": {
    "collapsed": true
   },
   "outputs": [],
   "source": [
    "y_sum_weather = y_sum[:,-4:]\n",
    "weather_max = np.argmax(y_sum_weather,axis=1)"
   ]
  },
  {
   "cell_type": "code",
   "execution_count": 38,
   "metadata": {
    "collapsed": false
   },
   "outputs": [
    {
     "data": {
      "text/plain": [
       "array([2, 2, 0, ..., 2, 1, 2])"
      ]
     },
     "execution_count": 38,
     "metadata": {},
     "output_type": "execute_result"
    }
   ],
   "source": [
    "weather_max"
   ]
  },
  {
   "cell_type": "code",
   "execution_count": 41,
   "metadata": {
    "collapsed": true
   },
   "outputs": [],
   "source": [
    "y_sum_weather=np.zeros((y_sum.shape[0],4))\n",
    "y_sum_weather[np.arange(y_sum.shape[0]),weather_max]=1"
   ]
  },
  {
   "cell_type": "code",
   "execution_count": 42,
   "metadata": {
    "collapsed": false
   },
   "outputs": [
    {
     "data": {
      "text/plain": [
       "array([[ 0.,  0.,  1.,  0.],\n",
       "       [ 0.,  0.,  1.,  0.],\n",
       "       [ 1.,  0.,  0.,  0.],\n",
       "       ..., \n",
       "       [ 0.,  0.,  1.,  0.],\n",
       "       [ 0.,  1.,  0.,  0.],\n",
       "       [ 0.,  0.,  1.,  0.]])"
      ]
     },
     "execution_count": 42,
     "metadata": {},
     "output_type": "execute_result"
    }
   ],
   "source": [
    "y_sum_weather"
   ]
  },
  {
   "cell_type": "code",
   "execution_count": 43,
   "metadata": {
    "collapsed": false
   },
   "outputs": [
    {
     "data": {
      "text/plain": [
       "array([[False, False,  True, False],\n",
       "       [False, False,  True, False],\n",
       "       [ True, False, False, False],\n",
       "       ..., \n",
       "       [False, False,  True, False],\n",
       "       [False,  True, False, False],\n",
       "       [False, False,  True, False]], dtype=bool)"
      ]
     },
     "execution_count": 43,
     "metadata": {},
     "output_type": "execute_result"
    }
   ],
   "source": [
    "y_sum_weather = np.array(y_sum_weather,bool)\n",
    "y_sum_weather"
   ]
  },
  {
   "cell_type": "code",
   "execution_count": 44,
   "metadata": {
    "collapsed": true
   },
   "outputs": [],
   "source": [
    "y_pred[:,-4:] = y_sum_weather"
   ]
  },
  {
   "cell_type": "code",
   "execution_count": 45,
   "metadata": {
    "collapsed": true
   },
   "outputs": [],
   "source": [
    "labels_np = np.array(labels)\n",
    "preds = [' '.join(labels_np[np.array(y_pred[i,:],bool)]) for i in range(y_pred.shape[0])]\n",
    "subm = pd.DataFrame()\n",
    "subm['image_name'] = df_train.values[:,0]\n",
    "subm['tags'] = preds\n",
    "subm.to_csv('submission_ensemble_32.csv', index=False)\n",
    "#test set score:0.92274"
   ]
  },
  {
   "cell_type": "code",
   "execution_count": 46,
   "metadata": {
    "collapsed": true
   },
   "outputs": [],
   "source": [
    "files = ['submission_xception2_1.csv','submission_xception3_1.csv','submission_exc_2.csv','submission_inc_5.csv',\n",
    "         'submission_96_3net_4.csv', 'submission_resnet18_6_0.92383.csv', 'submission_64_3net_8.csv',\n",
    "         'submission_xception_224_1.csv','submission_resnet_224_1.csv','submission_200_3net_1.csv','submission_3net_1.csv',\n",
    "         'submission_32_net_1.csv','submission_64_net_1.csv','submission_3net_tif_1.csv','submission_inception_3net_2.csv']"
   ]
  },
  {
   "cell_type": "code",
   "execution_count": 47,
   "metadata": {
    "collapsed": false
   },
   "outputs": [
    {
     "name": "stderr",
     "output_type": "stream",
     "text": [
      "100%|██████████| 61191/61191 [00:00<00:00, 267059.63it/s]\n",
      "100%|██████████| 61191/61191 [00:00<00:00, 280462.39it/s]\n",
      "100%|██████████| 61191/61191 [00:00<00:00, 281048.99it/s]\n",
      "100%|██████████| 61191/61191 [00:00<00:00, 284674.45it/s]\n",
      "100%|██████████| 61191/61191 [00:00<00:00, 274558.73it/s]\n",
      "100%|██████████| 61191/61191 [00:00<00:00, 275554.79it/s]\n",
      "100%|██████████| 61191/61191 [00:00<00:00, 276743.58it/s]\n",
      "100%|██████████| 61191/61191 [00:00<00:00, 277258.39it/s]\n",
      "100%|██████████| 61191/61191 [00:00<00:00, 279399.88it/s]\n",
      "100%|██████████| 61191/61191 [00:00<00:00, 282800.23it/s]\n",
      "100%|██████████| 61191/61191 [00:00<00:00, 279115.78it/s]\n",
      "100%|██████████| 61191/61191 [00:00<00:00, 275792.85it/s]\n",
      "100%|██████████| 61191/61191 [00:00<00:00, 283055.67it/s]\n",
      "100%|██████████| 61191/61191 [00:00<00:00, 280773.81it/s]\n",
      "100%|██████████| 61191/61191 [00:00<00:00, 284764.46it/s]\n"
     ]
    }
   ],
   "source": [
    "y = []\n",
    "for file in files:\n",
    "    y_file = []\n",
    "\n",
    "    df_train = pd.read_csv(file)\n",
    "\n",
    "    labels = ['blow_down',\n",
    "     'bare_ground',\n",
    "     'conventional_mine',\n",
    "     'blooming',\n",
    "     'artisinal_mine',\n",
    "     'selective_logging',         \n",
    "     'slash_burn', \n",
    "     'cultivation',\n",
    "     'habitation',\n",
    "     'road',\n",
    "     'agriculture',\n",
    "     'water',\n",
    "     'primary',\n",
    "     'partly_cloudy', \n",
    "     'cloudy',\n",
    "     'clear',\n",
    "     'haze',]\n",
    "\n",
    "    label_map = {l: i for i, l in enumerate(labels)}\n",
    "    inv_label_map = {i: l for l, i in label_map.items()}\n",
    "\n",
    "\n",
    "    for f, tags in tqdm(df_train.values, miniters=1000):    \n",
    "        targets = np.zeros(17)\n",
    "        for t in tags.split(' '):\n",
    "            targets[label_map[t]] = 1 \n",
    "        y_file.append(targets)\n",
    "\n",
    "    y_file = np.array(y_file, np.uint8)\n",
    "    y.append(y_file)"
   ]
  },
  {
   "cell_type": "code",
   "execution_count": 48,
   "metadata": {
    "collapsed": true
   },
   "outputs": [],
   "source": [
    "y_sum = y[0]+y[1]+y[2]+y[3]+y[4]+y[5]+y[6]+y[7]+y[8]+y[9]+y[10]+y[11]+y[12]+y[13]+y[14]"
   ]
  },
  {
   "cell_type": "code",
   "execution_count": 49,
   "metadata": {
    "collapsed": true
   },
   "outputs": [],
   "source": [
    "y_pred = (y_sum>=8)"
   ]
  },
  {
   "cell_type": "code",
   "execution_count": 50,
   "metadata": {
    "collapsed": true
   },
   "outputs": [],
   "source": [
    "labels_np = np.array(labels)\n",
    "preds = [' '.join(labels_np[np.array(y_pred[i,:],bool)]) for i in range(y_pred.shape[0])]\n",
    "subm = pd.DataFrame()\n",
    "subm['image_name'] = df_train.values[:,0]\n",
    "subm['tags'] = preds\n",
    "subm.to_csv('submission_ensemble_33.csv', index=False)\n",
    "#test set score:0.93119"
   ]
  },
  {
   "cell_type": "code",
   "execution_count": 2,
   "metadata": {
    "collapsed": true
   },
   "outputs": [],
   "source": [
    "files = ['submission_xception2_1.csv','submission_xception3_1.csv','submission_exc_2.csv','submission_inc_5.csv',\n",
    "         'submission_96_3net_4.csv', 'submission_resnet18_6_2.csv', 'submission_64_3net_8.csv',\n",
    "         'submission_xception_224_1.csv','submission_resnet_224_1.csv','submission_200_3net_1.csv']"
   ]
  },
  {
   "cell_type": "code",
   "execution_count": 3,
   "metadata": {
    "collapsed": false
   },
   "outputs": [
    {
     "name": "stderr",
     "output_type": "stream",
     "text": [
      "100%|██████████| 61191/61191 [00:00<00:00, 269306.77it/s]\n",
      "100%|██████████| 61191/61191 [00:00<00:00, 269733.29it/s]\n",
      "100%|██████████| 61191/61191 [00:00<00:00, 271492.05it/s]\n",
      "100%|██████████| 61191/61191 [00:00<00:00, 282697.75it/s]\n",
      "100%|██████████| 61191/61191 [00:00<00:00, 276095.17it/s]\n",
      "100%|██████████| 61191/61191 [00:00<00:00, 278968.64it/s]\n",
      "100%|██████████| 61191/61191 [00:00<00:00, 282175.28it/s]\n",
      "100%|██████████| 61191/61191 [00:00<00:00, 274431.32it/s]\n",
      "100%|██████████| 61191/61191 [00:00<00:00, 280687.22it/s]\n",
      "100%|██████████| 61191/61191 [00:00<00:00, 283184.04it/s]\n"
     ]
    }
   ],
   "source": [
    "y = []\n",
    "for file in files:\n",
    "    y_file = []\n",
    "\n",
    "    df_train = pd.read_csv(file)\n",
    "\n",
    "    labels = ['blow_down',\n",
    "     'bare_ground',\n",
    "     'conventional_mine',\n",
    "     'blooming',\n",
    "     'artisinal_mine',\n",
    "     'selective_logging',         \n",
    "     'slash_burn', \n",
    "     'cultivation',\n",
    "     'habitation',\n",
    "     'road',\n",
    "     'agriculture',\n",
    "     'water',\n",
    "     'primary',\n",
    "     'partly_cloudy', \n",
    "     'cloudy',\n",
    "     'clear',\n",
    "     'haze',]\n",
    "\n",
    "    label_map = {l: i for i, l in enumerate(labels)}\n",
    "    inv_label_map = {i: l for l, i in label_map.items()}\n",
    "\n",
    "\n",
    "    for f, tags in tqdm(df_train.values, miniters=1000):    \n",
    "        targets = np.zeros(17)\n",
    "        for t in tags.split(' '):\n",
    "            targets[label_map[t]] = 1 \n",
    "        y_file.append(targets)\n",
    "\n",
    "    y_file = np.array(y_file, np.uint8)\n",
    "    y.append(y_file)"
   ]
  },
  {
   "cell_type": "code",
   "execution_count": 4,
   "metadata": {
    "collapsed": true
   },
   "outputs": [],
   "source": [
    "y_sum = y[0]+y[1]+y[2]+y[3]+y[4]+y[5]+y[6]+y[7]+y[8]+y[9]"
   ]
  },
  {
   "cell_type": "code",
   "execution_count": 5,
   "metadata": {
    "collapsed": true
   },
   "outputs": [],
   "source": [
    "y_pred = (y_sum>=5)"
   ]
  },
  {
   "cell_type": "code",
   "execution_count": 6,
   "metadata": {
    "collapsed": true
   },
   "outputs": [],
   "source": [
    "labels_np = np.array(labels)\n",
    "preds = [' '.join(labels_np[np.array(y_pred[i,:],bool)]) for i in range(y_pred.shape[0])]\n",
    "subm = pd.DataFrame()\n",
    "subm['image_name'] = df_train.values[:,0]\n",
    "subm['tags'] = preds\n",
    "subm.to_csv('submission_ensemble_34.csv', index=False)\n",
    "#test set score: 0.93136"
   ]
  },
  {
   "cell_type": "code",
   "execution_count": 7,
   "metadata": {
    "collapsed": true
   },
   "outputs": [],
   "source": [
    "y_sum = y[0]+y[1]+y[2]+y[3]+y[4]+y[5]+y[7]+y[8]+y[9]"
   ]
  },
  {
   "cell_type": "code",
   "execution_count": 8,
   "metadata": {
    "collapsed": true
   },
   "outputs": [],
   "source": [
    "y_pred = (y_sum>=5)"
   ]
  },
  {
   "cell_type": "code",
   "execution_count": 9,
   "metadata": {
    "collapsed": true
   },
   "outputs": [],
   "source": [
    "labels_np = np.array(labels)\n",
    "preds = [' '.join(labels_np[np.array(y_pred[i,:],bool)]) for i in range(y_pred.shape[0])]\n",
    "subm = pd.DataFrame()\n",
    "subm['image_name'] = df_train.values[:,0]\n",
    "subm['tags'] = preds\n",
    "subm.to_csv('submission_ensemble_35.csv', index=False)\n",
    "#test set score: 0.93118"
   ]
  },
  {
   "cell_type": "code",
   "execution_count": 10,
   "metadata": {
    "collapsed": true
   },
   "outputs": [],
   "source": [
    "files = ['submission_xception2_1.csv','submission_xception3_1.csv','submission_exc_2.csv','submission_inc_5.csv',\n",
    "         'submission_96_3net_4.csv', 'submission_resnet18_6_2.csv', 'submission_64_3net_8.csv',\n",
    "         'submission_xception_224_1.csv','submission_resnet_224_1.csv','submission_200_3net_1.csv',\n",
    "        'submission_resnet18_6_0.92383.csv','submission_exc_3.csv','submission_exc_1.csv','submission_inc_2.csv',\n",
    "         'submission_96_3net_5.csv']"
   ]
  },
  {
   "cell_type": "code",
   "execution_count": 11,
   "metadata": {
    "collapsed": false
   },
   "outputs": [
    {
     "name": "stderr",
     "output_type": "stream",
     "text": [
      "100%|██████████| 61191/61191 [00:00<00:00, 275737.44it/s]\n",
      "100%|██████████| 61191/61191 [00:00<00:00, 286862.58it/s]\n",
      "100%|██████████| 61191/61191 [00:00<00:00, 275545.32it/s]\n",
      "100%|██████████| 61191/61191 [00:00<00:00, 287731.86it/s]\n",
      "100%|██████████| 61191/61191 [00:00<00:00, 287074.99it/s]\n",
      "100%|██████████| 61191/61191 [00:00<00:00, 289261.86it/s]\n",
      "100%|██████████| 61191/61191 [00:00<00:00, 294846.95it/s]\n",
      "100%|██████████| 61191/61191 [00:00<00:00, 293809.38it/s]\n",
      "100%|██████████| 61191/61191 [00:00<00:00, 285951.69it/s]\n",
      "100%|██████████| 61191/61191 [00:00<00:00, 282823.92it/s]\n",
      "100%|██████████| 61191/61191 [00:00<00:00, 287089.44it/s]\n",
      "100%|██████████| 61191/61191 [00:00<00:00, 290644.86it/s]\n",
      "100%|██████████| 61191/61191 [00:00<00:00, 284085.21it/s]\n",
      "100%|██████████| 61191/61191 [00:00<00:00, 284767.31it/s]\n",
      "100%|██████████| 61191/61191 [00:00<00:00, 296552.75it/s]\n"
     ]
    }
   ],
   "source": [
    "y = []\n",
    "for file in files:\n",
    "    y_file = []\n",
    "\n",
    "    df_train = pd.read_csv(file)\n",
    "\n",
    "    labels = ['blow_down',\n",
    "     'bare_ground',\n",
    "     'conventional_mine',\n",
    "     'blooming',\n",
    "     'artisinal_mine',\n",
    "     'selective_logging',         \n",
    "     'slash_burn', \n",
    "     'cultivation',\n",
    "     'habitation',\n",
    "     'road',\n",
    "     'agriculture',\n",
    "     'water',\n",
    "     'primary',\n",
    "     'partly_cloudy', \n",
    "     'cloudy',\n",
    "     'clear',\n",
    "     'haze',]\n",
    "\n",
    "    label_map = {l: i for i, l in enumerate(labels)}\n",
    "    inv_label_map = {i: l for l, i in label_map.items()}\n",
    "\n",
    "\n",
    "    for f, tags in tqdm(df_train.values, miniters=1000):    \n",
    "        targets = np.zeros(17)\n",
    "        for t in tags.split(' '):\n",
    "            targets[label_map[t]] = 1 \n",
    "        y_file.append(targets)\n",
    "\n",
    "    y_file = np.array(y_file, np.uint8)\n",
    "    y.append(y_file)"
   ]
  },
  {
   "cell_type": "code",
   "execution_count": 12,
   "metadata": {
    "collapsed": true
   },
   "outputs": [],
   "source": [
    "y_sum = y[0]+y[1]+y[2]+y[3]+y[4]+y[5]+y[7]+y[8]+y[9]+y[10]+y[11]+y[12]+y[13]+y[14]"
   ]
  },
  {
   "cell_type": "code",
   "execution_count": 13,
   "metadata": {
    "collapsed": true
   },
   "outputs": [],
   "source": [
    "y_pred = (y_sum>=8)"
   ]
  },
  {
   "cell_type": "code",
   "execution_count": 14,
   "metadata": {
    "collapsed": true
   },
   "outputs": [],
   "source": [
    "labels_np = np.array(labels)\n",
    "preds = [' '.join(labels_np[np.array(y_pred[i,:],bool)]) for i in range(y_pred.shape[0])]\n",
    "subm = pd.DataFrame()\n",
    "subm['image_name'] = df_train.values[:,0]\n",
    "subm['tags'] = preds\n",
    "subm.to_csv('submission_ensemble_36.csv', index=False)\n",
    "#test set score: 0.93121"
   ]
  },
  {
   "cell_type": "code",
   "execution_count": 15,
   "metadata": {
    "collapsed": true
   },
   "outputs": [],
   "source": [
    "y_sum =  y[0]+y[1]+y[2]+y[3]+y[4]+y[5]+y[7]+y[8]+y[9]"
   ]
  },
  {
   "cell_type": "code",
   "execution_count": 16,
   "metadata": {
    "collapsed": true
   },
   "outputs": [],
   "source": [
    "y_pred = (y_sum>=4)"
   ]
  },
  {
   "cell_type": "code",
   "execution_count": 17,
   "metadata": {
    "collapsed": true
   },
   "outputs": [],
   "source": [
    "labels_np = np.array(labels)\n",
    "preds = [' '.join(labels_np[np.array(y_pred[i,:],bool)]) for i in range(y_pred.shape[0])]\n",
    "subm = pd.DataFrame()\n",
    "subm['image_name'] = df_train.values[:,0]\n",
    "subm['tags'] = preds\n",
    "subm.to_csv('submission_ensemble_37.csv', index=False)\n",
    "#test set score: 0.93085"
   ]
  },
  {
   "cell_type": "code",
   "execution_count": 18,
   "metadata": {
    "collapsed": true
   },
   "outputs": [],
   "source": [
    "y_pred = (y_sum>=6)"
   ]
  },
  {
   "cell_type": "code",
   "execution_count": 19,
   "metadata": {
    "collapsed": true
   },
   "outputs": [],
   "source": [
    "labels_np = np.array(labels)\n",
    "preds = [' '.join(labels_np[np.array(y_pred[i,:],bool)]) for i in range(y_pred.shape[0])]\n",
    "subm = pd.DataFrame()\n",
    "subm['image_name'] = df_train.values[:,0]\n",
    "subm['tags'] = preds\n",
    "subm.to_csv('submission_ensemble_38.csv', index=False)\n",
    "#test set score: 0.93046"
   ]
  },
  {
   "cell_type": "code",
   "execution_count": 28,
   "metadata": {
    "collapsed": true
   },
   "outputs": [],
   "source": [
    "files = ['submission_xception2_1.csv','submission_xception3_1.csv','submission_exc_2.csv','submission_inc_5.csv',\n",
    "         'submission_96_3net_4.csv', 'submission_resnet18_6_4.csv', 'submission_64_3net_8.csv',\n",
    "         'submission_xception_224_1.csv','submission_resnet_224_1.csv','submission_200_3net_1.csv']"
   ]
  },
  {
   "cell_type": "code",
   "execution_count": 29,
   "metadata": {
    "collapsed": false
   },
   "outputs": [
    {
     "name": "stderr",
     "output_type": "stream",
     "text": [
      "100%|██████████| 61191/61191 [00:00<00:00, 286961.05it/s]\n",
      "100%|██████████| 61191/61191 [00:00<00:00, 294156.90it/s]\n",
      "100%|██████████| 61191/61191 [00:00<00:00, 284492.37it/s]\n",
      "100%|██████████| 61191/61191 [00:00<00:00, 289757.59it/s]\n",
      "100%|██████████| 61191/61191 [00:00<00:00, 291606.48it/s]\n",
      "100%|██████████| 61191/61191 [00:00<00:00, 291365.48it/s]\n",
      "100%|██████████| 61191/61191 [00:00<00:00, 287778.32it/s]\n",
      "100%|██████████| 61191/61191 [00:00<00:00, 288960.61it/s]\n",
      "100%|██████████| 61191/61191 [00:00<00:00, 275307.97it/s]\n",
      "100%|██████████| 61191/61191 [00:00<00:00, 280938.85it/s]\n"
     ]
    }
   ],
   "source": [
    "y = []\n",
    "for file in files:\n",
    "    y_file = []\n",
    "\n",
    "    df_train = pd.read_csv(file)\n",
    "\n",
    "    labels = ['blow_down',\n",
    "     'bare_ground',\n",
    "     'conventional_mine',\n",
    "     'blooming',\n",
    "     'artisinal_mine',\n",
    "     'selective_logging',         \n",
    "     'slash_burn', \n",
    "     'cultivation',\n",
    "     'habitation',\n",
    "     'road',\n",
    "     'agriculture',\n",
    "     'water',\n",
    "     'primary',\n",
    "     'partly_cloudy', \n",
    "     'cloudy',\n",
    "     'clear',\n",
    "     'haze',]\n",
    "\n",
    "    label_map = {l: i for i, l in enumerate(labels)}\n",
    "    inv_label_map = {i: l for l, i in label_map.items()}\n",
    "\n",
    "\n",
    "    for f, tags in tqdm(df_train.values, miniters=1000):    \n",
    "        targets = np.zeros(17)\n",
    "        for t in tags.split(' '):\n",
    "            targets[label_map[t]] = 1 \n",
    "        y_file.append(targets)\n",
    "\n",
    "    y_file = np.array(y_file, np.uint8)\n",
    "    y.append(y_file)"
   ]
  },
  {
   "cell_type": "code",
   "execution_count": 30,
   "metadata": {
    "collapsed": true
   },
   "outputs": [],
   "source": [
    "y_sum =  y[0]+y[1]+y[2]+y[3]+y[4]+y[5]+y[6]+y[7]+y[8]+y[9]"
   ]
  },
  {
   "cell_type": "code",
   "execution_count": 31,
   "metadata": {
    "collapsed": true
   },
   "outputs": [],
   "source": [
    "y_pred = (y_sum>=5)"
   ]
  },
  {
   "cell_type": "code",
   "execution_count": 32,
   "metadata": {
    "collapsed": true
   },
   "outputs": [],
   "source": [
    "labels_np = np.array(labels)\n",
    "preds = [' '.join(labels_np[np.array(y_pred[i,:],bool)]) for i in range(y_pred.shape[0])]\n",
    "subm = pd.DataFrame()\n",
    "subm['image_name'] = df_train.values[:,0]\n",
    "subm['tags'] = preds\n",
    "subm.to_csv('submission_ensemble_39.csv', index=False)\n",
    "#test set score: "
   ]
  },
  {
   "cell_type": "code",
   "execution_count": 26,
   "metadata": {
    "collapsed": false
   },
   "outputs": [],
   "source": [
    "files = ['submission_exc_2.csv','submission_inc_5.csv','submission_96_3net_4.csv',\n",
    "         'submission_resnet18_6_4.csv', 'submission_64_3net_8.csv',\n",
    "         'submission_resnet_224_1.csv','submission_200_3net_1.csv']"
   ]
  },
  {
   "cell_type": "code",
   "execution_count": 27,
   "metadata": {
    "collapsed": false
   },
   "outputs": [
    {
     "name": "stderr",
     "output_type": "stream",
     "text": [
      "100%|██████████| 61191/61191 [00:00<00:00, 312131.62it/s]\n",
      "100%|██████████| 61191/61191 [00:00<00:00, 313635.60it/s]\n",
      "100%|██████████| 61191/61191 [00:00<00:00, 302105.77it/s]\n",
      "100%|██████████| 61191/61191 [00:00<00:00, 297823.25it/s]\n",
      "100%|██████████| 61191/61191 [00:00<00:00, 306160.04it/s]\n",
      "100%|██████████| 61191/61191 [00:00<00:00, 289219.48it/s]\n",
      "100%|██████████| 61191/61191 [00:00<00:00, 297410.84it/s]\n"
     ]
    }
   ],
   "source": [
    "y = []\n",
    "for file in files:\n",
    "    y_file = []\n",
    "\n",
    "    df_train = pd.read_csv(file)\n",
    "\n",
    "    labels = ['blow_down',\n",
    "     'bare_ground',\n",
    "     'conventional_mine',\n",
    "     'blooming',\n",
    "     'artisinal_mine',\n",
    "     'selective_logging',         \n",
    "     'slash_burn', \n",
    "     'cultivation',\n",
    "     'habitation',\n",
    "     'road',\n",
    "     'agriculture',\n",
    "     'water',\n",
    "     'primary',\n",
    "     'partly_cloudy', \n",
    "     'cloudy',\n",
    "     'clear',\n",
    "     'haze',]\n",
    "\n",
    "    label_map = {l: i for i, l in enumerate(labels)}\n",
    "    inv_label_map = {i: l for l, i in label_map.items()}\n",
    "\n",
    "\n",
    "    for f, tags in tqdm(df_train.values, miniters=1000):    \n",
    "        targets = np.zeros(17)\n",
    "        for t in tags.split(' '):\n",
    "            targets[label_map[t]] = 1 \n",
    "        y_file.append(targets)\n",
    "\n",
    "    y_file = np.array(y_file, np.uint8)\n",
    "    y.append(y_file)"
   ]
  },
  {
   "cell_type": "code",
   "execution_count": null,
   "metadata": {
    "collapsed": true
   },
   "outputs": [],
   "source": [
    "y_sum =  y[0]+y[1]+y[2]+y[3]+y[4]+y[5]+y[6]"
   ]
  }
 ],
 "metadata": {
  "kernelspec": {
   "display_name": "Python 3",
   "language": "python",
   "name": "python3"
  },
  "language_info": {
   "codemirror_mode": {
    "name": "ipython",
    "version": 3
   },
   "file_extension": ".py",
   "mimetype": "text/x-python",
   "name": "python",
   "nbconvert_exporter": "python",
   "pygments_lexer": "ipython3",
   "version": "3.5.2"
  }
 },
 "nbformat": 4,
 "nbformat_minor": 0
}
