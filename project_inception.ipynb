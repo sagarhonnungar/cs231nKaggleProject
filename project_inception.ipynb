{
 "cells": [
  {
   "cell_type": "code",
   "execution_count": 8,
   "metadata": {
    "collapsed": false
   },
   "outputs": [],
   "source": [
    "import numpy as np # linear algebra\n",
    "import pandas as pd # data processing, CSV file I/O (e.g. pd.read_csv)\n",
    "import os\n",
    "import gc\n",
    "\n",
    "import keras as k\n",
    "import tensorflow as tf\n",
    "from keras.models import Sequential, Model\n",
    "from keras.layers import Dense, Dropout, Flatten\n",
    "from keras.layers import Conv2D, MaxPooling2D, GlobalAveragePooling2D\n",
    "from keras.callbacks import EarlyStopping\n",
    "from keras.applications.inception_v3 import InceptionV3\n",
    "from keras.layers import Input\n",
    "from keras import backend as K\n",
    "\n",
    "import cv2\n",
    "from tqdm import tqdm\n",
    "\n",
    "from sklearn.model_selection import train_test_split\n",
    "from sklearn.metrics import fbeta_score, precision_score \n",
    "import time"
   ]
  },
  {
   "cell_type": "code",
   "execution_count": 18,
   "metadata": {
    "collapsed": false
   },
   "outputs": [
    {
     "name": "stderr",
     "output_type": "stream",
     "text": [
      "100%|██████████| 40479/40479 [01:02<00:00, 646.04it/s]"
     ]
    },
    {
     "name": "stdout",
     "output_type": "stream",
     "text": [
      "(40479, 139, 139, 3)\n",
      "(40479, 17)\n"
     ]
    },
    {
     "name": "stderr",
     "output_type": "stream",
     "text": [
      "\n"
     ]
    }
   ],
   "source": [
    "x_train = []\n",
    "#x_test = []\n",
    "y_train = []\n",
    "\n",
    "df_train = pd.read_csv('train.csv')\n",
    "#df_test = pd.read_csv('../input/sample_submission.csv')\n",
    "\n",
    "flatten = lambda l: [item for sublist in l for item in sublist]\n",
    "labels = list(set(flatten([l.split(' ') for l in df_train['tags'].values])))\n",
    "\n",
    "label_map = {l: i for i, l in enumerate(labels)}\n",
    "inv_label_map = {i: l for l, i in label_map.items()}\n",
    "\n",
    "for f, tags in tqdm(df_train.values[:40479], miniters=1000):\n",
    "    img = cv2.imread('train-jpg/{}.jpg'.format(f))\n",
    "    targets = np.zeros(17)\n",
    "    for t in tags.split(' '):\n",
    "        targets[label_map[t]] = 1 \n",
    "    #x_train.append(img)    \n",
    "    x_train.append(cv2.resize(img, (139, 139)))#139 minimum size for inception\n",
    "    y_train.append(targets)\n",
    "\n",
    "#for f, tags in tqdm(df_test.values, miniters=1000):\n",
    "#    img = cv2.imread('../input/test-jpg/{}.jpg'.format(f))\n",
    "#    x_test.append(cv2.resize(img, (32, 32)))\n",
    "    \n",
    "y_train = np.array(y_train, np.uint8)\n",
    "x_train = np.array(x_train, np.float32) / 255.\n",
    "#x_test  = np.array(x_test, np.float32) / 255.\n",
    "\n",
    "print(x_train.shape)\n",
    "print(y_train.shape)"
   ]
  },
  {
   "cell_type": "code",
   "execution_count": 19,
   "metadata": {
    "collapsed": false
   },
   "outputs": [
    {
     "name": "stdout",
     "output_type": "stream",
     "text": [
      "(36431, 139, 139, 3)\n",
      "(36431, 17)\n",
      "(4048, 139, 139, 3)\n",
      "(4048, 17)\n"
     ]
    }
   ],
   "source": [
    "x_train, x_val, y_train, y_val = train_test_split(x_train,y_train,test_size=0.1)\n",
    "print(x_train.shape)\n",
    "print(y_train.shape)\n",
    "print(x_val.shape)\n",
    "print(y_val.shape)"
   ]
  },
  {
   "cell_type": "code",
   "execution_count": 21,
   "metadata": {
    "collapsed": false
   },
   "outputs": [],
   "source": [
    "base_model = InceptionV3(input_shape=(139,139,3), weights='imagenet', include_top=False)\n",
    "x = base_model.output\n",
    "x = GlobalAveragePooling2D()(x)\n",
    "#fully connected layer\n",
    "x = Dense(1024, activation='relu')(x)\n",
    "predictions = Dense(17, activation='sigmoid')(x)\n",
    "\n",
    "model = Model(inputs=base_model.input, outputs=predictions)\n",
    "\n",
    "for layer in base_model.layers:\n",
    "    layer.trainable = False"
   ]
  },
  {
   "cell_type": "code",
   "execution_count": 22,
   "metadata": {
    "collapsed": false
   },
   "outputs": [
    {
     "name": "stdout",
     "output_type": "stream",
     "text": [
      "Train on 36431 samples, validate on 4048 samples\n",
      "Epoch 1/3\n",
      "129s - loss: 0.1810 - val_loss: 0.1594\n",
      "Epoch 2/3\n",
      "124s - loss: 0.1390 - val_loss: 0.1352\n",
      "Epoch 3/3\n",
      "124s - loss: 0.1316 - val_loss: 0.1401\n",
      "F2 score: 0.876142811477\n"
     ]
    }
   ],
   "source": [
    "model.compile(loss='binary_crossentropy', \n",
    "              optimizer='adam',\n",
    "              metrics=[])\n",
    "#callbacks = [EarlyStopping(monitor='val_loss', patience=2, verbose=0)]\n",
    "model.fit(x = x_train, y= y_train, validation_data=(x_val, y_val),\n",
    "                  batch_size=128,verbose=2, epochs=3,#callbacks=callbacks,\n",
    "                  shuffle=True)\n",
    "\n",
    "y_pred = model.predict(x_val, batch_size = 128, verbose=2)\n",
    "print(\"F2 score:\",fbeta_score(y_val, np.array(y_pred)>0.2, beta=2, average='samples'))"
   ]
  },
  {
   "cell_type": "code",
   "execution_count": 23,
   "metadata": {
    "collapsed": false
   },
   "outputs": [],
   "source": [
    "def multilabelmetrics(y_true,y_pred):\n",
    "    '''y_true and y_pred should be boolean np arrays\n",
    "    of shape num_example x num_classes '''\n",
    "    total = np.sum(y_true,axis = 0)\n",
    "    tp = np.sum(y_true*y_pred,axis=0)\n",
    "    tn = np.sum((1-y_true)*(1-y_pred),axis=0)\n",
    "    fp = np.sum((1-y_true)*y_pred,axis=0)\n",
    "    fn = np.sum(y_true*(1-y_pred),axis=0)\n",
    "    return total,tp,tn,fp,fn"
   ]
  },
  {
   "cell_type": "code",
   "execution_count": 16,
   "metadata": {
    "collapsed": false
   },
   "outputs": [
    {
     "data": {
      "text/html": [
       "<div>\n",
       "<table border=\"1\" class=\"dataframe\">\n",
       "  <thead>\n",
       "    <tr style=\"text-align: right;\">\n",
       "      <th></th>\n",
       "      <th>FN</th>\n",
       "      <th>FP</th>\n",
       "      <th>TN</th>\n",
       "      <th>TP</th>\n",
       "      <th>Total</th>\n",
       "    </tr>\n",
       "  </thead>\n",
       "  <tbody>\n",
       "    <tr>\n",
       "      <th>water</th>\n",
       "      <td>225</td>\n",
       "      <td>2951</td>\n",
       "      <td>3711</td>\n",
       "      <td>1209</td>\n",
       "      <td>1434</td>\n",
       "    </tr>\n",
       "    <tr>\n",
       "      <th>habitation</th>\n",
       "      <td>476</td>\n",
       "      <td>449</td>\n",
       "      <td>6923</td>\n",
       "      <td>248</td>\n",
       "      <td>724</td>\n",
       "    </tr>\n",
       "    <tr>\n",
       "      <th>slash_burn</th>\n",
       "      <td>35</td>\n",
       "      <td>56</td>\n",
       "      <td>8005</td>\n",
       "      <td>0</td>\n",
       "      <td>35</td>\n",
       "    </tr>\n",
       "    <tr>\n",
       "      <th>artisinal_mine</th>\n",
       "      <td>66</td>\n",
       "      <td>157</td>\n",
       "      <td>7873</td>\n",
       "      <td>0</td>\n",
       "      <td>66</td>\n",
       "    </tr>\n",
       "    <tr>\n",
       "      <th>bare_ground</th>\n",
       "      <td>160</td>\n",
       "      <td>140</td>\n",
       "      <td>7792</td>\n",
       "      <td>4</td>\n",
       "      <td>164</td>\n",
       "    </tr>\n",
       "    <tr>\n",
       "      <th>blooming</th>\n",
       "      <td>79</td>\n",
       "      <td>86</td>\n",
       "      <td>7931</td>\n",
       "      <td>0</td>\n",
       "      <td>79</td>\n",
       "    </tr>\n",
       "    <tr>\n",
       "      <th>selective_logging</th>\n",
       "      <td>57</td>\n",
       "      <td>149</td>\n",
       "      <td>7889</td>\n",
       "      <td>1</td>\n",
       "      <td>58</td>\n",
       "    </tr>\n",
       "    <tr>\n",
       "      <th>road</th>\n",
       "      <td>502</td>\n",
       "      <td>1187</td>\n",
       "      <td>5308</td>\n",
       "      <td>1099</td>\n",
       "      <td>1601</td>\n",
       "    </tr>\n",
       "    <tr>\n",
       "      <th>blow_down</th>\n",
       "      <td>15</td>\n",
       "      <td>218</td>\n",
       "      <td>7863</td>\n",
       "      <td>0</td>\n",
       "      <td>15</td>\n",
       "    </tr>\n",
       "    <tr>\n",
       "      <th>agriculture</th>\n",
       "      <td>308</td>\n",
       "      <td>2717</td>\n",
       "      <td>2965</td>\n",
       "      <td>2106</td>\n",
       "      <td>2414</td>\n",
       "    </tr>\n",
       "    <tr>\n",
       "      <th>conventional_mine</th>\n",
       "      <td>13</td>\n",
       "      <td>13</td>\n",
       "      <td>8070</td>\n",
       "      <td>0</td>\n",
       "      <td>13</td>\n",
       "    </tr>\n",
       "    <tr>\n",
       "      <th>clear</th>\n",
       "      <td>191</td>\n",
       "      <td>1523</td>\n",
       "      <td>942</td>\n",
       "      <td>5440</td>\n",
       "      <td>5631</td>\n",
       "    </tr>\n",
       "    <tr>\n",
       "      <th>primary</th>\n",
       "      <td>9</td>\n",
       "      <td>523</td>\n",
       "      <td>14</td>\n",
       "      <td>7550</td>\n",
       "      <td>7559</td>\n",
       "    </tr>\n",
       "    <tr>\n",
       "      <th>partly_cloudy</th>\n",
       "      <td>258</td>\n",
       "      <td>1706</td>\n",
       "      <td>4931</td>\n",
       "      <td>1201</td>\n",
       "      <td>1459</td>\n",
       "    </tr>\n",
       "    <tr>\n",
       "      <th>cultivation</th>\n",
       "      <td>577</td>\n",
       "      <td>1261</td>\n",
       "      <td>5953</td>\n",
       "      <td>305</td>\n",
       "      <td>882</td>\n",
       "    </tr>\n",
       "    <tr>\n",
       "      <th>cloudy</th>\n",
       "      <td>53</td>\n",
       "      <td>1141</td>\n",
       "      <td>6476</td>\n",
       "      <td>426</td>\n",
       "      <td>479</td>\n",
       "    </tr>\n",
       "    <tr>\n",
       "      <th>haze</th>\n",
       "      <td>188</td>\n",
       "      <td>1121</td>\n",
       "      <td>6448</td>\n",
       "      <td>339</td>\n",
       "      <td>527</td>\n",
       "    </tr>\n",
       "  </tbody>\n",
       "</table>\n",
       "</div>"
      ],
      "text/plain": [
       "                    FN    FP    TN    TP  Total\n",
       "water              225  2951  3711  1209   1434\n",
       "habitation         476   449  6923   248    724\n",
       "slash_burn          35    56  8005     0     35\n",
       "artisinal_mine      66   157  7873     0     66\n",
       "bare_ground        160   140  7792     4    164\n",
       "blooming            79    86  7931     0     79\n",
       "selective_logging   57   149  7889     1     58\n",
       "road               502  1187  5308  1099   1601\n",
       "blow_down           15   218  7863     0     15\n",
       "agriculture        308  2717  2965  2106   2414\n",
       "conventional_mine   13    13  8070     0     13\n",
       "clear              191  1523   942  5440   5631\n",
       "primary              9   523    14  7550   7559\n",
       "partly_cloudy      258  1706  4931  1201   1459\n",
       "cultivation        577  1261  5953   305    882\n",
       "cloudy              53  1141  6476   426    479\n",
       "haze               188  1121  6448   339    527"
      ]
     },
     "execution_count": 16,
     "metadata": {},
     "output_type": "execute_result"
    }
   ],
   "source": [
    "total,tp,tn,fp,fn = multilabelmetrics(y_val,np.array(y_pred)>0.2)\n",
    "d = {'Total':total,'TP':tp,'TN':tn,'FP':fp,'FN':fn}\n",
    "pd.DataFrame(d, index=labels)"
   ]
  },
  {
   "cell_type": "code",
   "execution_count": null,
   "metadata": {
    "collapsed": true
   },
   "outputs": [],
   "source": []
  }
 ],
 "metadata": {
  "kernelspec": {
   "display_name": "Python 3",
   "language": "python",
   "name": "python3"
  },
  "language_info": {
   "codemirror_mode": {
    "name": "ipython",
    "version": 3
   },
   "file_extension": ".py",
   "mimetype": "text/x-python",
   "name": "python",
   "nbconvert_exporter": "python",
   "pygments_lexer": "ipython3",
   "version": "3.5.2"
  }
 },
 "nbformat": 4,
 "nbformat_minor": 0
}
